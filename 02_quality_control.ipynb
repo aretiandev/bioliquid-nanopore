{
 "cells": [
  {
   "cell_type": "markdown",
   "metadata": {},
   "source": [
    "# Quality Control using RSeQC to verify sample quality."
   ]
  },
  {
   "cell_type": "markdown",
   "metadata": {},
   "source": [
    "Specify cram file, reference genome, area of interest, and nick name for output files."
   ]
  },
  {
   "cell_type": "code",
   "execution_count": null,
   "metadata": {},
   "outputs": [],
   "source": [
    "!cramfile=\"HG01504.alt_bwamem_GRCh38DH.20150826.IBS.exome.cram\"\n",
    "!fasta=\"GRCh38_full_analysis_set_plus_decoy_hla.fa\"\n",
    "!area=\"chr11\"\n",
    "!name=\"HG1504_chr11\"\n",
    "!genemodel=\"hg38_RefSeq.bed\" # using hg38 gene model\n",
    "!readlength=101 # depends on sample"
   ]
  },
  {
   "cell_type": "markdown",
   "metadata": {},
   "source": [
    "Subset data accordingly using samtools"
   ]
  },
  {
   "cell_type": "code",
   "execution_count": null,
   "metadata": {},
   "outputs": [],
   "source": [
    "# isolate area\n",
    "!samtools view -b $cramfile $area -T $fasta > $name.bam\n",
    "\n",
    "# sort and index resulting bam file\n",
    "!samtools sort $name.bam -o sorted.$name.bam\n",
    "!samtools index sorted.$name.bam\n",
    "\n",
    "# calculate coverage of reads (and other stats)\n",
    "!samtools stats sorted.$name.bam > $name.stats\n"
   ]
  },
  {
   "cell_type": "markdown",
   "metadata": {},
   "source": [
    "Use subsetted, sorted, and indexed bam file for rseqc"
   ]
  },
  {
   "cell_type": "markdown",
   "metadata": {},
   "source": [
    "# Bam file summary"
   ]
  },
  {
   "cell_type": "markdown",
   "metadata": {},
   "source": [
    "Create mapping statistic summary. Look for high percentages of mapped and unique reads, and low percentages of multimapped reads."
   ]
  },
  {
   "cell_type": "code",
   "execution_count": 1,
   "metadata": {},
   "outputs": [
    {
     "name": "stderr",
     "output_type": "stream",
     "text": [
      "[W::hts_idx_load3] The index file is older than the data file: bioliquid_run2.bam.bai\n",
      "Load BAM file ...  Done\n"
     ]
    }
   ],
   "source": [
    "%%bash\n",
    "# cd ~/work/data\n",
    "# name=\"0531\"\n",
    "# bamfile=\"$name.bam\"\n",
    "cd ~/work/data/processed\n",
    "name=\"bioliquid_run2\"\n",
    "bamfile=\"bioliquid_run2.bam\"\n",
    "# bamfile=\"$name.sort.bam\"\n",
    "bam_stat.py -i $bamfile > $name_bam_stat.txt"
   ]
  },
  {
   "cell_type": "markdown",
   "metadata": {},
   "source": [
    "View distribution of deletions across reads."
   ]
  },
  {
   "cell_type": "code",
   "execution_count": 2,
   "metadata": {},
   "outputs": [
    {
     "name": "stdout",
     "output_type": "stream",
     "text": [
      "/home/jovyan/work/code/bioliquid-nanopore\n"
     ]
    }
   ],
   "source": [
    "!pwd"
   ]
  },
  {
   "cell_type": "code",
   "execution_count": null,
   "metadata": {},
   "outputs": [],
   "source": [
    "%%bash\n",
    "# cd ~/work/data\n",
    "# name=\"0531\"\n",
    "# bamfile=\"0531.sort.bam\"\n",
    "cd ~/work/data/processed\n",
    "name=\"bioliquid_run2\"\n",
    "bamfile=\"bioliquid_run2.bam\"\n",
    "readlength=101\n",
    "\n",
    "deletion_profile.py -i $bamfile -o $name -l $readlength \n",
    "!Rscript $name.deletion_profile.r"
   ]
  },
  {
   "cell_type": "markdown",
   "metadata": {},
   "source": [
    "View distribution of insertions across reads. Note that deletion distribution shows counts while insertion distribution shows percentages. "
   ]
  },
  {
   "cell_type": "markdown",
   "metadata": {},
   "source": [
    "## Insertion Deletions"
   ]
  },
  {
   "cell_type": "code",
   "execution_count": null,
   "metadata": {},
   "outputs": [],
   "source": [
    "!insertion_profile.py -i $bamfile -s \"PE\" -o $name"
   ]
  },
  {
   "cell_type": "markdown",
   "metadata": {},
   "source": [
    "View GC content distribution across reads. Look for a normal distribution."
   ]
  },
  {
   "cell_type": "markdown",
   "metadata": {},
   "source": [
    "## GC Content"
   ]
  },
  {
   "cell_type": "code",
   "execution_count": 3,
   "metadata": {},
   "outputs": [
    {
     "name": "stderr",
     "output_type": "stream",
     "text": [
      "[W::hts_idx_load3] The index file is older than the data file: bioliquid_run2.bam.bai\n",
      "Read BAM file ...  Done\n",
      "writing GC content ...\n",
      "writing R script ...\n",
      "/opt/conda/lib/R/bin/exec/R: error while loading shared libraries: libreadline.so.6: cannot open shared object file: No such file or directory\n"
     ]
    }
   ],
   "source": [
    "%%bash\n",
    "# cd ~/work/data\n",
    "# name=\"0531\"\n",
    "# bamfile=\"0531.sort.bam\"\n",
    "cd ~/work/data/processed\n",
    "name=\"bioliquid_run2\"\n",
    "bamfile=\"bioliquid_run2.bam\"\n",
    "read_GC.py -i $bamfile -o $name"
   ]
  },
  {
   "cell_type": "markdown",
   "metadata": {},
   "source": [
    "View nucleotide distribution across reads. A slight 5' bias is expected; look for even percentages across A, C, T, and G bases and low numbers of unspecified or unknown bases."
   ]
  },
  {
   "cell_type": "code",
   "execution_count": null,
   "metadata": {},
   "outputs": [],
   "source": [
    "!read_NVC.py -i $bamfile -o $name -x --nx"
   ]
  },
  {
   "cell_type": "markdown",
   "metadata": {},
   "source": [
    "View read quality (Phred score) distribution. Phred score = -10log10(P), where P = probability of base calling error."
   ]
  },
  {
   "cell_type": "markdown",
   "metadata": {},
   "source": [
    "## Read Quality"
   ]
  },
  {
   "cell_type": "code",
   "execution_count": 22,
   "metadata": {},
   "outputs": [
    {
     "name": "stderr",
     "output_type": "stream",
     "text": [
      "Read BAM file ...  Done\n",
      "/opt/conda/lib/R/bin/exec/R: error while loading shared libraries: libreadline.so.6: cannot open shared object file: No such file or directory\n"
     ]
    }
   ],
   "source": [
    "%%bash\n",
    "cd ~/work/data\n",
    "name=\"0531\"\n",
    "bamfile=\"0531.sort.bam\"\n",
    "read_quality.py -i $bamfile -o $name"
   ]
  },
  {
   "cell_type": "markdown",
   "metadata": {},
   "source": [
    "View coverage across reads. A slight 5' bias is expected; look for a normal distribution."
   ]
  },
  {
   "cell_type": "code",
   "execution_count": null,
   "metadata": {},
   "outputs": [],
   "source": [
    "!geneBody_coverage.py -i $bamfile -r $genemodel -o $name "
   ]
  },
  {
   "cell_type": "code",
   "execution_count": 10,
   "metadata": {},
   "outputs": [
    {
     "data": {
      "text/html": [
       "\n",
       "        <iframe\n",
       "            width=\"600\"\n",
       "            height=\"300\"\n",
       "            src=\"TEST.GC_plot.pdf\"\n",
       "            frameborder=\"0\"\n",
       "            allowfullscreen\n",
       "        ></iframe>\n",
       "        "
      ],
      "text/plain": [
       "<IPython.lib.display.IFrame at 0x7f6e7a4fb9d0>"
      ]
     },
     "execution_count": 10,
     "metadata": {},
     "output_type": "execute_result"
    }
   ],
   "source": []
  },
  {
   "cell_type": "code",
   "execution_count": null,
   "metadata": {},
   "outputs": [],
   "source": []
  }
 ],
 "metadata": {
  "kernelspec": {
   "display_name": "Python 3",
   "language": "python",
   "name": "python3"
  },
  "language_info": {
   "codemirror_mode": {
    "name": "ipython",
    "version": 3
   },
   "file_extension": ".py",
   "mimetype": "text/x-python",
   "name": "python",
   "nbconvert_exporter": "python",
   "pygments_lexer": "ipython3",
   "version": "3.6.9"
  }
 },
 "nbformat": 4,
 "nbformat_minor": 4
}
