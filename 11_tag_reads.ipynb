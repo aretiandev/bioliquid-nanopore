{
 "cells": [
  {
   "cell_type": "markdown",
   "metadata": {},
   "source": [
    "# Tag Reads\n",
    "\n",
    "This script links each read for person0 and person1 with the presence or absence of STRs."
   ]
  },
  {
   "cell_type": "code",
   "execution_count": 56,
   "metadata": {},
   "outputs": [
    {
     "name": "stdout",
     "output_type": "stream",
     "text": [
      "[1] \"\"\n",
      "[1] \"READ TAGGING\"\n"
     ]
    }
   ],
   "source": [
    "print('')\n",
    "print('READ TAGGING')"
   ]
  },
  {
   "cell_type": "markdown",
   "metadata": {},
   "source": [
    "# Load Modules"
   ]
  },
  {
   "cell_type": "code",
   "execution_count": 57,
   "metadata": {},
   "outputs": [
    {
     "name": "stdout",
     "output_type": "stream",
     "text": [
      "[1] \"  loading libraries\"\n"
     ]
    }
   ],
   "source": [
    "print('  loading libraries')\n",
    "\n",
    "#################################################################################\n",
    "# Libraries\n",
    "#################################################################################\n",
    "library(Rsamtools, verbose = FALSE)\n",
    "library(dplyr)\n",
    "library(ggplot2)"
   ]
  },
  {
   "cell_type": "markdown",
   "metadata": {},
   "source": [
    "# Set Parameters"
   ]
  },
  {
   "cell_type": "code",
   "execution_count": 58,
   "metadata": {},
   "outputs": [
    {
     "name": "stdout",
     "output_type": "stream",
     "text": [
      "[1] \"  setting parameters\"\n"
     ]
    }
   ],
   "source": [
    "print('  setting parameters')\n",
    "\n",
    "run_num = 1\n",
    "dis = 'sca'\n",
    "\n",
    "run_number=paste0(\"run\",run_num)\n",
    "\n",
    "dis_params = data.frame('disease' = c('sca', 'cystic', 'spinal1', 'spinal2', 'thal1', 'thal2', 'thal3', 'pompe'),\n",
    "                    'chr' = c('chr11','chr7','chr5', 'chr5', 'chr16', 'chr16', 'chr16', 'chr17'),\n",
    "                    'start' = c(5227002, 117559590, 70924941, 70049523, 176680, 172876, 5225464, 0),\n",
    "                    'end'   = c(5227002, 117559590, 70953015, 70077595, 177522, 173710, 5227071, 0))\n",
    "\n",
    "chr = dis_params %>% filter(disease == dis) %>% select(chr) %>% pull\n",
    "\n",
    "datadir = paste0('/mnt/aretian/genomics/nanopore/',run_number)\n",
    "\n",
    "P0bam <- paste0(datadir,'/strspy/',dis,'/input/',run_number,'_', chr,'_', dis, '_', 'person0.bam')\n",
    "P0ind <- paste0(datadir,'/strspy/',dis,'/input/',run_number,'_', chr,'_', dis, '_', 'person0.bam.bai')\n",
    "P1bam <- paste0(datadir,'/strspy/',dis,'/input/',run_number,'_', chr,'_', dis, '_', 'person1.bam')\n",
    "P1ind <- paste0(datadir,'/strspy/',dis,'/input/',run_number,'_', chr,'_', dis, '_', 'person1.bam.bai')\n",
    "\n",
    "Person0Bam <- BamFile(file = P0bam, index = P0ind)\n",
    "Person1Bam <- BamFile(file = P1bam, index = P1ind)\n",
    "samples <- c(Person0Bam, Person1Bam)"
   ]
  },
  {
   "cell_type": "markdown",
   "metadata": {},
   "source": [
    "# Load data"
   ]
  },
  {
   "cell_type": "code",
   "execution_count": 59,
   "metadata": {},
   "outputs": [
    {
     "name": "stdout",
     "output_type": "stream",
     "text": [
      "[1] \"  loading data\"\n"
     ]
    }
   ],
   "source": [
    "print('  loading data')\n",
    "\n",
    "vcf_filepath <- paste0(datadir,'/',run_number,'_',chr, '_', dis, '_person_full.txt')\n",
    "vcf <- read.table(vcf_filepath, sep = '\\t', stringsAsFactors = FALSE)\n",
    "# x <- readLines(vcf_filepath)\n",
    "\n",
    "# Set column names\n",
    "names <- c('name', 'count', 'chr', 'start', 'end', 'motif','str')\n",
    "colnames(vcf) <- names\n",
    "vcf$strname <- paste0('str', seq(1:nrow(vcf)))"
   ]
  },
  {
   "cell_type": "markdown",
   "metadata": {},
   "source": [
    "# Helper Functions"
   ]
  },
  {
   "cell_type": "code",
   "execution_count": 60,
   "metadata": {},
   "outputs": [],
   "source": [
    "get_samplename <- function(sample){\n",
    "    samplename <- unlist(strsplit(sample$`.->path`, '/'))[grep('.bam', unlist(strsplit(sample$`.->path`, '/')))]\n",
    "    samplename <- unlist(strsplit(samplename, '\\\\.'))[1] # changed to reflect current bam paths\n",
    "    return(samplename)\n",
    "}\n",
    "\n",
    "# init_reads: This function creates a dataframe with all reads that overlap a given str\n",
    "# inputs: str: str row number in the vcf, sample, vcf\n",
    "# output: dataframe with reads attached to a given str\n",
    "init_reads <- function(str, sample, vcf) {\n",
    "    \n",
    "    # get sample name\n",
    "    samplename <- get_samplename(sample)\n",
    "    \n",
    "    str_chr <- vcf[str, 'chr']\n",
    "    str_start <- vcf[str, 'start']\n",
    "    str_end <- vcf[str, 'end']\n",
    "    str_id <- vcf[str, 'name']\n",
    "    str_pattern <- vcf[str, 'str']\n",
    "    motif <- vcf[str, 'motif']\n",
    "\n",
    "    # isolate reads covering that area \n",
    "    gr <- GRanges(seqnames = chr,\n",
    "                  ranges = IRanges(start = str_start, end = str_end))\n",
    "    params <- ScanBamParam(which = gr, what = scanBamWhat())\n",
    "    aln <- scanBam(sample, param = params)\n",
    "    \n",
    "    # handle cases with 0 reads\n",
    "    if (length(aln[[1]]$pos) == 0){\n",
    "        reads <- NA\n",
    "    } else {\n",
    "        reads <- data.frame('read_id'=aln[[1]]$qname,\n",
    "                            'samplename' = samplename,\n",
    "                            'str_id' = str_id,\n",
    "                            'startpos' = aln[[1]]$pos, \n",
    "                            'str_start'= 0,\n",
    "                            'str_end' = 0,\n",
    "                            'read' = aln[[1]]$seq,\n",
    "                            'str' = str_pattern,\n",
    "                            'motif' = motif,\n",
    "                            'has_str' = 0)\n",
    "\n",
    "        reads$str_start <- abs(reads$startpos - str_start)\n",
    "        reads$str_end <- abs(reads$startpos - str_end)\n",
    "    }\n",
    "    \n",
    "    return(reads)\n",
    "}\n",
    "\n",
    "# update reads function updates reads to include str sequences and read categorizations\n",
    "update_reads <- function(reads, vcf, str) {\n",
    "\n",
    "    # for each row (read) in reads\n",
    "    for (read in c(1:nrow(reads))) {\n",
    "            \n",
    "        # Find STR in the reads\n",
    "        if (grepl(reads[read,'motif'], reads[read,'read'])) {\n",
    "            reads[read,'has_str'] <- 1\n",
    "        }\n",
    "    }\n",
    "\n",
    "    return(reads)\n",
    "}"
   ]
  },
  {
   "cell_type": "markdown",
   "metadata": {},
   "source": [
    "# Implementation"
   ]
  },
  {
   "cell_type": "code",
   "execution_count": null,
   "metadata": {},
   "outputs": [],
   "source": [
    "# for each STR\n",
    "for (str in c(1:nrow(vcf))) { #\n",
    "                                 \n",
    "    data <- as_tibble(data.frame('read_id'='',\n",
    "                                 'samplename' = '',\n",
    "                                 'str_id' = '',\n",
    "                                 'startpos' = 0, \n",
    "                                 'str_start'= 0,\n",
    "                                 'str_end' = 0,\n",
    "                                 'read' = '',\n",
    "                                 'str' = '',\n",
    "                                 'motif' = '',\n",
    "                                 'has_str' = 0))\n",
    "    data <- data[-1,]\n",
    "    \n",
    "    # for each sample\n",
    "    for (sample in samples) { # samples = c(Person0Bam, Person1Bam)\n",
    "\n",
    "        # Get all reads that cover the VCF\n",
    "        reads <- init_reads(str = str, sample = sample, vcf = vcf)\n",
    "        if (is.null(nrow(reads))) {\n",
    "#             meets_threshold <- FALSE\n",
    "            break\n",
    "        }\n",
    "        \n",
    "        # Get reads that contain the STR pattern\n",
    "        reads <- update_reads(reads = reads, vcf = vcf, str = str)\n",
    "        \n",
    "        # remove reads without motif\n",
    "        reads <- reads[reads$has_str == 1,]\n",
    "        \n",
    "        # update summary dataframe\n",
    "        data <- rbind(data, reads)\n",
    "    }\n",
    "\n",
    "#     data <- data %>% mutate(uid = paste0(sample, '-', readgroup))\n",
    "    data <- data %>% mutate(read_id = paste0(samplename, '-', read_id))\n",
    "    data <- data %>% select(read_id, samplename, str_id, startpos, str_start, str_end, read, str, motif)\n",
    "\n",
    "    \n",
    "    # save each str df (only if all samples met the threshold)\n",
    "#     if (meets_threshold) {\n",
    "#        write.csv(data, paste0('/mnt/aretian/genomics/data/str_pipeline/output/', disease, '-test/', fid, '/str', str, '.csv'), row.names = FALSE)\n",
    "#     }\n",
    "    write.csv(data, paste0(datadir,'/strs/str', str, '.csv'), row.names = FALSE)\n",
    "\n",
    "    # time / str tracker:\n",
    "    print(paste0('str', str, ': ', Sys.time()))\n",
    "}"
   ]
  },
  {
   "cell_type": "markdown",
   "metadata": {},
   "source": [
    "# Concatenate all results"
   ]
  },
  {
   "cell_type": "code",
   "execution_count": 63,
   "metadata": {},
   "outputs": [],
   "source": [
    "input = paste0(datadir,'/strs/str[[:digit:]]*.csv')\n",
    "output = paste0(datadir,'/',run_number,'_',chr,'_',dis,'_tagged_reads.csv')\n",
    "\n",
    "concatenate_cmd = paste0(\"awk 'FNR==1 && NR!=1{next;}{print}' \", input, ' > ', output)\n",
    "# system(mycmd, intern=TRUE)\n",
    "system(concatenate_cmd)"
   ]
  },
  {
   "cell_type": "markdown",
   "metadata": {},
   "source": [
    "# EXTRA CODE"
   ]
  },
  {
   "cell_type": "code",
   "execution_count": 4,
   "metadata": {},
   "outputs": [],
   "source": [
    "print('  loading data')\n",
    "\n",
    "run_number = 'run1'\n",
    "chr = 'chr11'\n",
    "datadir = '/mnt/aretian/genomics/nanopore/'\n",
    "\n",
    "# regions = data.frame('disease' = c('sickle', 'cystic', 'spinal1', 'spinal2', 'thal1', 'thal2', 'thal3'),\n",
    "#                     'start' = c(5227002, 117559590, 70924941, 70049523, 176680, 172876, 5225464),\n",
    "#                     'end' = c(5227002, 117559590, 70953015, 70077595, 177522, 173710, 5227071))\n",
    "\n",
    "# args = commandArgs(trailingOnly=TRUE)\n",
    "\n",
    "# THESE ARGS COME FROM STEP2.sh they need to change\n",
    "#fid = args[1] #\n",
    "# fid = 'IBS001'\n",
    "# print(paste0('family id was read in as: ', fid))#\n",
    "# chr = 17 #args[2] # keep this\n",
    "# print(paste0('chr was read in as: ', chr))\n",
    "# d = 'spinal1' #args[3] # keep this\n",
    "# print(paste0('disease was read in as: ', d))\n",
    "\n",
    "# s = regions %>% filter(disease == d) %>% select(start) %>% pull\n",
    "# e = regions %>% filter(disease == d) %>% select(end) %>% pull\n",
    "\n",
    "# fbam <- paste0('/mnt/aretian/genomics/data/str_pipeline/data/', fid, '/bams/father.', chr, '.bam') \n",
    "# find <- paste0('/mnt/aretian/genomics/data/str_pipeline/data/', fid, '/bams/father.', chr, '.bam.bai')\n",
    "# mbam <- paste0('/mnt/aretian/genomics/data/str_pipeline/data/', fid, '/bams/mother.', chr, '.bam')\n",
    "# mind <- paste0('/mnt/aretian/genomics/data/str_pipeline/data/', fid, '/bams/mother.', chr, '.bam.bai')\n",
    "# cbam <- paste0('/mnt/aretian/genomics/data/str_pipeline/data/', fid, '/bams/child.', chr, '.bam')\n",
    "# cind <- paste0('/mnt/aretian/genomics/data/str_pipeline/data/', fid, '/bams/child.', chr, '.bam.bai')\n",
    "\n",
    "P0bam <- paste0(datadir,run_number,'/strspy/input/',run_number,'_', chr,'_','person0.bam')\n",
    "P0ind <- paste0(datadir,run_number,'/strspy/input/',run_number,'_', chr,'_','person0.bam.bai')\n",
    "P1bam <- paste0(datadir,run_number,'/strspy/input/',run_number,'_', chr,'_','person1.bam')\n",
    "P1ind <- paste0(datadir,run_number,'/strspy/input/',run_number,'_', chr,'_','person1.bam.bai')\n",
    "\n",
    "# fatherBam <- BamFile(file = fbam, index = find)\n",
    "# motherBam <- BamFile(file = mbam, index = mind)\n",
    "# childBam <- BamFile(file = cbam, index = cind)\n",
    "Person0Bam <- BamFile(file = P0bam, index = P0ind)\n",
    "Person1Bam <- BamFile(file = P1bam, index = P1ind)\n",
    "\n",
    "# vcf_filepath <- paste0('/mnt/aretian/genomics/data/str_pipeline/data/IBS001/hipstr/IBS001.chr5.vcf') # OLD\n",
    "# vcf_filepath <- paste0('/mnt/aretian/genomics/data/str_pipeline/data/', fid, '/hipstr/', fid, '.', chr, '.vcf')\n",
    "person = 'person0'\n",
    "vcf_filepath <- paste0('/mnt/aretian/genomics/nanopore/',run_number,'/',run_number,'_',chr,'_person_full.txt')\n",
    "\n",
    "vcf <- read.table(vcf_filepath, sep = '\\t', stringsAsFactors = FALSE)\n",
    "\n",
    "# Get the right column names for the vcf dataframe\n",
    "x <- readLines(vcf_filepath)\n",
    "# colnames <- which(grepl('^#CHROM', x))\n",
    "# names <- unlist(strsplit(x[colnames], '\\t'))\n",
    "# names[1] <- 'CHROM'\n",
    "# names[2] <- 'START'\n",
    "names <- c('name', 'count', 'chr', 'start', 'end', 'motif','str')\n",
    "colnames(vcf) <- names\n",
    "\n",
    "# disease <- d\n",
    "# chr <- chr\n",
    "# start <- s - 10000000\n",
    "# end <- e + 10000000\n",
    "\n",
    "vcf$strname <- paste0('str', seq(1:nrow(vcf)))\n",
    "\n",
    "#################################################################################\n",
    "# Set sample and disease specific variables \n",
    "#################################################################################\n",
    "# read_threshold <- 30\n",
    "samples <- c(Person0Bam, Person1Bam)\n"
   ]
  },
  {
   "cell_type": "code",
   "execution_count": 50,
   "metadata": {},
   "outputs": [
    {
     "name": "stdout",
     "output_type": "stream",
     "text": [
      "[1] \"  creating functions\"\n"
     ]
    }
   ],
   "source": [
    "print('  creating functions')\n",
    "#################################################################################\n",
    "# Functions for VCF Filtering: \n",
    "# remove homopolymers, define end points, and isolate top 50 most frequent STRs\n",
    "#################################################################################\n",
    "\n",
    "# helper function for filter_VCF; remove homopolymers\n",
    "pull_period <- function(x){\n",
    "    y <- unlist(strsplit(x, ';'))[grep('PERIOD', unlist(strsplit(x, ';')))]\n",
    "    y <- unlist(strsplit(y, '='))[2]\n",
    "    return(y)\n",
    "}\n",
    "\n",
    "# helper function for filter_VCF; add end points\n",
    "pull_end <- function(x) {\n",
    "    y <- unlist(strsplit(x, ';'))[grep('END', unlist(strsplit(x, ';')))]\n",
    "    y <- unlist(strsplit(y, '='))[2]\n",
    "    return(y)\n",
    "}\n",
    "\n",
    "# vcf = vcf file, n = number of top most frequent STRs, startrange = start of range of interest, endrange = end of range of interest\n",
    "filter_VCF <- function(vcf, n, startrange, endrange) {\n",
    "\n",
    "    # remove homopolymers\n",
    "    vcf$period <- lapply(vcf$INFO, pull_period)\n",
    "    vcf <- vcf[vcf$period != '1',]\n",
    "    \n",
    "    # add end points\n",
    "    vcf$END <- as.numeric(lapply(vcf$INFO, pull_end))\n",
    "    \n",
    "    # filter by range of interest\n",
    "    vcf <- vcf[(vcf$START > startrange) & (vcf$END < endrange),]\n",
    "    \n",
    "    # define top n most frequent reference sequences\n",
    "    freqs <- as.data.frame(table(vcf$REF))\n",
    "    freqs <- freqs[order(freqs$Freq, decreasing = TRUE),]\n",
    "    freqs <- head(freqs, n = n)\n",
    "\n",
    "    # filter vcf to reflect top n most frequent reference sequences\n",
    "    vcf <- vcf[vcf$REF %in% freqs$Var1,]\n",
    "    \n",
    "    # return filtered vcf\n",
    "    return(vcf)\n",
    "}"
   ]
  },
  {
   "cell_type": "code",
   "execution_count": 82,
   "metadata": {},
   "outputs": [
    {
     "name": "stdout",
     "output_type": "stream",
     "text": [
      "[1] \"  processing STRs\"\n"
     ]
    },
    {
     "ename": "ERROR",
     "evalue": "Error in `$<-.data.frame`(`*tmp*`, \"period\", value = list()): replacement has 0 rows, data has 1367\n",
     "output_type": "error",
     "traceback": [
      "Error in `$<-.data.frame`(`*tmp*`, \"period\", value = list()): replacement has 0 rows, data has 1367\nTraceback:\n",
      "1. filter_VCF(vcf = vcf, n = 50, startrange = start, endrange = end)",
      "2. `$<-`(`*tmp*`, \"period\", value = list())   # at line 25 of file <text>",
      "3. `$<-.data.frame`(`*tmp*`, \"period\", value = list())   # at line 25 of file <text>",
      "4. stop(sprintf(ngettext(N, \"replacement has %d row, data has %d\", \n .     \"replacement has %d rows, data has %d\"), N, nrows), domain = NA)"
     ]
    }
   ],
   "source": [
    "print('  processing STRs')\n",
    "#################################################################################\n",
    "# IMPLEMENTATION\n",
    "# input = VCF file and BAM files. VCF is only to be used for determining reference sequence locations. \n",
    "#################################################################################\n",
    "\n",
    "# filter vcf\n",
    "vcf <- filter_VCF(vcf = vcf, n = 50, startrange = start, endrange = end)\n",
    "\n",
    "#######################################################################################\n",
    "# rename and save STRs\n",
    "vcf$strname <- paste0('str', seq(1:nrow(vcf))) \n",
    "vcf$period <- as.integer(vcf$period)\n",
    "# write.csv(vcf, paste0('/mnt/aretian/genomics/data/str_pipeline/output/', disease, '/', fid, '/str_mappings.csv'), row.names = FALSE) # UNCOMMENT\n",
    "# write.csv(vcf, paste0('/mnt/aretian/genomics/data/str_pipeline/output/', disease, '-test/', fid, '/str_mappings.csv'), row.names = FALSE) # UNCOMMENT\n",
    "\n",
    "#######################################################################################"
   ]
  }
 ],
 "metadata": {
  "kernelspec": {
   "display_name": "R",
   "language": "R",
   "name": "ir"
  },
  "language_info": {
   "codemirror_mode": "r",
   "file_extension": ".r",
   "mimetype": "text/x-r-source",
   "name": "R",
   "pygments_lexer": "r",
   "version": "3.6.3"
  }
 },
 "nbformat": 4,
 "nbformat_minor": 4
}
