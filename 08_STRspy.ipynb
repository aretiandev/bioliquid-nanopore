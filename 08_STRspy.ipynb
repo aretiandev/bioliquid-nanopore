{
 "cells": [
  {
   "cell_type": "markdown",
   "id": "81ffdbe1",
   "metadata": {},
   "source": [
    "# STRspy\n",
    "\n",
    "This script creates the necessary config files to run STRspy on the Bioliquid Nanopore data."
   ]
  },
  {
   "cell_type": "markdown",
   "id": "b71d104b",
   "metadata": {},
   "source": [
    "# Load modules"
   ]
  },
  {
   "cell_type": "code",
   "execution_count": 1,
   "id": "917c5ae5",
   "metadata": {},
   "outputs": [],
   "source": [
    "import numpy as np\n",
    "import pandas as pd\n",
    "import os"
   ]
  },
  {
   "cell_type": "markdown",
   "id": "e4b5dd1a",
   "metadata": {},
   "source": [
    "# Set variables"
   ]
  },
  {
   "cell_type": "code",
   "execution_count": 2,
   "id": "3979d4d0",
   "metadata": {},
   "outputs": [],
   "source": [
    "# Input variables\n",
    "run_number=\"run1\"\n",
    "chrom=\"chr11\"\n",
    "dis=\"sca\"\n",
    "location=5227002\n",
    "location_padding=2000000\n",
    "\n",
    "# Setup\n",
    "chrom_dis=f\"{chrom}_{dis}\"\n",
    "rootdir=f\"/mnt/aretian/genomics/nanopore\"\n",
    "datadir=f\"/mnt/aretian/genomics/nanopore/{run_number}\"\n",
    "\n",
    "os.environ[\"run_number\"]=run_number\n",
    "os.environ[\"chrom\"]=chrom\n",
    "os.environ[\"chrom_dis\"]=chrom_dis\n",
    "os.environ[\"datadir\"]=datadir"
   ]
  },
  {
   "cell_type": "markdown",
   "id": "f535119c",
   "metadata": {},
   "source": [
    "# Individual BED and Fasta files\n",
    "\n",
    "Create one BED and Fasta file per STR."
   ]
  },
  {
   "cell_type": "markdown",
   "id": "e164954e",
   "metadata": {},
   "source": [
    "### Get reference genome"
   ]
  },
  {
   "cell_type": "code",
   "execution_count": 4,
   "id": "bf5382a7",
   "metadata": {},
   "outputs": [
    {
     "name": "stdout",
     "output_type": "stream",
     "text": [
      "Unique characters: ['C', 'T', 'G', 'N', 'A']\n",
      "Selected chromosome from reference genome is 135086622 BP long\n"
     ]
    }
   ],
   "source": [
    "# Read in fasta file: remove line breaks and header\n",
    "def read_fasta_genome(fasta_file,chromosome_header):\n",
    "    clean_data = fasta_file.read().replace(\"\\n\", \"\")\n",
    "    clean_data = clean_data.replace(chromosome_header,\"\") # get rid of header\n",
    "\n",
    "    return clean_data\n",
    "\n",
    "with open(f'{rootdir}/{chrom}_selected.fa') as f: # update path if needed\n",
    "    ref_genome = read_fasta_genome(f,f'>{chrom}')\n",
    "    \n",
    "print(f\"Unique characters: {list(set(ref_genome))}\") \n",
    "\n",
    "print(f\"Selected chromosome from reference genome is {len(ref_genome)} BP long\")"
   ]
  },
  {
   "cell_type": "markdown",
   "id": "36e8c1f1",
   "metadata": {},
   "source": [
    "### Load Full list of STRs"
   ]
  },
  {
   "cell_type": "code",
   "execution_count": 5,
   "id": "e0c7bc30",
   "metadata": {},
   "outputs": [
    {
     "name": "stdout",
     "output_type": "stream",
     "text": [
      "Data should look like this:\n"
     ]
    },
    {
     "data": {
      "text/html": [
       "<div>\n",
       "<style scoped>\n",
       "    .dataframe tbody tr th:only-of-type {\n",
       "        vertical-align: middle;\n",
       "    }\n",
       "\n",
       "    .dataframe tbody tr th {\n",
       "        vertical-align: top;\n",
       "    }\n",
       "\n",
       "    .dataframe thead th {\n",
       "        text-align: right;\n",
       "    }\n",
       "</style>\n",
       "<table border=\"1\" class=\"dataframe\">\n",
       "  <thead>\n",
       "    <tr style=\"text-align: right;\">\n",
       "      <th></th>\n",
       "      <th>0</th>\n",
       "      <th>1</th>\n",
       "      <th>2</th>\n",
       "      <th>3</th>\n",
       "    </tr>\n",
       "  </thead>\n",
       "  <tbody>\n",
       "    <tr>\n",
       "      <th>0</th>\n",
       "      <td>4</td>\n",
       "      <td>155508887</td>\n",
       "      <td>155508975</td>\n",
       "      <td>FGA</td>\n",
       "    </tr>\n",
       "  </tbody>\n",
       "</table>\n",
       "</div>"
      ],
      "text/plain": [
       "   0          1          2    3\n",
       "0  4  155508887  155508975  FGA"
      ]
     },
     "execution_count": 5,
     "metadata": {},
     "output_type": "execute_result"
    }
   ],
   "source": [
    "# Load Full STR list\n",
    "df = pd.read_csv(f'{rootdir}/hg38.hipstr_reference.bed', sep='\\t', header=None)\n",
    "df.columns=['chr','start','end','NA','repeats','name','unit']\n",
    "\n",
    "# Load STRspy test data\n",
    "testdata = pd.read_csv('/home/fer/genomics/strspy/testset/testCustomDB/FGA.bed', sep='\\t', header=None)\n",
    "print('Data should look like this:')\n",
    "testdata"
   ]
  },
  {
   "cell_type": "markdown",
   "id": "44e2001a",
   "metadata": {},
   "source": [
    "### Prepare data"
   ]
  },
  {
   "cell_type": "code",
   "execution_count": 6,
   "id": "d221e421",
   "metadata": {},
   "outputs": [],
   "source": [
    "# Filter chr17\n",
    "# selected_chromosome = 'chr17'\n",
    "# selected_chromosome = chrom\n",
    "# window_width = 5000000\n",
    "# start_pos = 70924941 - window_width\n",
    "# start_pos = 23000000\n",
    "# end_pos = 70953015 + window_width\n",
    "# end_pos = 27000000\n",
    "\n",
    "df = df.loc[df['chr']==chrom]\n",
    "\n",
    "# Filter locations\n",
    "# try:\n",
    "# df = df.loc[(df['start']>=start_pos) & (df['end']<=end_pos)]\n",
    "# except:\n",
    "#     None\n",
    "    \n",
    "# Get columns\n",
    "df = df[['chr','start','end','name']]"
   ]
  },
  {
   "cell_type": "markdown",
   "id": "86d3b8be",
   "metadata": {},
   "source": [
    "### Save each STR in different BED file"
   ]
  },
  {
   "cell_type": "code",
   "execution_count": 7,
   "id": "93d1bfd1",
   "metadata": {},
   "outputs": [],
   "source": [
    "selected_strs = df.loc[(df['start']>location-location_padding)&(df['end']<location+location_padding)]"
   ]
  },
  {
   "cell_type": "code",
   "execution_count": 61,
   "id": "7ebc5d44",
   "metadata": {},
   "outputs": [],
   "source": [
    "# Loop: create single STR files\n",
    "for n in range(len(selected_strs)):\n",
    "# for n in range(3):\n",
    "    str_out = selected_strs.iloc[[n]]\n",
    "    str_name = str_out['name'].values[0]\n",
    "    str_out.to_csv(f\"{datadir}/strspy/input/db/{str_name}.bed\", header=False, index=False, sep='\\t')\n",
    "    \n",
    "    myfasta = open(f\"{datadir}/strspy/input/db/{str_name}.fa\",\"w\")\n",
    "    start = str_out['start'].values[0]\n",
    "    end = str_out['end'].values[0]\n",
    "    # Extract reads\n",
    "    padded_str=ref_genome[start-500:end+500]\n",
    "    # Write to file\n",
    "    myfasta.write('>')\n",
    "    myfasta.write(str_name)\n",
    "    myfasta.write('\\n')\n",
    "    myfasta.write(padded_str)\n",
    "    myfasta.write('\\n')\n",
    "    myfasta.close()"
   ]
  },
  {
   "cell_type": "markdown",
   "id": "0e731976",
   "metadata": {},
   "source": [
    "# Region BED file (all STRs)"
   ]
  },
  {
   "cell_type": "code",
   "execution_count": 62,
   "id": "e02b8666",
   "metadata": {},
   "outputs": [],
   "source": [
    "selected_strs.to_csv(f'{datadir}/strspy/input/regions/all_strs.bed', header=False, index=False, sep='\\t')"
   ]
  },
  {
   "cell_type": "markdown",
   "id": "51557d9d",
   "metadata": {},
   "source": [
    "# Run STRspy"
   ]
  },
  {
   "cell_type": "code",
   "execution_count": 11,
   "id": "bf76be49",
   "metadata": {},
   "outputs": [
    {
     "name": "stdout",
     "output_type": "stream",
     "text": [
      "/mnt/aretian/genomics/nanopore/run1/strspy/output\n"
     ]
    }
   ],
   "source": [
    "%%bash\n",
    "echo \"${datadir}/strspy/output\""
   ]
  },
  {
   "cell_type": "code",
   "execution_count": 50,
   "id": "fc160562",
   "metadata": {},
   "outputs": [
    {
     "name": "stdout",
     "output_type": "stream",
     "text": [
      "Process is interrupted.\n"
     ]
    }
   ],
   "source": [
    "%%bash\n",
    "rm -rf \"${datadir}/strspy/output\"\n",
    "mkdir \"${datadir}/strspy/output\"\n",
    "cd /home/fer/genomics/strspy\n",
    "bash STRspy_run_v1.0.sh \"config/${chrom}_InputConfig.txt\" config/UserToolsConfig.txt"
   ]
  },
  {
   "cell_type": "markdown",
   "id": "a0f10255",
   "metadata": {},
   "source": [
    "# Concatenate all output"
   ]
  },
  {
   "cell_type": "code",
   "execution_count": 63,
   "id": "8e55c462",
   "metadata": {},
   "outputs": [],
   "source": [
    "%%bash\n",
    "cd \"${datadir}/strspy/output/Countings\"\n",
    "cat *person0*Allele_freqs.txt > \"${run_number}_${chrom}_person0_strs_raw.txt\"\n",
    "cat *person1*Allele_freqs.txt > \"${run_number}_${chrom}_person1_strs_raw.txt\"\n",
    "\n",
    "grep Human_STR \"${run_number}_${chrom}_person0_strs_raw.txt\" > \"${run_number}_${chrom}_person0_strs.txt\"\n",
    "grep Human_STR \"${run_number}_${chrom}_person1_strs_raw.txt\" > \"${run_number}_${chrom}_person1_strs.txt\""
   ]
  },
  {
   "cell_type": "markdown",
   "id": "b7d41436",
   "metadata": {},
   "source": [
    "# Add necessary columns"
   ]
  },
  {
   "cell_type": "code",
   "execution_count": 8,
   "id": "71ddda86",
   "metadata": {},
   "outputs": [],
   "source": [
    "# This cell takes ~2 minutes to run\n",
    "def complete_str_df(person):\n",
    "    # Load STRspy output\n",
    "    strspy_df = pd.read_csv(f'{datadir}/strspy/output/Countings/{run_number}_{chrom}_{person}_strs.txt', sep='\\t')\n",
    "    strspy_df.columns = ['name', 'count', 'normcount']\n",
    "\n",
    "    # Load Full STR list\n",
    "    df = pd.read_csv(f'{rootdir}/hg38.hipstr_reference_full_strs.bed', sep='\\t', header=None)\n",
    "    df.columns=['chr','start','end','NA','repeats','name','motif','str']\n",
    "\n",
    "    # Append it to STRspy output\n",
    "    output = strspy_df.merge(df, how='left', on='name')\n",
    "    output = output[['name','count','chr','start','end','motif', 'str']]\n",
    "\n",
    "    # Save\n",
    "    return output\n",
    "    \n",
    "\n",
    "output0 = complete_str_df('person0')\n",
    "output1 = complete_str_df('person1')\n",
    "\n",
    "# Save\n",
    "output0.to_csv(f'{datadir}/{run_number}_{chrom}_person0_full.txt', index=None, header=None, sep='\\t')\n",
    "output1.to_csv(f'{datadir}/{run_number}_{chrom}_person1_full.txt', index=None, header=None, sep='\\t')\n",
    "\n",
    "# Combine person0 and person1 into single vcf file\n",
    "output = pd.concat([output0,output1])\n",
    "output=output.sort_values(by='name')\n",
    "output = output.drop_duplicates(subset=['name'])\n",
    "output.to_csv(f'{datadir}/{run_number}_{chrom}_person_full.txt', index=None, header=None, sep='\\t')"
   ]
  },
  {
   "cell_type": "markdown",
   "id": "1364bdb9",
   "metadata": {},
   "source": [
    "# EXTRA CODE: Remove reads from BAM file"
   ]
  },
  {
   "cell_type": "code",
   "execution_count": 72,
   "id": "d3697c5d",
   "metadata": {},
   "outputs": [
    {
     "data": {
      "text/html": [
       "<div>\n",
       "<style scoped>\n",
       "    .dataframe tbody tr th:only-of-type {\n",
       "        vertical-align: middle;\n",
       "    }\n",
       "\n",
       "    .dataframe tbody tr th {\n",
       "        vertical-align: top;\n",
       "    }\n",
       "\n",
       "    .dataframe thead th {\n",
       "        text-align: right;\n",
       "    }\n",
       "</style>\n",
       "<table border=\"1\" class=\"dataframe\">\n",
       "  <thead>\n",
       "    <tr style=\"text-align: right;\">\n",
       "      <th></th>\n",
       "      <th>chr</th>\n",
       "      <th>start</th>\n",
       "      <th>end</th>\n",
       "      <th>NA</th>\n",
       "      <th>repeats</th>\n",
       "      <th>name</th>\n",
       "      <th>motif</th>\n",
       "      <th>str</th>\n",
       "    </tr>\n",
       "  </thead>\n",
       "  <tbody>\n",
       "    <tr>\n",
       "      <th>579396</th>\n",
       "      <td>chr17</td>\n",
       "      <td>26569632</td>\n",
       "      <td>26569679</td>\n",
       "      <td>2</td>\n",
       "      <td>24.0</td>\n",
       "      <td>Human_STR_1625686</td>\n",
       "      <td>CT</td>\n",
       "      <td>CTCTCTCTCTCTCTCTCTCTCTCTCTCTCTCTCTCTCTCTCTCTCTCT</td>\n",
       "    </tr>\n",
       "  </tbody>\n",
       "</table>\n",
       "</div>"
      ],
      "text/plain": [
       "          chr     start       end  NA  repeats               name motif  \\\n",
       "579396  chr17  26569632  26569679   2     24.0  Human_STR_1625686    CT   \n",
       "\n",
       "                                                     str  \n",
       "579396  CTCTCTCTCTCTCTCTCTCTCTCTCTCTCTCTCTCTCTCTCTCTCTCT  "
      ]
     },
     "execution_count": 72,
     "metadata": {},
     "output_type": "execute_result"
    }
   ],
   "source": [
    "# df.loc[df['name']=='Human_STR_1625686']"
   ]
  },
  {
   "cell_type": "code",
   "execution_count": null,
   "id": "5bd51d66",
   "metadata": {},
   "outputs": [],
   "source": [
    "# %%bash\n",
    "# samtools view -h ~/work/code/strspy/bioliquid-data/bioliquid_run1_chr17.bam | grep 505171f5-1f0b-4bb2-b855-5cd3d9ce7554 | samtools view -bS -o ~/work/code/strspy/bioliquid-data/chr17_filtered.bam -"
   ]
  },
  {
   "cell_type": "code",
   "execution_count": null,
   "id": "a4e7c1f4",
   "metadata": {},
   "outputs": [],
   "source": [
    "# 4000000/75"
   ]
  }
 ],
 "metadata": {
  "kernelspec": {
   "display_name": "Python 3",
   "language": "python",
   "name": "python3"
  },
  "language_info": {
   "codemirror_mode": {
    "name": "ipython",
    "version": 3
   },
   "file_extension": ".py",
   "mimetype": "text/x-python",
   "name": "python",
   "nbconvert_exporter": "python",
   "pygments_lexer": "ipython3",
   "version": "3.9.2"
  }
 },
 "nbformat": 4,
 "nbformat_minor": 5
}
