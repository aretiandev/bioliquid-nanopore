{
 "cells": [
  {
   "cell_type": "markdown",
   "id": "fd403c67-5029-4251-872e-6fff23291adc",
   "metadata": {},
   "source": [
    "# STRspy\n",
    "\n",
    "This script should be run from within the bioaretian image."
   ]
  },
  {
   "cell_type": "markdown",
   "id": "8b326e6d-18b4-41d1-beb7-e22e2ca42c6b",
   "metadata": {},
   "source": [
    "# Test results"
   ]
  },
  {
   "cell_type": "code",
   "execution_count": null,
   "id": "8b97d6d9-6b5a-4968-b65b-da067ed601a7",
   "metadata": {},
   "outputs": [],
   "source": [
    "%%bash\n",
    "bash STRspy_run_v1 config/TestConfig config/UserToolsConfig"
   ]
  }
 ],
 "metadata": {
  "kernelspec": {
   "display_name": "Python 3",
   "language": "python",
   "name": "python3"
  },
  "language_info": {
   "codemirror_mode": {
    "name": "ipython",
    "version": 3
   },
   "file_extension": ".py",
   "mimetype": "text/x-python",
   "name": "python",
   "nbconvert_exporter": "python",
   "pygments_lexer": "ipython3",
   "version": "3.9.2"
  }
 },
 "nbformat": 4,
 "nbformat_minor": 5
}
