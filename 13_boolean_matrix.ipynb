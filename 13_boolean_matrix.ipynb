{
 "cells": [
  {
   "cell_type": "markdown",
   "metadata": {},
   "source": [
    "# Create Boolean Matrix\n",
    "\n",
    "This scripts creates a matrix of boolean values per read based on str presence. Example:\n",
    "\n",
    "```\n",
    "person-read   str1  str2  str3  str4  str5\n",
    "p0-01         0     1     0     1     0\n",
    "p0-02         1     0     0     1     0\n",
    "p1-01         1     0     0     1     0\n",
    " \n"
   ]
  },
  {
   "cell_type": "markdown",
   "metadata": {},
   "source": [
    "# Load modules"
   ]
  },
  {
   "cell_type": "code",
   "execution_count": 29,
   "metadata": {},
   "outputs": [],
   "source": [
    "library(dplyr)\n",
    "library(reshape2)"
   ]
  },
  {
   "cell_type": "markdown",
   "metadata": {},
   "source": [
    "# Set parameters"
   ]
  },
  {
   "cell_type": "code",
   "execution_count": 30,
   "metadata": {},
   "outputs": [],
   "source": [
    "run_number = 'run1'\n",
    "chr='chr11'\n",
    "dis='sca'\n",
    "datadir = paste0('/mnt/aretian/genomics/nanopore/',run_number)"
   ]
  },
  {
   "cell_type": "markdown",
   "metadata": {},
   "source": [
    "# Load data"
   ]
  },
  {
   "cell_type": "code",
   "execution_count": 31,
   "metadata": {},
   "outputs": [],
   "source": [
    "df <- read.csv(paste0(datadir,'/', run_number,'_',chr,'_',dis,'_long_tagged_reads.csv'), stringsAsFactors = FALSE)"
   ]
  },
  {
   "cell_type": "markdown",
   "metadata": {},
   "source": [
    "# Helper functions"
   ]
  },
  {
   "cell_type": "code",
   "execution_count": 32,
   "metadata": {},
   "outputs": [],
   "source": [
    "# instead of using length (which refers to length of STR) just use 1 to indicate it exists\n",
    "agg_func <- function(l){return(1)}\n",
    "\n",
    "unmeltdf <- function(data) {\n",
    "    df <- data %>% mutate(val = 1)\n",
    "    df2 <- dcast(df, read_id ~ str_id, fill = 0, value.var = 'val', fun.aggregate = agg_func)\n",
    "    return(df2)\n",
    "}"
   ]
  },
  {
   "cell_type": "markdown",
   "metadata": {},
   "source": [
    "# Implementation"
   ]
  },
  {
   "cell_type": "code",
   "execution_count": 33,
   "metadata": {},
   "outputs": [],
   "source": [
    "booldf <- unmeltdf(df)"
   ]
  },
  {
   "cell_type": "markdown",
   "metadata": {},
   "source": [
    "# Save"
   ]
  },
  {
   "cell_type": "code",
   "execution_count": 34,
   "metadata": {},
   "outputs": [],
   "source": [
    "write.csv(booldf, paste0(datadir,'/',run_number,'_',chr,'_',dis,'_bool_tagged_reads.csv'), row.names = FALSE)"
   ]
  }
 ],
 "metadata": {
  "kernelspec": {
   "display_name": "Python 3",
   "language": "python",
   "name": "python3"
  },
  "language_info": {
   "codemirror_mode": {
    "name": "ipython",
    "version": 3
   },
   "file_extension": ".py",
   "mimetype": "text/x-python",
   "name": "python",
   "nbconvert_exporter": "python",
   "pygments_lexer": "ipython3",
   "version": "3.9.2"
  }
 },
 "nbformat": 4,
 "nbformat_minor": 4
}
