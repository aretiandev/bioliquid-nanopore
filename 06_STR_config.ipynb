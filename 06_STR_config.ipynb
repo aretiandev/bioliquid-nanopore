{
 "cells": [
  {
   "cell_type": "markdown",
   "id": "93b5befa-5f05-4154-8746-ada3e9457167",
   "metadata": {},
   "source": [
    "# STRspy Config\n",
    "\n",
    "This script creates the necessary config files to run STRspy on the Bioliquid Nanopore data."
   ]
  },
  {
   "cell_type": "markdown",
   "id": "d5630c54-810c-4d67-b40b-635ca4669527",
   "metadata": {},
   "source": [
    "# Load modules"
   ]
  },
  {
   "cell_type": "code",
   "execution_count": 27,
   "id": "4244d88d-eedd-4094-9653-83738a1d898f",
   "metadata": {},
   "outputs": [],
   "source": [
    "import numpy as np\n",
    "import pandas as pd"
   ]
  },
  {
   "cell_type": "markdown",
   "id": "823609b8-ff36-45c7-96b1-a36601bfe71d",
   "metadata": {},
   "source": [
    "# Individual BED and Fasta files\n",
    "\n",
    "Create one BED and Fasta file per STR."
   ]
  },
  {
   "cell_type": "markdown",
   "id": "749e392e-cd46-427e-ace8-94b03b32b717",
   "metadata": {},
   "source": [
    "### Get reference genome"
   ]
  },
  {
   "cell_type": "code",
   "execution_count": 28,
   "id": "28165069-987f-438a-b2fc-15370a0cb436",
   "metadata": {},
   "outputs": [],
   "source": [
    "# Read in fasta file: remove line breaks and header\n",
    "def read_fasta_genome(fasta_file,chromosome_header):\n",
    "    clean_data = fasta_file.read().replace(\"\\n\", \"\")\n",
    "    clean_data = clean_data.replace(chromosome_header,\"\") # get rid of header\n",
    "\n",
    "    return clean_data\n",
    "\n",
    "with open('../data/run1/processed/chr17_selected.fa') as f: # update path if needed\n",
    "    ref_genome = read_fasta_genome(f,'>chr17')"
   ]
  },
  {
   "cell_type": "markdown",
   "id": "473df2e2-996d-4104-ad6d-a596852dfd65",
   "metadata": {},
   "source": [
    "### Load Full list of STRs"
   ]
  },
  {
   "cell_type": "code",
   "execution_count": 29,
   "id": "61ef1227-25ab-407b-80d8-8efc77395d7d",
   "metadata": {},
   "outputs": [
    {
     "name": "stdout",
     "output_type": "stream",
     "text": [
      "Data should look like this:\n"
     ]
    },
    {
     "data": {
      "text/html": [
       "<div>\n",
       "<style scoped>\n",
       "    .dataframe tbody tr th:only-of-type {\n",
       "        vertical-align: middle;\n",
       "    }\n",
       "\n",
       "    .dataframe tbody tr th {\n",
       "        vertical-align: top;\n",
       "    }\n",
       "\n",
       "    .dataframe thead th {\n",
       "        text-align: right;\n",
       "    }\n",
       "</style>\n",
       "<table border=\"1\" class=\"dataframe\">\n",
       "  <thead>\n",
       "    <tr style=\"text-align: right;\">\n",
       "      <th></th>\n",
       "      <th>0</th>\n",
       "      <th>1</th>\n",
       "      <th>2</th>\n",
       "      <th>3</th>\n",
       "    </tr>\n",
       "  </thead>\n",
       "  <tbody>\n",
       "    <tr>\n",
       "      <th>0</th>\n",
       "      <td>4</td>\n",
       "      <td>155508887</td>\n",
       "      <td>155508975</td>\n",
       "      <td>FGA</td>\n",
       "    </tr>\n",
       "  </tbody>\n",
       "</table>\n",
       "</div>"
      ],
      "text/plain": [
       "   0          1          2    3\n",
       "0  4  155508887  155508975  FGA"
      ]
     },
     "execution_count": 29,
     "metadata": {},
     "output_type": "execute_result"
    }
   ],
   "source": [
    "# Load Full STR list\n",
    "df = pd.read_csv('../data/run1/raw/hg38.hipstr_reference.bed', sep='\\t', header=None)\n",
    "df.columns=['chr','start','end','NA','repeats','name','unit']\n",
    "\n",
    "# Load STRspy test data\n",
    "testdata = pd.read_csv('../strspy/testset/testCustomDB/FGA.bed', sep='\\t', header=None)\n",
    "print('Data should look like this:')\n",
    "testdata"
   ]
  },
  {
   "cell_type": "markdown",
   "id": "9f96dc39-b548-45a2-826b-1419dedc2c46",
   "metadata": {},
   "source": [
    "### Prepare data"
   ]
  },
  {
   "cell_type": "code",
   "execution_count": 30,
   "id": "500ba501-21c0-4a2d-9af7-d27e43d5f755",
   "metadata": {},
   "outputs": [],
   "source": [
    "# df.groupby(['chr']).count()[['start']]\n",
    "\n",
    "# Ratios\n",
    "# 80000000/58887\n",
    "\n",
    "# 93551/181000000\n",
    "\n",
    "# 3000000000/673984\n",
    "\n",
    "# 4000000/1358\n",
    "\n",
    "# import matplotlib.pyplot as plt\n",
    "\n",
    "# plt.plot(range(181000000),df.start)"
   ]
  },
  {
   "cell_type": "code",
   "execution_count": 31,
   "id": "1fb80cb9-aa34-45aa-a00a-34f925401649",
   "metadata": {},
   "outputs": [],
   "source": [
    "# Filter chr17\n",
    "# selected_chromosome = 'chr17'\n",
    "selected_chromosome = 'chr5'\n",
    "# window_width = 5000000\n",
    "# start_pos = 70924941 - window_width\n",
    "# start_pos = 23000000\n",
    "# end_pos = 70953015 + window_width\n",
    "# end_pos = 27000000\n",
    "\n",
    "df = df.loc[df['chr']==selected_chromosome]\n",
    "\n",
    "# Filter locations\n",
    "# try:\n",
    "# df = df.loc[(df['start']>=start_pos) & (df['end']<=end_pos)]\n",
    "# except:\n",
    "#     None\n",
    "    \n",
    "# Get columns\n",
    "df = df[['chr','start','end','name']]"
   ]
  },
  {
   "cell_type": "code",
   "execution_count": 80,
   "id": "023be564-f95c-4f2b-b9ab-96791a4e056c",
   "metadata": {},
   "outputs": [
    {
     "data": {
      "text/html": [
       "<div>\n",
       "<style scoped>\n",
       "    .dataframe tbody tr th:only-of-type {\n",
       "        vertical-align: middle;\n",
       "    }\n",
       "\n",
       "    .dataframe tbody tr th {\n",
       "        vertical-align: top;\n",
       "    }\n",
       "\n",
       "    .dataframe thead th {\n",
       "        text-align: right;\n",
       "    }\n",
       "</style>\n",
       "<table border=\"1\" class=\"dataframe\">\n",
       "  <thead>\n",
       "    <tr style=\"text-align: right;\">\n",
       "      <th></th>\n",
       "      <th>chr</th>\n",
       "      <th>start</th>\n",
       "      <th>end</th>\n",
       "      <th>name</th>\n",
       "    </tr>\n",
       "  </thead>\n",
       "  <tbody>\n",
       "    <tr>\n",
       "      <th>562780</th>\n",
       "      <td>chr17</td>\n",
       "      <td>60845</td>\n",
       "      <td>60867</td>\n",
       "      <td>Human_STR_1625444</td>\n",
       "    </tr>\n",
       "  </tbody>\n",
       "</table>\n",
       "</div>"
      ],
      "text/plain": [
       "          chr  start    end               name\n",
       "562780  chr17  60845  60867  Human_STR_1625444"
      ]
     },
     "execution_count": 80,
     "metadata": {},
     "output_type": "execute_result"
    }
   ],
   "source": [
    "df[0:5:10]"
   ]
  },
  {
   "cell_type": "markdown",
   "id": "8152fc90-da1f-475f-a8c4-58bfa58c6dfb",
   "metadata": {},
   "source": [
    "### Save each STR in different BED file for first 500"
   ]
  },
  {
   "cell_type": "code",
   "execution_count": null,
   "id": "eb29a685-446f-45a2-8d4c-63a79c95e8bc",
   "metadata": {},
   "outputs": [],
   "source": [
    "selected_strs = df.loc[(df['start']>22500000)&(df['end']<27500000)]"
   ]
  },
  {
   "cell_type": "code",
   "execution_count": null,
   "id": "27e9df49-bf3b-46c6-be46-03314e9719af",
   "metadata": {},
   "outputs": [],
   "source": [
    "# Loop: create single STR files\n",
    "for n in range(len(selected_strs)):\n",
    "# for n in range(3):\n",
    "    str_out = selected_strs.iloc[[n]]\n",
    "    str_name = str_out['name'].values[0]\n",
    "    str_out.to_csv(f\"data/run1/input/db/{str_name}.bed\", header=False, index=False, sep='\\t')\n",
    "    \n",
    "    myfasta = open(f\"data/run1/input/db/{str_name}.fa\",\"w\")\n",
    "    start = str_out['start'].values[0]\n",
    "    end = str_out['end'].values[0]\n",
    "    # Extract reads\n",
    "    padded_str=ref_genome[start-500:end+500]\n",
    "    # Write to file\n",
    "    myfasta.write('>')\n",
    "    myfasta.write(str_name)\n",
    "    myfasta.write('\\n')\n",
    "    myfasta.write(padded_str)\n",
    "    myfasta.write('\\n')\n",
    "    myfasta.close()"
   ]
  },
  {
   "cell_type": "markdown",
   "id": "5426a63c-dc93-40db-bc7c-73a285c2ca5f",
   "metadata": {},
   "source": [
    "# Region BED file (all STRs)"
   ]
  },
  {
   "cell_type": "code",
   "execution_count": null,
   "id": "fa1d29cc-6490-4111-ba6d-81740fab9606",
   "metadata": {},
   "outputs": [],
   "source": [
    "selected_strs.to_csv('data/run1/input/regions/all_strs.bed', header=False, index=False, sep='\\t')"
   ]
  },
  {
   "cell_type": "markdown",
   "id": "393e27f6-ad8f-4477-ba08-c3a5336cb7c1",
   "metadata": {},
   "source": [
    "# Run STRspy"
   ]
  },
  {
   "cell_type": "code",
   "execution_count": 1,
   "id": "08ed1b39-c6cb-4d99-945b-b334d605c3b6",
   "metadata": {},
   "outputs": [],
   "source": [
    "# %%bash\n",
    "# bash STRspy_run_v1 config/TestConfig config/UserToolsConfig"
   ]
  },
  {
   "cell_type": "markdown",
   "id": "9b4af00c-6ff8-40d5-8541-dba2db782c61",
   "metadata": {},
   "source": [
    "# Concatenate all output"
   ]
  },
  {
   "cell_type": "code",
   "execution_count": 9,
   "id": "f526f11e-b2e5-416b-9af1-620d6edbc379",
   "metadata": {},
   "outputs": [],
   "source": [
    "%%bash\n",
    "cd ../strspy/data/run1/output/Countings\n",
    "cat *person0*Allele_freqs.txt > run1_person0_chr17_strs_raw.txt\n",
    "cat *person1*Allele_freqs.txt > run1_person1_chr17_strs_raw.txt\n",
    "grep 'Human_STR' run1_person0_chr17_strs_raw.txt > run1_person0_chr17_strs.txt\n",
    "grep 'Human_STR' run1_person1_chr17_strs_raw.txt > run1_person1_chr17_strs.txt"
   ]
  },
  {
   "cell_type": "markdown",
   "id": "08ad9191-4892-42bb-8884-e013b59d54dd",
   "metadata": {},
   "source": [
    "# Add necessary columns"
   ]
  },
  {
   "cell_type": "code",
   "execution_count": 103,
   "id": "fe379a5b-6609-4c0b-b003-421873fbb990",
   "metadata": {},
   "outputs": [],
   "source": [
    "# Select person\n",
    "person = person1\n",
    "\n",
    "# Load STRspy output\n",
    "strspy_df = pd.read_csv(f'../strspy/data/run1/output/Countings/run1_{person}_chr17_strs.txt', sep='\\t', header=None)\n",
    "strspy_df.columns = ['name', 'count', 'normcount']\n",
    "\n",
    "# Load Full STR list\n",
    "df = pd.read_csv('../data/run1/raw/hg38.hipstr_reference.bed', sep='\\t', header=None)\n",
    "df.columns=['chr','start','end','NA','repeats','name','motif']\n",
    "\n",
    "### Create STR\n",
    "def create_str(row):\n",
    "    motif_len = len(row['motif']) # get length\n",
    "    # Get Base\n",
    "    int_repeat = int(np.floor(row['repeats'])) # 9\n",
    "    base = int_repeat * row['motif']\n",
    "    # Get Tail and append\n",
    "    dec_repeat = row['repeats']%1\n",
    "    nt_to_pull = round(dec_repeat * motif_len)\n",
    "    tail = row['motif'][:nt_to_pull]\n",
    "    base = base + tail\n",
    "    return base\n",
    "\n",
    "# Drop nans\n",
    "df = df.loc[df['motif'].notnull()]\n",
    "df['str'] = df.apply(lambda x: create_str(x), axis = 1)\n",
    "\n",
    "# Append it to STRspy output\n",
    "output = strspy_df.merge(df, how='left', on='name')\n",
    "\n",
    "output = output[['name','count','chr','start','end','motif', 'str']]\n",
    "\n",
    "# Save\n",
    "output.to_csv('../strspy/data/run1/output/Countings/run1_person0_chr17_full.txt', index=None, header=None, sep='\\t')"
   ]
  },
  {
   "cell_type": "code",
   "execution_count": 120,
   "id": "2bc2d006-1efc-42cc-99a3-99331ef3ca06",
   "metadata": {},
   "outputs": [
    {
     "data": {
      "text/html": [
       "<div>\n",
       "<style scoped>\n",
       "    .dataframe tbody tr th:only-of-type {\n",
       "        vertical-align: middle;\n",
       "    }\n",
       "\n",
       "    .dataframe tbody tr th {\n",
       "        vertical-align: top;\n",
       "    }\n",
       "\n",
       "    .dataframe thead th {\n",
       "        text-align: right;\n",
       "    }\n",
       "</style>\n",
       "<table border=\"1\" class=\"dataframe\">\n",
       "  <thead>\n",
       "    <tr style=\"text-align: right;\">\n",
       "      <th></th>\n",
       "      <th>name</th>\n",
       "      <th>count</th>\n",
       "      <th>chr</th>\n",
       "      <th>start</th>\n",
       "      <th>end</th>\n",
       "      <th>str</th>\n",
       "    </tr>\n",
       "  </thead>\n",
       "  <tbody>\n",
       "    <tr>\n",
       "      <th>0</th>\n",
       "      <td>Human_STR_1625686</td>\n",
       "      <td>240</td>\n",
       "      <td>chr17</td>\n",
       "      <td>26569632</td>\n",
       "      <td>26569679</td>\n",
       "      <td>CTCTCTCTCTCTCTCTCTCTCTCTCTCTCTCTCTCTCTCTCTCTCTCT</td>\n",
       "    </tr>\n",
       "    <tr>\n",
       "      <th>1</th>\n",
       "      <td>Human_STR_1625687</td>\n",
       "      <td>546</td>\n",
       "      <td>chr17</td>\n",
       "      <td>26592304</td>\n",
       "      <td>26592351</td>\n",
       "      <td>CTCTCTCTCTCTCTCTCTCTCTCTCTCTCTCTCTCTCTCTCTCTCTCT</td>\n",
       "    </tr>\n",
       "    <tr>\n",
       "      <th>2</th>\n",
       "      <td>Human_STR_1625688</td>\n",
       "      <td>112</td>\n",
       "      <td>chr17</td>\n",
       "      <td>26639844</td>\n",
       "      <td>26639889</td>\n",
       "      <td>AAAAAAAAAAAAAAAAAAAAAAAAAAAAAAAAAAAAAAAAAAAAAA</td>\n",
       "    </tr>\n",
       "    <tr>\n",
       "      <th>3</th>\n",
       "      <td>Human_STR_1625689</td>\n",
       "      <td>210</td>\n",
       "      <td>chr17</td>\n",
       "      <td>26649584</td>\n",
       "      <td>26649594</td>\n",
       "      <td>TTTTTTTTTTT</td>\n",
       "    </tr>\n",
       "    <tr>\n",
       "      <th>4</th>\n",
       "      <td>Human_STR_1625690</td>\n",
       "      <td>162</td>\n",
       "      <td>chr17</td>\n",
       "      <td>26663827</td>\n",
       "      <td>26663859</td>\n",
       "      <td>TTTTTTTTTTTTTTTTTTTTTTTTTTTTTTTTT</td>\n",
       "    </tr>\n",
       "    <tr>\n",
       "      <th>5</th>\n",
       "      <td>Human_STR_1625691</td>\n",
       "      <td>184</td>\n",
       "      <td>chr17</td>\n",
       "      <td>26665703</td>\n",
       "      <td>26665717</td>\n",
       "      <td>TTTTTTTTTTTTTTT</td>\n",
       "    </tr>\n",
       "  </tbody>\n",
       "</table>\n",
       "</div>"
      ],
      "text/plain": [
       "                name  count    chr     start       end  \\\n",
       "0  Human_STR_1625686    240  chr17  26569632  26569679   \n",
       "1  Human_STR_1625687    546  chr17  26592304  26592351   \n",
       "2  Human_STR_1625688    112  chr17  26639844  26639889   \n",
       "3  Human_STR_1625689    210  chr17  26649584  26649594   \n",
       "4  Human_STR_1625690    162  chr17  26663827  26663859   \n",
       "5  Human_STR_1625691    184  chr17  26665703  26665717   \n",
       "\n",
       "                                                str  \n",
       "0  CTCTCTCTCTCTCTCTCTCTCTCTCTCTCTCTCTCTCTCTCTCTCTCT  \n",
       "1  CTCTCTCTCTCTCTCTCTCTCTCTCTCTCTCTCTCTCTCTCTCTCTCT  \n",
       "2    AAAAAAAAAAAAAAAAAAAAAAAAAAAAAAAAAAAAAAAAAAAAAA  \n",
       "3                                       TTTTTTTTTTT  \n",
       "4                 TTTTTTTTTTTTTTTTTTTTTTTTTTTTTTTTT  \n",
       "5                                   TTTTTTTTTTTTTTT  "
      ]
     },
     "execution_count": 120,
     "metadata": {},
     "output_type": "execute_result"
    }
   ],
   "source": [
    "output"
   ]
  },
  {
   "cell_type": "code",
   "execution_count": 122,
   "id": "6414e9f2-ca34-44ce-ae26-9ddf88db8c8b",
   "metadata": {},
   "outputs": [
    {
     "data": {
      "text/html": [
       "<div>\n",
       "<style scoped>\n",
       "    .dataframe tbody tr th:only-of-type {\n",
       "        vertical-align: middle;\n",
       "    }\n",
       "\n",
       "    .dataframe tbody tr th {\n",
       "        vertical-align: top;\n",
       "    }\n",
       "\n",
       "    .dataframe thead th {\n",
       "        text-align: right;\n",
       "    }\n",
       "</style>\n",
       "<table border=\"1\" class=\"dataframe\">\n",
       "  <thead>\n",
       "    <tr style=\"text-align: right;\">\n",
       "      <th></th>\n",
       "      <th>chr</th>\n",
       "      <th>start</th>\n",
       "      <th>end</th>\n",
       "      <th>NA</th>\n",
       "      <th>repeats</th>\n",
       "      <th>name</th>\n",
       "      <th>unit</th>\n",
       "      <th>str</th>\n",
       "    </tr>\n",
       "  </thead>\n",
       "  <tbody>\n",
       "    <tr>\n",
       "      <th>579396</th>\n",
       "      <td>chr17</td>\n",
       "      <td>26569632</td>\n",
       "      <td>26569679</td>\n",
       "      <td>2</td>\n",
       "      <td>24.0</td>\n",
       "      <td>Human_STR_1625686</td>\n",
       "      <td>CT</td>\n",
       "      <td>CTCTCTCTCTCTCTCTCTCTCTCTCTCTCTCTCTCTCTCTCTCTCTCT</td>\n",
       "    </tr>\n",
       "  </tbody>\n",
       "</table>\n",
       "</div>"
      ],
      "text/plain": [
       "          chr     start       end  NA  repeats               name unit  \\\n",
       "579396  chr17  26569632  26569679   2     24.0  Human_STR_1625686   CT   \n",
       "\n",
       "                                                     str  \n",
       "579396  CTCTCTCTCTCTCTCTCTCTCTCTCTCTCTCTCTCTCTCTCTCTCTCT  "
      ]
     },
     "execution_count": 122,
     "metadata": {},
     "output_type": "execute_result"
    }
   ],
   "source": [
    "df.loc[df['name']=='Human_STR_1625686']"
   ]
  },
  {
   "cell_type": "markdown",
   "id": "3705436f-1554-4ec6-abf1-505815595337",
   "metadata": {},
   "source": [
    "# EXTRA CODE: Remove reads from BAM file"
   ]
  },
  {
   "cell_type": "code",
   "execution_count": null,
   "id": "f416919f-96f4-4dfc-be3f-94c8fd6d62a7",
   "metadata": {},
   "outputs": [],
   "source": [
    "# %%bash\n",
    "# samtools view -h ~/work/code/strspy/bioliquid-data/bioliquid_run1_chr17.bam | grep 505171f5-1f0b-4bb2-b855-5cd3d9ce7554 | samtools view -bS -o ~/work/code/strspy/bioliquid-data/chr17_filtered.bam -"
   ]
  },
  {
   "cell_type": "code",
   "execution_count": null,
   "id": "58a089bd-1942-4e6f-a756-3a447cc3ff6b",
   "metadata": {},
   "outputs": [],
   "source": [
    "# 4000000/75"
   ]
  }
 ],
 "metadata": {
  "kernelspec": {
   "display_name": "Python 3",
   "language": "python",
   "name": "python3"
  },
  "language_info": {
   "codemirror_mode": {
    "name": "ipython",
    "version": 3
   },
   "file_extension": ".py",
   "mimetype": "text/x-python",
   "name": "python",
   "nbconvert_exporter": "python",
   "pygments_lexer": "ipython3",
   "version": "3.9.2"
  }
 },
 "nbformat": 4,
 "nbformat_minor": 5
}
