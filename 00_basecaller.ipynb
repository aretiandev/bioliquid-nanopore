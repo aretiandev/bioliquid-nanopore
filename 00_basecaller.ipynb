{
 "cells": [
  {
   "cell_type": "markdown",
   "metadata": {},
   "source": [
    "# Basecaller\n",
    "\n",
    "This script performs basecalling to convert fast5 files to fastq files.\n",
    "\n",
    "# Linode GPU Setup\n",
    "\n",
    "- Create a GPU VM with Ubuntu 18.04\n",
    "- Check GPU is available\n",
    "``` \n",
    "ssh root@69.164.211.148\n",
    "lspci -vnn | grep NVIDIA\n",
    "```\n",
    "- Harden the server\n",
    "- Install NVIDIA driver dependencies\n",
    "```\n",
    "sudo apt-get install build-essential\n",
    "wget https://developer.download.nvidia.com/compute/cuda/11.3.1/local_installers/cuda_11.3.1_465.19.01_linux.run\n",
    "sudo sh cuda_11.3.1_465.19.01_linux.run\n",
    "```\n",
    "- Select only the NVIDIA driver out of the 5 installation options\n",
    "- Check driver installation successful\n",
    "```\n",
    "nvidia-smi\n",
    "```\n",
    "\n",
    "# Data, Github repository and Docker image\n",
    "\n",
    "### Clone Bioliquid Nanopore repository\n",
    "```\n",
    "cd ~\n",
    "git clone https://github.com/aretiandev/bioliquid-nanopore.git\n",
    "```\n",
    "\n",
    "### Get data\n",
    "Data should be inside a fast5 folder in the data folder.\n",
    "```\n",
    "mkdir ~/data\n",
    "cd ~/data\n",
    "s3cmd get -r [data_filepath]\n",
    "```\n",
    "\n",
    "### Docker\n",
    "- Install Docker\n",
    "- Pull image\n",
    "``` \n",
    "docker pull yufernando/bioaretian:guppy-gpu\n",
    "```\n",
    "- Run image\n",
    "```\n",
    "cd ~\n",
    "docker run -d -v \"$PWD\":/home/jovyan/work -e GRANT_SUDO=yes --user root --name bioaretian yufernando/bioaretian:guppy-gpu\n",
    "```\n",
    "- Step into container\n",
    "```\n",
    "docker exec -it bioaretian /bin/bash\n",
    "```\n"
   ]
  },
  {
   "cell_type": "markdown",
   "metadata": {},
   "source": [
    "# Run Guppy\n",
    "\n",
    "To run the guppy basecaller for a GPU instance, execute the `basecaller.sh` script. The full set of options is:\n",
    "- 'gpu': guppy GPU with high accuracy algorithm\n",
    "- 'fast': guppy CPU with fast algorithm\n",
    "- No options: guppy CPU with high accuracy algorithm"
   ]
  },
  {
   "cell_type": "code",
   "execution_count": null,
   "metadata": {},
   "outputs": [],
   "source": [
    "# !./basecaller.sh gpu"
   ]
  },
  {
   "cell_type": "markdown",
   "metadata": {},
   "source": [
    "# Concatenate\n",
    "\n",
    "Concatenate all reads into single fastq file."
   ]
  },
  {
   "cell_type": "code",
   "execution_count": 9,
   "metadata": {},
   "outputs": [],
   "source": [
    "# !cat ~/work/basecall-fast-0531/pass/*fastq > ~/work/basecall-fast-0531/basecall-0531.fastq"
   ]
  },
  {
   "cell_type": "markdown",
   "metadata": {},
   "source": [
    "# Notes\n",
    "\n",
    "Notes from Marc Tormo Puiggros. "
   ]
  },
  {
   "cell_type": "code",
   "execution_count": null,
   "metadata": {},
   "outputs": [],
   "source": [
    "### basecalling para cada run: guppy/4.5.2-cpu\n",
    "guppy_basecaller  --input_path $path --save_path BaseCall --flowcell FLO-MIN111 --kit SQK-LSK110 --min_qscore 7 -r --fast5_out --records_per_fastq 0 --cpu_threads_per_caller 8 --num_callers 4\n",
    "\n",
    "### juntar los fastq de los 3 runs:\n",
    "cat /scratch/lab_genomica/mtormo/202103*/BaseCall/pass/*fastq > bioliquid_3runs.fastq\n",
    "\n",
    "###  mapping (lo he probado con dos versiones obteniendo los mismos resultados, 2.11 y 2.18) minimap2/2.11-foss-2016b y versión GRCh38 de Ensembl\n",
    "minimap2 -x map-ont -t 32 -a /homes/users/mtormo/lab_genomica/Genomes/hsapiens_hg38-GRCh38_ensembl/Homo_sapiens.GRCh38.dna.primary_assembly.mmi bioliquid_3runs.fastq > bioliquid_3runs.sam\n",
    "\n",
    "### Convertir a bam y ordenar: SAMtools/1.6-foss-2016b\n",
    "samtools view -bSh bioliquid_3runs.sam > bioliquid_3runs.bam\n",
    "samtools sort -@ 32 bioliquid_3runs.bam > bioliquid_3runs.sort.bam\n",
    "samtools index bioliquid_3runs.sort.bam\n",
    "samtools flagstat bioliquid_3runs.sort.bam > bioliquid_3runs.sort.bam.flag\n",
    "\n",
    "# High Accuracy Model: you should use it if you want to increase quality. E.g. when you are interested SNPs\n"
   ]
  }
 ],
 "metadata": {
  "kernelspec": {
   "display_name": "Python 3",
   "language": "python",
   "name": "python3"
  },
  "language_info": {
   "codemirror_mode": {
    "name": "ipython",
    "version": 3
   },
   "file_extension": ".py",
   "mimetype": "text/x-python",
   "name": "python",
   "nbconvert_exporter": "python",
   "pygments_lexer": "ipython3",
   "version": "3.6.9"
  }
 },
 "nbformat": 4,
 "nbformat_minor": 4
}
