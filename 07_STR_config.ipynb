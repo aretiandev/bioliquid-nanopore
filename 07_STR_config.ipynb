{
 "cells": [
  {
   "cell_type": "markdown",
   "metadata": {},
   "source": [
    "# STRspy Config\n",
    "\n",
    "This script creates the necessary config files to run STRspy on the Bioliquid Nanopore data."
   ]
  },
  {
   "cell_type": "markdown",
   "metadata": {},
   "source": [
    "# Load modules"
   ]
  },
  {
   "cell_type": "code",
   "execution_count": 3,
   "metadata": {},
   "outputs": [],
   "source": [
    "import numpy as np\n",
    "import pandas as pd\n",
    "import os"
   ]
  },
  {
   "cell_type": "markdown",
   "metadata": {},
   "source": [
    "# Set variables"
   ]
  },
  {
   "cell_type": "code",
   "execution_count": 11,
   "metadata": {},
   "outputs": [],
   "source": [
    "# Input variables\n",
    "run_number=\"run1\"\n",
    "chrom=\"chr11\"\n",
    "dis=\"sca\"\n",
    "location=5227002\n",
    "windowwidth=2000000\n",
    "\n",
    "# Setup\n",
    "chrom_dis=f\"{chrom}_{dis}\"\n",
    "rootdir=f\"/mnt/aretian/genomics/nanopore/{run_number}\"\n",
    "datadir=f\"/mnt/aretian/genomics/nanopore/{run_number}/data\"\n",
    "\n",
    "os.environ[\"run_number\"]=run_number\n",
    "os.environ[\"chrom\"]=chrom\n",
    "os.environ[\"chrom_dis\"]=chrom_dis\n",
    "os.environ[\"datadir\"]=datadir"
   ]
  },
  {
   "cell_type": "markdown",
   "metadata": {},
   "source": [
    "# Individual BED and Fasta files\n",
    "\n",
    "Create one BED and Fasta file per STR."
   ]
  },
  {
   "cell_type": "markdown",
   "metadata": {},
   "source": [
    "### Get reference genome"
   ]
  },
  {
   "cell_type": "code",
   "execution_count": 26,
   "metadata": {},
   "outputs": [
    {
     "name": "stdout",
     "output_type": "stream",
     "text": [
      "Unique characters: ['G', 'N', 'T', 'A', 'C']\n",
      "Selected chromosome from reference genome is 135086622 BP long\n"
     ]
    }
   ],
   "source": [
    "# Read in fasta file: remove line breaks and header\n",
    "def read_fasta_genome(fasta_file,chromosome_header):\n",
    "    clean_data = fasta_file.read().replace(\"\\n\", \"\")\n",
    "    clean_data = clean_data.replace(chromosome_header,\"\") # get rid of header\n",
    "\n",
    "    return clean_data\n",
    "\n",
    "with open(f'{datadir}/{chrom}_selected.fa') as f: # update path if needed\n",
    "    ref_genome = read_fasta_genome(f,f'>{chrom}')\n",
    "    \n",
    "print(f\"Unique characters: {list(set(ref_genome))}\") \n",
    "\n",
    "print(f\"Selected chromosome from reference genome is {len(ref_genome)} BP long\")"
   ]
  },
  {
   "cell_type": "markdown",
   "metadata": {},
   "source": [
    "### Load Full list of STRs"
   ]
  },
  {
   "cell_type": "code",
   "execution_count": 6,
   "metadata": {},
   "outputs": [
    {
     "name": "stdout",
     "output_type": "stream",
     "text": [
      "Data should look like this:\n"
     ]
    },
    {
     "data": {
      "text/html": [
       "<div>\n",
       "<style scoped>\n",
       "    .dataframe tbody tr th:only-of-type {\n",
       "        vertical-align: middle;\n",
       "    }\n",
       "\n",
       "    .dataframe tbody tr th {\n",
       "        vertical-align: top;\n",
       "    }\n",
       "\n",
       "    .dataframe thead th {\n",
       "        text-align: right;\n",
       "    }\n",
       "</style>\n",
       "<table border=\"1\" class=\"dataframe\">\n",
       "  <thead>\n",
       "    <tr style=\"text-align: right;\">\n",
       "      <th></th>\n",
       "      <th>0</th>\n",
       "      <th>1</th>\n",
       "      <th>2</th>\n",
       "      <th>3</th>\n",
       "    </tr>\n",
       "  </thead>\n",
       "  <tbody>\n",
       "    <tr>\n",
       "      <th>0</th>\n",
       "      <td>4</td>\n",
       "      <td>155508887</td>\n",
       "      <td>155508975</td>\n",
       "      <td>FGA</td>\n",
       "    </tr>\n",
       "  </tbody>\n",
       "</table>\n",
       "</div>"
      ],
      "text/plain": [
       "   0          1          2    3\n",
       "0  4  155508887  155508975  FGA"
      ]
     },
     "execution_count": 6,
     "metadata": {},
     "output_type": "execute_result"
    }
   ],
   "source": [
    "# Load Full STR list\n",
    "df = pd.read_csv(f'{datadir}/hg38.hipstr_reference.bed', sep='\\t', header=None)\n",
    "df.columns=['chr','start','end','NA','repeats','name','unit']\n",
    "\n",
    "# Load STRspy test data\n",
    "testdata = pd.read_csv('/home/fer/genomics/strspy/testset/testCustomDB/FGA.bed', sep='\\t', header=None)\n",
    "print('Data should look like this:')\n",
    "testdata"
   ]
  },
  {
   "cell_type": "markdown",
   "metadata": {},
   "source": [
    "### Prepare data"
   ]
  },
  {
   "cell_type": "code",
   "execution_count": 27,
   "metadata": {},
   "outputs": [],
   "source": [
    "# df.groupby(['chr']).count()[['start']]\n",
    "\n",
    "# Ratios\n",
    "# 80000000/58887\n",
    "\n",
    "# 93551/181000000\n",
    "\n",
    "# 3000000000/673984\n",
    "\n",
    "# 4000000/1358\n",
    "\n",
    "# import matplotlib.pyplot as plt\n",
    "\n",
    "# plt.plot(range(181000000),df.start)"
   ]
  },
  {
   "cell_type": "code",
   "execution_count": 28,
   "metadata": {},
   "outputs": [],
   "source": [
    "# Filter chr17\n",
    "# selected_chromosome = 'chr17'\n",
    "# selected_chromosome = chrom\n",
    "# window_width = 5000000\n",
    "# start_pos = 70924941 - window_width\n",
    "# start_pos = 23000000\n",
    "# end_pos = 70953015 + window_width\n",
    "# end_pos = 27000000\n",
    "\n",
    "df = df.loc[df['chr']==chrom]\n",
    "\n",
    "# Filter locations\n",
    "# try:\n",
    "# df = df.loc[(df['start']>=start_pos) & (df['end']<=end_pos)]\n",
    "# except:\n",
    "#     None\n",
    "    \n",
    "# Get columns\n",
    "df = df[['chr','start','end','name']]"
   ]
  },
  {
   "cell_type": "markdown",
   "metadata": {},
   "source": [
    "### Save each STR in different BED file"
   ]
  },
  {
   "cell_type": "code",
   "execution_count": 32,
   "metadata": {},
   "outputs": [],
   "source": [
    "selected_strs = df.loc[(df['start']>location-windowwidth)&(df['end']<location+windowwidth)]"
   ]
  },
  {
   "cell_type": "code",
   "execution_count": 33,
   "metadata": {},
   "outputs": [],
   "source": [
    "# Loop: create single STR files\n",
    "for n in range(len(selected_strs)):\n",
    "# for n in range(3):\n",
    "    str_out = selected_strs.iloc[[n]]\n",
    "    str_name = str_out['name'].values[0]\n",
    "    str_out.to_csv(f\"{datadir}/strspy/input/db/{str_name}.bed\", header=False, index=False, sep='\\t')\n",
    "    \n",
    "    myfasta = open(f\"{datadir}/strspy/input/db/{str_name}.fa\",\"w\")\n",
    "    start = str_out['start'].values[0]\n",
    "    end = str_out['end'].values[0]\n",
    "    # Extract reads\n",
    "    padded_str=ref_genome[start-500:end+500]\n",
    "    # Write to file\n",
    "    myfasta.write('>')\n",
    "    myfasta.write(str_name)\n",
    "    myfasta.write('\\n')\n",
    "    myfasta.write(padded_str)\n",
    "    myfasta.write('\\n')\n",
    "    myfasta.close()"
   ]
  },
  {
   "cell_type": "markdown",
   "metadata": {},
   "source": [
    "# Region BED file (all STRs)"
   ]
  },
  {
   "cell_type": "code",
   "execution_count": 34,
   "metadata": {},
   "outputs": [],
   "source": [
    "selected_strs.to_csv(f'{datadir}/strspy/input/regions/all_strs.bed', header=False, index=False, sep='\\t')"
   ]
  },
  {
   "cell_type": "markdown",
   "metadata": {},
   "source": [
    "# Run STRspy"
   ]
  },
  {
   "cell_type": "code",
   "execution_count": 35,
   "metadata": {},
   "outputs": [
    {
     "name": "stdout",
     "output_type": "stream",
     "text": [
      "fer\n"
     ]
    }
   ],
   "source": [
    "!whoami"
   ]
  },
  {
   "cell_type": "code",
   "execution_count": 38,
   "metadata": {},
   "outputs": [
    {
     "name": "stdout",
     "output_type": "stream",
     "text": [
      "REPOSITORY              TAG                 IMAGE ID            CREATED             SIZE\n",
      "yufernando/bioaretian   latest              4a04dc4c3ae1        2 weeks ago         6.1GB\n",
      "yufernando/bioaretian   <none>              afd9eaa529e5        5 weeks ago         5.17GB\n",
      "giesselmann/strique     latest              dbd6910d609e        3 months ago        1.15GB\n",
      "<none>                  <none>              294970afa8de        11 months ago       91.1MB\n",
      "ubuntu                  <none>              4e5021d210f6        16 months ago       64.2MB\n"
     ]
    }
   ],
   "source": [
    "%%bash\n",
    "docker image ls"
   ]
  },
  {
   "cell_type": "code",
   "execution_count": 18,
   "metadata": {},
   "outputs": [
    {
     "name": "stderr",
     "output_type": "stream",
     "text": [
      "IOPub data rate exceeded.\n",
      "The notebook server will temporarily stop sending output\n",
      "to the client in order to avoid crashing it.\n",
      "To change this limit, set the config variable\n",
      "`--NotebookApp.iopub_data_rate_limit`.\n",
      "\n",
      "Current values:\n",
      "NotebookApp.iopub_data_rate_limit=1000000.0 (bytes/sec)\n",
      "NotebookApp.rate_limit_window=3.0 (secs)\n",
      "\n"
     ]
    }
   ],
   "source": [
    "%%bash\n",
    "cd /home/fer/genomics/strspy\n",
    "bash STRspy_run_v1.0.sh \"config/${chrom}_InputConfig.txt\" config/UserToolsConfig.txt"
   ]
  },
  {
   "cell_type": "markdown",
   "metadata": {},
   "source": [
    "# Concatenate all output"
   ]
  },
  {
   "cell_type": "code",
   "execution_count": 25,
   "metadata": {},
   "outputs": [
    {
     "name": "stdout",
     "output_type": "stream",
     "text": [
      "/mnt/aretian/genomics/nanopore/run1/data/strspy/output/Countings\n"
     ]
    },
    {
     "ename": "CalledProcessError",
     "evalue": "Command 'b'cd \"${datadir}/strspy/output/Countings\"\\npwd\\ncat *person0*Allele_freqs.txt > \"${run_number}_${chrom}_person0_strs_raw.txt\"\\ncat *person1*Allele_freqs.txt > \"${run_number}_${chrom}_person1_strs_raw.txt\"\\n\\ngrep Human_STR \"${run_number}_${chrom}_person0_strs_raw.txt\" > \"${run_number}_${chrom}_person0_strs.txt\"\\ngrep Human_STR \"${run_number}_${chrom}_person1_strs_raw.txt\" > \"${run_number}_${chrom}_person1_strs.txt\"\\n'' returned non-zero exit status 1.",
     "output_type": "error",
     "traceback": [
      "\u001b[0;31m---------------------------------------------------------------------------\u001b[0m",
      "\u001b[0;31mCalledProcessError\u001b[0m                        Traceback (most recent call last)",
      "\u001b[0;32m<ipython-input-25-a48ad891b308>\u001b[0m in \u001b[0;36m<module>\u001b[0;34m\u001b[0m\n\u001b[0;32m----> 1\u001b[0;31m \u001b[0mget_ipython\u001b[0m\u001b[0;34m(\u001b[0m\u001b[0;34m)\u001b[0m\u001b[0;34m.\u001b[0m\u001b[0mrun_cell_magic\u001b[0m\u001b[0;34m(\u001b[0m\u001b[0;34m'bash'\u001b[0m\u001b[0;34m,\u001b[0m \u001b[0;34m''\u001b[0m\u001b[0;34m,\u001b[0m \u001b[0;34m'cd \"${datadir}/strspy/output/Countings\"\\npwd\\ncat *person0*Allele_freqs.txt > \"${run_number}_${chrom}_person0_strs_raw.txt\"\\ncat *person1*Allele_freqs.txt > \"${run_number}_${chrom}_person1_strs_raw.txt\"\\n\\ngrep Human_STR \"${run_number}_${chrom}_person0_strs_raw.txt\" > \"${run_number}_${chrom}_person0_strs.txt\"\\ngrep Human_STR \"${run_number}_${chrom}_person1_strs_raw.txt\" > \"${run_number}_${chrom}_person1_strs.txt\"\\n'\u001b[0m\u001b[0;34m)\u001b[0m\u001b[0;34m\u001b[0m\u001b[0;34m\u001b[0m\u001b[0m\n\u001b[0m",
      "\u001b[0;32m~/miniconda3/envs/genomics/lib/python3.7/site-packages/IPython/core/interactiveshell.py\u001b[0m in \u001b[0;36mrun_cell_magic\u001b[0;34m(self, magic_name, line, cell)\u001b[0m\n\u001b[1;32m   2360\u001b[0m             \u001b[0;32mwith\u001b[0m \u001b[0mself\u001b[0m\u001b[0;34m.\u001b[0m\u001b[0mbuiltin_trap\u001b[0m\u001b[0;34m:\u001b[0m\u001b[0;34m\u001b[0m\u001b[0;34m\u001b[0m\u001b[0m\n\u001b[1;32m   2361\u001b[0m                 \u001b[0margs\u001b[0m \u001b[0;34m=\u001b[0m \u001b[0;34m(\u001b[0m\u001b[0mmagic_arg_s\u001b[0m\u001b[0;34m,\u001b[0m \u001b[0mcell\u001b[0m\u001b[0;34m)\u001b[0m\u001b[0;34m\u001b[0m\u001b[0;34m\u001b[0m\u001b[0m\n\u001b[0;32m-> 2362\u001b[0;31m                 \u001b[0mresult\u001b[0m \u001b[0;34m=\u001b[0m \u001b[0mfn\u001b[0m\u001b[0;34m(\u001b[0m\u001b[0;34m*\u001b[0m\u001b[0margs\u001b[0m\u001b[0;34m,\u001b[0m \u001b[0;34m**\u001b[0m\u001b[0mkwargs\u001b[0m\u001b[0;34m)\u001b[0m\u001b[0;34m\u001b[0m\u001b[0;34m\u001b[0m\u001b[0m\n\u001b[0m\u001b[1;32m   2363\u001b[0m             \u001b[0;32mreturn\u001b[0m \u001b[0mresult\u001b[0m\u001b[0;34m\u001b[0m\u001b[0;34m\u001b[0m\u001b[0m\n\u001b[1;32m   2364\u001b[0m \u001b[0;34m\u001b[0m\u001b[0m\n",
      "\u001b[0;32m~/miniconda3/envs/genomics/lib/python3.7/site-packages/IPython/core/magics/script.py\u001b[0m in \u001b[0;36mnamed_script_magic\u001b[0;34m(line, cell)\u001b[0m\n\u001b[1;32m    140\u001b[0m             \u001b[0;32melse\u001b[0m\u001b[0;34m:\u001b[0m\u001b[0;34m\u001b[0m\u001b[0;34m\u001b[0m\u001b[0m\n\u001b[1;32m    141\u001b[0m                 \u001b[0mline\u001b[0m \u001b[0;34m=\u001b[0m \u001b[0mscript\u001b[0m\u001b[0;34m\u001b[0m\u001b[0;34m\u001b[0m\u001b[0m\n\u001b[0;32m--> 142\u001b[0;31m             \u001b[0;32mreturn\u001b[0m \u001b[0mself\u001b[0m\u001b[0;34m.\u001b[0m\u001b[0mshebang\u001b[0m\u001b[0;34m(\u001b[0m\u001b[0mline\u001b[0m\u001b[0;34m,\u001b[0m \u001b[0mcell\u001b[0m\u001b[0;34m)\u001b[0m\u001b[0;34m\u001b[0m\u001b[0;34m\u001b[0m\u001b[0m\n\u001b[0m\u001b[1;32m    143\u001b[0m \u001b[0;34m\u001b[0m\u001b[0m\n\u001b[1;32m    144\u001b[0m         \u001b[0;31m# write a basic docstring:\u001b[0m\u001b[0;34m\u001b[0m\u001b[0;34m\u001b[0m\u001b[0;34m\u001b[0m\u001b[0m\n",
      "\u001b[0;32m<decorator-gen-110>\u001b[0m in \u001b[0;36mshebang\u001b[0;34m(self, line, cell)\u001b[0m\n",
      "\u001b[0;32m~/miniconda3/envs/genomics/lib/python3.7/site-packages/IPython/core/magic.py\u001b[0m in \u001b[0;36m<lambda>\u001b[0;34m(f, *a, **k)\u001b[0m\n\u001b[1;32m    185\u001b[0m     \u001b[0;31m# but it's overkill for just that one bit of state.\u001b[0m\u001b[0;34m\u001b[0m\u001b[0;34m\u001b[0m\u001b[0;34m\u001b[0m\u001b[0m\n\u001b[1;32m    186\u001b[0m     \u001b[0;32mdef\u001b[0m \u001b[0mmagic_deco\u001b[0m\u001b[0;34m(\u001b[0m\u001b[0marg\u001b[0m\u001b[0;34m)\u001b[0m\u001b[0;34m:\u001b[0m\u001b[0;34m\u001b[0m\u001b[0;34m\u001b[0m\u001b[0m\n\u001b[0;32m--> 187\u001b[0;31m         \u001b[0mcall\u001b[0m \u001b[0;34m=\u001b[0m \u001b[0;32mlambda\u001b[0m \u001b[0mf\u001b[0m\u001b[0;34m,\u001b[0m \u001b[0;34m*\u001b[0m\u001b[0ma\u001b[0m\u001b[0;34m,\u001b[0m \u001b[0;34m**\u001b[0m\u001b[0mk\u001b[0m\u001b[0;34m:\u001b[0m \u001b[0mf\u001b[0m\u001b[0;34m(\u001b[0m\u001b[0;34m*\u001b[0m\u001b[0ma\u001b[0m\u001b[0;34m,\u001b[0m \u001b[0;34m**\u001b[0m\u001b[0mk\u001b[0m\u001b[0;34m)\u001b[0m\u001b[0;34m\u001b[0m\u001b[0;34m\u001b[0m\u001b[0m\n\u001b[0m\u001b[1;32m    188\u001b[0m \u001b[0;34m\u001b[0m\u001b[0m\n\u001b[1;32m    189\u001b[0m         \u001b[0;32mif\u001b[0m \u001b[0mcallable\u001b[0m\u001b[0;34m(\u001b[0m\u001b[0marg\u001b[0m\u001b[0;34m)\u001b[0m\u001b[0;34m:\u001b[0m\u001b[0;34m\u001b[0m\u001b[0;34m\u001b[0m\u001b[0m\n",
      "\u001b[0;32m~/miniconda3/envs/genomics/lib/python3.7/site-packages/IPython/core/magics/script.py\u001b[0m in \u001b[0;36mshebang\u001b[0;34m(self, line, cell)\u001b[0m\n\u001b[1;32m    243\u001b[0m             \u001b[0msys\u001b[0m\u001b[0;34m.\u001b[0m\u001b[0mstderr\u001b[0m\u001b[0;34m.\u001b[0m\u001b[0mflush\u001b[0m\u001b[0;34m(\u001b[0m\u001b[0;34m)\u001b[0m\u001b[0;34m\u001b[0m\u001b[0;34m\u001b[0m\u001b[0m\n\u001b[1;32m    244\u001b[0m         \u001b[0;32mif\u001b[0m \u001b[0margs\u001b[0m\u001b[0;34m.\u001b[0m\u001b[0mraise_error\u001b[0m \u001b[0;32mand\u001b[0m \u001b[0mp\u001b[0m\u001b[0;34m.\u001b[0m\u001b[0mreturncode\u001b[0m\u001b[0;34m!=\u001b[0m\u001b[0;36m0\u001b[0m\u001b[0;34m:\u001b[0m\u001b[0;34m\u001b[0m\u001b[0;34m\u001b[0m\u001b[0m\n\u001b[0;32m--> 245\u001b[0;31m             \u001b[0;32mraise\u001b[0m \u001b[0mCalledProcessError\u001b[0m\u001b[0;34m(\u001b[0m\u001b[0mp\u001b[0m\u001b[0;34m.\u001b[0m\u001b[0mreturncode\u001b[0m\u001b[0;34m,\u001b[0m \u001b[0mcell\u001b[0m\u001b[0;34m,\u001b[0m \u001b[0moutput\u001b[0m\u001b[0;34m=\u001b[0m\u001b[0mout\u001b[0m\u001b[0;34m,\u001b[0m \u001b[0mstderr\u001b[0m\u001b[0;34m=\u001b[0m\u001b[0merr\u001b[0m\u001b[0;34m)\u001b[0m\u001b[0;34m\u001b[0m\u001b[0;34m\u001b[0m\u001b[0m\n\u001b[0m\u001b[1;32m    246\u001b[0m \u001b[0;34m\u001b[0m\u001b[0m\n\u001b[1;32m    247\u001b[0m     \u001b[0;32mdef\u001b[0m \u001b[0m_run_script\u001b[0m\u001b[0;34m(\u001b[0m\u001b[0mself\u001b[0m\u001b[0;34m,\u001b[0m \u001b[0mp\u001b[0m\u001b[0;34m,\u001b[0m \u001b[0mcell\u001b[0m\u001b[0;34m,\u001b[0m \u001b[0mto_close\u001b[0m\u001b[0;34m)\u001b[0m\u001b[0;34m:\u001b[0m\u001b[0;34m\u001b[0m\u001b[0;34m\u001b[0m\u001b[0m\n",
      "\u001b[0;31mCalledProcessError\u001b[0m: Command 'b'cd \"${datadir}/strspy/output/Countings\"\\npwd\\ncat *person0*Allele_freqs.txt > \"${run_number}_${chrom}_person0_strs_raw.txt\"\\ncat *person1*Allele_freqs.txt > \"${run_number}_${chrom}_person1_strs_raw.txt\"\\n\\ngrep Human_STR \"${run_number}_${chrom}_person0_strs_raw.txt\" > \"${run_number}_${chrom}_person0_strs.txt\"\\ngrep Human_STR \"${run_number}_${chrom}_person1_strs_raw.txt\" > \"${run_number}_${chrom}_person1_strs.txt\"\\n'' returned non-zero exit status 1."
     ]
    }
   ],
   "source": [
    "%%bash\n",
    "cd \"${datadir}/strspy/output/Countings\"\n",
    "pwd\n",
    "cat *person0*Allele_freqs.txt > \"${run_number}_${chrom}_person0_strs_raw.txt\"\n",
    "cat *person1*Allele_freqs.txt > \"${run_number}_${chrom}_person1_strs_raw.txt\"\n",
    "\n",
    "grep Human_STR \"${run_number}_${chrom}_person0_strs_raw.txt\" > \"${run_number}_${chrom}_person0_strs.txt\"\n",
    "grep Human_STR \"${run_number}_${chrom}_person1_strs_raw.txt\" > \"${run_number}_${chrom}_person1_strs.txt\""
   ]
  },
  {
   "cell_type": "markdown",
   "metadata": {},
   "source": [
    "# Add necessary columns"
   ]
  },
  {
   "cell_type": "code",
   "execution_count": 103,
   "metadata": {},
   "outputs": [],
   "source": [
    "# Select person\n",
    "person = person1\n",
    "\n",
    "# Load STRspy output\n",
    "strspy_df = pd.read_csv(f'../strspy/data/run1/output/Countings/run1_{person}_chr17_strs.txt', sep='\\t', header=None)\n",
    "strspy_df.columns = ['name', 'count', 'normcount']\n",
    "\n",
    "# Load Full STR list\n",
    "df = pd.read_csv('../data/run1/raw/hg38.hipstr_reference.bed', sep='\\t', header=None)\n",
    "df.columns=['chr','start','end','NA','repeats','name','motif']\n",
    "\n",
    "### Create STR\n",
    "def create_str(row):\n",
    "    motif_len = len(row['motif']) # get length\n",
    "    # Get Base\n",
    "    int_repeat = int(np.floor(row['repeats'])) # 9\n",
    "    base = int_repeat * row['motif']\n",
    "    # Get Tail and append\n",
    "    dec_repeat = row['repeats']%1\n",
    "    nt_to_pull = round(dec_repeat * motif_len)\n",
    "    tail = row['motif'][:nt_to_pull]\n",
    "    base = base + tail\n",
    "    return base\n",
    "\n",
    "# Drop nans\n",
    "df = df.loc[df['motif'].notnull()]\n",
    "df['str'] = df.apply(lambda x: create_str(x), axis = 1)\n",
    "\n",
    "# Append it to STRspy output\n",
    "output = strspy_df.merge(df, how='left', on='name')\n",
    "\n",
    "output = output[['name','count','chr','start','end','motif', 'str']]\n",
    "\n",
    "# Save\n",
    "output.to_csv('../strspy/data/run1/output/Countings/run1_person0_chr17_full.txt', index=None, header=None, sep='\\t')"
   ]
  },
  {
   "cell_type": "code",
   "execution_count": 120,
   "metadata": {},
   "outputs": [
    {
     "data": {
      "text/html": [
       "<div>\n",
       "<style scoped>\n",
       "    .dataframe tbody tr th:only-of-type {\n",
       "        vertical-align: middle;\n",
       "    }\n",
       "\n",
       "    .dataframe tbody tr th {\n",
       "        vertical-align: top;\n",
       "    }\n",
       "\n",
       "    .dataframe thead th {\n",
       "        text-align: right;\n",
       "    }\n",
       "</style>\n",
       "<table border=\"1\" class=\"dataframe\">\n",
       "  <thead>\n",
       "    <tr style=\"text-align: right;\">\n",
       "      <th></th>\n",
       "      <th>name</th>\n",
       "      <th>count</th>\n",
       "      <th>chr</th>\n",
       "      <th>start</th>\n",
       "      <th>end</th>\n",
       "      <th>str</th>\n",
       "    </tr>\n",
       "  </thead>\n",
       "  <tbody>\n",
       "    <tr>\n",
       "      <th>0</th>\n",
       "      <td>Human_STR_1625686</td>\n",
       "      <td>240</td>\n",
       "      <td>chr17</td>\n",
       "      <td>26569632</td>\n",
       "      <td>26569679</td>\n",
       "      <td>CTCTCTCTCTCTCTCTCTCTCTCTCTCTCTCTCTCTCTCTCTCTCTCT</td>\n",
       "    </tr>\n",
       "    <tr>\n",
       "      <th>1</th>\n",
       "      <td>Human_STR_1625687</td>\n",
       "      <td>546</td>\n",
       "      <td>chr17</td>\n",
       "      <td>26592304</td>\n",
       "      <td>26592351</td>\n",
       "      <td>CTCTCTCTCTCTCTCTCTCTCTCTCTCTCTCTCTCTCTCTCTCTCTCT</td>\n",
       "    </tr>\n",
       "    <tr>\n",
       "      <th>2</th>\n",
       "      <td>Human_STR_1625688</td>\n",
       "      <td>112</td>\n",
       "      <td>chr17</td>\n",
       "      <td>26639844</td>\n",
       "      <td>26639889</td>\n",
       "      <td>AAAAAAAAAAAAAAAAAAAAAAAAAAAAAAAAAAAAAAAAAAAAAA</td>\n",
       "    </tr>\n",
       "    <tr>\n",
       "      <th>3</th>\n",
       "      <td>Human_STR_1625689</td>\n",
       "      <td>210</td>\n",
       "      <td>chr17</td>\n",
       "      <td>26649584</td>\n",
       "      <td>26649594</td>\n",
       "      <td>TTTTTTTTTTT</td>\n",
       "    </tr>\n",
       "    <tr>\n",
       "      <th>4</th>\n",
       "      <td>Human_STR_1625690</td>\n",
       "      <td>162</td>\n",
       "      <td>chr17</td>\n",
       "      <td>26663827</td>\n",
       "      <td>26663859</td>\n",
       "      <td>TTTTTTTTTTTTTTTTTTTTTTTTTTTTTTTTT</td>\n",
       "    </tr>\n",
       "    <tr>\n",
       "      <th>5</th>\n",
       "      <td>Human_STR_1625691</td>\n",
       "      <td>184</td>\n",
       "      <td>chr17</td>\n",
       "      <td>26665703</td>\n",
       "      <td>26665717</td>\n",
       "      <td>TTTTTTTTTTTTTTT</td>\n",
       "    </tr>\n",
       "  </tbody>\n",
       "</table>\n",
       "</div>"
      ],
      "text/plain": [
       "                name  count    chr     start       end  \\\n",
       "0  Human_STR_1625686    240  chr17  26569632  26569679   \n",
       "1  Human_STR_1625687    546  chr17  26592304  26592351   \n",
       "2  Human_STR_1625688    112  chr17  26639844  26639889   \n",
       "3  Human_STR_1625689    210  chr17  26649584  26649594   \n",
       "4  Human_STR_1625690    162  chr17  26663827  26663859   \n",
       "5  Human_STR_1625691    184  chr17  26665703  26665717   \n",
       "\n",
       "                                                str  \n",
       "0  CTCTCTCTCTCTCTCTCTCTCTCTCTCTCTCTCTCTCTCTCTCTCTCT  \n",
       "1  CTCTCTCTCTCTCTCTCTCTCTCTCTCTCTCTCTCTCTCTCTCTCTCT  \n",
       "2    AAAAAAAAAAAAAAAAAAAAAAAAAAAAAAAAAAAAAAAAAAAAAA  \n",
       "3                                       TTTTTTTTTTT  \n",
       "4                 TTTTTTTTTTTTTTTTTTTTTTTTTTTTTTTTT  \n",
       "5                                   TTTTTTTTTTTTTTT  "
      ]
     },
     "execution_count": 120,
     "metadata": {},
     "output_type": "execute_result"
    }
   ],
   "source": [
    "output"
   ]
  },
  {
   "cell_type": "code",
   "execution_count": 122,
   "metadata": {},
   "outputs": [
    {
     "data": {
      "text/html": [
       "<div>\n",
       "<style scoped>\n",
       "    .dataframe tbody tr th:only-of-type {\n",
       "        vertical-align: middle;\n",
       "    }\n",
       "\n",
       "    .dataframe tbody tr th {\n",
       "        vertical-align: top;\n",
       "    }\n",
       "\n",
       "    .dataframe thead th {\n",
       "        text-align: right;\n",
       "    }\n",
       "</style>\n",
       "<table border=\"1\" class=\"dataframe\">\n",
       "  <thead>\n",
       "    <tr style=\"text-align: right;\">\n",
       "      <th></th>\n",
       "      <th>chr</th>\n",
       "      <th>start</th>\n",
       "      <th>end</th>\n",
       "      <th>NA</th>\n",
       "      <th>repeats</th>\n",
       "      <th>name</th>\n",
       "      <th>unit</th>\n",
       "      <th>str</th>\n",
       "    </tr>\n",
       "  </thead>\n",
       "  <tbody>\n",
       "    <tr>\n",
       "      <th>579396</th>\n",
       "      <td>chr17</td>\n",
       "      <td>26569632</td>\n",
       "      <td>26569679</td>\n",
       "      <td>2</td>\n",
       "      <td>24.0</td>\n",
       "      <td>Human_STR_1625686</td>\n",
       "      <td>CT</td>\n",
       "      <td>CTCTCTCTCTCTCTCTCTCTCTCTCTCTCTCTCTCTCTCTCTCTCTCT</td>\n",
       "    </tr>\n",
       "  </tbody>\n",
       "</table>\n",
       "</div>"
      ],
      "text/plain": [
       "          chr     start       end  NA  repeats               name unit  \\\n",
       "579396  chr17  26569632  26569679   2     24.0  Human_STR_1625686   CT   \n",
       "\n",
       "                                                     str  \n",
       "579396  CTCTCTCTCTCTCTCTCTCTCTCTCTCTCTCTCTCTCTCTCTCTCTCT  "
      ]
     },
     "execution_count": 122,
     "metadata": {},
     "output_type": "execute_result"
    }
   ],
   "source": [
    "df.loc[df['name']=='Human_STR_1625686']"
   ]
  },
  {
   "cell_type": "markdown",
   "metadata": {},
   "source": [
    "# EXTRA CODE: Remove reads from BAM file"
   ]
  },
  {
   "cell_type": "code",
   "execution_count": null,
   "metadata": {},
   "outputs": [],
   "source": [
    "# %%bash\n",
    "# samtools view -h ~/work/code/strspy/bioliquid-data/bioliquid_run1_chr17.bam | grep 505171f5-1f0b-4bb2-b855-5cd3d9ce7554 | samtools view -bS -o ~/work/code/strspy/bioliquid-data/chr17_filtered.bam -"
   ]
  },
  {
   "cell_type": "code",
   "execution_count": null,
   "metadata": {},
   "outputs": [],
   "source": [
    "# 4000000/75"
   ]
  }
 ],
 "metadata": {
  "kernelspec": {
   "display_name": "Genomics",
   "language": "python",
   "name": "genomics"
  },
  "language_info": {
   "codemirror_mode": {
    "name": "ipython",
    "version": 3
   },
   "file_extension": ".py",
   "mimetype": "text/x-python",
   "name": "python",
   "nbconvert_exporter": "python",
   "pygments_lexer": "ipython3",
   "version": "3.7.6"
  }
 },
 "nbformat": 4,
 "nbformat_minor": 5
}
