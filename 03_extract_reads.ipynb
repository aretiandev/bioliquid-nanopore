{
 "cells": [
  {
   "cell_type": "markdown",
   "metadata": {},
   "source": [
    "# Extract reads\n",
    "\n",
    "This file extracts the location of interest for each disease."
   ]
  },
  {
   "cell_type": "code",
   "execution_count": 2,
   "metadata": {},
   "outputs": [],
   "source": [
    "%%bash\n",
    "# Input variables\n",
    "run_number=\"run1\"\n",
    "chrom_dis=\"chr11_sca\"\n",
    "location=5227002\n",
    "windowwidth=2000000\n",
    "\n",
    "# Setup\n",
    "datadir=\"/mnt/aretian/genomics/nanopore/${run_number}\"\n",
    "run_reads=\"${datadir}/bioliquid_${run_number}.bam\"\n",
    "output=\"${datadir}/${run_number}_${chrom_dis}.bam\"\n",
    "begin=$(expr $location - $windowwidth)\n",
    "end=$(expr $location + $windowwidth)\n",
    "\n",
    "# Run Samtools\n",
    "/home/fer/miniconda3/envs/genomics/bin/samtools view -b $run_reads \"chr11:$begin-$end\" > $output\n",
    "\n",
    "# Index the file\n",
    "/home/fer/miniconda3/envs/genomics/bin/samtools index $output\n",
    "\n",
    "# Convert to sam\n",
    "output=\"${datadir}/${run_number}_${chrom_dis}.bam\"\n",
    "output_sam=\"${datadir}/${run_number}_${chrom_dis}.sam\"\n",
    "/home/fer/miniconda3/envs/genomics/bin/samtools view $output > $output_sam"
   ]
  },
  {
   "cell_type": "code",
   "execution_count": null,
   "metadata": {},
   "outputs": [],
   "source": []
  }
 ],
 "metadata": {
  "kernelspec": {
   "display_name": "Genomics",
   "language": "python",
   "name": "genomics"
  },
  "language_info": {
   "codemirror_mode": {
    "name": "ipython",
    "version": 3
   },
   "file_extension": ".py",
   "mimetype": "text/x-python",
   "name": "python",
   "nbconvert_exporter": "python",
   "pygments_lexer": "ipython3",
   "version": "3.7.6"
  }
 },
 "nbformat": 4,
 "nbformat_minor": 4
}
