{
 "cells": [
  {
   "cell_type": "markdown",
   "metadata": {},
   "source": [
    "# Bienvenido\n",
    "\n",
    "Bienvenido al entorno de desarrollo de Aretian para el proyecto de Aretian-Bioliquid.\n",
    "\n",
    "En este servidor encontrará el código compuesto de Jupyter Notebooks, archivos R, Python y Bash que componen el proyecto de Aretian-Bioliquid.\n",
    "\n",
    "Para acceder al código del proyecto haga doble click en la carpeta `bioliquid-nanopore` en el menú de la izquierda.\n",
    "\n",
    "Para cerrar su sesión haga click en `File>Log Out` en el menú superior."
   ]
  },
  {
   "cell_type": "markdown",
   "metadata": {},
   "source": [
    "# Estadísticas sobre el código\n",
    "\n",
    "El código del proyecto de Aretian-Bioliquid se encuentra compuesto por los siguientes archivos.\n",
    "\n",
    "- Configuración: 4 archivos\n",
    "- Inicialización: 5 archivos\n",
    "- Ejecución: 18 archivos\n",
    "\n",
    "Los lenguajes de programación utilizados son los siguientes:\n",
    "\n",
    "- Python: 3794 líneas de código\n",
    "- R: 1225 líneas de código\n",
    "- Bash: 808 líneas de código\n",
    "\n",
    "La lista completa de los archivos está detallada a continuación. La función de cada archivo está descripta en el encabezado de cada archivo ubicado en la carpeta `bioliquid-nanopore`."
   ]
  },
  {
   "cell_type": "markdown",
   "metadata": {},
   "source": [
    "# Configuración (4 archivos)\n",
    "\n",
    "- `src/bioaretian.sh`\n",
    "- `src/get_chrom.sh`\n",
    "- `src/setup_variables.py`\n",
    "- `src/setup_variables.sh`"
   ]
  },
  {
   "cell_type": "markdown",
   "metadata": {},
   "source": [
    "# Inicialización (5 archivos)\n",
    "\n",
    "- `0_extract_reference.sh`\n",
    "- `0_get_reference.sh`\n",
    "- `0_setup.md`\n",
    "- `0_str_list.py`\n",
    "- `Makefile`"
   ]
  },
  {
   "cell_type": "markdown",
   "metadata": {},
   "source": [
    "# Ejecución (18 archivos)\n",
    "\n",
    "- `00_bascaller.sh`\n",
    "- `01_alignment.ipynb`\n",
    "- `02_quality_control.ipynb`\n",
    "- `03_extract_reads.sh`\n",
    "- `04_remove_gaps.py`\n",
    "- `05_clustering.py`\n",
    "- `06_assign_reads.py`\n",
    "- `06_create_bams.sh`\n",
    "- `08_strspy_config.py`\n",
    "- `09_strspy.sh`\n",
    "- `10_add_strs.py`\n",
    "- `11_tag_reads.R`\n",
    "- `12_long_reads.py`\n",
    "- `13_boolean_matrix.R`\n",
    "- `14_str_clustering.R`\n",
    "- `15_score.py`\n",
    "- `16_sample_id.py`\n",
    "- `17_disease_diagnostic.R`"
   ]
  }
 ],
 "metadata": {
  "kernelspec": {
   "display_name": "Python 3",
   "language": "python",
   "name": "python3"
  },
  "language_info": {
   "codemirror_mode": {
    "name": "ipython",
    "version": 3
   },
   "file_extension": ".py",
   "mimetype": "text/x-python",
   "name": "python",
   "nbconvert_exporter": "python",
   "pygments_lexer": "ipython3",
   "version": "3.6.9"
  }
 },
 "nbformat": 4,
 "nbformat_minor": 4
}
