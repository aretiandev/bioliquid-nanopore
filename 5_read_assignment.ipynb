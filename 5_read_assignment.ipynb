{
 "cells": [
  {
   "cell_type": "markdown",
   "metadata": {},
   "source": [
    "# Read assignment\n",
    "\n",
    "This script makes sure the clusters do not flip as the sliding window moves to the right."
   ]
  },
  {
   "cell_type": "markdown",
   "metadata": {},
   "source": [
    "# Load modules"
   ]
  },
  {
   "cell_type": "code",
   "execution_count": 418,
   "metadata": {},
   "outputs": [],
   "source": [
    "import pandas as pd\n",
    "import numpy as np\n",
    "import matplotlib.pyplot as plt"
   ]
  },
  {
   "cell_type": "markdown",
   "metadata": {},
   "source": [
    "# Load data"
   ]
  },
  {
   "cell_type": "code",
   "execution_count": 419,
   "metadata": {},
   "outputs": [],
   "source": [
    "# Load read_clusters\n",
    "\n",
    "chromosomeID = 'chr17'\n",
    "# results_file = pd.read_csv(f\"../data/processed/{chromosomeID}_read_clusters_5000_1000_200iter.txt\")\n",
    "# results_file = pd.read_csv(f\"../data/processed/{chromosomeID}_read_clusters_10000_3000_200iter.txt\")\n",
    "results_file = pd.read_csv(f\"../data/run1/processed/{chromosomeID}_read_clusters_10000_3000.txt\")\n",
    "results_file.columns = ['ID', 'kmeans_cls2', 'window_num']\n",
    "\n",
    "# Load Nanopore Reads\n",
    "reads_filename = 'run1_chr17_pompe_reads_nogaps'\n",
    "nanopore_reads = pd.read_csv(f\"../data/run1/processed/{reads_filename}.csv\") # load nanopore reads with padded sequences and other attribute data\n",
    "\n",
    "# Add column(s)\n",
    "nanopore_reads['individual'] = np.nan\n",
    "results_file['individual'] = np.nan"
   ]
  },
  {
   "cell_type": "markdown",
   "metadata": {},
   "source": [
    "# Helper functions"
   ]
  },
  {
   "cell_type": "code",
   "execution_count": 420,
   "metadata": {},
   "outputs": [],
   "source": [
    "def propagate_assignment_1(read):\n",
    "    print('_', end=\"\")\n",
    "    \n",
    "    ID = read['ID']\n",
    "    individual = read['individual']\n",
    "    \n",
    "    # Write results\n",
    "    nanopore_reads.loc[nanopore_reads.ID == ID, 'individual'] = individual # propagate the person assignment to the main reads dataframe\n",
    "    results_file.loc[results_file['ID'] == ID, 'individual'] = individual # propagate the person assignment to the main reads dataframe\n",
    "    ID_person_match[ID] = individual # add result to dictionary of results\n",
    "\n",
    "def propagate_assignment_2(read):\n",
    "    ID = read['ID']\n",
    "    individual = read['individual']\n",
    "    \n",
    "    if ID in ID_person_match.keys():\n",
    "        # ID has already been assigned \n",
    "        # NOTE: same as \"if np.isnan(read_result['individual']) == False\"\n",
    "        print(\"-\", end=\"\")\n",
    "        return None\n",
    "    \n",
    "    # Get cluster assignment of read: 0 or 1\n",
    "#     cluster_num = window_reads.loc[window_reads['ID'] == ID, 'kmeans_cls2'].values[0]\n",
    "    cluster_num = read['kmeans_cls2']\n",
    "\n",
    "    # see the individual assigned to IDs in this cluster in this particular window\n",
    "    cluster_family = window_reads.loc[window_reads['kmeans_cls2'] == cluster_num]\n",
    "    cluster_family_notna = cluster_family.loc[cluster_family['individual'].notnull()]\n",
    "    assigned_individual = cluster_family_notna['individual'].unique()\n",
    "#     print(f'Assigned individual: {assigned_individual}')\n",
    "\n",
    "\n",
    "    if len(assigned_individual) > 1:\n",
    "        # this cluster has mixed assignment which is bad\n",
    "        # we expect that if IDs are already assigned they were in the same cluster in the previous window(s)\n",
    "        # which means that this issue should theoretically never happen (NOTE: think about/check this logic)\n",
    "#         print('ERROR: Found a window with person0 and person1 in the same cluster.')\n",
    "#         print(\"E\", end=\"\")\n",
    "#         return None\n",
    "\n",
    "#         # Make a call for this reads with mixed assignment\n",
    "        mean_individual_to_assign = cluster_family_notna['individual'].mean()\n",
    "        if mean_individual_to_assign == 0.5:\n",
    "            if loop_direction=='left':\n",
    "                individual_to_assign = cluster_family_notna['individual'].iloc[-1]\n",
    "            else:\n",
    "                individual_to_assign = cluster_family_notna['individual'].iloc[0]\n",
    "            print(\"T\", end=\"\")\n",
    "        else:\n",
    "            individual_to_assign = round(mean_individual_to_assign) \n",
    "            print(\"E\", end=\"\")\n",
    "            \n",
    "#         # Write results\n",
    "        nanopore_reads.loc[nanopore_reads['ID'] == ID, 'individual'] = individual_to_assign # propagate the person assignment to the main reads dataframe\n",
    "        results_file.loc[results_file['ID'] == ID, 'individual'] = individual_to_assign # propagate the person assignment to the main reads dataframe\n",
    "        ID_person_match[ID] = individual_to_assign # add result to dictionary of results\n",
    "        \n",
    "\n",
    "    elif len(assigned_individual) == 0:\n",
    "        # All reads in the cluster_family are unassigned (NaN)\n",
    "        # Look at what is the assigned individual of the opposite cluster\n",
    "        other_cluster_family = window_reads.loc[window_reads['kmeans_cls2'] == (1-cluster_num)]\n",
    "        other_cluster_family_notna = other_cluster_family.loc[other_cluster_family['individual'].notnull()]\n",
    "        other_assigned_individual = other_cluster_family_notna['individual'].unique()\n",
    "#         print(f'New read. Other assigned individual: {other_assigned_individual[0]}')\n",
    "        print(\"o\", end=\"\")\n",
    "        \n",
    "        # Assign the opposite individual\n",
    "        individual_to_assign = 1-other_assigned_individual[0]\n",
    "        \n",
    "        # Bulk write results\n",
    "        for ID in cluster_family['ID'].unique(): # For every read in the same cluster\n",
    "            if nanopore_reads.loc[nanopore_reads['ID'] == ID, 'individual'].isna().values[0]:\n",
    "                nanopore_reads.loc[nanopore_reads['ID'] == ID, 'individual'] = individual_to_assign # propagate the person assignment to the main reads dataframe\n",
    "                results_file.loc[results_file['ID'] == ID, 'individual'] = individual_to_assign # propagate the person assignment to the main reads dataframe\n",
    "                ID_person_match[ID] = individual_to_assign # add result to dictionary of results\n",
    "        \n",
    "    elif len(assigned_individual) == 1:\n",
    "        print(\"s\", end=\"\")\n",
    "        \n",
    "        # Reads in the same cluster have already been assigned\n",
    "        individual_to_assign = assigned_individual[0] # check this syntax\n",
    "\n",
    "        # Bulk write results\n",
    "        for ID in cluster_family['ID'].unique():\n",
    "            if nanopore_reads.loc[nanopore_reads['ID'] == ID, 'individual'].isna().values[0]:\n",
    "                nanopore_reads.loc[nanopore_reads['ID'] == ID, 'individual'] = individual_to_assign # propagate the person assignment to the main reads dataframe\n",
    "                results_file.loc[results_file['ID'] == ID, 'individual'] = individual_to_assign # propagate the person assignment to the main reads dataframe\n",
    "                ID_person_match[ID] = individual_to_assign # add result to dictionary of results\n"
   ]
  },
  {
   "cell_type": "code",
   "execution_count": 421,
   "metadata": {},
   "outputs": [],
   "source": [
    "# for ID in cluster_family.ID.unique():\n",
    "#     print(type(ID))\n",
    "#     print(ID)\n",
    "#     print(nanopore_reads.loc[nanopore_reads['ID'] == ID, 'individual'].notnull().values[0])\n",
    "#     if np.isnan(nanopore_reads.loc[nanopore_reads['ID'] == ID, 'individual'].values[0]):\n",
    "#         print('It is null')\n",
    "\n",
    "# cluster_family\n",
    "\n",
    "# nanopore_reads.loc[nanopore_reads.ID == 33]\n",
    "\n",
    "# if np.isnan(nanopore_reads.loc[nanopore_reads['ID'] == 33, 'individual'].values[0]):\n",
    "#     print('It is null')\n",
    "\n",
    "# cluster_family = window_reads.loc[window_reads['kmeans_cls2'] == 0]\n",
    "# cluster_family_notna = cluster_family.loc[cluster_family['individual'].notnull()]\n",
    "# assigned_individual = cluster_family_notna['individual'].unique()\n",
    "\n",
    "# assigned_individual[0]"
   ]
  },
  {
   "cell_type": "markdown",
   "metadata": {},
   "source": [
    "# Main Loop: check assignment"
   ]
  },
  {
   "cell_type": "code",
   "execution_count": 422,
   "metadata": {},
   "outputs": [
    {
     "name": "stdout",
     "output_type": "stream",
     "text": [
      "Total windows: 656\n",
      "Current window: 607_______________________________________________________________________________________________________________________________________________ 606E----------------------E--E----E----------E---------------------------------------------------------------------------------------------------- 605----EEE-------E----E----E-------E--------------------------------------------------------------------------------------------------------- 604-----E-EE--EE-EE-E------------------------------------------------------------------------------------------ 603E-E----------EEE-EEEE-EEEEEEE-EE---E----------------------------------- 602----------E--EEE-E-E----E-EE--E--EEEEEE--E-EEE-E--E-E-EEEEEE-EE------------------------------ 601-------------------------------------------------------------------------------- 600s----------------------------------------------------------------------- 599------s---------------------------------------------------------------- 598---s---------------------- 597-s------------------------ 596----s---------------------- 595-s--------------------------- 594-s---------------------------- 593---s------------------------- 592s----------------------------------- 591---s------------------------------ 590s-------------------------------- 589s------s-------------------------- 588s-s------------------------- 587s---------------------------- 586s-------------------------------- 585s---------------------------------- 584s------------------------------------ 583s------------------------------------- 582-------------------------------------- 581-------------------------------------- 580-------------------------------------- 579-------------------------------------- 578----------------------------------- 577s----------------------------------- 576------------------------------- 575------------------------- 574-s-------------------- 573s---------------- 572s------------ 571---s---------- 570------------ 569o---------- 568s------------ 567------------- 566E------------- 565s--------------- 564s--------------- 563------------- 562----------- 561---s--------- 560s------------ 559E-E-----E----- 558s-------------- 557s--------------- 556EEEE---------------- 555EE------------------ 554E----------E--------- 553E-------------------- 552s------------------- 551s------------------ 550----------------- 549-----s------------ 548------------------ 547s----------------- 546----------------- 545---------------- 544---------------- 543-------------- 542---------- 541-------- 540------ 539s----- 538---- 537-- 536s--- 535--s--- 534------ 533---s-- 532s------- 531------- 530-----s-- 529------- 528------- 527------- 526s-------- 525s------ 524----- 523----- 522s---- 521----- 520---s-- 519------ 518------ 517---- 516s---- 515---- 514-s--- 513--- 512--- 511-- 510o-- 509T--- 508--- 507--- 506--- 505 504o- 503-- 502s-- 501--- 500--- 499--s- 498---- 497---- 496---- 495---- 494--- 493--- 492-- 491s-- 490--- 489-- 488o- 487-- 486-- 485-- 484 483 482 481 480o- 479-- 478o-- 477-T-T- 476----- 475--E--- 474--s--- 473----- 472s----- 471--s----- 470s-------- 469s---------- 468--s------- 467-------- 466------- 465------- 464----- 463s---- 462----- 461----- 460--- 459--- 458s---- 457----- 456---- 455-- 454 453 452 451 450 449 448o- 447s-- 446-s-- 445--- 444--- 443--- 442 441o- 440s-- 439s--- 438-EEE--- 437--s---- 436------- 435s--------- 434-s--------- 433---------- 432--------- 431-------- 430-------- 429s-------- 428------ 427----- 426---- 425---- 424-s--- 423---- 422-s--- 421s---- 420----- 419s------- 418---s--- 417---s---- 416-s------ 415-------- 414s----- 413------ 412---- 411--- 410s--- 409---- 408--s-- 407----- 406---- 405s---- 404-s---- 403------ 402------ 401---- 400s-- 399-s-- 398-s---- 397--s---- 396s-------- 395---s----- 394s----------- 393----------- 392---------- 391-------- 390s------- 389-------- 388---s---- 387---s--- 386------ 385----- 384----- 383-s----- 382------- 381s----- 380---- 379-- 378o- 377-o- 376--- 375--- 374s--- 373-EE--- 372-EE----- 371-s------ 370--s------ 369------- 368----- 367---- 366---- 365---- 364-s--- 363s----- 362s------ 361---- 360--- 359 358o- 357s-- 356s----- 355----- 354----- 353 352 351o- 350-- 349-- 348-o- 347--- 346--- 345 344so- 343--- 342--- 341-- 340-s- 339--- 338s--- 337--- 336-- 335-- 334 333o- 332-s- 331--- 330--- 329-- 328s-- 327s---- 326s----- 325------ 324--s------- 323--------- 322--------- 321-------- 320------- 319---- 318---- 317E---- 316-- 315-- 314-- 313-- 312 311 310 309 308o- 307-- 306-- 305o- 304-- 303-- 302s-- 301--- 300s--- 299--s-- 298---- 297---- 296--- 295--- 294-s-- 293--- 292--- 291--- 290-- 289o- 288-- 287-- 286 285 284o- 283-- 282-- 281 280o-- 279-s----- 278---s----- 277s---------- 276---------- 275s----- 274--- 273--s- 272---- 271---- 270-- 269-- 268s-- 267s--- 266s----- 265----- 264-s---- 263---- 262s------ 261----- 260s---- 259-- 258-o- 257T--- 256---- 255--- 254--- 253-- 252-- 251o-- 250--- 249-- 248-- 247 246so- 245--- 244--- 243--- 242so-- 241---- 240s------ 239-E----- 238------- 237--- 236-- 235-- 234 233 232 231 230 229o- 228-- 227s--- 226s----- 225----- 224E----- 223s---- 222---- 221s----- 220s---- 219---- 218---- 217-- 216-- 215s-- 214-s--- 213----- 212s---------- 211-s------------------ 210s--------------------------------------- 209--------s---------------------------------- 208s--------------------------------------------- 207-------------------s--------------------------- 206s------------------------------------------- 205-------------------------------------------- 204--s---------------------------------------- 203------------------------------- 202-------------------- 201------- 200-s--- 199s----- 198s----- 197---- 196--- 195 194 193 192os- 191-s-- 190---- 189---- 188T--- 187s-------- 186--------- 185--E------ 184------ 183E-E--- 182-s----- 181------- 180s------- 179--s----- 178----s--- 177-------- 176--s------ 175---s----- 174-----s-- 173----s---- 172s-------- 171--------- 170--------- 169--------- 168s-------- 167-s------ 166---- 165--- 164-- 163-s---- 162s------ 161s----------- 160-s--------- 159---------- 158-s--------- 157-s-------- 156---------- 155---------- 154s--------- 153-s--------- 152-s---------- 151---s------ 150----s------ 149---------- 148------ 147------ 146---- 145---s- 144----- 143s-------- 142s-------- 141------ 140s------ 139-s---- 138----- 137s--- 136--- 135s--- 134s------ 133s-------------- 132--------------- 131----s-------------- 130---------s-------------- 129------------------------ 128----------------------- 127---------------------- 126---------------------- 125--------------------- 124s--------------------- 123--------------------- 122-s------------------- 121-s------------------ 120------------ 119--- 118--- 117s--- 116-s----- 115-s------ 114s------- 113------ 112--s----- 111-s------ 110---s------ 109--------- 108s-------- 107--------- 106s--------- 105-s-------- 104------ 103---- 102s--- 101---- 100s--- 99--- 98--- 97-- 96-- 95-- 94os- 93-T-- 92s---- 91----- 90T--- 89--- 88-- 87 86 85 84 83 82o- 81-- 80-o- 79s---- 78----- 77----- 76---- 75s---- 74-s----- 73--E---- 72--E-E---- 71-s-------- 70-------- 69s--------- 68s----------- 67-----s--------- 66s---------------- 65-------s----------- 64-----s---------- 63---s-------------- 62---s--------------- 61s---------------- 60-s---------------- 59------s----------- 58-s----------------- 57---------s------- 56s--------------- 55------------- 54--------- 53s----------- 52----------- 51s------------- 50------s-------- 49--s------------- 48-------------- 47--s----------- 46------s------- 45---s-------------- 44----s----------- 43---s------------ 42s--------------- 41s---------------- 40-----s------------ 39s----------------- 38s------------------ 37---------------- 36s---------------- 35s----------------- 34s-------------------- 33-----s----------------- 32----------------------- 31s----------------- 30--s------------ 29---s------- 28s-------------- 27----s----------------------- 26-----s------------------------------------ 25------s------s------------------------------ 24s---------------------------------------------- 23s----------------------------------------------- 22------------------------- 21--s------------- 20----------- 19-------- 18-------- 17------- 16------ 15------ 14---- 13---- 12s-- 11--- 10- 9 8 7 6 5 4 3 2 1 0 608-------------------------------------------------------------------------------------------------------------EEEE 609-------------------------------------------------------------------EEEE 610------------------------------------------EE 611--------------------------- 612-----------------------E 613--------------E 614----------- 615-------s- 616-------- 617--------s---- 618-----------s-- 619-------------s 620------------- 621------ 622-----s-- 623------s 624-------s 625--------s-- 626--------- 627-------s 628-------- 629-----s-- 630-------s- 631---------s---- 632--------------s- 633------------ 634-----------s- 635--------s 636---------s 637---------s-- 638----------s 639----------s 640----------s-- 641------------- 642-----------s 643------------s- 644-----------s 645----------s- 646--------s------ 647---------------s- 648----------------s 649---------------s------- 650--------------------s- 651--------------------s------------------- 652---------------------------------------s-- 653----------------------------------s-- 654---------------------------------s 655------------------------s- 656--------------------s-- 657------------------s 658-------------------s-- 659-----------------s- 660---------------s----- 661-------------------s--- 662--------------------- 663----------------s- 664----------------s 665------------ 666-------- 667-----s- 668-------s--- 669----------s- 670-----------s 671----------s- 672---------s- 673---------s- 674---------s--- 675-----------s 676----------- 677--------s--- 678----------s----- 679-------------s------------------- 680-----------------------------s----- 681--------------------------------s-s 682------------------------------s 683---------------------- 684----------s- 685-----------s--- 686-----------s-- 687--------------s-- 688----------------s---- 689--------------------s-- 690-------------------s 691-----------------s----- 692---------------s 693---------------s 694--------------s- 695-----------s 696----------s 697--------s 698-----s 699------ 700----- 701---- 702--- 703--"
     ]
    }
   ],
   "source": [
    "# Setup\n",
    "ID_person_match = {} #Dictionary to keep track of kmeans cluster and individual assignment\n",
    "first_iter = True\n",
    "\n",
    "# Feedback to user\n",
    "n_windows = results_file['window_num'].nunique()\n",
    "print(f\"Total windows: {n_windows}\")\n",
    "print(f\"Current window:\", end=\"\")\n",
    "\n",
    "# Identify idmax of window\n",
    "window_idxmax = results_file.groupby('window_num').count().idxmax().values[0]\n",
    "# Loop to the left\n",
    "loop_direction = 'left'\n",
    "\n",
    "for window in range(window_idxmax+1,-1,-1):\n",
    "# for window in results_file['window_num'].unique(): # iterate through instances of the sliding window \n",
    "    \n",
    "    print(f\" {window}\", end=\"\")\n",
    "    \n",
    "    window_reads = results_file.loc[results_file['window_num']==window].copy() # get data only from this window\n",
    "    \n",
    "    # We now have IDs, cluster decisions (0,1) for every read that was included in this window.\n",
    "    \n",
    "    # Step 1: We make a decision in the first window\n",
    "    if first_iter == True:\n",
    "        \n",
    "        # Make decision in first window\n",
    "        window_reads.loc[window_reads['kmeans_cls2'] == 0, 'individual'] = 0\n",
    "        window_reads.loc[window_reads['kmeans_cls2'] == 1, 'individual'] = 1\n",
    "        \n",
    "        window_reads.apply(lambda x: propagate_assignment_1(x), axis=1) # add results to main reads file\n",
    "        \n",
    "        first_iter = False\n",
    "        continue\n",
    "        \n",
    "    # Step 2: We perform ID bookeeping and cluster association to manage all following windows\n",
    "    # Book-keeping:\n",
    "    # Step 1: make sure IDs match for ones that are already claimed\n",
    "    # Step 2: if an ID has not been assigned determine its cluster (0,1) assign the associated individual based on already assigned reads in the cluster\n",
    "    window_reads.apply(lambda x: propagate_assignment_2(x), axis=1) # add results to main reads file\n",
    "    \n",
    "# Loop right\n",
    "loop_direction = 'right'\n",
    "max(results_file['window_num'])\n",
    "\n",
    "for window in range(window_idxmax+2,max(results_file['window_num'])+1,1):\n",
    "    \n",
    "    print(f\" {window}\", end=\"\")\n",
    "    \n",
    "    window_reads = results_file.loc[results_file['window_num']==window].copy() # get data only from this window\n",
    "    \n",
    "    # We now have IDs, cluster decisions (0,1) for every read that was included in this window.\n",
    "    \n",
    "    # Step 1: We make a decision in the first window\n",
    "#     if first_iter == True:\n",
    "        \n",
    "#         # Make decision in first window\n",
    "#         window_reads.loc[window_reads['kmeans_cls2'] == 0, 'individual'] = 0\n",
    "#         window_reads.loc[window_reads['kmeans_cls2'] == 1, 'individual'] = 1\n",
    "        \n",
    "#         window_reads.apply(lambda x: propagate_assignment_1(x), axis=1) # add results to main reads file\n",
    "        \n",
    "#         first_iter = False\n",
    "#         continue\n",
    "        \n",
    "    # Step 2: We perform ID bookeeping and cluster association to manage all following windows\n",
    "    # Book-keeping:\n",
    "    # Step 1: make sure IDs match for ones that are already claimed\n",
    "    # Step 2: if an ID has not been assigned determine its cluster (0,1) assign the associated individual based on already assigned reads in the cluster\n",
    "    window_reads.apply(lambda x: propagate_assignment_2(x), axis=1) # add results to main reads file\n"
   ]
  },
  {
   "cell_type": "markdown",
   "metadata": {},
   "source": [
    "# Check Results\n",
    "\n",
    "We prefer within cluster errors to inter window errors"
   ]
  },
  {
   "cell_type": "code",
   "execution_count": 423,
   "metadata": {},
   "outputs": [
    {
     "name": "stdout",
     "output_type": "stream",
     "text": [
      "Window with most reads: 606\n"
     ]
    },
    {
     "data": {
      "text/plain": [
       "[<matplotlib.lines.Line2D at 0x7f24e84805b0>]"
      ]
     },
     "execution_count": 423,
     "metadata": {},
     "output_type": "execute_result"
    },
    {
     "data": {
      "image/png": "[encoded data removed]",
      "text/plain": [
       "<Figure size 432x288 with 1 Axes>"
      ]
     },
     "metadata": {
      "needs_background": "light"
     },
     "output_type": "display_data"
    }
   ],
   "source": [
    "# Window with most reads\n",
    "print(f\"Window with most reads: {results_file.groupby('window_num').count()['ID'].idxmax()}\")\n",
    "plt.plot(results_file.groupby('window_num').count()['ID'])"
   ]
  },
  {
   "cell_type": "code",
   "execution_count": 424,
   "metadata": {},
   "outputs": [
    {
     "data": {
      "text/plain": [
       "<matplotlib.collections.PathCollection at 0x7f24e85a3eb0>"
      ]
     },
     "execution_count": 424,
     "metadata": {},
     "output_type": "execute_result"
    },
    {
     "data": {
      "image/png": "[encoded data removed]",
      "text/plain": [
       "<Figure size 1440x144 with 1 Axes>"
      ]
     },
     "metadata": {
      "needs_background": "light"
     },
     "output_type": "display_data"
    }
   ],
   "source": [
    "# View read assignment\n",
    "fig, ax = plt.subplots(figsize=(20,2))\n",
    "plt.scatter(results_file['ID'], results_file['individual'])"
   ]
  },
  {
   "cell_type": "code",
   "execution_count": 425,
   "metadata": {},
   "outputs": [
    {
     "data": {
      "text/html": [
       "<div>\n",
       "<style scoped>\n",
       "    .dataframe tbody tr th:only-of-type {\n",
       "        vertical-align: middle;\n",
       "    }\n",
       "\n",
       "    .dataframe tbody tr th {\n",
       "        vertical-align: top;\n",
       "    }\n",
       "\n",
       "    .dataframe thead th {\n",
       "        text-align: right;\n",
       "    }\n",
       "</style>\n",
       "<table border=\"1\" class=\"dataframe\">\n",
       "  <thead>\n",
       "    <tr style=\"text-align: right;\">\n",
       "      <th></th>\n",
       "      <th>ID</th>\n",
       "      <th>kmeans_cls2</th>\n",
       "      <th>window_num</th>\n",
       "      <th>individual</th>\n",
       "    </tr>\n",
       "  </thead>\n",
       "  <tbody>\n",
       "  </tbody>\n",
       "</table>\n",
       "</div>"
      ],
      "text/plain": [
       "Empty DataFrame\n",
       "Columns: [ID, kmeans_cls2, window_num, individual]\n",
       "Index: []"
      ]
     },
     "execution_count": 425,
     "metadata": {},
     "output_type": "execute_result"
    }
   ],
   "source": [
    "# Are there NaNs?\n",
    "results_file.loc[results_file['individual'].isna()]"
   ]
  },
  {
   "cell_type": "markdown",
   "metadata": {},
   "source": [
    "# Create Bam Files"
   ]
  },
  {
   "cell_type": "markdown",
   "metadata": {},
   "source": [
    "### Get list of IDs for both persons"
   ]
  },
  {
   "cell_type": "code",
   "execution_count": 446,
   "metadata": {},
   "outputs": [],
   "source": [
    "# Create ID column\n",
    "# nanopore_reads['uniqueid']=nanopore_reads['QNAME']+nanopore_reads['POS'].apply(str)+nanopore_reads['FLAG'].apply(str)\n",
    "nanopore_reads['uniqueid']=nanopore_reads['QNAME'] # Fix later to replace with unique ids as above\n",
    "\n",
    "# Write two text files\n",
    "for person in [0,1]:\n",
    "    # Get IDs of Person\n",
    "    personuniqueids = nanopore_reads.loc[nanopore_reads['individual']==person, 'uniqueid']\n",
    "    # Save to text file\n",
    "    np.savetxt(f\"../data/run1/processed/person{person}uniqueids.txt\", personuniqueids.values , fmt='%s')"
   ]
  },
  {
   "cell_type": "markdown",
   "metadata": {},
   "source": [
    "### Extract selected IDs from bam file"
   ]
  },
  {
   "cell_type": "code",
   "execution_count": 447,
   "metadata": {
    "tags": []
   },
   "outputs": [],
   "source": [
    "%%bash\n",
    "cd ../data/run1/processed\n",
    "\n",
    "# Get reads\n",
    "samtools view bioliquid_chr17_pompe.bam | grep -f person0uniqueids_test.txt > person0_reads.sam\n",
    "samtools view bioliquid_chr17_pompe.bam | grep -f person1uniqueids_test.txt > person1_reads.sam\n",
    "# Get header\n",
    "samtools view -H bioliquid_chr17_pompe.bam > person_header.txt\n",
    "# Concatenate\n",
    "cat person_header.txt person0_reads.sam > person0.sam\n",
    "cat person_header.txt person1_reads.sam > person1.sam\n",
    "# Convert to bam file\n",
    "samtools view -b person0.sam > person0.bam\n",
    "samtools view -b person1.sam > person1.bam"
   ]
  },
  {
   "cell_type": "markdown",
   "metadata": {},
   "source": [
    "# Save results"
   ]
  },
  {
   "cell_type": "code",
   "execution_count": 14,
   "metadata": {},
   "outputs": [],
   "source": [
    "# ID_individual_mapping = pd.DataFrame(ID_person_match.items()) \n",
    "# ID_individual_mapping.to_csv('../data/processed/ID_individual_matches.csv')\n",
    "\n",
    "# nanopore_reads.to_csv(f'../data/processed/{reads_filename}_checked.csv)\n",
    "\n",
    "# results_file.to_csv('../data/processed/{chromosomeID}_read_clusters_checked.txt')"
   ]
  }
 ],
 "metadata": {
  "kernelspec": {
   "display_name": "Python 3",
   "language": "python",
   "name": "python3"
  },
  "language_info": {
   "codemirror_mode": {
    "name": "ipython",
    "version": 3
   },
   "file_extension": ".py",
   "mimetype": "text/x-python",
   "name": "python",
   "nbconvert_exporter": "python",
   "pygments_lexer": "ipython3",
   "version": "3.9.2"
  }
 },
 "nbformat": 4,
 "nbformat_minor": 4
}
