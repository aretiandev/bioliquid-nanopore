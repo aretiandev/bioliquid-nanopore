{
 "cells": [
  {
   "cell_type": "markdown",
   "metadata": {},
   "source": [
    "# Clustering\n",
    "\n",
    "This script performs the clustering algorithm. It contains the following steps:\n",
    "\n",
    "- Padding reads with the reference genome to fill empty spaces\n",
    "- Sliding a window over the region of interest to identify reads"
   ]
  },
  {
   "cell_type": "markdown",
   "metadata": {},
   "source": [
    "# Load modules"
   ]
  },
  {
   "cell_type": "code",
   "execution_count": 206,
   "metadata": {},
   "outputs": [],
   "source": [
    "import numpy as np\n",
    "import pandas as pd\n",
    "import json\n",
    "\n",
    "from sklearn.decomposition import PCA\n",
    "from sklearn.metrics import silhouette_score\n",
    "from sklearn.preprocessing import StandardScaler\n",
    "from sklearn.cluster import KMeans\n",
    "from sklearn.preprocessing import OneHotEncoder\n",
    "encoder = OneHotEncoder()"
   ]
  },
  {
   "cell_type": "markdown",
   "metadata": {},
   "source": [
    "# Import data"
   ]
  },
  {
   "cell_type": "code",
   "execution_count": 207,
   "metadata": {},
   "outputs": [],
   "source": [
    "# Import Nanopore reads\n",
    "nanopore_reads = pd.read_csv('../data/processed/bioliquid_chr17_pompe_reads_nogaps.csv')\n",
    "\n",
    "# Import reference genome for the location of interest without gaps\n",
    "with open('../data/processed/reference_genome_chr17_nogaps.json', 'r') as f:\n",
    "    ref_genome_json = json.load(f)\n",
    "    \n",
    "ref_genome = ref_genome_json['reference_genome']"
   ]
  },
  {
   "cell_type": "markdown",
   "metadata": {},
   "source": [
    "# Helper functions"
   ]
  },
  {
   "cell_type": "code",
   "execution_count": 208,
   "metadata": {},
   "outputs": [],
   "source": [
    "# Define hyper-parameters\n",
    "window_width = 5000 # 5k BP\n",
    "jump_width = 1000 # 1k BP sliding window (ideally jump_width=1)\n",
    "\n",
    "# check if the start of a sequence is in range\n",
    "def check_sliding_window(read):\n",
    "    read_filter = False\n",
    "    window = set(list(range(left_bound,right_bound)))\n",
    "    read = set(list(range(read['POS'],read['END_POS'])))\n",
    "    if len(window & read)>0:\n",
    "        read_filter = True\n",
    "    return read_filter\n",
    "\n",
    "# Input: read --> Series\n",
    "# Output: nucleotide_sequence_trimmed: String\n",
    "\n",
    "def left_pad_read(read):\n",
    "    nucleotide_sequence = list(read['SEQ']) # turn sequence string into a list\n",
    "    genome_sequence = list(window_ref_genome)\n",
    "    \n",
    "    start = read['POS']-left_bound\n",
    "\n",
    "    if start == 0:\n",
    "        return read['SEQ'] # read starts on the start of the window\n",
    "    \n",
    "    elif start > 0: # sequence starts to the right of the bound\n",
    "#         print('HERE1')\n",
    "#         genome_fill = window_ref_genome[:start] # select portion of reference genome to pad the left with\n",
    "        genome_fill = genome_sequence[:start] # select portion of reference genome to pad the left with\n",
    "#         print('genome_fill type:', type(genome_fill))\n",
    "#         print('nucleotide_sequence type:', type(nucleotide_sequence))\n",
    "        nucleotide_sequence = genome_fill+nucleotide_sequence\n",
    "        nucleotide_sequence_trimmed = ''.join(nucleotide_sequence) # keep entire sequence\n",
    "        return nucleotide_sequence_trimmed\n",
    "    \n",
    "    elif start < 0: # sequence starts to the left of the bound\n",
    "#         print('HERE2')\n",
    "        nucleotide_sequence_trimmed = ''.join(nucleotide_sequence[np.abs(start):])\n",
    "        return nucleotide_sequence_trimmed\n",
    "\n",
    "# Input: read --> Series\n",
    "# Output: nucleotide_sequence_trimmed: String\n",
    "\n",
    "def right_pad_read(read):\n",
    "    nucleotide_sequence = list(read['left_padded']) # turn sequence string into a list\n",
    "    genome_sequence = list(window_ref_genome)\n",
    "\n",
    "    end = right_bound-read['END_POS']\n",
    "\n",
    "    if end == 0:\n",
    "        return read['left_padded'] # read end on the end of the window\n",
    "    \n",
    "    elif end > 0: # sequence ends to the left of the bound\n",
    "#         genome_fill = window_ref_genome[-end:] # select portion of reference genome to pad the right with\n",
    "        genome_fill = genome_sequence[-end:] # select portion of reference genome to pad the right with\n",
    "        nucleotide_sequence = nucleotide_sequence+genome_fill\n",
    "        nucleotide_sequence_trimmed = ''.join(nucleotide_sequence) # keep entire sequence\n",
    "        return nucleotide_sequence_trimmed\n",
    "    \n",
    "    elif end < 0: # sequence ends to the right of the bound\n",
    "        nucleotide_sequence_trimmed = ''.join(nucleotide_sequence[:end])\n",
    "        return nucleotide_sequence_trimmed\n",
    "\n",
    "# Should be updated\n",
    "NUCLEOTIDE_VOCABULARY = [\n",
    "    'A','C','G','T','X'\n",
    "]\n",
    "        \n",
    "# Not being used, instead, we use the sklearn one hot encoding\n",
    "def nucleotide_to_one_hot(nucleotide_sequence):\n",
    "    to_return = []\n",
    "    for char in nucleotide_sequence:\n",
    "        if char in NUCLEOTIDE_VOCABULARY:\n",
    "            to_append = np.zeros(len(NUCLEOTIDE_VOCABULARY))\n",
    "            to_append[NUCLEOTIDE_VOCABULARY.index(char)] = 1.\n",
    "            to_return.append(to_append)\n",
    "        else:\n",
    "            raise ValueError('Could not one-hot code character {}'.format(char))\n",
    "    return np.array(to_return)\n",
    "\n",
    "#nucleotide_to_one_hot('GTCATACX') # uncomment example to see what the encoding does\n",
    "\n",
    "# Input: read (Series)\n",
    "\n",
    "# Text file for results\n",
    "def write_results_to_file(read, results_file):\n",
    "    results_file.write(f\"{read['ID']},{read['kmeans_cls2']}\\n\")\n",
    "#     TODO: Add window number\n",
    "#     results_file.close()"
   ]
  },
  {
   "cell_type": "markdown",
   "metadata": {},
   "source": [
    "# Main Loop: padding and clustering"
   ]
  },
  {
   "cell_type": "markdown",
   "metadata": {},
   "source": [
    "### Create results file"
   ]
  },
  {
   "cell_type": "code",
   "execution_count": 209,
   "metadata": {},
   "outputs": [
    {
     "name": "stdout",
     "output_type": "stream",
     "text": [
      "Total range: 2,119,015\n",
      "Window width: 5000\n",
      "Jump width: 1000\n",
      "Number of iterations required: 2119\n",
      "Writing results to file: ../data/processed/chr17_read_clusters.txt\n",
      "Iterations:  0% 1111111111111111111111111111**"
     ]
    }
   ],
   "source": [
    "chromosomeID = 'chr17'\n",
    "results_file_path = f\"../data/processed/{chromosomeID}_read_clusters.txt\"\n",
    "results_file = open(results_file_path,\"w\")\n",
    "# results_file = open(results_file_path,\"a\")\n",
    "\n",
    "# window_ref_genome_start = 0\n",
    "iter = 1\n",
    "empty_count = 0\n",
    "print(f\"Total range: {max(nanopore_reads['END_POS']):,}\")\n",
    "print(f\"Window width: {window_width}\")\n",
    "print(f\"Jump width: {jump_width}\")\n",
    "total_jumps = round(max(nanopore_reads['END_POS'])/jump_width)\n",
    "print(f\"Number of iterations required: {total_jumps}\")\n",
    "print(f\"Writing results to file: {results_file_path}\")\n",
    "print(f\"Iterations: \", end=\"\")\n",
    "\n",
    "for left_bound in range(min(nanopore_reads['POS']),max(nanopore_reads['END_POS']),jump_width):\n",
    "    \n",
    "    progress = iter/total_jumps\n",
    "#     print(f\" {progress:.0f}% \", end=\"\")\n",
    "    if round(progress*1000)%50==0:\n",
    "        print(f\" {round(progress*100):.0f}% \", end=\"\")\n",
    "    iter+=1\n",
    "        \n",
    "    right_bound = left_bound+window_width\n",
    "    window_ref_genome = ref_genome[left_bound:left_bound+window_width]\n",
    "    \n",
    "    # Identify if each read is in the window: True/False\n",
    "#     print(\"Identifying if each read is in the window...\")\n",
    "    nanopore_reads['read_filter'] = nanopore_reads.apply(lambda x: check_sliding_window(x), axis=1)\n",
    "    \n",
    "    # Get them\n",
    "    window_reads = nanopore_reads.loc[nanopore_reads['read_filter']==True]\n",
    "    window_reads = window_reads.reset_index()\n",
    "    \n",
    "    # Display feedback to user every 100 empty windows\n",
    "#     if empty_count%100 == 0:\n",
    "#         print(empty_count)\n",
    "\n",
    "    if len(window_reads) == 0:\n",
    "        # There are no nanopore reads in this window (next window)\n",
    "#         window_ref_genome_start += jump_width # move the starting cutoff for the reference genome with the sliding window\n",
    "        empty_count += 1\n",
    "        print(f\"-\", end=\"\")\n",
    "        continue \n",
    "        \n",
    "    elif len(window_reads) == 1:\n",
    "        # There is only one read in this window (next window) - TODO: TALK WITH TEAM ABOUT THIS\n",
    "#         window_ref_genome_start += jump_width # move the starting cutoff for the reference genome with the sliding window\n",
    "        empty_count += 1\n",
    "        print(f\"1\", end=\"\")\n",
    "        continue\n",
    "        \n",
    "    ## If it gets here, there is more than one sequence overlapping in the window (continue algorithm to encoding and clustering steps) ##\n",
    "    \n",
    "#     print(\"Applying padding...\")\n",
    "    window_reads['left_padded'] = window_reads.apply(lambda x: left_pad_read(x), axis=1) # fill reference genome on the left of the read\n",
    "    window_reads['right_padded'] = window_reads.apply(lambda x: right_pad_read(x), axis=1) # fill reference genome on the right of the read\n",
    "    window_reads['final_padded_read'] = window_reads['right_padded']\n",
    "    \n",
    "    window_reads['FINAL_SEQ_LEN'] = window_reads['final_padded_read'].apply(lambda x: len(x)) # should always be 5k\n",
    "    \n",
    "    # not currently used. Should be used if we use the custom one-hot-encoding\n",
    "#     window_reads['one_hot_read_V1'] = window_reads['final_padded_read'].apply(lambda x: nucleotide_to_one_hot(x).flatten())  # apply one-hot encoding V1\n",
    "    \n",
    "    unique_reads = []\n",
    "    for index, read in window_reads.iterrows(): # TODO: TRY TO USE LAMBDA FUNCTION IF POSSIBLE\n",
    "        unique_reads.append(list(read['final_padded_read']))\n",
    "\n",
    "    # One hot encoder\n",
    "#     print(\"Running one hot encoder...\")\n",
    "    X_onehot = encoder.fit_transform(unique_reads).toarray()\n",
    "\n",
    "    # PCA\n",
    "#     print(\"Running PCA...\")\n",
    "    pca = PCA(n_components=2)\n",
    "    X_pca = pca.fit_transform(X_onehot)\n",
    "    \n",
    "    window_reads['PCA1'] = np.nan\n",
    "    window_reads['PCA2'] = np.nan\n",
    "    for ID in window_reads.index:\n",
    "        window_reads.loc[ID,'PCA1'] = X_pca[ID][0] # TODO: change rounding if desired\n",
    "        window_reads.loc[ID,'PCA2'] = X_pca[ID][1] # TODO: change rounding if desired\n",
    "        \n",
    "    # Standardizing the features\n",
    "    X = window_reads[['PCA1','PCA2']]\n",
    "    X = StandardScaler().fit_transform(X)\n",
    "\n",
    "    # Run Kmeans\n",
    "#     print(\"Running Kmeans...\")\n",
    "    model = KMeans(n_clusters=2, random_state=42)\n",
    "    cls2 = model.fit(X)\n",
    "    window_reads['kmeans_cls2'] = cls2.labels_\n",
    "    \n",
    "    # Write results to file\n",
    "    window_reads.apply(lambda x: write_results_to_file(x, results_file), axis=1) # write results to file\n",
    "    \n",
    "    print(f\"*\", end=\"\")\n",
    "    \n",
    "#     Break after N iterations\n",
    "#     if iter>30:\n",
    "#         break\n",
    "        \n",
    "results_file.close()"
   ]
  },
  {
   "cell_type": "markdown",
   "metadata": {},
   "source": [
    "# EXTRA CODE\n",
    "Optimize number of clusters. Not needed in this case."
   ]
  },
  {
   "cell_type": "code",
   "execution_count": null,
   "metadata": {},
   "outputs": [],
   "source": [
    "from sklearn.metrics import silhouette_score\n",
    "from sklearn.preprocessing import StandardScaler\n",
    "from sklearn.cluster import KMeans\n",
    "\n",
    "\n",
    "# Standardizing the features\n",
    "X = test[['PCA1','PCA2']]\n",
    "X = StandardScaler().fit_transform(X)\n",
    "\n",
    "distortions = []\n",
    "\n",
    "for k in range(1, 5):\n",
    "    KMeans_model = KMeans(n_clusters=k, random_state=42)\n",
    "    KMeans_model.fit(X)\n",
    "    distortions.append(KMeans_model.inertia_)\n",
    "\n",
    "plt.plot(range(1, 5), distortions,  marker='o')\n",
    "plt.xlabel('Number of clusters (K)')\n",
    "plt.ylabel('Distortion')"
   ]
  },
  {
   "cell_type": "code",
   "execution_count": null,
   "metadata": {},
   "outputs": [],
   "source": [
    "silhouette_scores = []\n",
    "for k in range(2, 5):\n",
    "    model = KMeans(n_clusters=k, random_state=42)\n",
    "    model.fit(X)\n",
    "    score = silhouette_score(X, model.labels_)\n",
    "    print(\"Silhouette Score for k = \", k, \"is\", score)\n",
    "    silhouette_scores.append(score)"
   ]
  },
  {
   "cell_type": "code",
   "execution_count": null,
   "metadata": {},
   "outputs": [],
   "source": [
    "plt.plot(range(2, 5), silhouette_scores, marker='o')\n",
    "plt.xlabel('Number of clusters (K)')\n",
    "plt.ylabel('Silhouette score')"
   ]
  },
  {
   "cell_type": "code",
   "execution_count": null,
   "metadata": {},
   "outputs": [],
   "source": [
    "from yellowbrick.cluster import KElbowVisualizer\n",
    "\n",
    "visualizer3 = KElbowVisualizer(KMeans(), k=(2,5))\n",
    "\n",
    "visualizer3.fit(X) # Fit the data to the visualizer"
   ]
  },
  {
   "cell_type": "code",
   "execution_count": null,
   "metadata": {},
   "outputs": [],
   "source": [
    "model = KMeans(n_clusters=2, random_state=42)\n",
    "cls2 = model.fit(X)\n",
    "test['kmeans_cls2'] = cls2.labels_"
   ]
  },
  {
   "cell_type": "code",
   "execution_count": 442,
   "metadata": {
    "collapsed": true,
    "jupyter": {
     "outputs_hidden": true
    }
   },
   "outputs": [
    {
     "data": {
      "text/plain": [
       "<AxesSubplot:xlabel='PCA1', ylabel='PCA2'>"
      ]
     },
     "execution_count": 442,
     "metadata": {},
     "output_type": "execute_result"
    },
    {
     "data": {
      "image/png": "[encoded data removed]",
      "text/plain": [
       "<Figure size 432x288 with 1 Axes>"
      ]
     },
     "metadata": {
      "needs_background": "light"
     },
     "output_type": "display_data"
    }
   ],
   "source": [
    "import seaborn as sns\n",
    "sns.scatterplot(data=window_reads,x='PCA1',y='PCA2',hue='kmeans_cls2')"
   ]
  }
 ],
 "metadata": {
  "kernelspec": {
   "display_name": "Python 3",
   "language": "python",
   "name": "python3"
  },
  "language_info": {
   "codemirror_mode": {
    "name": "ipython",
    "version": 3
   },
   "file_extension": ".py",
   "mimetype": "text/x-python",
   "name": "python",
   "nbconvert_exporter": "python",
   "pygments_lexer": "ipython3",
   "version": "3.9.2"
  }
 },
 "nbformat": 4,
 "nbformat_minor": 4
}
