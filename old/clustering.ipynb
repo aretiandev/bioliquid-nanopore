{
 "cells": [
  {
   "cell_type": "markdown",
   "metadata": {},
   "source": [
    "# Clustering\n",
    "Using the data that has been 1) grouped into longer reads, 2) sampled for mother/father and child/mother and randomly ordered, and 3) converted to boolean:\n",
    "- Unsupervised kMeans clustering with 2 clusters\n",
    "- Unsupervised PCA with 2 clusters\n",
    "- Unsupervised decision trees\n",
    "- Unsupervised random forest with 2 clusters\n"
   ]
  },
  {
   "cell_type": "code",
   "execution_count": 4,
   "metadata": {},
   "outputs": [
    {
     "name": "stderr",
     "output_type": "stream",
     "text": [
      "Installing package into ‘/home/simran/R/x86_64-pc-linux-gnu-library/3.4’\n",
      "(as ‘lib’ is unspecified)\n",
      "\n",
      "Warning message:\n",
      "“dependencies ‘FactoMineR’, ‘cowplot’, ‘car’ are not available”\n",
      "also installing the dependencies ‘rstatix’, ‘ggpubr’\n",
      "\n",
      "\n",
      "Warning message in install.packages(\"factoextra\"):\n",
      "“installation of package ‘rstatix’ had non-zero exit status”\n",
      "Warning message in install.packages(\"factoextra\"):\n",
      "“installation of package ‘ggpubr’ had non-zero exit status”\n",
      "Warning message in install.packages(\"factoextra\"):\n",
      "“installation of package ‘factoextra’ had non-zero exit status”\n"
     ]
    }
   ],
   "source": [
    "#install.packages('factoextra')\n",
    "#install.packages('tidyverse')"
   ]
  },
  {
   "cell_type": "code",
   "execution_count": 3,
   "metadata": {},
   "outputs": [
    {
     "name": "stderr",
     "output_type": "stream",
     "text": [
      "── \u001b[1mAttaching packages\u001b[22m ─────────────────────────────────────── tidyverse 1.3.0 ──\n",
      "\n",
      "\u001b[32m✔\u001b[39m \u001b[34mggplot2\u001b[39m 3.3.1     \u001b[32m✔\u001b[39m \u001b[34mpurrr  \u001b[39m 0.3.4\n",
      "\u001b[32m✔\u001b[39m \u001b[34mtibble \u001b[39m 3.0.1     \u001b[32m✔\u001b[39m \u001b[34mdplyr  \u001b[39m 1.0.0\n",
      "\u001b[32m✔\u001b[39m \u001b[34mtidyr  \u001b[39m 1.1.0     \u001b[32m✔\u001b[39m \u001b[34mstringr\u001b[39m 1.4.0\n",
      "\u001b[32m✔\u001b[39m \u001b[34mreadr  \u001b[39m 1.3.1     \u001b[32m✔\u001b[39m \u001b[34mforcats\u001b[39m 0.5.0\n",
      "\n",
      "── \u001b[1mConflicts\u001b[22m ────────────────────────────────────────── tidyverse_conflicts() ──\n",
      "\u001b[31m✖\u001b[39m \u001b[34mdplyr\u001b[39m::\u001b[32mfilter()\u001b[39m masks \u001b[34mstats\u001b[39m::filter()\n",
      "\u001b[31m✖\u001b[39m \u001b[34mdplyr\u001b[39m::\u001b[32mlag()\u001b[39m    masks \u001b[34mstats\u001b[39m::lag()\n",
      "\n"
     ]
    }
   ],
   "source": [
    "#library(factoextra)\n",
    "library(tidyverse)"
   ]
  },
  {
   "cell_type": "markdown",
   "metadata": {},
   "source": [
    "## Data"
   ]
  },
  {
   "cell_type": "code",
   "execution_count": 9,
   "metadata": {},
   "outputs": [
    {
     "data": {
      "text/html": [
       "<table>\n",
       "<caption>A data.frame: 6 × 1282</caption>\n",
       "<thead>\n",
       "\t<tr><th></th><th scope=col>uid</th><th scope=col>str.1.OTHER</th><th scope=col>str.1.REF</th><th scope=col>str.10.OTHER</th><th scope=col>str.10.REF</th><th scope=col>str.100.OTHER</th><th scope=col>str.100.REF</th><th scope=col>str.101.OTHER</th><th scope=col>str.101.REF</th><th scope=col>str.102.OTHER</th><th scope=col>⋯</th><th scope=col>str.95.OTHER</th><th scope=col>str.95.REF</th><th scope=col>str.96.OTHER</th><th scope=col>str.96.REF</th><th scope=col>str.97.OTHER</th><th scope=col>str.97.REF</th><th scope=col>str.98.OTHER</th><th scope=col>str.98.REF</th><th scope=col>str.99.OTHER</th><th scope=col>str.99.REF</th></tr>\n",
       "\t<tr><th></th><th scope=col>&lt;chr&gt;</th><th scope=col>&lt;int&gt;</th><th scope=col>&lt;int&gt;</th><th scope=col>&lt;int&gt;</th><th scope=col>&lt;int&gt;</th><th scope=col>&lt;int&gt;</th><th scope=col>&lt;int&gt;</th><th scope=col>&lt;int&gt;</th><th scope=col>&lt;int&gt;</th><th scope=col>&lt;int&gt;</th><th scope=col>⋯</th><th scope=col>&lt;int&gt;</th><th scope=col>&lt;int&gt;</th><th scope=col>&lt;int&gt;</th><th scope=col>&lt;int&gt;</th><th scope=col>&lt;int&gt;</th><th scope=col>&lt;int&gt;</th><th scope=col>&lt;int&gt;</th><th scope=col>&lt;int&gt;</th><th scope=col>&lt;int&gt;</th><th scope=col>&lt;int&gt;</th></tr>\n",
       "</thead>\n",
       "<tbody>\n",
       "\t<tr><th scope=row>1</th><td>HG01504-group16</td><td>0</td><td>1</td><td>0</td><td>1</td><td>0</td><td>1</td><td>1</td><td>0</td><td>0</td><td>⋯</td><td>0</td><td>1</td><td>0</td><td>1</td><td>0</td><td>1</td><td>0</td><td>1</td><td>0</td><td>1</td></tr>\n",
       "\t<tr><th scope=row>2</th><td>HG01503-group56</td><td>0</td><td>0</td><td>0</td><td>0</td><td>0</td><td>0</td><td>0</td><td>0</td><td>0</td><td>⋯</td><td>0</td><td>0</td><td>0</td><td>0</td><td>0</td><td>0</td><td>0</td><td>0</td><td>0</td><td>0</td></tr>\n",
       "\t<tr><th scope=row>3</th><td>HG01504-group24</td><td>0</td><td>1</td><td>0</td><td>1</td><td>0</td><td>1</td><td>0</td><td>1</td><td>0</td><td>⋯</td><td>0</td><td>1</td><td>0</td><td>1</td><td>0</td><td>1</td><td>0</td><td>1</td><td>0</td><td>1</td></tr>\n",
       "\t<tr><th scope=row>4</th><td>HG01504-group34</td><td>0</td><td>1</td><td>0</td><td>0</td><td>0</td><td>1</td><td>0</td><td>1</td><td>0</td><td>⋯</td><td>0</td><td>1</td><td>0</td><td>0</td><td>0</td><td>1</td><td>0</td><td>1</td><td>0</td><td>1</td></tr>\n",
       "\t<tr><th scope=row>5</th><td>HG01504-group26</td><td>0</td><td>1</td><td>0</td><td>1</td><td>0</td><td>1</td><td>0</td><td>1</td><td>1</td><td>⋯</td><td>0</td><td>1</td><td>1</td><td>0</td><td>0</td><td>1</td><td>0</td><td>1</td><td>0</td><td>1</td></tr>\n",
       "\t<tr><th scope=row>6</th><td>HG01503-group16</td><td>0</td><td>1</td><td>0</td><td>1</td><td>0</td><td>1</td><td>0</td><td>1</td><td>0</td><td>⋯</td><td>0</td><td>1</td><td>0</td><td>1</td><td>0</td><td>1</td><td>0</td><td>1</td><td>0</td><td>1</td></tr>\n",
       "</tbody>\n",
       "</table>\n"
      ],
      "text/latex": [
       "A data.frame: 6 × 1282\n",
       "\\begin{tabular}{r|lllllllllllllllllllll}\n",
       "  & uid & str.1.OTHER & str.1.REF & str.10.OTHER & str.10.REF & str.100.OTHER & str.100.REF & str.101.OTHER & str.101.REF & str.102.OTHER & ⋯ & str.95.OTHER & str.95.REF & str.96.OTHER & str.96.REF & str.97.OTHER & str.97.REF & str.98.OTHER & str.98.REF & str.99.OTHER & str.99.REF\\\\\n",
       "  & <chr> & <int> & <int> & <int> & <int> & <int> & <int> & <int> & <int> & <int> & ⋯ & <int> & <int> & <int> & <int> & <int> & <int> & <int> & <int> & <int> & <int>\\\\\n",
       "\\hline\n",
       "\t1 & HG01504-group16 & 0 & 1 & 0 & 1 & 0 & 1 & 1 & 0 & 0 & ⋯ & 0 & 1 & 0 & 1 & 0 & 1 & 0 & 1 & 0 & 1\\\\\n",
       "\t2 & HG01503-group56 & 0 & 0 & 0 & 0 & 0 & 0 & 0 & 0 & 0 & ⋯ & 0 & 0 & 0 & 0 & 0 & 0 & 0 & 0 & 0 & 0\\\\\n",
       "\t3 & HG01504-group24 & 0 & 1 & 0 & 1 & 0 & 1 & 0 & 1 & 0 & ⋯ & 0 & 1 & 0 & 1 & 0 & 1 & 0 & 1 & 0 & 1\\\\\n",
       "\t4 & HG01504-group34 & 0 & 1 & 0 & 0 & 0 & 1 & 0 & 1 & 0 & ⋯ & 0 & 1 & 0 & 0 & 0 & 1 & 0 & 1 & 0 & 1\\\\\n",
       "\t5 & HG01504-group26 & 0 & 1 & 0 & 1 & 0 & 1 & 0 & 1 & 1 & ⋯ & 0 & 1 & 1 & 0 & 0 & 1 & 0 & 1 & 0 & 1\\\\\n",
       "\t6 & HG01503-group16 & 0 & 1 & 0 & 1 & 0 & 1 & 0 & 1 & 0 & ⋯ & 0 & 1 & 0 & 1 & 0 & 1 & 0 & 1 & 0 & 1\\\\\n",
       "\\end{tabular}\n"
      ],
      "text/markdown": [
       "\n",
       "A data.frame: 6 × 1282\n",
       "\n",
       "| <!--/--> | uid &lt;chr&gt; | str.1.OTHER &lt;int&gt; | str.1.REF &lt;int&gt; | str.10.OTHER &lt;int&gt; | str.10.REF &lt;int&gt; | str.100.OTHER &lt;int&gt; | str.100.REF &lt;int&gt; | str.101.OTHER &lt;int&gt; | str.101.REF &lt;int&gt; | str.102.OTHER &lt;int&gt; | ⋯ ⋯ | str.95.OTHER &lt;int&gt; | str.95.REF &lt;int&gt; | str.96.OTHER &lt;int&gt; | str.96.REF &lt;int&gt; | str.97.OTHER &lt;int&gt; | str.97.REF &lt;int&gt; | str.98.OTHER &lt;int&gt; | str.98.REF &lt;int&gt; | str.99.OTHER &lt;int&gt; | str.99.REF &lt;int&gt; |\n",
       "|---|---|---|---|---|---|---|---|---|---|---|---|---|---|---|---|---|---|---|---|---|---|\n",
       "| 1 | HG01504-group16 | 0 | 1 | 0 | 1 | 0 | 1 | 1 | 0 | 0 | ⋯ | 0 | 1 | 0 | 1 | 0 | 1 | 0 | 1 | 0 | 1 |\n",
       "| 2 | HG01503-group56 | 0 | 0 | 0 | 0 | 0 | 0 | 0 | 0 | 0 | ⋯ | 0 | 0 | 0 | 0 | 0 | 0 | 0 | 0 | 0 | 0 |\n",
       "| 3 | HG01504-group24 | 0 | 1 | 0 | 1 | 0 | 1 | 0 | 1 | 0 | ⋯ | 0 | 1 | 0 | 1 | 0 | 1 | 0 | 1 | 0 | 1 |\n",
       "| 4 | HG01504-group34 | 0 | 1 | 0 | 0 | 0 | 1 | 0 | 1 | 0 | ⋯ | 0 | 1 | 0 | 0 | 0 | 1 | 0 | 1 | 0 | 1 |\n",
       "| 5 | HG01504-group26 | 0 | 1 | 0 | 1 | 0 | 1 | 0 | 1 | 1 | ⋯ | 0 | 1 | 1 | 0 | 0 | 1 | 0 | 1 | 0 | 1 |\n",
       "| 6 | HG01503-group16 | 0 | 1 | 0 | 1 | 0 | 1 | 0 | 1 | 0 | ⋯ | 0 | 1 | 0 | 1 | 0 | 1 | 0 | 1 | 0 | 1 |\n",
       "\n"
      ],
      "text/plain": [
       "  uid             str.1.OTHER str.1.REF str.10.OTHER str.10.REF str.100.OTHER\n",
       "1 HG01504-group16 0           1         0            1          0            \n",
       "2 HG01503-group56 0           0         0            0          0            \n",
       "3 HG01504-group24 0           1         0            1          0            \n",
       "4 HG01504-group34 0           1         0            0          0            \n",
       "5 HG01504-group26 0           1         0            1          0            \n",
       "6 HG01503-group16 0           1         0            1          0            \n",
       "  str.100.REF str.101.OTHER str.101.REF str.102.OTHER ⋯ str.95.OTHER str.95.REF\n",
       "1 1           1             0           0             ⋯ 0            1         \n",
       "2 0           0             0           0             ⋯ 0            0         \n",
       "3 1           0             1           0             ⋯ 0            1         \n",
       "4 1           0             1           0             ⋯ 0            1         \n",
       "5 1           0             1           1             ⋯ 0            1         \n",
       "6 1           0             1           0             ⋯ 0            1         \n",
       "  str.96.OTHER str.96.REF str.97.OTHER str.97.REF str.98.OTHER str.98.REF\n",
       "1 0            1          0            1          0            1         \n",
       "2 0            0          0            0          0            0         \n",
       "3 0            1          0            1          0            1         \n",
       "4 0            0          0            1          0            1         \n",
       "5 1            0          0            1          0            1         \n",
       "6 0            1          0            1          0            1         \n",
       "  str.99.OTHER str.99.REF\n",
       "1 0            1         \n",
       "2 0            0         \n",
       "3 0            1         \n",
       "4 0            1         \n",
       "5 0            1         \n",
       "6 0            1         "
      ]
     },
     "metadata": {},
     "output_type": "display_data"
    },
    {
     "name": "stderr",
     "output_type": "stream",
     "text": [
      "Installing package into ‘/home/simran/R/x86_64-pc-linux-gnu-library/3.4’\n",
      "(as ‘lib’ is unspecified)\n",
      "\n",
      "Warning message:\n",
      "“dependencies ‘FactoMineR’, ‘cowplot’, ‘car’ are not available”\n",
      "also installing the dependencies ‘corrplot’, ‘ggsci’, ‘ggsignif’, ‘polynom’, ‘rstatix’, ‘abind’, ‘ggpubr’, ‘ggrepel’\n",
      "\n",
      "\n",
      "Warning message in install.packages(\"factoextra\"):\n",
      "“installation of package ‘rstatix’ had non-zero exit status”\n",
      "Warning message in install.packages(\"factoextra\"):\n",
      "“installation of package ‘ggpubr’ had non-zero exit status”\n",
      "Warning message in install.packages(\"factoextra\"):\n",
      "“installation of package ‘factoextra’ had non-zero exit status”\n"
     ]
    },
    {
     "ename": "ERROR",
     "evalue": "Error in library(factoextra): there is no package called ‘factoextra’\n",
     "output_type": "error",
     "traceback": [
      "Error in library(factoextra): there is no package called ‘factoextra’\nTraceback:\n",
      "1. library(factoextra)",
      "2. stop(txt, domain = NA)"
     ]
    }
   ],
   "source": [
    "mfdf <- read.csv('/home/simran/data/merged_readgroups/bool_mfdf.csv', stringsAsFactors = FALSE)\n",
    "cmdf <- read.csv('/home/simran/data/merged_readgroups/bool_cmdf.csv', stringsAsFactors = FALSE)\n",
    "\n",
    "head(mfdf)\n",
    "\n",
    "#install.packages('factoextra')\n",
    "#library(factoextra)"
   ]
  },
  {
   "cell_type": "markdown",
   "metadata": {},
   "source": [
    "## Unsupervised kMeans clustering with 2 clusters"
   ]
  },
  {
   "cell_type": "code",
   "execution_count": 11,
   "metadata": {},
   "outputs": [],
   "source": [
    "k2 <- kmeans(mfdf[-1], centers = 2)\n",
    "fviz_cluster(k2, data = mfdf[-1], )\n"
   ]
  },
  {
   "cell_type": "markdown",
   "metadata": {},
   "source": [
    "## Unsupervised PCA with 2 clusters\n"
   ]
  },
  {
   "cell_type": "code",
   "execution_count": null,
   "metadata": {},
   "outputs": [],
   "source": []
  },
  {
   "cell_type": "markdown",
   "metadata": {},
   "source": [
    "## Unsupervised decision trees\n"
   ]
  },
  {
   "cell_type": "code",
   "execution_count": null,
   "metadata": {},
   "outputs": [],
   "source": []
  },
  {
   "cell_type": "markdown",
   "metadata": {},
   "source": [
    "## Unsupervised random forest with 2 clusters"
   ]
  },
  {
   "cell_type": "code",
   "execution_count": null,
   "metadata": {},
   "outputs": [],
   "source": []
  },
  {
   "cell_type": "markdown",
   "metadata": {},
   "source": [
    "# Clustering manual implementation"
   ]
  },
  {
   "cell_type": "code",
   "execution_count": 27,
   "metadata": {},
   "outputs": [
    {
     "name": "stdout",
     "output_type": "stream",
     "text": [
      "[1] \"\"\n",
      "[1] \"CLUSTERING\"\n",
      "[1] \"  loading libraries\"\n",
      "[1] \"  creating functions\"\n",
      "[1] \"  loading data\"\n"
     ]
    }
   ],
   "source": [
    "#################################################################################\n",
    "# This script is for the automation of the clustering.Rmd R markdown file.\n",
    "#################################################################################\n",
    "print('')\n",
    "print('CLUSTERING')\n",
    "print('  loading libraries')\n",
    "\n",
    "#################################################################################\n",
    "# Libraries\n",
    "#################################################################################\n",
    "library(tidyverse, quietly = TRUE)\n",
    "library(factoextra)\n",
    "library(FactoMineR)\n",
    "library(dplyr)\n",
    "print('  creating functions')\n",
    "#################################################################################\n",
    "# Functions\n",
    "#################################################################################\n",
    "mysplit <- function(x) {\n",
    "  y <- unlist(strsplit(x, '-'))[1]\n",
    "  return(y)\n",
    "}\n",
    "\n",
    "constfunc <- function(x) {\n",
    "  if (length(unique(x)) > 1) {return(1)}\n",
    "  else {return(0)}\n",
    "}\n",
    "\n",
    "print('  loading data')\n",
    "#################################################################################\n",
    "# Data import and wrangling ; mid and cid family specific\n",
    "#################################################################################\n",
    "\n",
    "args = commandArgs(trailingOnly=TRUE)\n",
    "fid = args[1]\n",
    "disease = args[2]\n",
    "\n",
    "## DONT NEED THIS ##\n",
    "# datasources <- read.csv('/home/simran/fertility-eda/str-pipeline/datasources.csv') \n",
    "# mid <- datasources %>% filter(FamilyID == fid, Relationship == 'MOTHER') %>% pull(Sample)\n",
    "# cid <- datasources %>% filter(FamilyID == fid, Relationship == 'CHILD') %>% pull(Sample)\n",
    "##\n",
    "\n",
    "# GET CORRECT DICTIONARY\n",
    "data <- read.csv(paste0('/mnt/aretian/genomics/nanopore/run1/bool_tagged_reads.csv'), stringsAsFactors = FALSE)\n",
    "data$sample <- unlist(lapply(data$read_id, mysplit))"
   ]
  },
  {
   "cell_type": "code",
   "execution_count": 28,
   "metadata": {},
   "outputs": [],
   "source": [
    "data$sample <- as.factor(data$sample)\n",
    "\n",
    "data_nolabels <- data %>% select(-read_id, -sample)\n",
    "\n",
    "# remove constant columns\n",
    "presents_variation <- apply(X = data_nolabels, MARGIN = 2, FUN = constfunc)\n",
    "presents_variation <- as.logical(presents_variation)\n",
    "\n",
    "data_nolabels_noconstants <- data_nolabels[,presents_variation]"
   ]
  },
  {
   "cell_type": "code",
   "execution_count": 29,
   "metadata": {},
   "outputs": [
    {
     "data": {
      "text/html": [
       "31"
      ],
      "text/latex": [
       "31"
      ],
      "text/markdown": [
       "31"
      ],
      "text/plain": [
       "[1] 31"
      ]
     },
     "metadata": {},
     "output_type": "display_data"
    }
   ],
   "source": [
    "nrow(data_nolabels_noconstants)"
   ]
  },
  {
   "cell_type": "code",
   "execution_count": 34,
   "metadata": {},
   "outputs": [
    {
     "data": {
      "text/html": [
       "'/mnt/aretian/genomics/nanopore/run1/bool_tagged_reads.csv'"
      ],
      "text/latex": [
       "'/mnt/aretian/genomics/nanopore/run1/bool\\_tagged\\_reads.csv'"
      ],
      "text/markdown": [
       "'/mnt/aretian/genomics/nanopore/run1/bool_tagged_reads.csv'"
      ],
      "text/plain": [
       "[1] \"/mnt/aretian/genomics/nanopore/run1/bool_tagged_reads.csv\""
      ]
     },
     "metadata": {},
     "output_type": "display_data"
    },
    {
     "data": {
      "text/html": [
       "<strong>png:</strong> 2"
      ],
      "text/latex": [
       "\\textbf{png:} 2"
      ],
      "text/markdown": [
       "**png:** 2"
      ],
      "text/plain": [
       "png \n",
       "  2 "
      ]
     },
     "metadata": {},
     "output_type": "display_data"
    },
    {
     "data": {
      "text/html": [
       "<strong>png:</strong> 2"
      ],
      "text/latex": [
       "\\textbf{png:} 2"
      ],
      "text/markdown": [
       "**png:** 2"
      ],
      "text/plain": [
       "png \n",
       "  2 "
      ]
     },
     "metadata": {},
     "output_type": "display_data"
    }
   ],
   "source": [
    "#################################################################################\n",
    "# K-means Clustering\n",
    "#################################################################################\n",
    "set.seed(123)\n",
    "\n",
    "kres <- kmeans(data_nolabels_noconstants, centers = 2)\n",
    "\n",
    "paste0('/mnt/aretian/genomics/nanopore/run1/bool_tagged_reads.csv')\n",
    "\n",
    "png(file=paste0('/mnt/aretian/genomics/nanopore/run1/assigned_kmeans_clusters.png'))\n",
    "fviz_cluster(kres, data = data_nolabels_noconstants, labelsize = 0,\n",
    "             ellipse = TRUE, ellipse.type = \"convex\",\n",
    "              ellipse.level = 0.95, ellipse.alpha = 0.2,\n",
    "             main = 'K-Means clustering results: Assigned clusters',\n",
    "             submain = 'Person0-Person1 merged samples',\n",
    "#              caption = paste0(mid, ' = mother, ', cid, ' = child'),\n",
    "             xlab = 'PC1',\n",
    "             ylab = 'PC2',\n",
    "             palette = 'Set2') + \n",
    "  theme_bw()\n",
    "dev.off()\n",
    "\n",
    "kres_lab <- kres # color by real group\n",
    "kres_lab$cluster <- data$sample\n",
    "\n",
    "png(file=paste0('/mnt/aretian/genomics/nanopore/run1/real_sample_labels.png'))\n",
    "fviz_cluster(kres_lab, data = data_nolabels_noconstants, labelsize = 0,\n",
    "             ellipse = TRUE, ellipse.type = \"convex\",\n",
    "              ellipse.level = 0.95, ellipse.alpha = 0.2,\n",
    "             main = 'K-Means clustering results: Actual sample labels', \n",
    "             submain = 'Person0-Person1 merged samples',\n",
    "#              caption = paste0(mid, ' = mother, ', cid, ' = child'),\n",
    "             xlab = 'PC1',\n",
    "             ylab = 'PC2',\n",
    "             palette = 'Set1') + \n",
    "  theme_bw()\n",
    "dev.off()\n",
    "\n",
    "data$kmeans_clusters <- kres$cluster\n",
    "write.csv(data, paste0('/mnt/aretian/genomics/nanopore/run1/kmeans_clusters.csv'), row.names = FALSE)"
   ]
  },
  {
   "cell_type": "code",
   "execution_count": null,
   "metadata": {},
   "outputs": [],
   "source": []
  },
  {
   "cell_type": "code",
   "execution_count": null,
   "metadata": {},
   "outputs": [],
   "source": []
  }
 ],
 "metadata": {
  "kernelspec": {
   "display_name": "Python 3",
   "language": "python",
   "name": "python3"
  },
  "language_info": {
   "codemirror_mode": {
    "name": "ipython",
    "version": 3
   },
   "file_extension": ".py",
   "mimetype": "text/x-python",
   "name": "python",
   "nbconvert_exporter": "python",
   "pygments_lexer": "ipython3",
   "version": "3.6.9"
  }
 },
 "nbformat": 4,
 "nbformat_minor": 4
}
