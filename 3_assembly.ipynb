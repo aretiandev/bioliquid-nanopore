{
 "cells": [
  {
   "cell_type": "markdown",
   "id": "5b3ccdc0",
   "metadata": {},
   "source": [
    "# Read overlap analysis"
   ]
  },
  {
   "cell_type": "code",
   "execution_count": 1,
   "id": "8c7a4b48",
   "metadata": {},
   "outputs": [],
   "source": [
    "import pandas as pd"
   ]
  },
  {
   "cell_type": "code",
   "execution_count": 2,
   "id": "ada5f211",
   "metadata": {
    "tags": []
   },
   "outputs": [],
   "source": [
    "# !samtools view ../../data/raw/bioliquid_chr17_pompe.bam | head"
   ]
  },
  {
   "cell_type": "code",
   "execution_count": 3,
   "id": "8f58a26d",
   "metadata": {},
   "outputs": [
    {
     "name": "stdout",
     "output_type": "stream",
     "text": [
      "/Users/fer/aretian-drive/Projects_other/Genomics Nanopore/code/bioliquid-nanopore\n"
     ]
    }
   ],
   "source": [
    "!pwd"
   ]
  },
  {
   "cell_type": "code",
   "execution_count": 19,
   "id": "fb3196a4",
   "metadata": {},
   "outputs": [
    {
     "name": "stdout",
     "output_type": "stream",
     "text": [
      "samtools view: writing to standard output failed: Broken pipe\n",
      "samtools view: error closing standard output: -1\n"
     ]
    }
   ],
   "source": [
    "!samtools view '../../data/raw/bioliquid_chr17_pompe.bam' | head > '../../data/processed/bioliquid_chr17_pompe.csv'\n"
   ]
  },
  {
   "cell_type": "code",
   "execution_count": 17,
   "id": "f33eafb1",
   "metadata": {},
   "outputs": [],
   "source": [
    "# df = pd.read_csv('../../data/processed/bioliquid_chr17_pompe.csv', sep='\\t', error_bad_lines=False)\n",
    "# df = pd.read_csv('../../data/processed/bioliquid_chr17_pompe.csv')\n",
    "df = pd.read_csv('../../data/processed/bioliquid_chr17_pompe.csv',lineterminator='\\r')"
   ]
  },
  {
   "cell_type": "code",
   "execution_count": 18,
   "id": "d67f20c6",
   "metadata": {},
   "outputs": [
    {
     "data": {
      "text/plain": [
       "(0, 462055)"
      ]
     },
     "execution_count": 18,
     "metadata": {},
     "output_type": "execute_result"
    }
   ],
   "source": [
    "df.shape"
   ]
  },
  {
   "cell_type": "code",
   "execution_count": null,
   "id": "1fc78728",
   "metadata": {},
   "outputs": [],
   "source": []
  }
 ],
 "metadata": {
  "kernelspec": {
   "display_name": "Python 3",
   "language": "python",
   "name": "python3"
  },
  "language_info": {
   "codemirror_mode": {
    "name": "ipython",
    "version": 3
   },
   "file_extension": ".py",
   "mimetype": "text/x-python",
   "name": "python",
   "nbconvert_exporter": "python",
   "pygments_lexer": "ipython3",
   "version": "3.8.10"
  }
 },
 "nbformat": 4,
 "nbformat_minor": 5
}
