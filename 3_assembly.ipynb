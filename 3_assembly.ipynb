{
 "cells": [
  {
   "cell_type": "markdown",
   "metadata": {},
   "source": [
    "# Assembly algorithm\n",
    "\n",
    "This script performs the assembly algorithm. It contains the following steps:\n",
    "\n",
    "- Loading and cleaning read data and reference genome data\n",
    "- Visualizing overlap between reads\n",
    "- Collapsing the regions where there is empty data"
   ]
  },
  {
   "cell_type": "markdown",
   "metadata": {},
   "source": [
    "# Load Modules"
   ]
  },
  {
   "cell_type": "code",
   "execution_count": 1,
   "metadata": {},
   "outputs": [],
   "source": [
    "import numpy as np\n",
    "import pandas as pd\n",
    "import matplotlib.pyplot as plt"
   ]
  },
  {
   "cell_type": "markdown",
   "metadata": {},
   "source": [
    "# Load Reference Genome\n",
    "\n",
    "Info: https://lh3.github.io/2017/11/13/which-human-reference-genome-to-use\n",
    "\n",
    "S3 nanopore directory:\n",
    "\n",
    "s3cmd get --recursive s3://aretian-genomics/nanopore/"
   ]
  },
  {
   "cell_type": "code",
   "execution_count": 2,
   "metadata": {},
   "outputs": [],
   "source": [
    "# Pull reference genome from S3\n",
    "# !s3cmd get s3://aretian-genomics/nanopore/GCA_000001405.15_GRCh38_no_alt_analysis_set.fna.gz\n",
    "\n",
    "# !gunzip GCA_000001405.15_GRCh38_no_alt_analysis_set.fna.gz\n",
    "\n",
    "# Index reference genome\n",
    "# !samtools faidx GCA_000001405.15_GRCh38_no_alt_analysis_set.fna\n",
    "\n",
    "# Select chromosomes or regions\n",
    "# !samtools faidx GCA_000001405.15_GRCh38_no_alt_analysis_set.fna chr17 > chr17_selected.fa"
   ]
  },
  {
   "cell_type": "markdown",
   "metadata": {},
   "source": [
    "## Extract Chromosome 17\n",
    "\n",
    "Extract Chr17 from reference genome."
   ]
  },
  {
   "cell_type": "code",
   "execution_count": 4,
   "metadata": {},
   "outputs": [
    {
     "name": "stdout",
     "output_type": "stream",
     "text": [
      "Unique characters: ['R', 'A', 'G', 'S', 'W', 'C', 'Y', 'K', 'T', 'N']\n",
      "Selected chromosome from reference genome is 83257441 BP long\n"
     ]
    }
   ],
   "source": [
    "# Read in fasta file: remove line breaks and header\n",
    "def read_fasta_genome(fasta_file,chromosome_header):\n",
    "    clean_data = fasta_file.read().replace(\"\\n\", \"\")\n",
    "    clean_data = clean_data.replace(chromosome_header,\"\") # get rid of header\n",
    "\n",
    "    return clean_data\n",
    "\n",
    "with open('../data/processed/chr17_selected.fa') as f: # update path if needed\n",
    "    ref_genome = read_fasta_genome(f,'>chr17')\n",
    "\n",
    "# See https://www.bioinformatics.org/sms/iupac.html for IUPAC nucleotide codes\n",
    "\n",
    "print(f\"Unique characters: {list(set(ref_genome))}\") \n",
    "\n",
    "print(f\"Selected chromosome from reference genome is {len(ref_genome)} BP long\")"
   ]
  },
  {
   "cell_type": "markdown",
   "metadata": {},
   "source": [
    "# Load Reads"
   ]
  },
  {
   "cell_type": "markdown",
   "metadata": {},
   "source": [
    "Samtools view --> format of output: http://samtools.github.io/hts-specs/SAMv1.pdf"
   ]
  },
  {
   "cell_type": "code",
   "execution_count": 5,
   "metadata": {},
   "outputs": [],
   "source": [
    "#!view -c bioliquid_chr17_pompe.bam\n",
    "#!samtools view bioliquid_chr17_pompe.bam | head -n 500 > bioliquid_chr17_pompe_500reads.txt\n",
    "\n",
    "# nanopore_reads = pd.read_csv('../data/processed/bioliquid_chr17_pompe_reads-old.csv', error_bad_lines=False, header=None)\n",
    "# nanopore_reads = pd.read_csv('../data/processed/bioliquid_chr17_pompe_reads.csv', error_bad_lines=False, header=None)\n",
    "nanopore_reads = pd.read_csv('../data/processed/bioliquid_chr17_pompe_reads-old.csv', error_bad_lines=False)"
   ]
  },
  {
   "cell_type": "markdown",
   "metadata": {},
   "source": [
    "## Clean Reads"
   ]
  },
  {
   "cell_type": "code",
   "execution_count": 51,
   "metadata": {},
   "outputs": [],
   "source": [
    "# Sort and get ID\n",
    "nanopore_reads = nanopore_reads.sort_values(by='POS',ascending=True) # sort based on starting index of reads\n",
    "nanopore_reads = nanopore_reads.reset_index()\n",
    "nanopore_reads['ID'] = nanopore_reads.index\n",
    "# Get columns of interest\n",
    "nanopore_reads = nanopore_reads[['ID', 'QNAME', 'FLAG', 'RNAME', 'POS', 'MAPQ', 'CIGAR', 'RNEXT', 'PNEXT','TLEN', 'SEQ', 'QUAL']]\n",
    "# Drop missing values\n",
    "nanopore_reads = nanopore_reads.loc[nanopore_reads['SEQ'] != '*'] # drop any rows without a proper nucleotide sequence\n",
    "nanopore_reads = nanopore_reads.reset_index()"
   ]
  },
  {
   "cell_type": "markdown",
   "metadata": {},
   "source": [
    "# Descriptive Statistics of Reads"
   ]
  },
  {
   "cell_type": "code",
   "execution_count": 52,
   "metadata": {
    "tags": []
   },
   "outputs": [],
   "source": [
    "# for ID in nanopore_reads.index:\n",
    "#     print(f\"Leftmost index --> {nanopore_reads.loc[ID,'POS']}, Read length --> {len(nanopore_reads.loc[ID,'SEQ'])}\")"
   ]
  },
  {
   "cell_type": "code",
   "execution_count": 53,
   "metadata": {},
   "outputs": [],
   "source": [
    "end_index = max(nanopore_reads['POS']) + len(nanopore_reads.loc[nanopore_reads['POS'].idxmax(),'SEQ'])\n",
    "start_index = min(nanopore_reads['POS'])\n",
    "index_range = end_index-start_index\n",
    "\n",
    "read_overlap = np.zeros((len(nanopore_reads),index_range)) # empty matrix for reads\n",
    "\n",
    "for ID in nanopore_reads.index:\n",
    "#     print(f\"Adding raad cover for read {ID+1}: Index-->{nanopore_reads.loc[ID,'POS']}, length-->{len(nanopore_reads.loc[ID,'SEQ'])}\")\n",
    "    start = nanopore_reads.loc[ID,'POS']-start_index\n",
    "#     print(start)\n",
    "    end = start+len(nanopore_reads.loc[ID,'SEQ'])\n",
    "#     print(end)\n",
    "    read_overlap[ID,start:end] = 1\n",
    "    \n",
    "summary = read_overlap.sum(axis=0)\n",
    "\n",
    "overlap_df = pd.DataFrame(data=summary,index=range(start_index,end_index), columns=['overlap_count'])\n",
    "overlap_df['position'] = overlap_df.index"
   ]
  },
  {
   "cell_type": "markdown",
   "metadata": {},
   "source": [
    "## Plot read overlap"
   ]
  },
  {
   "cell_type": "code",
   "execution_count": 61,
   "metadata": {
    "tags": []
   },
   "outputs": [],
   "source": [
    "# len(overlap_df)\n",
    "# i=1\n",
    "# overlap_df.loc[i,'isempty']"
   ]
  },
  {
   "cell_type": "code",
   "execution_count": 62,
   "metadata": {
    "tags": []
   },
   "outputs": [
    {
     "name": "stdout",
     "output_type": "stream",
     "text": [
      "Loop: 23400000\n",
      "Loop: 23800000\n",
      "Loop: 23900000\n",
      "Loop: 24100000\n",
      "Loop: 24300000\n",
      "Loop: 24400000\n",
      "Loop: 24500000\n",
      "Loop: 24600000\n",
      "Loop: 25100000\n",
      "Loop: 25700000\n",
      "Loop: 26200000\n",
      "Loop: 26900000\n"
     ]
    }
   ],
   "source": [
    "overlap_df['isempty']=overlap_df['overlap_count']==0\n",
    "win_length=10000\n",
    "emptycount = 0\n",
    "emptyregioncounter = 0\n",
    "\n",
    "for i in overlap_df.index:\n",
    "    \n",
    "    if overlap_df.loc[i,'isempty']==False:\n",
    "        emptycount = 0\n",
    "        continue\n",
    "        \n",
    "    emptycount += 1\n",
    "    \n",
    "    if emptycount >= win_length:\n",
    "        emptyregioncounter +=1\n",
    "        \n",
    "    if i%100000==0:\n",
    "        print(f\"Loop: {i}\")"
   ]
  },
  {
   "cell_type": "code",
   "execution_count": 63,
   "metadata": {},
   "outputs": [
    {
     "name": "stdout",
     "output_type": "stream",
     "text": [
      "There are at most 787254 regions with lengths larger than 10000\n"
     ]
    }
   ],
   "source": [
    "print(f\"There are at most {emptyregioncounter} regions with lengths larger than {win_length}\")"
   ]
  },
  {
   "cell_type": "code",
   "execution_count": 64,
   "metadata": {},
   "outputs": [
    {
     "data": {
      "text/plain": [
       "Text(0, 0.5, '# Reads Overlapping')"
      ]
     },
     "execution_count": 64,
     "metadata": {},
     "output_type": "execute_result"
    },
    {
     "data": {
      "image/png": "[encoded data removed]",
      "text/plain": [
       "<Figure size 900x600 with 1 Axes>"
      ]
     },
     "metadata": {
      "needs_background": "light"
     },
     "output_type": "display_data"
    }
   ],
   "source": [
    "fig, ax = plt.subplots(dpi=150)\n",
    "# plt.plot(overlap_df[:40000]['position'],overlap_df[:40000]['overlap_count'])\n",
    "# plt.plot(overlap_df[:40000]['position'],overlap_df[:40000]['overlap_count'])\n",
    "# plt.plot(overlap_df.loc[1000000:,'position'],overlap_df.loc[1000000:,'overlap_count'])\n",
    "# plt.plot(overlap_df['position'],overlap_df['overlap_count'])\n",
    "plt.plot(overlap_df['position'],overlap_df['isempty'])\n",
    "plt.xlabel('Nucleotide Position')\n",
    "plt.ylabel('# Reads Overlapping')"
   ]
  },
  {
   "cell_type": "markdown",
   "metadata": {},
   "source": [
    "## Read Length and Position"
   ]
  },
  {
   "cell_type": "code",
   "execution_count": 65,
   "metadata": {},
   "outputs": [
    {
     "name": "stdout",
     "output_type": "stream",
     "text": [
      "Read length statistics:\n"
     ]
    },
    {
     "data": {
      "text/plain": [
       "count     1080.000000\n",
       "mean     11367.615741\n",
       "std      10815.201656\n",
       "min        100.000000\n",
       "25%       2307.250000\n",
       "50%       6254.000000\n",
       "75%      18966.750000\n",
       "max      32759.000000\n",
       "Name: SEQ_LEN, dtype: float64"
      ]
     },
     "execution_count": 65,
     "metadata": {},
     "output_type": "execute_result"
    }
   ],
   "source": [
    "# Check read length statistics\n",
    "nanopore_reads['SEQ_LEN'] = nanopore_reads['SEQ'].apply(lambda x: len(x))\n",
    "nanopore_reads['END_POS'] = nanopore_reads['POS']+nanopore_reads['SEQ_LEN']\n",
    "print(f\"Read length statistics:\")\n",
    "nanopore_reads['SEQ_LEN'].describe()"
   ]
  },
  {
   "cell_type": "code",
   "execution_count": 66,
   "metadata": {},
   "outputs": [
    {
     "name": "stdout",
     "output_type": "stream",
     "text": [
      "Read position statistics:\n"
     ]
    },
    {
     "data": {
      "text/plain": [
       "count    1.080000e+03\n",
       "mean     2.550694e+07\n",
       "std      1.445399e+06\n",
       "min      2.293697e+07\n",
       "25%      2.419741e+07\n",
       "50%      2.647332e+07\n",
       "75%      2.661930e+07\n",
       "max      2.699905e+07\n",
       "Name: POS, dtype: float64"
      ]
     },
     "execution_count": 66,
     "metadata": {},
     "output_type": "execute_result"
    }
   ],
   "source": [
    "# Check read pos statistics\n",
    "print(f\"Read position statistics:\")\n",
    "nanopore_reads['POS'].describe()"
   ]
  },
  {
   "cell_type": "markdown",
   "metadata": {},
   "source": [
    "Trim reference genome chromosome to locus of interest "
   ]
  },
  {
   "cell_type": "code",
   "execution_count": 67,
   "metadata": {},
   "outputs": [
    {
     "name": "stdout",
     "output_type": "stream",
     "text": [
      "Selected focus are for chromosome from reference genome is 4085413 BP long\n"
     ]
    }
   ],
   "source": [
    "ref_genome = ref_genome[min(nanopore_reads['POS']):max(nanopore_reads['END_POS'])]\n",
    "print(f\"Selected focus are for chromosome from reference genome is {len(ref_genome)} BP long\")"
   ]
  },
  {
   "cell_type": "markdown",
   "metadata": {},
   "source": [
    "# Collapse Gaps "
   ]
  },
  {
   "cell_type": "markdown",
   "metadata": {},
   "source": [
    "Steps 1-3 handled above already.\n",
    "1. import genome (80 M)\n",
    "2. import nanopore reads (4M cover range)\n",
    "3. trim genome to min/max nanopore reads"
   ]
  },
  {
   "cell_type": "markdown",
   "metadata": {},
   "source": [
    "4. Reset start and end position based on min read"
   ]
  },
  {
   "cell_type": "code",
   "execution_count": 68,
   "metadata": {},
   "outputs": [],
   "source": [
    "shift = min(nanopore_reads['POS'])\n",
    "\n",
    "# archive old positions\n",
    "nanopore_reads['ORIG_POS'] = nanopore_reads['POS']\n",
    "nanopore_reads['ORIG_END_POS'] = nanopore_reads['END_POS']\n",
    "\n",
    "# shift positions\n",
    "nanopore_reads['POS'] = nanopore_reads['POS']-shift\n",
    "nanopore_reads['END_POS'] = nanopore_reads['END_POS']-shift"
   ]
  },
  {
   "cell_type": "markdown",
   "metadata": {},
   "source": [
    "5. Remove gaps from nanopore reads and shift indices"
   ]
  },
  {
   "cell_type": "code",
   "execution_count": 69,
   "metadata": {},
   "outputs": [],
   "source": [
    "nanopore_reads = nanopore_reads.reset_index() # to make the next step easier\n",
    "nanopore_reads = nanopore_reads[['ID', 'QNAME', 'FLAG', 'RNAME', 'POS', 'MAPQ', 'CIGAR','RNEXT', 'PNEXT', 'TLEN', 'SEQ', 'QUAL', 'SEQ_LEN', 'END_POS','ORIG_POS', 'ORIG_END_POS']]"
   ]
  },
  {
   "cell_type": "code",
   "execution_count": 70,
   "metadata": {},
   "outputs": [
    {
     "name": "stdout",
     "output_type": "stream",
     "text": [
      "There are 185 gaps\n"
     ]
    }
   ],
   "source": [
    "confirmed_gaps2 = []\n",
    "for index in nanopore_reads.index:\n",
    "    try:\n",
    "        current_read_end = nanopore_reads.loc[index,'END_POS']\n",
    "        \n",
    "        gaps = []\n",
    "        for index2 in nanopore_reads.index:\n",
    "            try:\n",
    "                if index == index2:\n",
    "                    continue\n",
    "\n",
    "                next_read_start = nanopore_reads.loc[index+1,'POS']\n",
    "\n",
    "                delta = next_read_start-current_read_end\n",
    "\n",
    "\n",
    "                if delta < 0: # There is overlap\n",
    "                    continue \n",
    "                elif delta==0: # There is a single nucleotide overlap\n",
    "                    continue\n",
    "                elif delta > 0: # There is a gap\n",
    "                    gaps.append((current_read_end+1,next_read_start-1)) # range between the values\n",
    "            except:\n",
    "                pass\n",
    "            \n",
    "                \n",
    "                \n",
    "        minimum_gap = min(gaps, key = lambda x: x[1]-x[0])\n",
    "        confirmed_gaps2.append(minimum_gap)\n",
    "        \n",
    "    except:\n",
    "        pass\n",
    "\n",
    "print(f\"There are {len(confirmed_gaps2)} gaps\")\n",
    "    "
   ]
  },
  {
   "cell_type": "code",
   "execution_count": 71,
   "metadata": {},
   "outputs": [
    {
     "name": "stdout",
     "output_type": "stream",
     "text": [
      "There are 185 gaps\n"
     ]
    }
   ],
   "source": [
    "confirmed_gaps = []\n",
    "\n",
    "for index in nanopore_reads.index:\n",
    " \n",
    "    try:\n",
    "        current_read_end = nanopore_reads.loc[index,'END_POS']\n",
    "\n",
    "        next_read_start = nanopore_reads.loc[index+1,'POS']\n",
    "\n",
    "        delta = next_read_start-current_read_end\n",
    "\n",
    "\n",
    "        if delta < 0: # There is overlap\n",
    "            continue \n",
    "        elif delta==0: # There is a single nucleotide overlap\n",
    "            continue\n",
    "        elif delta > 0: # There is a gap\n",
    "            gap = (current_read_end+1,next_read_start-1)\n",
    "            confirmed_gaps.append(gap) # range between the values\n",
    "            \n",
    "            # Adjust remainding reads \n",
    "            shift = gap[0]-gap[1]\n",
    "            nanopore_reads.loc[index:,'POS'] = nanopore_reads.loc[index:,'POS']-shift\n",
    "            nanopore_reads.loc[index:,'END_POS'] = nanopore_reads.loc[index:,'END_POS']-shift\n",
    "                \n",
    "    except:\n",
    "        pass\n",
    "            \n",
    "\n",
    "print(f\"There are {len(confirmed_gaps)} gaps\")"
   ]
  },
  {
   "cell_type": "code",
   "execution_count": 72,
   "metadata": {},
   "outputs": [
    {
     "data": {
      "text/plain": [
       "False"
      ]
     },
     "execution_count": 72,
     "metadata": {},
     "output_type": "execute_result"
    }
   ],
   "source": [
    "confirmed_gaps==confirmed_gaps2 # TALK TO FER ABOUT THIS"
   ]
  },
  {
   "cell_type": "markdown",
   "metadata": {},
   "source": [
    "6. Adjust reference_genome based on removed indices"
   ]
  },
  {
   "cell_type": "code",
   "execution_count": 73,
   "metadata": {},
   "outputs": [],
   "source": [
    "indices_to_remove = []\n",
    "for gap in confirmed_gaps:\n",
    "    for i in range(gap[0],gap[1]):\n",
    "        indices_to_remove.append(i)"
   ]
  },
  {
   "cell_type": "code",
   "execution_count": 74,
   "metadata": {},
   "outputs": [
    {
     "name": "stdout",
     "output_type": "stream",
     "text": [
      "Removing 1966213 positions\n"
     ]
    }
   ],
   "source": [
    "print(f\"Removing {len(indices_to_remove)} positions\")"
   ]
  },
  {
   "cell_type": "code",
   "execution_count": 75,
   "metadata": {},
   "outputs": [
    {
     "ename": "NameError",
     "evalue": "name 'temp_ref_genome' is not defined",
     "output_type": "error",
     "traceback": [
      "\u001b[0;31m---------------------------------------------------------------------------\u001b[0m",
      "\u001b[0;31mNameError\u001b[0m                                 Traceback (most recent call last)",
      "\u001b[0;32m<ipython-input-75-fcaeb4d88c52>\u001b[0m in \u001b[0;36m<module>\u001b[0;34m\u001b[0m\n\u001b[0;32m----> 1\u001b[0;31m \u001b[0mlen\u001b[0m\u001b[0;34m(\u001b[0m\u001b[0mtemp_ref_genome\u001b[0m\u001b[0;34m)\u001b[0m\u001b[0;34m\u001b[0m\u001b[0;34m\u001b[0m\u001b[0m\n\u001b[0m",
      "\u001b[0;31mNameError\u001b[0m: name 'temp_ref_genome' is not defined"
     ]
    }
   ],
   "source": [
    "len(temp_ref_genome)"
   ]
  },
  {
   "cell_type": "code",
   "execution_count": 76,
   "metadata": {},
   "outputs": [
    {
     "data": {
      "text/plain": [
       "6016056"
      ]
     },
     "execution_count": 76,
     "metadata": {},
     "output_type": "execute_result"
    }
   ],
   "source": [
    "max(indices_to_remove)"
   ]
  },
  {
   "cell_type": "code",
   "execution_count": 77,
   "metadata": {
    "tags": []
   },
   "outputs": [
    {
     "ename": "IndexError",
     "evalue": "list assignment index out of range",
     "output_type": "error",
     "traceback": [
      "\u001b[0;31m---------------------------------------------------------------------------\u001b[0m",
      "\u001b[0;31mIndexError\u001b[0m                                Traceback (most recent call last)",
      "\u001b[0;32m<ipython-input-77-65939b507695>\u001b[0m in \u001b[0;36m<module>\u001b[0;34m\u001b[0m\n\u001b[1;32m      1\u001b[0m \u001b[0mtemp_ref_genome\u001b[0m \u001b[0;34m=\u001b[0m \u001b[0mlist\u001b[0m\u001b[0;34m(\u001b[0m\u001b[0mref_genome\u001b[0m\u001b[0;34m)\u001b[0m\u001b[0;34m\u001b[0m\u001b[0;34m\u001b[0m\u001b[0m\n\u001b[1;32m      2\u001b[0m \u001b[0;32mfor\u001b[0m \u001b[0mindex\u001b[0m \u001b[0;32min\u001b[0m \u001b[0msorted\u001b[0m\u001b[0;34m(\u001b[0m\u001b[0mindices_to_remove\u001b[0m\u001b[0;34m,\u001b[0m \u001b[0mreverse\u001b[0m\u001b[0;34m=\u001b[0m\u001b[0;32mTrue\u001b[0m\u001b[0;34m)\u001b[0m\u001b[0;34m:\u001b[0m\u001b[0;34m\u001b[0m\u001b[0;34m\u001b[0m\u001b[0m\n\u001b[0;32m----> 3\u001b[0;31m     \u001b[0;32mdel\u001b[0m \u001b[0mtemp_ref_genome\u001b[0m\u001b[0;34m[\u001b[0m\u001b[0mindex\u001b[0m\u001b[0;34m]\u001b[0m\u001b[0;34m\u001b[0m\u001b[0;34m\u001b[0m\u001b[0m\n\u001b[0m\u001b[1;32m      4\u001b[0m \u001b[0mref_genome\u001b[0m \u001b[0;34m=\u001b[0m \u001b[0;34m''\u001b[0m\u001b[0;34m.\u001b[0m\u001b[0mjoin\u001b[0m\u001b[0;34m(\u001b[0m\u001b[0mtemp_ref_genome\u001b[0m\u001b[0;34m)\u001b[0m\u001b[0;34m\u001b[0m\u001b[0;34m\u001b[0m\u001b[0m\n\u001b[1;32m      5\u001b[0m \u001b[0mprint\u001b[0m\u001b[0;34m(\u001b[0m\u001b[0;34mf\"Selected focus are for chromosome from reference genome is {len(ref_genome)} BP long\"\u001b[0m\u001b[0;34m)\u001b[0m\u001b[0;34m\u001b[0m\u001b[0;34m\u001b[0m\u001b[0m\n",
      "\u001b[0;31mIndexError\u001b[0m: list assignment index out of range"
     ]
    }
   ],
   "source": [
    "temp_ref_genome = list(ref_genome)\n",
    "for index in sorted(indices_to_remove, reverse=True):\n",
    "    del temp_ref_genome[index]\n",
    "ref_genome = ''.join(temp_ref_genome)\n",
    "print(f\"Selected focus are for chromosome from reference genome is {len(ref_genome)} BP long\")"
   ]
  }
 ],
 "metadata": {
  "kernelspec": {
   "display_name": "Python 3",
   "language": "python",
   "name": "python3"
  },
  "language_info": {
   "codemirror_mode": {
    "name": "ipython",
    "version": 3
   },
   "file_extension": ".py",
   "mimetype": "text/x-python",
   "name": "python",
   "nbconvert_exporter": "python",
   "pygments_lexer": "ipython3",
   "version": "3.9.2"
  }
 },
 "nbformat": 4,
 "nbformat_minor": 4
}
