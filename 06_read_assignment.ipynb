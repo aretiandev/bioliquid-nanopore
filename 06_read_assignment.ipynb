{
 "cells": [
  {
   "cell_type": "markdown",
   "metadata": {},
   "source": [
    "# Read assignment\n",
    "\n",
    "This script makes sure the clusters do not flip as the sliding window moves to the right."
   ]
  },
  {
   "cell_type": "markdown",
   "metadata": {},
   "source": [
    "# Load modules"
   ]
  },
  {
   "cell_type": "code",
   "execution_count": 7,
   "metadata": {},
   "outputs": [],
   "source": [
    "import pandas as pd\n",
    "import numpy as np\n",
    "import matplotlib.pyplot as plt\n",
    "import os"
   ]
  },
  {
   "cell_type": "markdown",
   "metadata": {},
   "source": [
    "# Set Variables"
   ]
  },
  {
   "cell_type": "code",
   "execution_count": 8,
   "metadata": {},
   "outputs": [],
   "source": [
    "# Input variables\n",
    "run_number=\"run1\"\n",
    "chrom=\"chr11\"\n",
    "dis=\"sca\"\n",
    "# Setup\n",
    "chrom_dis=f\"{chrom}_{dis}\"\n",
    "rootdir=f\"/mnt/aretian/genomics/nanopore/{run_number}\"\n",
    "datadir=f\"/mnt/aretian/genomics/nanopore/{run_number}/data\"\n",
    "\n",
    "os.environ[\"run_number\"]=run_number\n",
    "os.environ[\"chrom_dis\"]=chrom_dis\n",
    "os.environ[\"datadir\"]=datadir"
   ]
  },
  {
   "cell_type": "markdown",
   "metadata": {},
   "source": [
    "# Load data"
   ]
  },
  {
   "cell_type": "code",
   "execution_count": 9,
   "metadata": {},
   "outputs": [],
   "source": [
    "# Load read_clusters\n",
    "\n",
    "# results_file = pd.read_csv(f\"../data/processed/{chromosomeID}_read_clusters_5000_1000_200iter.txt\")\n",
    "# results_file = pd.read_csv(f\"../data/processed/{chromosomeID}_read_clusters_10000_3000_200iter.txt\")\n",
    "results_file = pd.read_csv(f\"{datadir}/{chrom}_read_clusters.txt\")\n",
    "results_file.columns = ['ID', 'kmeans_cls2', 'window_num']\n",
    "\n",
    "# Load Nanopore Reads\n",
    "reads_filename = f'{run_number}_{chrom_dis}_clean'\n",
    "nanopore_reads = pd.read_csv(f\"{datadir}/{reads_filename}.csv\") # load nanopore reads with padded sequences and other attribute data\n",
    "\n",
    "# Add column(s)\n",
    "nanopore_reads['individual'] = np.nan\n",
    "results_file['individual'] = np.nan"
   ]
  },
  {
   "cell_type": "markdown",
   "metadata": {},
   "source": [
    "# Helper functions"
   ]
  },
  {
   "cell_type": "code",
   "execution_count": 10,
   "metadata": {},
   "outputs": [],
   "source": [
    "def propagate_assignment_1(read):\n",
    "    print('_', end=\"\")\n",
    "    \n",
    "    ID = read['ID']\n",
    "    individual = read['individual']\n",
    "    \n",
    "    # Write results\n",
    "    nanopore_reads.loc[nanopore_reads.ID == ID, 'individual'] = individual # propagate the person assignment to the main reads dataframe\n",
    "    results_file.loc[results_file['ID'] == ID, 'individual'] = individual # propagate the person assignment to the main reads dataframe\n",
    "    ID_person_match[ID] = individual # add result to dictionary of results\n",
    "\n",
    "def propagate_assignment_2(read):\n",
    "    ID = read['ID']\n",
    "    individual = read['individual']\n",
    "    \n",
    "    if ID in ID_person_match.keys():\n",
    "        # ID has already been assigned \n",
    "        # NOTE: same as \"if np.isnan(read_result['individual']) == False\"\n",
    "        print(\"-\", end=\"\")\n",
    "        return None\n",
    "    \n",
    "    # Get cluster assignment of read: 0 or 1\n",
    "#     cluster_num = window_reads.loc[window_reads['ID'] == ID, 'kmeans_cls2'].values[0]\n",
    "    cluster_num = read['kmeans_cls2']\n",
    "\n",
    "    # see the individual assigned to IDs in this cluster in this particular window\n",
    "    cluster_family = window_reads.loc[window_reads['kmeans_cls2'] == cluster_num]\n",
    "    cluster_family_notna = cluster_family.loc[cluster_family['individual'].notnull()]\n",
    "    assigned_individual = cluster_family_notna['individual'].unique()\n",
    "#     print(f'Assigned individual: {assigned_individual}')\n",
    "\n",
    "\n",
    "    if len(assigned_individual) > 1:\n",
    "        # this cluster has mixed assignment which is bad\n",
    "        # we expect that if IDs are already assigned they were in the same cluster in the previous window(s)\n",
    "        # which means that this issue should theoretically never happen (NOTE: think about/check this logic)\n",
    "#         print('ERROR: Found a window with person0 and person1 in the same cluster.')\n",
    "#         print(\"E\", end=\"\")\n",
    "#         return None\n",
    "\n",
    "#         # Make a call for this reads with mixed assignment\n",
    "        mean_individual_to_assign = cluster_family_notna['individual'].mean()\n",
    "        if mean_individual_to_assign == 0.5:\n",
    "            if loop_direction=='left':\n",
    "                individual_to_assign = cluster_family_notna['individual'].iloc[-1]\n",
    "            else:\n",
    "                individual_to_assign = cluster_family_notna['individual'].iloc[0]\n",
    "            print(\"T\", end=\"\")\n",
    "        else:\n",
    "            individual_to_assign = round(mean_individual_to_assign) \n",
    "            print(\"E\", end=\"\")\n",
    "            \n",
    "#         # Write results\n",
    "        nanopore_reads.loc[nanopore_reads['ID'] == ID, 'individual'] = individual_to_assign # propagate the person assignment to the main reads dataframe\n",
    "        results_file.loc[results_file['ID'] == ID, 'individual'] = individual_to_assign # propagate the person assignment to the main reads dataframe\n",
    "        ID_person_match[ID] = individual_to_assign # add result to dictionary of results\n",
    "        \n",
    "\n",
    "    elif len(assigned_individual) == 0:\n",
    "        # All reads in the cluster_family are unassigned (NaN)\n",
    "        # Look at what is the assigned individual of the opposite cluster\n",
    "        other_cluster_family = window_reads.loc[window_reads['kmeans_cls2'] == (1-cluster_num)]\n",
    "        other_cluster_family_notna = other_cluster_family.loc[other_cluster_family['individual'].notnull()]\n",
    "        other_assigned_individual = other_cluster_family_notna['individual'].unique()\n",
    "#         print(f'New read. Other assigned individual: {other_assigned_individual[0]}')\n",
    "        print(\"o\", end=\"\")\n",
    "        \n",
    "        # Assign the opposite individual\n",
    "        individual_to_assign = 1-other_assigned_individual[0]\n",
    "        \n",
    "        # Bulk write results\n",
    "        for ID in cluster_family['ID'].unique(): # For every read in the same cluster\n",
    "            if nanopore_reads.loc[nanopore_reads['ID'] == ID, 'individual'].isna().values[0]:\n",
    "                nanopore_reads.loc[nanopore_reads['ID'] == ID, 'individual'] = individual_to_assign # propagate the person assignment to the main reads dataframe\n",
    "                results_file.loc[results_file['ID'] == ID, 'individual'] = individual_to_assign # propagate the person assignment to the main reads dataframe\n",
    "                ID_person_match[ID] = individual_to_assign # add result to dictionary of results\n",
    "        \n",
    "    elif len(assigned_individual) == 1:\n",
    "        print(\"s\", end=\"\")\n",
    "        \n",
    "        # Reads in the same cluster have already been assigned\n",
    "        individual_to_assign = assigned_individual[0] # check this syntax\n",
    "\n",
    "        # Bulk write results\n",
    "        for ID in cluster_family['ID'].unique():\n",
    "            if nanopore_reads.loc[nanopore_reads['ID'] == ID, 'individual'].isna().values[0]:\n",
    "                nanopore_reads.loc[nanopore_reads['ID'] == ID, 'individual'] = individual_to_assign # propagate the person assignment to the main reads dataframe\n",
    "                results_file.loc[results_file['ID'] == ID, 'individual'] = individual_to_assign # propagate the person assignment to the main reads dataframe\n",
    "                ID_person_match[ID] = individual_to_assign # add result to dictionary of results\n"
   ]
  },
  {
   "cell_type": "code",
   "execution_count": 11,
   "metadata": {},
   "outputs": [],
   "source": [
    "# for ID in cluster_family.ID.unique():\n",
    "#     print(type(ID))\n",
    "#     print(ID)\n",
    "#     print(nanopore_reads.loc[nanopore_reads['ID'] == ID, 'individual'].notnull().values[0])\n",
    "#     if np.isnan(nanopore_reads.loc[nanopore_reads['ID'] == ID, 'individual'].values[0]):\n",
    "#         print('It is null')\n",
    "\n",
    "# cluster_family\n",
    "\n",
    "# nanopore_reads.loc[nanopore_reads.ID == 33]\n",
    "\n",
    "# if np.isnan(nanopore_reads.loc[nanopore_reads['ID'] == 33, 'individual'].values[0]):\n",
    "#     print('It is null')\n",
    "\n",
    "# cluster_family = window_reads.loc[window_reads['kmeans_cls2'] == 0]\n",
    "# cluster_family_notna = cluster_family.loc[cluster_family['individual'].notnull()]\n",
    "# assigned_individual = cluster_family_notna['individual'].unique()\n",
    "\n",
    "# assigned_individual[0]"
   ]
  },
  {
   "cell_type": "markdown",
   "metadata": {},
   "source": [
    "# Main Loop: check assignment"
   ]
  },
  {
   "cell_type": "code",
   "execution_count": 12,
   "metadata": {},
   "outputs": [
    {
     "name": "stdout",
     "output_type": "stream",
     "text": [
      "Total windows: 53\n",
      "Current window: 34____ 33---- 32--o 31--- 30--- 29--- 28--- 27--- 26--- 25--- 24--- 23-- 22-- 21-- 20-- 19-- 18- 17 16 15 14 13 12 11 10 9 8 7 6 5 4 3 2 1 0 35---- 36---- 37---- 38---- 39---- 40---- 41---- 42---- 43--- 44--- 45--- 46--- 47--- 48--- 49--- 50-- 51-- 52-- 53-- 54-- 55--s 56--- 57--- 58--- 59--- 60--- 61-- 62-- 63-o 64--s- 65---- 66---- 67---- 68---- 69---- 70---"
     ]
    }
   ],
   "source": [
    "# Setup\n",
    "ID_person_match = {} #Dictionary to keep track of kmeans cluster and individual assignment\n",
    "first_iter = True\n",
    "\n",
    "# Feedback to user\n",
    "n_windows = results_file['window_num'].nunique()\n",
    "print(f\"Total windows: {n_windows}\")\n",
    "print(f\"Current window:\", end=\"\")\n",
    "\n",
    "# Identify idmax of window\n",
    "window_idxmax = results_file.groupby('window_num').count().idxmax().values[0]\n",
    "# Loop to the left\n",
    "loop_direction = 'left'\n",
    "\n",
    "for window in range(window_idxmax+1,-1,-1):\n",
    "# for window in results_file['window_num'].unique(): # iterate through instances of the sliding window \n",
    "    \n",
    "    print(f\" {window}\", end=\"\")\n",
    "    \n",
    "    window_reads = results_file.loc[results_file['window_num']==window].copy() # get data only from this window\n",
    "    \n",
    "    # If window does not exist, skip\n",
    "    if len(window_reads)==0:\n",
    "        continue\n",
    "    \n",
    "    # We now have IDs, cluster decisions (0,1) for every read that was included in this window.\n",
    "    \n",
    "    # Step 1: We make a decision in the first window\n",
    "    if first_iter == True:\n",
    "        \n",
    "        # Make decision in first window\n",
    "        window_reads.loc[window_reads['kmeans_cls2'] == 0, 'individual'] = 0\n",
    "        window_reads.loc[window_reads['kmeans_cls2'] == 1, 'individual'] = 1\n",
    "        \n",
    "        window_reads.apply(lambda x: propagate_assignment_1(x), axis=1) # add results to main reads file\n",
    "        \n",
    "        first_iter = False\n",
    "        continue\n",
    "        \n",
    "    # Step 2: We perform ID bookeeping and cluster association to manage all following windows\n",
    "    # Book-keeping:\n",
    "    # Step 1: make sure IDs match for ones that are already claimed\n",
    "    # Step 2: if an ID has not been assigned determine its cluster (0,1) assign the associated individual based on already assigned reads in the cluster\n",
    "    window_reads.apply(lambda x: propagate_assignment_2(x), axis=1) # add results to main reads file\n",
    "    \n",
    "# Loop right\n",
    "loop_direction = 'right'\n",
    "max(results_file['window_num'])\n",
    "\n",
    "for window in range(window_idxmax+2,max(results_file['window_num'])+1,1):\n",
    "    \n",
    "    print(f\" {window}\", end=\"\")\n",
    "    \n",
    "    window_reads = results_file.loc[results_file['window_num']==window].copy() # get data only from this window\n",
    "    \n",
    "    # We now have IDs, cluster decisions (0,1) for every read that was included in this window.\n",
    "    \n",
    "    # Step 1: We make a decision in the first window\n",
    "#     if first_iter == True:\n",
    "        \n",
    "#         # Make decision in first window\n",
    "#         window_reads.loc[window_reads['kmeans_cls2'] == 0, 'individual'] = 0\n",
    "#         window_reads.loc[window_reads['kmeans_cls2'] == 1, 'individual'] = 1\n",
    "        \n",
    "#         window_reads.apply(lambda x: propagate_assignment_1(x), axis=1) # add results to main reads file\n",
    "        \n",
    "#         first_iter = False\n",
    "#         continue\n",
    "        \n",
    "    # Step 2: We perform ID bookeeping and cluster association to manage all following windows\n",
    "    # Book-keeping:\n",
    "    # Step 1: make sure IDs match for ones that are already claimed\n",
    "    # Step 2: if an ID has not been assigned determine its cluster (0,1) assign the associated individual based on already assigned reads in the cluster\n",
    "    window_reads.apply(lambda x: propagate_assignment_2(x), axis=1) # add results to main reads file\n"
   ]
  },
  {
   "cell_type": "markdown",
   "metadata": {},
   "source": [
    "# Check Results\n",
    "\n",
    "We prefer within cluster errors to inter window errors"
   ]
  },
  {
   "cell_type": "code",
   "execution_count": 13,
   "metadata": {},
   "outputs": [
    {
     "name": "stdout",
     "output_type": "stream",
     "text": [
      "Window with most reads: 33\n"
     ]
    },
    {
     "data": {
      "text/plain": [
       "[<matplotlib.lines.Line2D at 0x7f323a366f50>]"
      ]
     },
     "execution_count": 13,
     "metadata": {},
     "output_type": "execute_result"
    },
    {
     "data": {
      "image/png": "[encoded data removed]",
      "text/plain": [
       "<Figure size 432x288 with 1 Axes>"
      ]
     },
     "metadata": {
      "needs_background": "light"
     },
     "output_type": "display_data"
    }
   ],
   "source": [
    "# Window with most reads\n",
    "print(f\"Window with most reads: {results_file.groupby('window_num').count()['ID'].idxmax()}\")\n",
    "plt.plot(results_file.groupby('window_num').count()['ID'])"
   ]
  },
  {
   "cell_type": "code",
   "execution_count": 14,
   "metadata": {},
   "outputs": [
    {
     "data": {
      "text/plain": [
       "<matplotlib.collections.PathCollection at 0x7f3242e4cf50>"
      ]
     },
     "execution_count": 14,
     "metadata": {},
     "output_type": "execute_result"
    },
    {
     "data": {
      "image/png": "[encoded data removed]",
      "text/plain": [
       "<Figure size 1440x144 with 1 Axes>"
      ]
     },
     "metadata": {
      "needs_background": "light"
     },
     "output_type": "display_data"
    }
   ],
   "source": [
    "# View read assignment\n",
    "fig, ax = plt.subplots(figsize=(20,2))\n",
    "plt.scatter(results_file['ID'], results_file['individual'])"
   ]
  },
  {
   "cell_type": "code",
   "execution_count": 15,
   "metadata": {},
   "outputs": [
    {
     "data": {
      "text/html": [
       "<div>\n",
       "<style scoped>\n",
       "    .dataframe tbody tr th:only-of-type {\n",
       "        vertical-align: middle;\n",
       "    }\n",
       "\n",
       "    .dataframe tbody tr th {\n",
       "        vertical-align: top;\n",
       "    }\n",
       "\n",
       "    .dataframe thead th {\n",
       "        text-align: right;\n",
       "    }\n",
       "</style>\n",
       "<table border=\"1\" class=\"dataframe\">\n",
       "  <thead>\n",
       "    <tr style=\"text-align: right;\">\n",
       "      <th></th>\n",
       "      <th>ID</th>\n",
       "      <th>kmeans_cls2</th>\n",
       "      <th>window_num</th>\n",
       "      <th>individual</th>\n",
       "    </tr>\n",
       "  </thead>\n",
       "  <tbody>\n",
       "  </tbody>\n",
       "</table>\n",
       "</div>"
      ],
      "text/plain": [
       "Empty DataFrame\n",
       "Columns: [ID, kmeans_cls2, window_num, individual]\n",
       "Index: []"
      ]
     },
     "execution_count": 15,
     "metadata": {},
     "output_type": "execute_result"
    }
   ],
   "source": [
    "# Are there NaNs?\n",
    "results_file.loc[results_file['individual'].isna()]"
   ]
  },
  {
   "cell_type": "markdown",
   "metadata": {},
   "source": [
    "# Create Bam Files"
   ]
  },
  {
   "cell_type": "markdown",
   "metadata": {},
   "source": [
    "### Get list of IDs for both persons"
   ]
  },
  {
   "cell_type": "code",
   "execution_count": 453,
   "metadata": {},
   "outputs": [],
   "source": [
    "# Create ID column\n",
    "# nanopore_reads['uniqueid']=nanopore_reads['QNAME']+'\\t'+nanopore_reads['FLAG'].apply(str)+'\\t'+nanopore_reads['RNAME'].apply(str)+'\\t'+nanopore_reads['POS'].apply(str)\n",
    "nanopore_reads['uniqueid']=nanopore_reads['QNAME'] # Fix later to replace with unique ids as above\n",
    "\n",
    "# Write two text files\n",
    "for person in [0,1]:\n",
    "    # Get IDs of Person\n",
    "    personuniqueids = nanopore_reads.loc[nanopore_reads['individual']==person, 'uniqueid']\n",
    "    # Save to text file\n",
    "    np.savetxt(f\"../data/run1/processed/person{person}uniqueids.txt\", personuniqueids.values , fmt='%s')"
   ]
  },
  {
   "cell_type": "markdown",
   "metadata": {},
   "source": [
    "### Extract selected IDs from bam file"
   ]
  },
  {
   "cell_type": "code",
   "execution_count": 455,
   "metadata": {
    "tags": []
   },
   "outputs": [],
   "source": [
    "%%bash\n",
    "cd ../data/run1/processed\n",
    "\n",
    "# Get reads\n",
    "samtools view bioliquid_chr17_pompe.bam | grep -f person0uniqueids.txt > person0_reads.sam\n",
    "samtools view bioliquid_chr17_pompe.bam | grep -f person1uniqueids.txt > person1_reads.sam\n",
    "# Get header\n",
    "samtools view -H bioliquid_chr17_pompe.bam > person_header.txt\n",
    "# Concatenate\n",
    "cat person_header.txt person0_reads.sam > person0.sam\n",
    "cat person_header.txt person1_reads.sam > person1.sam\n",
    "# Convert to bam file\n",
    "samtools view -b person0.sam > person0.bam\n",
    "samtools view -b person1.sam > person1.bam"
   ]
  },
  {
   "cell_type": "markdown",
   "metadata": {},
   "source": [
    "# Save results"
   ]
  },
  {
   "cell_type": "code",
   "execution_count": 14,
   "metadata": {},
   "outputs": [],
   "source": [
    "# ID_individual_mapping = pd.DataFrame(ID_person_match.items()) \n",
    "# ID_individual_mapping.to_csv('../data/processed/ID_individual_matches.csv')\n",
    "\n",
    "# nanopore_reads.to_csv(f'../data/processed/{reads_filename}_checked.csv)\n",
    "\n",
    "# results_file.to_csv('../data/processed/{chromosomeID}_read_clusters_checked.txt')"
   ]
  }
 ],
 "metadata": {
  "kernelspec": {
   "display_name": "Genomics",
   "language": "python",
   "name": "genomics"
  },
  "language_info": {
   "codemirror_mode": {
    "name": "ipython",
    "version": 3
   },
   "file_extension": ".py",
   "mimetype": "text/x-python",
   "name": "python",
   "nbconvert_exporter": "python",
   "pygments_lexer": "ipython3",
   "version": "3.7.6"
  }
 },
 "nbformat": 4,
 "nbformat_minor": 4
}
