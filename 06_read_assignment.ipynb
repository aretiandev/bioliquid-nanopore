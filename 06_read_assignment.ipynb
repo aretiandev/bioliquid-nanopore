{
 "cells": [
  {
   "cell_type": "markdown",
   "metadata": {},
   "source": [
    "# Read assignment\n",
    "\n",
    "This script makes sure the clusters do not flip as the sliding window moves to the right."
   ]
  },
  {
   "cell_type": "markdown",
   "metadata": {},
   "source": [
    "# Load modules"
   ]
  },
  {
   "cell_type": "code",
   "execution_count": 41,
   "metadata": {},
   "outputs": [],
   "source": [
    "import pandas as pd\n",
    "import numpy as np\n",
    "import matplotlib.pyplot as plt\n",
    "import os"
   ]
  },
  {
   "cell_type": "markdown",
   "metadata": {},
   "source": [
    "# Set Variables"
   ]
  },
  {
   "cell_type": "code",
   "execution_count": 42,
   "metadata": {},
   "outputs": [],
   "source": [
    "# Input variables\n",
    "run_number=\"run1\"\n",
    "chrom=\"chr11\"\n",
    "dis=\"sca\"\n",
    "# Setup\n",
    "chrom_dis=f\"{chrom}_{dis}\"\n",
    "rootdir=f\"/mnt/aretian/genomics/nanopore/{run_number}\"\n",
    "datadir=f\"/mnt/aretian/genomics/nanopore/{run_number}/data\"\n",
    "\n",
    "os.environ[\"run_number\"]=run_number\n",
    "os.environ[\"chrom_dis\"]=chrom_dis\n",
    "os.environ[\"datadir\"]=datadir"
   ]
  },
  {
   "cell_type": "markdown",
   "metadata": {},
   "source": [
    "# Load data"
   ]
  },
  {
   "cell_type": "code",
   "execution_count": 43,
   "metadata": {},
   "outputs": [],
   "source": [
    "# Load read_clusters\n",
    "\n",
    "# results_file = pd.read_csv(f\"../data/processed/{chromosomeID}_read_clusters_5000_1000_200iter.txt\")\n",
    "# results_file = pd.read_csv(f\"../data/processed/{chromosomeID}_read_clusters_10000_3000_200iter.txt\")\n",
    "results_file = pd.read_csv(f\"{datadir}/{run_number}_{chrom}_read_clusters.txt\")\n",
    "# results_file = pd.read_csv(f\"{datadir}/{run_number}_{chrom}_read_clusters.txt\")\n",
    "results_file.columns = ['ID', 'kmeans_cls2', 'window_num']\n",
    "\n",
    "# Load Nanopore Reads\n",
    "reads_filename = f'{run_number}_{chrom_dis}_clean'\n",
    "nanopore_reads = pd.read_csv(f\"{datadir}/{reads_filename}.csv\") # load nanopore reads with padded sequences and other attribute data\n",
    "\n",
    "# Add column(s)\n",
    "nanopore_reads['individual'] = np.nan\n",
    "results_file['individual'] = np.nan"
   ]
  },
  {
   "cell_type": "markdown",
   "metadata": {},
   "source": [
    "# Helper functions"
   ]
  },
  {
   "cell_type": "code",
   "execution_count": 44,
   "metadata": {},
   "outputs": [],
   "source": [
    "def propagate_assignment_1(read):\n",
    "    print('_', end=\"\")\n",
    "    \n",
    "    ID = read['ID']\n",
    "    individual = read['individual']\n",
    "    \n",
    "    # Write results\n",
    "    nanopore_reads.loc[nanopore_reads.ID == ID, 'individual'] = individual # propagate the person assignment to the main reads dataframe\n",
    "    results_file.loc[results_file['ID'] == ID, 'individual'] = individual # propagate the person assignment to the main reads dataframe\n",
    "    ID_person_match[ID] = individual # add result to dictionary of results\n",
    "\n",
    "def propagate_assignment_2(read):\n",
    "    ID = read['ID']\n",
    "    individual = read['individual']\n",
    "    \n",
    "    if ID in ID_person_match.keys():\n",
    "        # ID has already been assigned \n",
    "        # NOTE: same as \"if np.isnan(read_result['individual']) == False\"\n",
    "        print(\"-\", end=\"\")\n",
    "        return None\n",
    "    \n",
    "    # Get cluster assignment of read: 0 or 1\n",
    "#     cluster_num = window_reads.loc[window_reads['ID'] == ID, 'kmeans_cls2'].values[0]\n",
    "    cluster_num = read['kmeans_cls2']\n",
    "\n",
    "    # see the individual assigned to IDs in this cluster in this particular window\n",
    "    cluster_family = window_reads.loc[window_reads['kmeans_cls2'] == cluster_num]\n",
    "    cluster_family_notna = cluster_family.loc[cluster_family['individual'].notnull()]\n",
    "    assigned_individual = cluster_family_notna['individual'].unique()\n",
    "#     print(f'Assigned individual: {assigned_individual}')\n",
    "\n",
    "\n",
    "    if len(assigned_individual) > 1:\n",
    "        # this cluster has mixed assignment which is bad\n",
    "        # we expect that if IDs are already assigned they were in the same cluster in the previous window(s)\n",
    "        # which means that this issue should theoretically never happen (NOTE: think about/check this logic)\n",
    "#         print('ERROR: Found a window with person0 and person1 in the same cluster.')\n",
    "#         print(\"E\", end=\"\")\n",
    "#         return None\n",
    "\n",
    "#         # Make a call for this reads with mixed assignment\n",
    "        mean_individual_to_assign = cluster_family_notna['individual'].mean()\n",
    "        if mean_individual_to_assign == 0.5:\n",
    "            if loop_direction=='left':\n",
    "                individual_to_assign = cluster_family_notna['individual'].iloc[-1]\n",
    "            else:\n",
    "                individual_to_assign = cluster_family_notna['individual'].iloc[0]\n",
    "            print(\"T\", end=\"\")\n",
    "        else:\n",
    "            individual_to_assign = round(mean_individual_to_assign) \n",
    "            print(\"E\", end=\"\")\n",
    "            \n",
    "#         # Write results\n",
    "        nanopore_reads.loc[nanopore_reads['ID'] == ID, 'individual'] = individual_to_assign # propagate the person assignment to the main reads dataframe\n",
    "        results_file.loc[results_file['ID'] == ID, 'individual'] = individual_to_assign # propagate the person assignment to the main reads dataframe\n",
    "        ID_person_match[ID] = individual_to_assign # add result to dictionary of results\n",
    "        \n",
    "\n",
    "    elif len(assigned_individual) == 0:\n",
    "        # All reads in the cluster_family are unassigned (NaN)\n",
    "        # Look at what is the assigned individual of the opposite cluster\n",
    "        other_cluster_family = window_reads.loc[window_reads['kmeans_cls2'] == (1-cluster_num)]\n",
    "        other_cluster_family_notna = other_cluster_family.loc[other_cluster_family['individual'].notnull()]\n",
    "        other_assigned_individual = other_cluster_family_notna['individual'].unique()\n",
    "#         print(f'New read. Other assigned individual: {other_assigned_individual[0]}')\n",
    "        print(\"o\", end=\"\")\n",
    "        \n",
    "        # Assign the opposite individual\n",
    "        individual_to_assign = 1-other_assigned_individual[0]\n",
    "        \n",
    "        # Bulk write results\n",
    "        for ID in cluster_family['ID'].unique(): # For every read in the same cluster\n",
    "            if nanopore_reads.loc[nanopore_reads['ID'] == ID, 'individual'].isna().values[0]:\n",
    "                nanopore_reads.loc[nanopore_reads['ID'] == ID, 'individual'] = individual_to_assign # propagate the person assignment to the main reads dataframe\n",
    "                results_file.loc[results_file['ID'] == ID, 'individual'] = individual_to_assign # propagate the person assignment to the main reads dataframe\n",
    "                ID_person_match[ID] = individual_to_assign # add result to dictionary of results\n",
    "        \n",
    "    elif len(assigned_individual) == 1:\n",
    "        print(\"s\", end=\"\")\n",
    "        \n",
    "        # Reads in the same cluster have already been assigned\n",
    "        individual_to_assign = assigned_individual[0] # check this syntax\n",
    "\n",
    "        # Bulk write results\n",
    "        for ID in cluster_family['ID'].unique():\n",
    "            if nanopore_reads.loc[nanopore_reads['ID'] == ID, 'individual'].isna().values[0]:\n",
    "                nanopore_reads.loc[nanopore_reads['ID'] == ID, 'individual'] = individual_to_assign # propagate the person assignment to the main reads dataframe\n",
    "                results_file.loc[results_file['ID'] == ID, 'individual'] = individual_to_assign # propagate the person assignment to the main reads dataframe\n",
    "                ID_person_match[ID] = individual_to_assign # add result to dictionary of results\n"
   ]
  },
  {
   "cell_type": "code",
   "execution_count": 45,
   "metadata": {},
   "outputs": [],
   "source": [
    "# for ID in cluster_family.ID.unique():\n",
    "#     print(type(ID))\n",
    "#     print(ID)\n",
    "#     print(nanopore_reads.loc[nanopore_reads['ID'] == ID, 'individual'].notnull().values[0])\n",
    "#     if np.isnan(nanopore_reads.loc[nanopore_reads['ID'] == ID, 'individual'].values[0]):\n",
    "#         print('It is null')\n",
    "\n",
    "# cluster_family\n",
    "\n",
    "# nanopore_reads.loc[nanopore_reads.ID == 33]\n",
    "\n",
    "# if np.isnan(nanopore_reads.loc[nanopore_reads['ID'] == 33, 'individual'].values[0]):\n",
    "#     print('It is null')\n",
    "\n",
    "# cluster_family = window_reads.loc[window_reads['kmeans_cls2'] == 0]\n",
    "# cluster_family_notna = cluster_family.loc[cluster_family['individual'].notnull()]\n",
    "# assigned_individual = cluster_family_notna['individual'].unique()\n",
    "\n",
    "# assigned_individual[0]"
   ]
  },
  {
   "cell_type": "markdown",
   "metadata": {},
   "source": [
    "# Main Loop: check assignment"
   ]
  },
  {
   "cell_type": "code",
   "execution_count": 46,
   "metadata": {},
   "outputs": [
    {
     "name": "stdout",
     "output_type": "stream",
     "text": [
      "Total windows: 3884\n",
      "Current window: 2115______________ 2114--s------------- 2113--------------- 2112-E------------ 2111------------ 2110------------ 2109----------- 2108--------- 2107--------- 2106------- 2105------- 2104------- 2103------ 2102---T--- 2101------- 2100------- 2099------- 2098------- 2097E------- 2096----T---- 2095-------- 2094------- 2093------ 2092------ 2091------ 2090---T--- 2089------- 2088--s-- 2087---T-- 2086-----s- 2085------ 2084------ 2083------ 2082------ 2081---T-T-- 2080------- 2079------- 2078------ 2077--E---- 2076------- 2075------ 2074------ 2073-----s- 2072------- 2071------- 2070------- 2069------- 2068------ 2067------ 2066------ 2065s---- 2064---- 2063---- 2062-s--- 2061----- 2060----- 2059----- 2058----- 2057----- 2056----- 2055----- 2054----- 2053----o-- 2052------- 2051-----E-- 2050-------- 2049-------- 2048------- 2047-E----- 2046------- 2045------- 2044----- 2043T----- 2042---- 2041---s- 2040----- 2039----- 2038---TT-- 2037------ 2036------ 2035------ 2034------ 2033-s----- 2032------ 2031------ 2030------ 2029------ 2028------ 2027------ 2026------ 2025------ 2024----- 2023----- 2022----- 2021----- 2020----- 2019----- 2018----- 2017--s--- 2016----- 2015----- 2014----- 2013----- 2012----- 2011----- 2010----- 2009---- 2008---- 2007---- 2006--s-- 2005---s-- 2004------ 2003------ 2002------ 2001----- 2000--- 1999T--- 1998---- 1997---- 1996---- 1995---s- 1994---- 1993---- 1992---- 1991---- 1990---- 1989---- 1988s----- 1987------ 1986-s----- 1985s------- 1984-------- 1983-------- 1982------- 1981------ 1980------ 1979---s-- 1978----- 1977----- 1976---- 1975---- 1974--s-- 1973---- 1972---- 1971---- 1970---- 1969---- 1968---- 1967---- 1966---- 1965---- 1964---- 1963--- 1962-- 1961--s 1960--- 1959-s-- 1958--s-- 1957----- 1956----- 1955-s---- 1954----s-- 1953------- 1952----s--- 1951-------- 1950-------- 1949-------- 1948----- 1947----- 1946----- 1945--- 1944-- 1943-- 1942-- 1941-- 1940e 1939e 1938e 1937e 1936e 1935-o 1934-- 1933-- 1932s--- 1931---- 1930-s--- 1929----- 1928----- 1927----- 1926--- 1925--T- 1924---- 1923---- 1922-s--- 1921----- 1920----- 1919---s-- 1918------ 1917----- 1916-s----- 1915------- 1914------- 1913------- 1912----s--- 1911-------- 1910-------- 1909----E---- 1908--------- 1907-------- 1906s------- 1905-------- 1904---s--- 1903-s----- 1902------- 1901s------ 1900------- 1899------- 1898------- 1897------- 1896------- 1895------- 1894------ 1893------ 1892----- 1891----- 1890----- 1889----- 1888----- 1887---- 1886--s-- 1885----- 1884----- 1883----- 1882---- 1881---- 1880--s- 1879---- 1878---- 1877---- 1876---- 1875---- 1874--- 1873--- 1872--- 1871--- 1870--- 1869-s-- 1868--- 1867--- 1866--- 1865-s-- 1864---- 1863---- 1862---- 1861---- 1860---- 1859---- 1858s-- 1857--- 1856s--- 1855---- 1854s---- 1853----- 1852--s--- 1851------ 1850------ 1849----- 1848----- 1847s------ 1846----s-- 1845------- 1844------ 1843------ 1842-s----- 1841----s--- 1840-------- 1839-----s-- 1838------- 1837------- 1836------- 1835----s--- 1834------- 1833------- 1832------- 1831------ 1830---s--- 1829---s--- 1828------- 1827--s----- 1826s------- 1825---s----- 1824------- 1823------ 1822------ 1821----- 1820--s--- 1819------ 1818------ 1817----- 1816---- 1815---- 1814--- 1813--- 1812-- 1811-- 1810-- 1809-- 1808--s- 1807---- 1806---- 1805---- 1804---- 1803---- 1802---- 1801--- 1800-s-- 1799--- 1798--- 1797--s- 1796s---- 1795----- 1794---- 1793---- 1792---- 1791--s-- 1790----- 1789----- 1788----s 1787----- 1786----- 1785----- 1784----- 1783----- 1782----- 1781----- 1780---- 1779---- 1778--s-- 1777-----s 1776------ 1775------ 1774------ 1773------ 1772------ 1771------ 1770----o--- 1769-------s- 1768----E----- 1767---------- 1766---------- 1765--------- 1764--------- 1763-------- 1762-------- 1761----T---- 1760--------- 1759-------- 1758------- 1757------- 1756------ 1755------ 1754------ 1753o------- 1752-------- 1751-------- 1750-------- 1749-------- 1748------s-- 1747-------- 1746----s---- 1745--------- 1744--------- 1743-------- 1742-------- 1741-s------- 1740--------- 1739--T------ 1738--------- 1737--------- 1736--------- 1735-E------- 1734--E------- 1733--------- 1732--------- 1731------- 1730------- 1729---E--- 1728----- 1727----- 1726----- 1725---- 1724---- 1723--s-- 1722---s-- 1721----- 1720----- 1719----- 1718----- 1717----- 1716----- 1715-s---- 1714----- 1713-E---- 1712-----s- 1711------- 1710------- 1709------ 1708------ 1707------ 1706----s-- 1705------ 1704------ 1703----- 1702----- 1701----- 1700---- 1699--E-- 1698----- 1697----- 1696---- 1695---- 1694--s-- 1693----- 1692----- 1691----- 1690----- 1689---- 1688---- 1687---- 1686--EE-- 1685E----- 1684------ 1683----- 1682----- 1681----- 1680----- 1679---- 1678--- 1677--- 1676--- 1675e 1674e 1673e 1672o- 1671-- 1670-- 1669-- 1668e 1667-o 1666-- 1665o-- 1664--- 1663--s- 1662----s 1661----- 1660---s-- 1659------ 1658------ 1657------ 1656------ 1655------ 1654------ 1653------ 1652------ 1651----- 1650----- 1649-----E 1648------ 1647------ 1646------ 1645------ 1644----s-- 1643------- 1642------ 1641------ 1640---s--- 1639------- 1638------- 1637------- 1636------- 1635------- 1634------- 1633------ 1632------ 1631----- 1630--E-- 1629---s- 1628----- 1627----- 1626-s---- 1625------ 1624---s-- 1623----- 1622----- 1621-----s- 1620------- 1619------- 1618-----s-- 1617-------- 1616-------- 1615------- 1614------ 1613------ 1612-E---- 1611----- 1610----- 1609---- 1608--- 1607--- 1606--- 1605--- 1604--- 1603--- 1602---s 1601---- 1600---s-- 1599------ 1598------ 1597------ 1596------ 1595------ 1594------ 1593s------ 1592------- 1591------- 1590----s-- 1589------- 1588------- 1587---s--- 1586------ 1585---s--- 1584------ 1583------ 1582---s--- 1581---s-- 1580------ 1579-s----- 1578-----s-- 1577-------- 1576------- 1575------- 1574------- 1573-----s-- 1572-------- 1571-------- 1570------ 1569s------ 1568------- 1567----- 1566-s---- 1565----- 1564-s---- 1563------ 1562------ 1561------ 1560---s-- 1559------ 1558----- 1557----- 1556---- 1555---- 1554s---- 1553----- 1552--- 1551--- 1550s--- 1549---- 1548---- 1547-s--- 1546--s--- 1545--s--- 1544------ 1543------ 1542---- 1541---- 1540--- 1539-s-- 1538--- 1537--s 1536--- 1535--- 1534s--- 1533-s--- 1532----- 1531---- 1530---- 1529--- 1528--s- 1527---- 1526s---- 1525----- 1524----- 1523----- 1522----- 1521----- 1520---s-- 1519------ 1518----- 1517----s- 1516------ 1515------ 1514------ 1513------ 1512-----s- 1511------- 1510------ 1509---s--- 1508------- 1507----- 1506----- 1505----- 1504---- 1503---- 1502--- 1501--- 1500-- 1499-- 1498-o 1497--o 1496---s 1495---- 1494---- 1493---- 1492s---- 1491----- 1490s-- 1489--- 1488--- 1487--s- 1486---- 1485---- 1484-E--- 1483---- 1482---- 1481--- 1480---T 1479---- 1478---- 1477---- 1476-E--- 1475-E--- 1474E----- 1473E----- 1472------ 1471----- 1470----- 1469--- 1468-- 1467-- 1466-- 1465-- 1464--s 1463--- 1462--- 1461--- 1460--- 1459--- 1458--- 1457-- 1456s-- 1455-s-- 1454---s- 1453----- 1452----- 1451---- 1450---- 1449-s--- 1448----- 1447----- 1446----- 1445----- 1444----- 1443---- 1442---- 1441---- 1440-s--- 1439---- 1438---- 1437----s 1436----- 1435-s----- 1434------- 1433s-------- 1432-s-------- 1431---------- 1430---s------ 1429---------- 1428---------- 1427-s---------- 1426-s--------- 1425---------- 1424---------- 1423---------- 1422----s--- 1421-------- 1420------- 1419------- 1418------- 1417s------- 1416-------- 1415------- 1414------ 1413----s-- 1412------- 1411------- 1410s----- 1409------ 1408------ 1407------ 1406------ 1405----- 1404----- 1403---- 1402---- 1401--- 1400-s-- 1399---- 1398---- 1397---- 1396---- 1395--s-- 1394----- 1393-s---- 1392---s-- 1391------ 1390----- 1389----- 1388---- 1387---- 1386-s--- 1385----- 1384----- 1383--s---- 1382s------- 1381-------- 1380------- 1379------- 1378s------- 1377------- 1376------ 1375------ 1374----s-- 1373------- 1372----- 1371--s--- 1370------ 1369----s-- 1368------- 1367------- 1366----- 1365--o---- 1364------- 1363------- 1362------- 1361-----E- 1360------- 1359------- 1358------- 1357----T--- 1356----TT--- 1355-------- 1354--EE------ 1353---E------- 1352---------- 1351---------- 1350--------- 1349-----T-- 1348-s------- 1347--------s- 1346---------- 1345E--------- 1344---------- 1343---------- 1342---------- 1341---E----- 1340--------- 1339-----T---- 1338-E--------- 1337-------E---- 1336---------- 1335---------- 1334---------- 1333---------- 1332-------- 1331------- 1330------ 1329----- 1328s----- 1327------ 1326-s----- 1325------- 1324------- 1323--s----- 1322-------- 1321-------- 1320-------- 1319--s---- 1318------- 1317------- 1316----s-- 1315------ 1314------ 1313----s-- 1312------- 1311---s---- 1310s-------- 1309--------- 1308--------- 1307--------- 1306-------- 1305-------- 1304-------- 1303------ 1302---o---- 1301-------- 1300----s---- 1299--------- 1298--------- 1297------- 1296----T-- 1295------ 1294------ 1293----- 1292----- 1291----- 1290--E-- 1289----- 1288---- 1287--- 1286--- 1285--- 1284--- 1283--- 1282--- 1281--- 1280--- 1279--- 1278--s- 1277-s--- 1276----- 1275----- 1274----- 1273----- 1272----- 1271--s--- 1270------ 1269------ 1268----- 1267----- 1266---s-- 1265------ 1264------ 1263------ 1262----- 1261----- 1260-s---- 1259------ 1258------ 1257------ 1256------ 1255----- 1254---- 1253--- 1252--s- 1251---- 1250---- 1249---- 1248---- 1247--- 1246-o-- 1245----TT 1244-----EE- 1243-------- 1242----E---- 1241--------- 1240----s----- 1239--------- 1238-------s-- 1237--------- 1236--------- 1235-------s-- 1234---------- 1233------s---- 1232----------- 1231---------- 1230--------- 1229--------- 1228-------- 1227-------s 1226s---------- 1225----------- 1224----------- 1223-------s---- 1222------------ 1221----------- 1220----s------- 1219-s---------- 1218----------s-- 1217------------ 1216------------ 1215------------ 1214------------ 1213---------s--- 1212------------ 1211------------ 1210---s--------- 1209----------- 1208---------- 1207---------- 1206---------- 1205----s----- 1204---------- 1203--------- 1202--------- 1201------- 1200-----s- 1199------- 1198------- 1197------ 1196------ 1195------ 1194------ 1193------ 1192------ 1191-s---- 1190-s----- 1189------- 1188------s-- 1187--------- 1186--------- 1185-------- 1184-------- 1183-------- 1182------ 1181------ 1180------ 1179------ 1178------ 1177s----- 1176------ 1175-s----- 1174------ 1173------ 1172------ 1171-s----- 1170------- 1169------- 1168--s----- 1167s-------- 1166------- 1165------- 1164------ 1163------ 1162----- 1161--- 1160--s- 1159--- 1158--- 1157--s- 1156--s-- 1155----- 1154---- 1153--s-- 1152----- 1151---- 1150---- 1149---- 1148--- 1147s--- 1146--- 1145---s 1144---- 1143---- 1142--s-- 1141----- 1140-s--- 1139--s--- 1138----- 1137--s--- 1136----- 1135----- 1134---- 1133---- 1132---- 1131---- 1130--s-- 1129----- 1128----- 1127---s-- 1126----- 1125---- 1124---- 1123-s--- 1122s------ 1121------ 1120------ 1119------ 1118--s--- 1117------ 1116------ 1115------ 1114----- 1113--s--- 1112---s--- 1111-----s-- 1110-------- 1109----s---- 1108--------- 1107--------- 1106--------- 1105------- 1104--o----- 1103---s----- 1102--------- 1101--------- 1100--------- 1099--------- 1098--------- 1097------E--- 1096---s------- 1095----------- 1094--------- 1093--------- 1092-------- 1091------- 1090------- 1089------- 1088------- 1087------- 1086------- 1085------ 1084------ 1083---- 1082---- 1081---- 1080--- 1079--- 1078--- 1077--- 1076-T-T- 1075---- 1074---- 1073---- 1072---- 1071--- 1070--- 1069-- 1068-- 1067e 1066e 1065e 1064e 1063-o 1062-- 1061-- 1060-- 1059s-- 1058--- 1057--- 1056s--- 1055---- 1054-s- 1053s---- 1052----- 1051---- 1050---- 1049s---- 1048----- 1047s--- 1046s---- 1045----- 1044---- 1043---- 1042s---- 1041----- 1040---- 1039---- 1038--- 1037--- 1036--- 1035--s- 1034----s 1033----- 1032----- 1031--s--- 1030------ 1029------ 1028------ 1027s---- 1026----- 1025--s-- 1024---- 1023---- 1022---- 1021--- 1020-o--- 1019----- 1018-s----- 1017------- 1016------- 1015------- 1014------- 1013---T---- 1012-------- 1011-------- 1010------E-- 1009------- 1008------- 1007s--------- 1006---------- 1005------s---- 1004---------- 1003--------- 1002------E--- 1001---------- 1000-------- 999------- 998s-------- 997--------- 996----s---- 995--------- 994--------- 993--------- 992-------- 991-------- 990----s---- 989--------- 988--------- 987--------- 986-----E--- 985--------- 984--------- 983--------s- 982--------- 981--------- 980--------- 979--------- 978--------- 977-------s-- 976---------- 975---------- 974----s----- 973---------- 972---------- 971--------- 970--------- 969--------- 968------s--- 967------s--- 966---------- 965--------- 964--------- 963--------- 962------- 961--s----- 960-------- 959-------- 958-------- 957----s---- 956----s----- 955--------s-- 954----------- 953---------- 952--------- 951------s--- 950---------- 949-------- 948-------- 947------s-- 946-------- 945------- 944------- 943------- 942------- 941------- 940---- 939---- 938---- 937---- 936---- 935--E-- 934---- 933--- 932--- 931--- 930--- 929--- 928--- 927--- 926--- 925--- 924--- 923--- 922-- 921-- 920-- 919e 918e 917e 916e 915o"
     ]
    },
    {
     "ename": "IndexError",
     "evalue": "index 0 is out of bounds for axis 0 with size 0",
     "output_type": "error",
     "traceback": [
      "\u001b[0;31m---------------------------------------------------------------------------\u001b[0m",
      "\u001b[0;31mIndexError\u001b[0m                                Traceback (most recent call last)",
      "\u001b[0;32m<ipython-input-46-530cec954581>\u001b[0m in \u001b[0;36m<module>\u001b[0;34m\u001b[0m\n\u001b[1;32m     43\u001b[0m     \u001b[0;31m# Step 1: make sure IDs match for ones that are already claimed\u001b[0m\u001b[0;34m\u001b[0m\u001b[0;34m\u001b[0m\u001b[0;34m\u001b[0m\u001b[0m\n\u001b[1;32m     44\u001b[0m     \u001b[0;31m# Step 2: if an ID has not been assigned determine its cluster (0,1) assign the associated individual based on already assigned reads in the cluster\u001b[0m\u001b[0;34m\u001b[0m\u001b[0;34m\u001b[0m\u001b[0;34m\u001b[0m\u001b[0m\n\u001b[0;32m---> 45\u001b[0;31m     \u001b[0mwindow_reads\u001b[0m\u001b[0;34m.\u001b[0m\u001b[0mapply\u001b[0m\u001b[0;34m(\u001b[0m\u001b[0;32mlambda\u001b[0m \u001b[0mx\u001b[0m\u001b[0;34m:\u001b[0m \u001b[0mpropagate_assignment_2\u001b[0m\u001b[0;34m(\u001b[0m\u001b[0mx\u001b[0m\u001b[0;34m)\u001b[0m\u001b[0;34m,\u001b[0m \u001b[0maxis\u001b[0m\u001b[0;34m=\u001b[0m\u001b[0;36m1\u001b[0m\u001b[0;34m)\u001b[0m \u001b[0;31m# add results to main reads file\u001b[0m\u001b[0;34m\u001b[0m\u001b[0;34m\u001b[0m\u001b[0m\n\u001b[0m\u001b[1;32m     46\u001b[0m \u001b[0;34m\u001b[0m\u001b[0m\n\u001b[1;32m     47\u001b[0m \u001b[0;31m# Loop right\u001b[0m\u001b[0;34m\u001b[0m\u001b[0;34m\u001b[0m\u001b[0;34m\u001b[0m\u001b[0m\n",
      "\u001b[0;32m~/miniconda3/envs/genomics/lib/python3.7/site-packages/pandas/core/frame.py\u001b[0m in \u001b[0;36mapply\u001b[0;34m(self, func, axis, raw, result_type, args, **kwds)\u001b[0m\n\u001b[1;32m   7550\u001b[0m             \u001b[0mkwds\u001b[0m\u001b[0;34m=\u001b[0m\u001b[0mkwds\u001b[0m\u001b[0;34m,\u001b[0m\u001b[0;34m\u001b[0m\u001b[0;34m\u001b[0m\u001b[0m\n\u001b[1;32m   7551\u001b[0m         )\n\u001b[0;32m-> 7552\u001b[0;31m         \u001b[0;32mreturn\u001b[0m \u001b[0mop\u001b[0m\u001b[0;34m.\u001b[0m\u001b[0mget_result\u001b[0m\u001b[0;34m(\u001b[0m\u001b[0;34m)\u001b[0m\u001b[0;34m\u001b[0m\u001b[0;34m\u001b[0m\u001b[0m\n\u001b[0m\u001b[1;32m   7553\u001b[0m \u001b[0;34m\u001b[0m\u001b[0m\n\u001b[1;32m   7554\u001b[0m     \u001b[0;32mdef\u001b[0m \u001b[0mapplymap\u001b[0m\u001b[0;34m(\u001b[0m\u001b[0mself\u001b[0m\u001b[0;34m,\u001b[0m \u001b[0mfunc\u001b[0m\u001b[0;34m)\u001b[0m \u001b[0;34m->\u001b[0m \u001b[0;34m\"DataFrame\"\u001b[0m\u001b[0;34m:\u001b[0m\u001b[0;34m\u001b[0m\u001b[0;34m\u001b[0m\u001b[0m\n",
      "\u001b[0;32m~/miniconda3/envs/genomics/lib/python3.7/site-packages/pandas/core/apply.py\u001b[0m in \u001b[0;36mget_result\u001b[0;34m(self)\u001b[0m\n\u001b[1;32m    178\u001b[0m             \u001b[0;32mreturn\u001b[0m \u001b[0mself\u001b[0m\u001b[0;34m.\u001b[0m\u001b[0mapply_raw\u001b[0m\u001b[0;34m(\u001b[0m\u001b[0;34m)\u001b[0m\u001b[0;34m\u001b[0m\u001b[0;34m\u001b[0m\u001b[0m\n\u001b[1;32m    179\u001b[0m \u001b[0;34m\u001b[0m\u001b[0m\n\u001b[0;32m--> 180\u001b[0;31m         \u001b[0;32mreturn\u001b[0m \u001b[0mself\u001b[0m\u001b[0;34m.\u001b[0m\u001b[0mapply_standard\u001b[0m\u001b[0;34m(\u001b[0m\u001b[0;34m)\u001b[0m\u001b[0;34m\u001b[0m\u001b[0;34m\u001b[0m\u001b[0m\n\u001b[0m\u001b[1;32m    181\u001b[0m \u001b[0;34m\u001b[0m\u001b[0m\n\u001b[1;32m    182\u001b[0m     \u001b[0;32mdef\u001b[0m \u001b[0mapply_empty_result\u001b[0m\u001b[0;34m(\u001b[0m\u001b[0mself\u001b[0m\u001b[0;34m)\u001b[0m\u001b[0;34m:\u001b[0m\u001b[0;34m\u001b[0m\u001b[0;34m\u001b[0m\u001b[0m\n",
      "\u001b[0;32m~/miniconda3/envs/genomics/lib/python3.7/site-packages/pandas/core/apply.py\u001b[0m in \u001b[0;36mapply_standard\u001b[0;34m(self)\u001b[0m\n\u001b[1;32m    269\u001b[0m \u001b[0;34m\u001b[0m\u001b[0m\n\u001b[1;32m    270\u001b[0m     \u001b[0;32mdef\u001b[0m \u001b[0mapply_standard\u001b[0m\u001b[0;34m(\u001b[0m\u001b[0mself\u001b[0m\u001b[0;34m)\u001b[0m\u001b[0;34m:\u001b[0m\u001b[0;34m\u001b[0m\u001b[0;34m\u001b[0m\u001b[0m\n\u001b[0;32m--> 271\u001b[0;31m         \u001b[0mresults\u001b[0m\u001b[0;34m,\u001b[0m \u001b[0mres_index\u001b[0m \u001b[0;34m=\u001b[0m \u001b[0mself\u001b[0m\u001b[0;34m.\u001b[0m\u001b[0mapply_series_generator\u001b[0m\u001b[0;34m(\u001b[0m\u001b[0;34m)\u001b[0m\u001b[0;34m\u001b[0m\u001b[0;34m\u001b[0m\u001b[0m\n\u001b[0m\u001b[1;32m    272\u001b[0m \u001b[0;34m\u001b[0m\u001b[0m\n\u001b[1;32m    273\u001b[0m         \u001b[0;31m# wrap results\u001b[0m\u001b[0;34m\u001b[0m\u001b[0;34m\u001b[0m\u001b[0;34m\u001b[0m\u001b[0m\n",
      "\u001b[0;32m~/miniconda3/envs/genomics/lib/python3.7/site-packages/pandas/core/apply.py\u001b[0m in \u001b[0;36mapply_series_generator\u001b[0;34m(self)\u001b[0m\n\u001b[1;32m    298\u001b[0m                 \u001b[0;32mfor\u001b[0m \u001b[0mi\u001b[0m\u001b[0;34m,\u001b[0m \u001b[0mv\u001b[0m \u001b[0;32min\u001b[0m \u001b[0menumerate\u001b[0m\u001b[0;34m(\u001b[0m\u001b[0mseries_gen\u001b[0m\u001b[0;34m)\u001b[0m\u001b[0;34m:\u001b[0m\u001b[0;34m\u001b[0m\u001b[0;34m\u001b[0m\u001b[0m\n\u001b[1;32m    299\u001b[0m                     \u001b[0;31m# ignore SettingWithCopy here in case the user mutates\u001b[0m\u001b[0;34m\u001b[0m\u001b[0;34m\u001b[0m\u001b[0;34m\u001b[0m\u001b[0m\n\u001b[0;32m--> 300\u001b[0;31m                     \u001b[0mresults\u001b[0m\u001b[0;34m[\u001b[0m\u001b[0mi\u001b[0m\u001b[0;34m]\u001b[0m \u001b[0;34m=\u001b[0m \u001b[0mself\u001b[0m\u001b[0;34m.\u001b[0m\u001b[0mf\u001b[0m\u001b[0;34m(\u001b[0m\u001b[0mv\u001b[0m\u001b[0;34m)\u001b[0m\u001b[0;34m\u001b[0m\u001b[0;34m\u001b[0m\u001b[0m\n\u001b[0m\u001b[1;32m    301\u001b[0m                     \u001b[0;32mif\u001b[0m \u001b[0misinstance\u001b[0m\u001b[0;34m(\u001b[0m\u001b[0mresults\u001b[0m\u001b[0;34m[\u001b[0m\u001b[0mi\u001b[0m\u001b[0;34m]\u001b[0m\u001b[0;34m,\u001b[0m \u001b[0mABCSeries\u001b[0m\u001b[0;34m)\u001b[0m\u001b[0;34m:\u001b[0m\u001b[0;34m\u001b[0m\u001b[0;34m\u001b[0m\u001b[0m\n\u001b[1;32m    302\u001b[0m                         \u001b[0;31m# If we have a view on v, we need to make a copy because\u001b[0m\u001b[0;34m\u001b[0m\u001b[0;34m\u001b[0m\u001b[0;34m\u001b[0m\u001b[0m\n",
      "\u001b[0;32m<ipython-input-46-530cec954581>\u001b[0m in \u001b[0;36m<lambda>\u001b[0;34m(x)\u001b[0m\n\u001b[1;32m     43\u001b[0m     \u001b[0;31m# Step 1: make sure IDs match for ones that are already claimed\u001b[0m\u001b[0;34m\u001b[0m\u001b[0;34m\u001b[0m\u001b[0;34m\u001b[0m\u001b[0m\n\u001b[1;32m     44\u001b[0m     \u001b[0;31m# Step 2: if an ID has not been assigned determine its cluster (0,1) assign the associated individual based on already assigned reads in the cluster\u001b[0m\u001b[0;34m\u001b[0m\u001b[0;34m\u001b[0m\u001b[0;34m\u001b[0m\u001b[0m\n\u001b[0;32m---> 45\u001b[0;31m     \u001b[0mwindow_reads\u001b[0m\u001b[0;34m.\u001b[0m\u001b[0mapply\u001b[0m\u001b[0;34m(\u001b[0m\u001b[0;32mlambda\u001b[0m \u001b[0mx\u001b[0m\u001b[0;34m:\u001b[0m \u001b[0mpropagate_assignment_2\u001b[0m\u001b[0;34m(\u001b[0m\u001b[0mx\u001b[0m\u001b[0;34m)\u001b[0m\u001b[0;34m,\u001b[0m \u001b[0maxis\u001b[0m\u001b[0;34m=\u001b[0m\u001b[0;36m1\u001b[0m\u001b[0;34m)\u001b[0m \u001b[0;31m# add results to main reads file\u001b[0m\u001b[0;34m\u001b[0m\u001b[0;34m\u001b[0m\u001b[0m\n\u001b[0m\u001b[1;32m     46\u001b[0m \u001b[0;34m\u001b[0m\u001b[0m\n\u001b[1;32m     47\u001b[0m \u001b[0;31m# Loop right\u001b[0m\u001b[0;34m\u001b[0m\u001b[0;34m\u001b[0m\u001b[0;34m\u001b[0m\u001b[0m\n",
      "\u001b[0;32m<ipython-input-44-7350d4f2093d>\u001b[0m in \u001b[0;36mpropagate_assignment_2\u001b[0;34m(read)\u001b[0m\n\u001b[1;32m     67\u001b[0m \u001b[0;34m\u001b[0m\u001b[0m\n\u001b[1;32m     68\u001b[0m         \u001b[0;31m# Assign the opposite individual\u001b[0m\u001b[0;34m\u001b[0m\u001b[0;34m\u001b[0m\u001b[0;34m\u001b[0m\u001b[0m\n\u001b[0;32m---> 69\u001b[0;31m         \u001b[0mindividual_to_assign\u001b[0m \u001b[0;34m=\u001b[0m \u001b[0;36m1\u001b[0m\u001b[0;34m-\u001b[0m\u001b[0mother_assigned_individual\u001b[0m\u001b[0;34m[\u001b[0m\u001b[0;36m0\u001b[0m\u001b[0;34m]\u001b[0m\u001b[0;34m\u001b[0m\u001b[0;34m\u001b[0m\u001b[0m\n\u001b[0m\u001b[1;32m     70\u001b[0m \u001b[0;34m\u001b[0m\u001b[0m\n\u001b[1;32m     71\u001b[0m         \u001b[0;31m# Bulk write results\u001b[0m\u001b[0;34m\u001b[0m\u001b[0;34m\u001b[0m\u001b[0;34m\u001b[0m\u001b[0m\n",
      "\u001b[0;31mIndexError\u001b[0m: index 0 is out of bounds for axis 0 with size 0"
     ]
    }
   ],
   "source": [
    "# Setup\n",
    "ID_person_match = {} #Dictionary to keep track of kmeans cluster and individual assignment\n",
    "first_iter = True\n",
    "\n",
    "# Feedback to user\n",
    "n_windows = results_file['window_num'].nunique()\n",
    "print(f\"Total windows: {n_windows}\")\n",
    "\n",
    "print(\"\")\n",
    "print(\"_: First read.\")\n",
    "print(\"-: Individual already assigned.\")\n",
    "print(\"s: New read. Sibling already assigned.\")\n",
    "print(\"o: New read. Read in other cluster already assigned.\")\n",
    "print(\"E: New read. Siblings in both clusters (tie). Assign average rounded to 0 or 1.\")\n",
    "print(\"T: New read. Siblings in both clusters (tie). Assign individual from oldest read.\")\n",
    "print(\"\")\n",
    "\n",
    "print(f\"Current window:\", end=\"\")\n",
    "\n",
    "# Identify idmax of window\n",
    "window_idxmax = results_file.groupby('window_num').count().idxmax().values[0]\n",
    "# Loop to the left\n",
    "loop_direction = 'left'\n",
    "\n",
    "for window in range(window_idxmax+1,-1,-1):\n",
    "# for window in results_file['window_num'].unique(): # iterate through instances of the sliding window \n",
    "    \n",
    "    print(f\" {window}\", end=\"\")\n",
    "    \n",
    "    window_reads = results_file.loc[results_file['window_num']==window].copy() # get data only from this window\n",
    "    \n",
    "#     # If window does not exist, skip\n",
    "#     if len(window_reads)==0:\n",
    "#         print(\"1\", end=\"\")\n",
    "#         continue\n",
    "    \n",
    "    # We now have IDs, cluster decisions (0,1) for every read that was included in this window.\n",
    "    \n",
    "    # Step 1: We make a decision in the first window\n",
    "    if first_iter == True:\n",
    "        \n",
    "        # Make decision in first window\n",
    "        window_reads.loc[window_reads['kmeans_cls2'] == 0, 'individual'] = 0\n",
    "        window_reads.loc[window_reads['kmeans_cls2'] == 1, 'individual'] = 1\n",
    "        \n",
    "        window_reads.apply(lambda x: propagate_assignment_1(x), axis=1) # add results to main reads file\n",
    "        \n",
    "        first_iter = False\n",
    "        continue\n",
    "        \n",
    "    # Step 2: We perform ID bookeeping and cluster association to manage all following windows\n",
    "    # Book-keeping:\n",
    "    # Step 1: make sure IDs match for ones that are already claimed\n",
    "    # Step 2: if an ID has not been assigned determine its cluster (0,1) assign the associated individual based on already assigned reads in the cluster\n",
    "    window_reads.apply(lambda x: propagate_assignment_2(x), axis=1) # add results to main reads file\n",
    "    \n",
    "# Loop right\n",
    "loop_direction = 'right'\n",
    "max(results_file['window_num'])\n",
    "\n",
    "for window in range(window_idxmax+2,max(results_file['window_num'])+1,1):\n",
    "    \n",
    "    print(f\" {window}\", end=\"\")\n",
    "    \n",
    "    window_reads = results_file.loc[results_file['window_num']==window].copy() # get data only from this window\n",
    "    \n",
    "    # We now have IDs, cluster decisions (0,1) for every read that was included in this window.\n",
    "    \n",
    "    # Step 1: We make a decision in the first window\n",
    "#     if first_iter == True:\n",
    "        \n",
    "#         # Make decision in first window\n",
    "#         window_reads.loc[window_reads['kmeans_cls2'] == 0, 'individual'] = 0\n",
    "#         window_reads.loc[window_reads['kmeans_cls2'] == 1, 'individual'] = 1\n",
    "        \n",
    "#         window_reads.apply(lambda x: propagate_assignment_1(x), axis=1) # add results to main reads file\n",
    "        \n",
    "#         first_iter = False\n",
    "#         continue\n",
    "        \n",
    "    # Step 2: We perform ID bookeeping and cluster association to manage all following windows\n",
    "    # Book-keeping:\n",
    "    # Step 1: make sure IDs match for ones that are already claimed\n",
    "    # Step 2: if an ID has not been assigned determine its cluster (0,1) assign the associated individual based on already assigned reads in the cluster\n",
    "    window_reads.apply(lambda x: propagate_assignment_2(x), axis=1) # add results to main reads file\n"
   ]
  },
  {
   "cell_type": "code",
   "execution_count": 40,
   "metadata": {},
   "outputs": [
    {
     "data": {
      "text/html": [
       "<div>\n",
       "<style scoped>\n",
       "    .dataframe tbody tr th:only-of-type {\n",
       "        vertical-align: middle;\n",
       "    }\n",
       "\n",
       "    .dataframe tbody tr th {\n",
       "        vertical-align: top;\n",
       "    }\n",
       "\n",
       "    .dataframe thead th {\n",
       "        text-align: right;\n",
       "    }\n",
       "</style>\n",
       "<table border=\"1\" class=\"dataframe\">\n",
       "  <thead>\n",
       "    <tr style=\"text-align: right;\">\n",
       "      <th></th>\n",
       "      <th>ID</th>\n",
       "      <th>kmeans_cls2</th>\n",
       "      <th>window_num</th>\n",
       "      <th>individual</th>\n",
       "    </tr>\n",
       "  </thead>\n",
       "  <tbody>\n",
       "    <tr>\n",
       "      <th>4200</th>\n",
       "      <td>253</td>\n",
       "      <td>0</td>\n",
       "      <td>913</td>\n",
       "      <td>NaN</td>\n",
       "    </tr>\n",
       "    <tr>\n",
       "      <th>4201</th>\n",
       "      <td>224</td>\n",
       "      <td>0</td>\n",
       "      <td>914</td>\n",
       "      <td>NaN</td>\n",
       "    </tr>\n",
       "    <tr>\n",
       "      <th>4202</th>\n",
       "      <td>240</td>\n",
       "      <td>0</td>\n",
       "      <td>914</td>\n",
       "      <td>NaN</td>\n",
       "    </tr>\n",
       "    <tr>\n",
       "      <th>4203</th>\n",
       "      <td>252</td>\n",
       "      <td>1</td>\n",
       "      <td>914</td>\n",
       "      <td>NaN</td>\n",
       "    </tr>\n",
       "    <tr>\n",
       "      <th>4204</th>\n",
       "      <td>224</td>\n",
       "      <td>1</td>\n",
       "      <td>915</td>\n",
       "      <td>NaN</td>\n",
       "    </tr>\n",
       "    <tr>\n",
       "      <th>4205</th>\n",
       "      <td>240</td>\n",
       "      <td>0</td>\n",
       "      <td>915</td>\n",
       "      <td>NaN</td>\n",
       "    </tr>\n",
       "    <tr>\n",
       "      <th>4206</th>\n",
       "      <td>252</td>\n",
       "      <td>1</td>\n",
       "      <td>915</td>\n",
       "      <td>NaN</td>\n",
       "    </tr>\n",
       "    <tr>\n",
       "      <th>4207</th>\n",
       "      <td>255</td>\n",
       "      <td>1</td>\n",
       "      <td>920</td>\n",
       "      <td>1.0</td>\n",
       "    </tr>\n",
       "    <tr>\n",
       "      <th>4208</th>\n",
       "      <td>256</td>\n",
       "      <td>0</td>\n",
       "      <td>920</td>\n",
       "      <td>1.0</td>\n",
       "    </tr>\n",
       "    <tr>\n",
       "      <th>4209</th>\n",
       "      <td>255</td>\n",
       "      <td>1</td>\n",
       "      <td>921</td>\n",
       "      <td>1.0</td>\n",
       "    </tr>\n",
       "  </tbody>\n",
       "</table>\n",
       "</div>"
      ],
      "text/plain": [
       "       ID  kmeans_cls2  window_num  individual\n",
       "4200  253            0         913         NaN\n",
       "4201  224            0         914         NaN\n",
       "4202  240            0         914         NaN\n",
       "4203  252            1         914         NaN\n",
       "4204  224            1         915         NaN\n",
       "4205  240            0         915         NaN\n",
       "4206  252            1         915         NaN\n",
       "4207  255            1         920         1.0\n",
       "4208  256            0         920         1.0\n",
       "4209  255            1         921         1.0"
      ]
     },
     "execution_count": 40,
     "metadata": {},
     "output_type": "execute_result"
    }
   ],
   "source": [
    "results_file.iloc[4200:4210]"
   ]
  },
  {
   "cell_type": "markdown",
   "metadata": {},
   "source": [
    "# Check Results\n",
    "\n",
    "We prefer within cluster errors to inter window errors"
   ]
  },
  {
   "cell_type": "code",
   "execution_count": 28,
   "metadata": {},
   "outputs": [
    {
     "name": "stdout",
     "output_type": "stream",
     "text": [
      "Window with most reads: 2114\n"
     ]
    },
    {
     "data": {
      "text/plain": [
       "[<matplotlib.lines.Line2D at 0x7f323a1e6d50>]"
      ]
     },
     "execution_count": 28,
     "metadata": {},
     "output_type": "execute_result"
    },
    {
     "data": {
      "image/png": "[encoded data removed]",
      "text/plain": [
       "<Figure size 432x288 with 1 Axes>"
      ]
     },
     "metadata": {
      "needs_background": "light"
     },
     "output_type": "display_data"
    }
   ],
   "source": [
    "# Window with most reads\n",
    "print(f\"Window with most reads: {results_file.groupby('window_num').count()['ID'].idxmax()}\")\n",
    "plt.plot(results_file.groupby('window_num').count()['ID'])"
   ]
  },
  {
   "cell_type": "code",
   "execution_count": 29,
   "metadata": {},
   "outputs": [
    {
     "data": {
      "text/plain": [
       "<matplotlib.collections.PathCollection at 0x7f323a0b0dd0>"
      ]
     },
     "execution_count": 29,
     "metadata": {},
     "output_type": "execute_result"
    },
    {
     "data": {
      "image/png": "[encoded data removed]",
      "text/plain": [
       "<Figure size 1440x144 with 1 Axes>"
      ]
     },
     "metadata": {
      "needs_background": "light"
     },
     "output_type": "display_data"
    }
   ],
   "source": [
    "# View read assignment\n",
    "fig, ax = plt.subplots(figsize=(20,2))\n",
    "plt.scatter(results_file['ID'], results_file['individual'])"
   ]
  },
  {
   "cell_type": "code",
   "execution_count": 30,
   "metadata": {},
   "outputs": [
    {
     "data": {
      "text/html": [
       "<div>\n",
       "<style scoped>\n",
       "    .dataframe tbody tr th:only-of-type {\n",
       "        vertical-align: middle;\n",
       "    }\n",
       "\n",
       "    .dataframe tbody tr th {\n",
       "        vertical-align: top;\n",
       "    }\n",
       "\n",
       "    .dataframe thead th {\n",
       "        text-align: right;\n",
       "    }\n",
       "</style>\n",
       "<table border=\"1\" class=\"dataframe\">\n",
       "  <thead>\n",
       "    <tr style=\"text-align: right;\">\n",
       "      <th></th>\n",
       "      <th>ID</th>\n",
       "      <th>kmeans_cls2</th>\n",
       "      <th>window_num</th>\n",
       "      <th>individual</th>\n",
       "    </tr>\n",
       "  </thead>\n",
       "  <tbody>\n",
       "    <tr>\n",
       "      <th>0</th>\n",
       "      <td>1</td>\n",
       "      <td>0</td>\n",
       "      <td>18</td>\n",
       "      <td>NaN</td>\n",
       "    </tr>\n",
       "    <tr>\n",
       "      <th>1</th>\n",
       "      <td>0</td>\n",
       "      <td>1</td>\n",
       "      <td>19</td>\n",
       "      <td>NaN</td>\n",
       "    </tr>\n",
       "    <tr>\n",
       "      <th>2</th>\n",
       "      <td>1</td>\n",
       "      <td>0</td>\n",
       "      <td>19</td>\n",
       "      <td>NaN</td>\n",
       "    </tr>\n",
       "    <tr>\n",
       "      <th>3</th>\n",
       "      <td>0</td>\n",
       "      <td>1</td>\n",
       "      <td>20</td>\n",
       "      <td>NaN</td>\n",
       "    </tr>\n",
       "    <tr>\n",
       "      <th>4</th>\n",
       "      <td>1</td>\n",
       "      <td>0</td>\n",
       "      <td>20</td>\n",
       "      <td>NaN</td>\n",
       "    </tr>\n",
       "    <tr>\n",
       "      <th>...</th>\n",
       "      <td>...</td>\n",
       "      <td>...</td>\n",
       "      <td>...</td>\n",
       "      <td>...</td>\n",
       "    </tr>\n",
       "    <tr>\n",
       "      <th>22376</th>\n",
       "      <td>1157</td>\n",
       "      <td>0</td>\n",
       "      <td>4007</td>\n",
       "      <td>NaN</td>\n",
       "    </tr>\n",
       "    <tr>\n",
       "      <th>22377</th>\n",
       "      <td>1150</td>\n",
       "      <td>1</td>\n",
       "      <td>4008</td>\n",
       "      <td>NaN</td>\n",
       "    </tr>\n",
       "    <tr>\n",
       "      <th>22378</th>\n",
       "      <td>1157</td>\n",
       "      <td>0</td>\n",
       "      <td>4008</td>\n",
       "      <td>NaN</td>\n",
       "    </tr>\n",
       "    <tr>\n",
       "      <th>22379</th>\n",
       "      <td>1150</td>\n",
       "      <td>1</td>\n",
       "      <td>4009</td>\n",
       "      <td>NaN</td>\n",
       "    </tr>\n",
       "    <tr>\n",
       "      <th>22380</th>\n",
       "      <td>1157</td>\n",
       "      <td>0</td>\n",
       "      <td>4009</td>\n",
       "      <td>NaN</td>\n",
       "    </tr>\n",
       "  </tbody>\n",
       "</table>\n",
       "<p>14836 rows × 4 columns</p>\n",
       "</div>"
      ],
      "text/plain": [
       "         ID  kmeans_cls2  window_num  individual\n",
       "0         1            0          18         NaN\n",
       "1         0            1          19         NaN\n",
       "2         1            0          19         NaN\n",
       "3         0            1          20         NaN\n",
       "4         1            0          20         NaN\n",
       "...     ...          ...         ...         ...\n",
       "22376  1157            0        4007         NaN\n",
       "22377  1150            1        4008         NaN\n",
       "22378  1157            0        4008         NaN\n",
       "22379  1150            1        4009         NaN\n",
       "22380  1157            0        4009         NaN\n",
       "\n",
       "[14836 rows x 4 columns]"
      ]
     },
     "execution_count": 30,
     "metadata": {},
     "output_type": "execute_result"
    }
   ],
   "source": [
    "# Are there NaNs?\n",
    "results_file.loc[results_file['individual'].isna()]"
   ]
  },
  {
   "cell_type": "markdown",
   "metadata": {},
   "source": [
    "# Create Bam Files"
   ]
  },
  {
   "cell_type": "markdown",
   "metadata": {},
   "source": [
    "### Get list of IDs for both persons"
   ]
  },
  {
   "cell_type": "code",
   "execution_count": 453,
   "metadata": {},
   "outputs": [],
   "source": [
    "# Create ID column\n",
    "# nanopore_reads['uniqueid']=nanopore_reads['QNAME']+'\\t'+nanopore_reads['FLAG'].apply(str)+'\\t'+nanopore_reads['RNAME'].apply(str)+'\\t'+nanopore_reads['POS'].apply(str)\n",
    "nanopore_reads['uniqueid']=nanopore_reads['QNAME'] # Fix later to replace with unique ids as above\n",
    "\n",
    "# Write two text files\n",
    "for person in [0,1]:\n",
    "    # Get IDs of Person\n",
    "    personuniqueids = nanopore_reads.loc[nanopore_reads['individual']==person, 'uniqueid']\n",
    "    # Save to text file\n",
    "    np.savetxt(f\"../data/run1/processed/person{person}uniqueids.txt\", personuniqueids.values , fmt='%s')"
   ]
  },
  {
   "cell_type": "markdown",
   "metadata": {},
   "source": [
    "### Extract selected IDs from bam file"
   ]
  },
  {
   "cell_type": "code",
   "execution_count": 455,
   "metadata": {
    "tags": []
   },
   "outputs": [],
   "source": [
    "%%bash\n",
    "cd ../data/run1/processed\n",
    "\n",
    "# Get reads\n",
    "samtools view bioliquid_chr17_pompe.bam | grep -f person0uniqueids.txt > person0_reads.sam\n",
    "samtools view bioliquid_chr17_pompe.bam | grep -f person1uniqueids.txt > person1_reads.sam\n",
    "# Get header\n",
    "samtools view -H bioliquid_chr17_pompe.bam > person_header.txt\n",
    "# Concatenate\n",
    "cat person_header.txt person0_reads.sam > person0.sam\n",
    "cat person_header.txt person1_reads.sam > person1.sam\n",
    "# Convert to bam file\n",
    "samtools view -b person0.sam > person0.bam\n",
    "samtools view -b person1.sam > person1.bam"
   ]
  },
  {
   "cell_type": "markdown",
   "metadata": {},
   "source": [
    "# Save results"
   ]
  },
  {
   "cell_type": "code",
   "execution_count": 14,
   "metadata": {},
   "outputs": [],
   "source": [
    "# ID_individual_mapping = pd.DataFrame(ID_person_match.items()) \n",
    "# ID_individual_mapping.to_csv('../data/processed/ID_individual_matches.csv')\n",
    "\n",
    "# nanopore_reads.to_csv(f'../data/processed/{reads_filename}_checked.csv)\n",
    "\n",
    "# results_file.to_csv('../data/processed/{chromosomeID}_read_clusters_checked.txt')"
   ]
  }
 ],
 "metadata": {
  "kernelspec": {
   "display_name": "Genomics",
   "language": "python",
   "name": "genomics"
  },
  "language_info": {
   "codemirror_mode": {
    "name": "ipython",
    "version": 3
   },
   "file_extension": ".py",
   "mimetype": "text/x-python",
   "name": "python",
   "nbconvert_exporter": "python",
   "pygments_lexer": "ipython3",
   "version": "3.7.6"
  }
 },
 "nbformat": 4,
 "nbformat_minor": 4
}
