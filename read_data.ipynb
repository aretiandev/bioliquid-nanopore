{
 "cells": [
  {
   "cell_type": "markdown",
   "id": "35e6ae39-5752-476d-9cc4-5905a486c107",
   "metadata": {},
   "source": [
    "# Read data\n",
    "\n",
    "This script reads in the Nanopore Read data"
   ]
  },
  {
   "cell_type": "markdown",
   "id": "6ac23703-5d36-4501-8bde-fe5379e8f3d6",
   "metadata": {},
   "source": [
    "# Load modules"
   ]
  },
  {
   "cell_type": "code",
   "execution_count": 21,
   "id": "d780139e-5f8f-4862-bc04-ce3b1bf5de3a",
   "metadata": {},
   "outputs": [],
   "source": [
    "import pandas as pd"
   ]
  },
  {
   "cell_type": "markdown",
   "id": "917071a7-36a2-44c7-8530-88aab7a4eae3",
   "metadata": {},
   "source": [
    "# From bam to txt"
   ]
  },
  {
   "cell_type": "code",
   "execution_count": null,
   "id": "cdc488f8-1b2a-4d54-aaf9-b92145ead145",
   "metadata": {},
   "outputs": [],
   "source": [
    "# !samtools view bioliquid_chr17_pompe.bam > bioliquid_chr17_pompe.txt"
   ]
  },
  {
   "cell_type": "code",
   "execution_count": 22,
   "id": "cc0161e1-42b1-479a-9b6f-1a67345730c3",
   "metadata": {},
   "outputs": [
    {
     "name": "stderr",
     "output_type": "stream",
     "text": [
      "b'Skipping line 5: expected 21 fields, saw 22\\nSkipping line 7: expected 21 fields, saw 22\\nSkipping line 18: expected 21 fields, saw 22\\nSkipping line 26: expected 21 fields, saw 22\\nSkipping line 60: expected 21 fields, saw 22\\nSkipping line 78: expected 21 fields, saw 22\\nSkipping line 86: expected 21 fields, saw 22\\nSkipping line 92: expected 21 fields, saw 22\\nSkipping line 94: expected 21 fields, saw 22\\nSkipping line 104: expected 21 fields, saw 22\\nSkipping line 169: expected 21 fields, saw 22\\nSkipping line 189: expected 21 fields, saw 22\\nSkipping line 196: expected 21 fields, saw 22\\nSkipping line 225: expected 21 fields, saw 22\\nSkipping line 249: expected 21 fields, saw 22\\nSkipping line 251: expected 21 fields, saw 22\\nSkipping line 252: expected 21 fields, saw 22\\nSkipping line 287: expected 21 fields, saw 22\\nSkipping line 315: expected 21 fields, saw 22\\nSkipping line 318: expected 21 fields, saw 22\\nSkipping line 324: expected 21 fields, saw 22\\nSkipping line 343: expected 21 fields, saw 22\\nSkipping line 353: expected 21 fields, saw 22\\nSkipping line 363: expected 21 fields, saw 22\\nSkipping line 374: expected 21 fields, saw 22\\nSkipping line 393: expected 21 fields, saw 22\\nSkipping line 452: expected 21 fields, saw 22\\nSkipping line 453: expected 21 fields, saw 22\\nSkipping line 467: expected 21 fields, saw 22\\nSkipping line 492: expected 21 fields, saw 22\\nSkipping line 496: expected 21 fields, saw 22\\nSkipping line 497: expected 21 fields, saw 22\\nSkipping line 539: expected 21 fields, saw 22\\nSkipping line 580: expected 21 fields, saw 22\\nSkipping line 587: expected 21 fields, saw 22\\nSkipping line 592: expected 21 fields, saw 22\\nSkipping line 603: expected 21 fields, saw 22\\nSkipping line 615: expected 21 fields, saw 22\\nSkipping line 639: expected 21 fields, saw 22\\nSkipping line 651: expected 21 fields, saw 22\\nSkipping line 666: expected 21 fields, saw 22\\nSkipping line 683: expected 21 fields, saw 22\\nSkipping line 695: expected 21 fields, saw 22\\nSkipping line 704: expected 21 fields, saw 22\\nSkipping line 716: expected 21 fields, saw 22\\nSkipping line 717: expected 21 fields, saw 22\\nSkipping line 735: expected 21 fields, saw 22\\nSkipping line 748: expected 21 fields, saw 22\\nSkipping line 755: expected 21 fields, saw 22\\nSkipping line 758: expected 21 fields, saw 22\\nSkipping line 761: expected 21 fields, saw 22\\nSkipping line 805: expected 21 fields, saw 22\\nSkipping line 822: expected 21 fields, saw 22\\nSkipping line 825: expected 21 fields, saw 22\\nSkipping line 835: expected 21 fields, saw 22\\nSkipping line 842: expected 21 fields, saw 22\\nSkipping line 846: expected 21 fields, saw 22\\nSkipping line 880: expected 21 fields, saw 22\\nSkipping line 963: expected 21 fields, saw 22\\nSkipping line 965: expected 21 fields, saw 22\\nSkipping line 977: expected 21 fields, saw 22\\nSkipping line 986: expected 21 fields, saw 22\\nSkipping line 987: expected 21 fields, saw 22\\nSkipping line 1015: expected 21 fields, saw 22\\nSkipping line 1017: expected 21 fields, saw 22\\nSkipping line 1020: expected 21 fields, saw 22\\nSkipping line 1025: expected 21 fields, saw 22\\nSkipping line 1028: expected 21 fields, saw 22\\nSkipping line 1029: expected 21 fields, saw 22\\nSkipping line 1031: expected 21 fields, saw 22\\nSkipping line 1037: expected 21 fields, saw 22\\nSkipping line 1040: expected 21 fields, saw 22\\nSkipping line 1056: expected 21 fields, saw 22\\nSkipping line 1057: expected 21 fields, saw 22\\nSkipping line 1062: expected 21 fields, saw 22\\nSkipping line 1075: expected 21 fields, saw 22\\nSkipping line 1076: expected 21 fields, saw 22\\nSkipping line 1084: expected 21 fields, saw 22\\nSkipping line 1102: expected 21 fields, saw 22\\nSkipping line 1110: expected 21 fields, saw 22\\nSkipping line 1143: expected 21 fields, saw 22\\nSkipping line 1146: expected 21 fields, saw 22\\nSkipping line 1160: expected 21 fields, saw 22\\nSkipping line 1170: expected 21 fields, saw 22\\nSkipping line 1202: expected 21 fields, saw 22\\nSkipping line 1245: expected 21 fields, saw 22\\nSkipping line 1246: expected 21 fields, saw 22\\nSkipping line 1247: expected 21 fields, saw 22\\nSkipping line 1252: expected 21 fields, saw 22\\nSkipping line 1276: expected 21 fields, saw 22\\nSkipping line 1279: expected 21 fields, saw 22\\nSkipping line 1321: expected 21 fields, saw 22\\nSkipping line 1333: expected 21 fields, saw 22\\nSkipping line 1363: expected 21 fields, saw 22\\nSkipping line 1365: expected 21 fields, saw 22\\nSkipping line 1375: expected 21 fields, saw 22\\nSkipping line 1381: expected 21 fields, saw 22\\nSkipping line 1494: expected 21 fields, saw 22\\nSkipping line 1504: expected 21 fields, saw 22\\nSkipping line 1524: expected 21 fields, saw 22\\nSkipping line 1548: expected 21 fields, saw 22\\nSkipping line 1557: expected 21 fields, saw 22\\nSkipping line 1603: expected 21 fields, saw 22\\nSkipping line 1631: expected 21 fields, saw 22\\nSkipping line 1663: expected 21 fields, saw 22\\nSkipping line 1682: expected 21 fields, saw 22\\nSkipping line 1692: expected 21 fields, saw 22\\nSkipping line 1699: expected 21 fields, saw 22\\nSkipping line 1713: expected 21 fields, saw 22\\nSkipping line 1714: expected 21 fields, saw 22\\nSkipping line 1735: expected 21 fields, saw 22\\nSkipping line 1768: expected 21 fields, saw 22\\nSkipping line 1788: expected 21 fields, saw 22\\nSkipping line 1807: expected 21 fields, saw 22\\nSkipping line 1809: expected 21 fields, saw 22\\nSkipping line 1810: expected 21 fields, saw 22\\nSkipping line 1842: expected 21 fields, saw 22\\nSkipping line 1926: expected 21 fields, saw 22\\nSkipping line 2028: expected 21 fields, saw 22\\nSkipping line 2045: expected 21 fields, saw 22\\nSkipping line 2050: expected 21 fields, saw 22\\nSkipping line 2060: expected 21 fields, saw 22\\nSkipping line 2123: expected 21 fields, saw 22\\nSkipping line 2124: expected 21 fields, saw 22\\nSkipping line 2150: expected 21 fields, saw 22\\nSkipping line 2175: expected 21 fields, saw 22\\nSkipping line 2197: expected 21 fields, saw 22\\nSkipping line 2198: expected 21 fields, saw 22\\nSkipping line 2207: expected 21 fields, saw 22\\nSkipping line 2236: expected 21 fields, saw 22\\nSkipping line 2247: expected 21 fields, saw 23\\nSkipping line 2284: expected 21 fields, saw 22\\nSkipping line 2356: expected 21 fields, saw 22\\nSkipping line 2361: expected 21 fields, saw 22\\nSkipping line 2382: expected 21 fields, saw 22\\nSkipping line 2416: expected 21 fields, saw 22\\nSkipping line 2429: expected 21 fields, saw 23\\nSkipping line 2464: expected 21 fields, saw 22\\nSkipping line 2467: expected 21 fields, saw 22\\nSkipping line 2487: expected 21 fields, saw 22\\nSkipping line 2501: expected 21 fields, saw 22\\nSkipping line 2504: expected 21 fields, saw 22\\nSkipping line 2505: expected 21 fields, saw 22\\nSkipping line 2507: expected 21 fields, saw 22\\nSkipping line 2549: expected 21 fields, saw 22\\nSkipping line 2550: expected 21 fields, saw 22\\nSkipping line 2585: expected 21 fields, saw 22\\nSkipping line 2605: expected 21 fields, saw 22\\nSkipping line 2607: expected 21 fields, saw 22\\nSkipping line 2612: expected 21 fields, saw 22\\nSkipping line 2613: expected 21 fields, saw 22\\nSkipping line 2635: expected 21 fields, saw 22\\nSkipping line 2691: expected 21 fields, saw 22\\nSkipping line 2696: expected 21 fields, saw 22\\nSkipping line 2714: expected 21 fields, saw 22\\nSkipping line 2721: expected 21 fields, saw 22\\nSkipping line 2743: expected 21 fields, saw 22\\nSkipping line 2746: expected 21 fields, saw 22\\nSkipping line 2759: expected 21 fields, saw 22\\nSkipping line 2768: expected 21 fields, saw 22\\nSkipping line 2773: expected 21 fields, saw 22\\nSkipping line 2783: expected 21 fields, saw 22\\nSkipping line 2788: expected 21 fields, saw 22\\nSkipping line 2791: expected 21 fields, saw 22\\nSkipping line 2794: expected 21 fields, saw 22\\nSkipping line 2802: expected 21 fields, saw 22\\nSkipping line 2811: expected 21 fields, saw 22\\nSkipping line 2816: expected 21 fields, saw 22\\nSkipping line 2827: expected 21 fields, saw 22\\nSkipping line 2886: expected 21 fields, saw 22\\nSkipping line 2890: expected 21 fields, saw 22\\nSkipping line 2899: expected 21 fields, saw 22\\nSkipping line 2909: expected 21 fields, saw 22\\nSkipping line 2925: expected 21 fields, saw 22\\nSkipping line 2932: expected 21 fields, saw 22\\nSkipping line 2942: expected 21 fields, saw 22\\nSkipping line 2949: expected 21 fields, saw 22\\nSkipping line 2967: expected 21 fields, saw 22\\nSkipping line 2983: expected 21 fields, saw 22\\nSkipping line 3012: expected 21 fields, saw 22\\nSkipping line 3075: expected 21 fields, saw 22\\nSkipping line 3088: expected 21 fields, saw 22\\nSkipping line 3107: expected 21 fields, saw 22\\nSkipping line 3111: expected 21 fields, saw 22\\nSkipping line 3148: expected 21 fields, saw 22\\nSkipping line 3162: expected 21 fields, saw 22\\nSkipping line 3172: expected 21 fields, saw 22\\nSkipping line 3203: expected 21 fields, saw 22\\nSkipping line 3209: expected 21 fields, saw 22\\nSkipping line 3213: expected 21 fields, saw 22\\nSkipping line 3243: expected 21 fields, saw 22\\nSkipping line 3247: expected 21 fields, saw 22\\nSkipping line 3263: expected 21 fields, saw 22\\nSkipping line 3284: expected 21 fields, saw 22\\nSkipping line 3290: expected 21 fields, saw 22\\nSkipping line 3304: expected 21 fields, saw 22\\nSkipping line 3373: expected 21 fields, saw 22\\nSkipping line 3387: expected 21 fields, saw 22\\nSkipping line 3403: expected 21 fields, saw 22\\nSkipping line 3407: expected 21 fields, saw 22\\nSkipping line 3445: expected 21 fields, saw 22\\nSkipping line 3449: expected 21 fields, saw 22\\nSkipping line 3452: expected 21 fields, saw 22\\nSkipping line 3463: expected 21 fields, saw 22\\nSkipping line 3472: expected 21 fields, saw 22\\nSkipping line 3474: expected 21 fields, saw 22\\nSkipping line 3476: expected 21 fields, saw 22\\nSkipping line 3487: expected 21 fields, saw 22\\nSkipping line 3499: expected 21 fields, saw 22\\nSkipping line 3512: expected 21 fields, saw 22\\nSkipping line 3534: expected 21 fields, saw 22\\nSkipping line 3572: expected 21 fields, saw 22\\nSkipping line 3577: expected 21 fields, saw 22\\nSkipping line 3578: expected 21 fields, saw 22\\nSkipping line 3587: expected 21 fields, saw 22\\nSkipping line 3613: expected 21 fields, saw 22\\nSkipping line 3636: expected 21 fields, saw 22\\nSkipping line 3641: expected 21 fields, saw 22\\nSkipping line 3642: expected 21 fields, saw 22\\nSkipping line 3652: expected 21 fields, saw 22\\nSkipping line 3653: expected 21 fields, saw 22\\nSkipping line 3658: expected 21 fields, saw 22\\nSkipping line 3659: expected 21 fields, saw 22\\nSkipping line 3663: expected 21 fields, saw 22\\nSkipping line 3672: expected 21 fields, saw 22\\nSkipping line 3678: expected 21 fields, saw 22\\nSkipping line 3703: expected 21 fields, saw 22\\nSkipping line 3717: expected 21 fields, saw 22\\nSkipping line 3726: expected 21 fields, saw 22\\nSkipping line 3734: expected 21 fields, saw 22\\nSkipping line 3749: expected 21 fields, saw 22\\nSkipping line 3753: expected 21 fields, saw 22\\nSkipping line 3754: expected 21 fields, saw 22\\nSkipping line 3768: expected 21 fields, saw 22\\nSkipping line 3804: expected 21 fields, saw 22\\nSkipping line 3811: expected 21 fields, saw 22\\nSkipping line 3813: expected 21 fields, saw 22\\nSkipping line 3814: expected 21 fields, saw 22\\nSkipping line 3826: expected 21 fields, saw 22\\nSkipping line 3844: expected 21 fields, saw 22\\nSkipping line 3845: expected 21 fields, saw 22\\nSkipping line 3872: expected 21 fields, saw 22\\nSkipping line 3876: expected 21 fields, saw 22\\nSkipping line 3879: expected 21 fields, saw 22\\nSkipping line 3887: expected 21 fields, saw 22\\nSkipping line 3891: expected 21 fields, saw 22\\nSkipping line 3895: expected 21 fields, saw 22\\nSkipping line 3899: expected 21 fields, saw 22\\nSkipping line 3901: expected 21 fields, saw 22\\nSkipping line 3908: expected 21 fields, saw 22\\nSkipping line 3912: expected 21 fields, saw 22\\nSkipping line 3917: expected 21 fields, saw 22\\nSkipping line 3946: expected 21 fields, saw 22\\nSkipping line 3947: expected 21 fields, saw 22\\nSkipping line 3948: expected 21 fields, saw 22\\nSkipping line 3949: expected 21 fields, saw 22\\nSkipping line 3955: expected 21 fields, saw 22\\nSkipping line 3960: expected 21 fields, saw 22\\nSkipping line 3962: expected 21 fields, saw 22\\nSkipping line 3968: expected 21 fields, saw 22\\nSkipping line 3979: expected 21 fields, saw 22\\nSkipping line 3984: expected 21 fields, saw 22\\nSkipping line 3987: expected 21 fields, saw 22\\nSkipping line 3991: expected 21 fields, saw 22\\nSkipping line 3996: expected 21 fields, saw 22\\nSkipping line 4004: expected 21 fields, saw 22\\nSkipping line 4008: expected 21 fields, saw 22\\nSkipping line 4010: expected 21 fields, saw 22\\nSkipping line 4012: expected 21 fields, saw 22\\nSkipping line 4015: expected 21 fields, saw 22\\nSkipping line 4020: expected 21 fields, saw 22\\nSkipping line 4035: expected 21 fields, saw 22\\nSkipping line 4037: expected 21 fields, saw 22\\nSkipping line 4040: expected 21 fields, saw 22\\nSkipping line 4046: expected 21 fields, saw 22\\nSkipping line 4057: expected 21 fields, saw 22\\nSkipping line 4061: expected 21 fields, saw 22\\nSkipping line 4072: expected 21 fields, saw 22\\nSkipping line 4083: expected 21 fields, saw 22\\nSkipping line 4093: expected 21 fields, saw 22\\nSkipping line 4095: expected 21 fields, saw 22\\nSkipping line 4111: expected 21 fields, saw 22\\nSkipping line 4124: expected 21 fields, saw 22\\nSkipping line 4134: expected 21 fields, saw 22\\nSkipping line 4145: expected 21 fields, saw 22\\nSkipping line 4158: expected 21 fields, saw 22\\nSkipping line 4168: expected 21 fields, saw 22\\nSkipping line 4170: expected 21 fields, saw 22\\nSkipping line 4174: expected 21 fields, saw 22\\nSkipping line 4194: expected 21 fields, saw 22\\nSkipping line 4198: expected 21 fields, saw 22\\nSkipping line 4199: expected 21 fields, saw 22\\nSkipping line 4201: expected 21 fields, saw 22\\nSkipping line 4202: expected 21 fields, saw 22\\nSkipping line 4211: expected 21 fields, saw 23\\nSkipping line 4215: expected 21 fields, saw 23\\nSkipping line 4220: expected 21 fields, saw 22\\nSkipping line 4222: expected 21 fields, saw 22\\nSkipping line 4227: expected 21 fields, saw 23\\nSkipping line 4228: expected 21 fields, saw 23\\nSkipping line 4230: expected 21 fields, saw 23\\nSkipping line 4233: expected 21 fields, saw 22\\nSkipping line 4234: expected 21 fields, saw 22\\nSkipping line 4246: expected 21 fields, saw 22\\nSkipping line 4281: expected 21 fields, saw 22\\nSkipping line 4310: expected 21 fields, saw 22\\nSkipping line 4314: expected 21 fields, saw 22\\nSkipping line 4317: expected 21 fields, saw 22\\nSkipping line 4318: expected 21 fields, saw 22\\nSkipping line 4324: expected 21 fields, saw 22\\nSkipping line 4325: expected 21 fields, saw 22\\nSkipping line 4326: expected 21 fields, saw 22\\nSkipping line 4327: expected 21 fields, saw 22\\nSkipping line 4329: expected 21 fields, saw 22\\nSkipping line 4330: expected 21 fields, saw 22\\nSkipping line 4331: expected 21 fields, saw 22\\nSkipping line 4332: expected 21 fields, saw 22\\nSkipping line 4340: expected 21 fields, saw 22\\nSkipping line 4341: expected 21 fields, saw 22\\nSkipping line 4344: expected 21 fields, saw 22\\nSkipping line 4346: expected 21 fields, saw 22\\nSkipping line 4347: expected 21 fields, saw 22\\nSkipping line 4348: expected 21 fields, saw 22\\nSkipping line 4349: expected 21 fields, saw 22\\nSkipping line 4350: expected 21 fields, saw 22\\nSkipping line 4351: expected 21 fields, saw 22\\nSkipping line 4353: expected 21 fields, saw 22\\nSkipping line 4354: expected 21 fields, saw 22\\nSkipping line 4355: expected 21 fields, saw 22\\nSkipping line 4356: expected 21 fields, saw 22\\nSkipping line 4357: expected 21 fields, saw 22\\nSkipping line 4358: expected 21 fields, saw 22\\nSkipping line 4360: expected 21 fields, saw 22\\nSkipping line 4363: expected 21 fields, saw 22\\nSkipping line 4364: expected 21 fields, saw 22\\nSkipping line 4381: expected 21 fields, saw 22\\nSkipping line 4390: expected 21 fields, saw 22\\nSkipping line 4407: expected 21 fields, saw 23\\nSkipping line 4415: expected 21 fields, saw 22\\nSkipping line 4419: expected 21 fields, saw 23\\nSkipping line 4428: expected 21 fields, saw 22\\nSkipping line 4448: expected 21 fields, saw 22\\nSkipping line 4459: expected 21 fields, saw 22\\nSkipping line 4472: expected 21 fields, saw 22\\nSkipping line 4491: expected 21 fields, saw 22\\nSkipping line 4505: expected 21 fields, saw 22\\nSkipping line 4515: expected 21 fields, saw 22\\nSkipping line 4526: expected 21 fields, saw 22\\nSkipping line 4534: expected 21 fields, saw 22\\nSkipping line 4540: expected 21 fields, saw 22\\nSkipping line 4542: expected 21 fields, saw 22\\nSkipping line 4543: expected 21 fields, saw 23\\nSkipping line 4544: expected 21 fields, saw 22\\nSkipping line 4547: expected 21 fields, saw 22\\nSkipping line 4551: expected 21 fields, saw 22\\nSkipping line 4554: expected 21 fields, saw 22\\nSkipping line 4559: expected 21 fields, saw 22\\nSkipping line 4560: expected 21 fields, saw 22\\nSkipping line 4565: expected 21 fields, saw 22\\nSkipping line 4567: expected 21 fields, saw 22\\nSkipping line 4568: expected 21 fields, saw 22\\nSkipping line 4573: expected 21 fields, saw 22\\nSkipping line 4575: expected 21 fields, saw 22\\nSkipping line 4589: expected 21 fields, saw 22\\nSkipping line 4590: expected 21 fields, saw 22\\nSkipping line 4592: expected 21 fields, saw 22\\nSkipping line 4593: expected 21 fields, saw 22\\nSkipping line 4612: expected 21 fields, saw 22\\nSkipping line 4641: expected 21 fields, saw 22\\nSkipping line 4644: expected 21 fields, saw 22\\nSkipping line 4646: expected 21 fields, saw 22\\nSkipping line 4667: expected 21 fields, saw 22\\nSkipping line 4668: expected 21 fields, saw 22\\nSkipping line 4669: expected 21 fields, saw 22\\nSkipping line 4670: expected 21 fields, saw 22\\nSkipping line 4673: expected 21 fields, saw 22\\nSkipping line 4685: expected 21 fields, saw 22\\n'\n"
     ]
    }
   ],
   "source": [
    "# Read first 100 rows\n",
    "# df = pd.read_csv('../../data/processed/bioliquid_chr17_pompe.txt', sep='\\t', nrows=100, header=None, error_bad_lines=False)\n",
    "\n",
    "# Read full file\n",
    "df = pd.read_csv('../../data/processed/bioliquid_chr17_pompe.txt', sep='\\t', header=None, error_bad_lines=False)"
   ]
  },
  {
   "cell_type": "code",
   "execution_count": 24,
   "id": "7ff829c2-df48-47fd-a259-d0ad6af47d00",
   "metadata": {},
   "outputs": [
    {
     "data": {
      "text/plain": [
       "(4308, 21)"
      ]
     },
     "execution_count": 24,
     "metadata": {},
     "output_type": "execute_result"
    }
   ],
   "source": [
    "df.shape"
   ]
  },
  {
   "cell_type": "markdown",
   "id": "4264aaa9-0541-4468-bd03-26cd43739520",
   "metadata": {},
   "source": [
    "# Load reads"
   ]
  },
  {
   "cell_type": "code",
   "execution_count": null,
   "id": "e0e4863e-3df1-47be-9348-2b1e110c2a36",
   "metadata": {},
   "outputs": [],
   "source": []
  }
 ],
 "metadata": {
  "kernelspec": {
   "display_name": "Python 3",
   "language": "python",
   "name": "python3"
  },
  "language_info": {
   "codemirror_mode": {
    "name": "ipython",
    "version": 3
   },
   "file_extension": ".py",
   "mimetype": "text/x-python",
   "name": "python",
   "nbconvert_exporter": "python",
   "pygments_lexer": "ipython3",
   "version": "3.9.2"
  }
 },
 "nbformat": 4,
 "nbformat_minor": 5
}
