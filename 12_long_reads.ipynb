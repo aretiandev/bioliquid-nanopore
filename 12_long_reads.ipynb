{
 "cells": [
  {
   "cell_type": "code",
   "execution_count": 701,
   "id": "56d7ad5b-8b2f-4156-8de2-5aa0b6bd6291",
   "metadata": {},
   "outputs": [],
   "source": [
    "# 12 - LONG READS\n",
    "#\n",
    "# This script takes the information in tagged_reads.csv and combines the reads into long reads. The script is based on 12_long_reads.ipynb\n",
    "#\n",
    "# INPUTS:\n",
    "#   run_number\n",
    "#   disease\n",
    "#   tagged_reads.csv\n",
    "# \n",
    "# OUTPUTS:\n",
    "#   tagged_long_reads.csv"
   ]
  },
  {
   "cell_type": "markdown",
   "id": "e9270d55-083c-4ade-971b-b65dc17c15fa",
   "metadata": {},
   "source": [
    "# Load modules"
   ]
  },
  {
   "cell_type": "code",
   "execution_count": 877,
   "id": "77843d63-8e63-4a16-800e-a4ac65ed4714",
   "metadata": {},
   "outputs": [],
   "source": [
    "import numpy as np\n",
    "import pandas as pd\n",
    "import sys\n",
    "import matplotlib.pyplot as plt"
   ]
  },
  {
   "cell_type": "markdown",
   "id": "dcad6e3c-a033-4bf5-9337-792a5d162131",
   "metadata": {},
   "source": [
    "# Set variables"
   ]
  },
  {
   "cell_type": "code",
   "execution_count": 703,
   "id": "71c06636-6031-4ac5-8265-d7751469d941",
   "metadata": {},
   "outputs": [],
   "source": [
    "run_number=\"run1\"\n",
    "chrom=\"chr11\"\n",
    "dis=\"sca\"\n",
    "\n",
    "# Setup\n",
    "chrom_dis=f\"{chrom}_{dis}\"\n",
    "rootdir=f\"/mnt/aretian/genomics/nanopore\"\n",
    "datadir=f\"/mnt/aretian/genomics/nanopore/{run_number}\"\n",
    "\n",
    "# Parameters\n",
    "expected_gap_fraction = 0.5"
   ]
  },
  {
   "cell_type": "code",
   "execution_count": 704,
   "id": "7fd77527-1686-4d82-a9a2-8239463d8743",
   "metadata": {},
   "outputs": [
    {
     "name": "stdout",
     "output_type": "stream",
     "text": [
      "\n",
      "----------------------------------------------------------------------\n",
      "12 - CREATE LONG READS)\n",
      "Run: 1, disease: sca.\n",
      "\n",
      "\n"
     ]
    }
   ],
   "source": [
    "print('')\n",
    "print('----------------------------------------------------------------------')\n",
    "# print(f'12 - CREATE LONG READS (__file__})')\n",
    "print(f'12 - CREATE LONG READS)')\n",
    "print(f\"Run: {run}, disease: {dis}.\")\n",
    "print('')\n",
    "print('')"
   ]
  },
  {
   "cell_type": "markdown",
   "id": "27b682f0-7d01-4910-a88b-c3b327ec648c",
   "metadata": {},
   "source": [
    "# Load Data"
   ]
  },
  {
   "cell_type": "code",
   "execution_count": 705,
   "id": "9033932a-51c2-4765-b707-e59514c98880",
   "metadata": {},
   "outputs": [],
   "source": [
    "df = pd.read_csv(f'{datadir}/{run_number}_{chrom}_tagged_reads.csv')\n",
    "df = df.rename(columns={'startpos':'orig_pos'})\n",
    "shift = min(df['orig_pos'])\n",
    "df['pos'] = df['orig_pos'] - shift\n",
    "df['seq_len']= df['read'].apply(lambda x: len(x))\n",
    "df['end_pos']=df['pos']+df['seq_len']-1\n",
    "df['sample'] = df['samplename'].str[-1].astype(int)"
   ]
  },
  {
   "cell_type": "markdown",
   "id": "7457bbcf-6e63-43a2-a945-6fbb9f67b13b",
   "metadata": {},
   "source": [
    "# Descriptive Statistics"
   ]
  },
  {
   "cell_type": "code",
   "execution_count": 726,
   "id": "02bbcb5f-16b5-4990-808b-14e4ce0b047f",
   "metadata": {},
   "outputs": [
    {
     "name": "stdout",
     "output_type": "stream",
     "text": [
      "Total length of region:     4,080,268\n",
      "Avg read length:               37,296.16\n",
      "Avg read length + 50% padd:    55,944.25\n",
      "Bin length:                    55,944\n",
      "total_length/bin_length:           72.93\n",
      "Number of bins:                    73.00 --> last bin is shorter.\n",
      "\n",
      "               Count       Avg Length    N of long reads \n",
      "person0        4,494       37,296        62\n",
      "person1        1,548       36,921        21\n",
      "Full sample    6,042       38,386        83\n"
     ]
    }
   ],
   "source": [
    "total_length = max(df['end_pos'])\n",
    "reads_0 = df[df['sample']==0]\n",
    "reads_1 = df[df['sample']==1]\n",
    "\n",
    "# Number of reads\n",
    "n_0=len(reads_0)\n",
    "n_1=len(reads_1)\n",
    "\n",
    "# Average length\n",
    "mean_length = df['seq_len'].mean()\n",
    "mean_length_0 = reads_0['seq_len'].mean()\n",
    "mean_length_1 = reads_1['seq_len'].mean()\n",
    "\n",
    "# Total bins\n",
    "expected_gap = mean_length*expected_gap_fraction\n",
    "bin_length = round(mean_length + expected_gap)\n",
    "n_bins_exact = total_length/bin_length \n",
    "n_bins = round(n_bins_exact)\n",
    "\n",
    "# Bins in  person0\n",
    "n_long_reads_0 = n_0/n_bins\n",
    "# Bins in person1\n",
    "n_long_reads_1 = n_1/n_bins\n",
    "\n",
    "print(f\"Total length of region:     {total_length:,.0f}\")\n",
    "print(f\"Avg read length:               {mean_length:,.2f}\")\n",
    "print(f\"Avg read length + {expected_gap_fraction*100:,.0f}% padd:    {mean_length+expected_gap:,.2f}\")\n",
    "print(f\"Bin length:                    {bin_length:,.0f}\")\n",
    "print(f\"total_length/bin_length:           {n_bins_exact:,.2f}\")\n",
    "print(f\"Number of bins:                    {n_bins:,.2f} --> last bin is {'shorter' if (n_bins>n_bins_exact) else 'longer'}.\")\n",
    "print(\"\")\n",
    "print(f\"               Count       Avg Length    N of long reads \")\n",
    "print(f\"person0        {n_0:,.0f}       {mean_length:,.0f}        {n_long_reads_0:,.0f}\")   \n",
    "print(f\"person1        {n_1:,.0f}       {mean_length_0:,.0f}        {n_long_reads_1:,.0f}\")\n",
    "print(f\"Full sample    {len(df):,.0f}       {mean_length_1:,.0f}        {n_long_reads_0 + n_long_reads_1:,.0f}\")"
   ]
  },
  {
   "cell_type": "markdown",
   "id": "aaad551c-53da-436d-a826-b2b3e366205d",
   "metadata": {},
   "source": [
    "# Create bins"
   ]
  },
  {
   "cell_type": "code",
   "execution_count": 727,
   "id": "5373b093-ce72-4926-8e4d-823988ef0a39",
   "metadata": {},
   "outputs": [],
   "source": [
    "# How to calculate optimal number of bins\n",
    "# Calculate average read length: 15000\n",
    "# Include reasonable gaps: 15000\n",
    "# How many reads per long_read? 4M/30K= 133 bins (reads per long_read)\n",
    "# How many reads do I have? 1100\n",
    "# What is the depth? 1100/133 = 8.3"
   ]
  },
  {
   "cell_type": "code",
   "execution_count": 728,
   "id": "b0d35c5a-dabe-43f7-89bc-3924bf610f9d",
   "metadata": {},
   "outputs": [
    {
     "name": "stdout",
     "output_type": "stream",
     "text": [
      "Total length:         4,080,268\n",
      "Bin aggregate length: 4,083,912\n",
      "Difference:              -3,644\n",
      "Bin length:              55,944\n",
      "Last bin length:         52,300\n"
     ]
    }
   ],
   "source": [
    "# Create bins\n",
    "bins = []\n",
    "\n",
    "last_bin_end = 0\n",
    "for i in range(int(np.floor(n_bins))):\n",
    "    bin_start = last_bin_end + 1\n",
    "    bin_end   = bin_start + bin_length - 1\n",
    "    bins.append([bin_start, bin_end])\n",
    "    last_bin_end = bin_end\n",
    "\n",
    "# Calculate and repor tlast bin length    \n",
    "\n",
    "# Gap\n",
    "bin_agg_length = n_bins * bin_length\n",
    "gap = total_length - bin_agg_length\n",
    "print(f\"Total length:         {total_length:,.0f}\")\n",
    "print(f\"Bin aggregate length: {bin_agg_length:,.0f}\")\n",
    "print(f\"Difference:              {gap:,.0f}\")\n",
    "\n",
    "# Last bin length\n",
    "last_bin_length = bin_length + gap\n",
    "print(f\"Bin length:              {bin_length:,.0f}\")\n",
    "print(f\"Last bin length:         {last_bin_length:,.0f}\")\n",
    "\n",
    "# Adjust last bin length\n",
    "bins[-1][1]=bins[-1][0]+last_bin_length-1"
   ]
  },
  {
   "cell_type": "markdown",
   "id": "63a90d0f-8d95-4b2d-9bdb-5339bacee6b4",
   "metadata": {},
   "source": [
    "# Assign reads to bins"
   ]
  },
  {
   "cell_type": "code",
   "execution_count": 729,
   "id": "7f034471-c7e7-4887-b8b0-34bae9397173",
   "metadata": {
    "tags": []
   },
   "outputs": [
    {
     "name": "stdout",
     "output_type": "stream",
     "text": [
      "Selected person: person1\n",
      "Empty bin: 6\n",
      "Empty bin: 10\n",
      "Empty bin: 25\n",
      "Empty bin: 26\n",
      "Empty bin: 46\n",
      "Empty bin: 47\n",
      "Empty bin: 48\n",
      "Empty bin: 54\n",
      "Empty bin: 67\n",
      "Reads with no assigned bin: 0\n",
      "Empty bins: 9\n"
     ]
    }
   ],
   "source": [
    "# Select person\n",
    "selected_person = 1\n",
    "print(f\"Selected person: person{selected_person}\")\n",
    "\n",
    "if   selected_person == 0:\n",
    "    person_reads = reads_0.copy()\n",
    "elif selected_person == 1:\n",
    "    person_reads = reads_1.copy()\n",
    "\n",
    "# Count empty bins\n",
    "empty_bins = 0\n",
    "\n",
    "# Initialize bin column with empty lists\n",
    "person_reads['bin']=np.empty((len(person_reads), 0)).tolist()\n",
    "\n",
    "# Lambda function to append bin membership to list\n",
    "def append_bin(read, bin):\n",
    "    read['bin'].append(bin)\n",
    "    return read\n",
    "\n",
    "# Add bin membership column to person_reads df\n",
    "\n",
    "for n, bin in enumerate(bins):\n",
    "\n",
    "    # Get reads in bin\n",
    "    read_starts_inside = (person_reads['pos']    >bin[0]) & (person_reads['pos']    <bin[1])\n",
    "    read_ends_inside   = (person_reads['end_pos']>bin[0]) & (person_reads['end_pos']<bin[1])\n",
    "    read_covers        = (person_reads['pos']    <bin[0]) & (person_reads['end_pos']>bin[1])\n",
    "    \n",
    "    overlaps_bin = (read_starts_inside | read_ends_inside | read_covers)\n",
    "    \n",
    "    # Count empty bins\n",
    "    if overlaps_bin.sum() == 0:\n",
    "        empty_bins = empty_bins + 1\n",
    "        print(f'Empty bin: {n}')\n",
    "        continue\n",
    "    \n",
    "    # Append bin number to bin column\n",
    "    person_reads.loc[overlaps_bin].apply(lambda x: append_bin(x, n), axis=1)\n",
    "\n",
    "print(f\"Reads with no assigned bin: {person_reads['bin'].isna().sum()}\")\n",
    "print(f\"Empty bins: {empty_bins}\")"
   ]
  },
  {
   "cell_type": "markdown",
   "id": "19c2dcf1-5e6d-470a-867b-83f97952c1c2",
   "metadata": {},
   "source": [
    "# Draw reads into each bin "
   ]
  },
  {
   "cell_type": "code",
   "execution_count": 730,
   "id": "26ef3181-053a-47d6-a1e1-a8a0520fe0c2",
   "metadata": {},
   "outputs": [],
   "source": [
    "# Plot distribution of reads over the 4M range\n",
    "# ----  ----  ----     -   -----   ---    -----\n",
    "#     ----  -- ----    -----   ---    -----\n",
    "# --  ---  ----   -----   ---    - ---- -----\n",
    "# 62*71"
   ]
  },
  {
   "cell_type": "code",
   "execution_count": 743,
   "id": "bf04ec28-15f0-4ac7-b193-eff0ac581774",
   "metadata": {
    "collapsed": true,
    "jupyter": {
     "outputs_hidden": true
    },
    "tags": []
   },
   "outputs": [
    {
     "name": "stdout",
     "output_type": "stream",
     "text": [
      "Long read:  22. Bin:  29. Unassigned:   522. Progress:  66%"
     ]
    },
    {
     "ename": "KeyboardInterrupt",
     "evalue": "",
     "output_type": "error",
     "traceback": [
      "\u001b[0;31m---------------------------------------------------------------------------\u001b[0m",
      "\u001b[0;31mKeyboardInterrupt\u001b[0m                         Traceback (most recent call last)",
      "\u001b[0;32m<ipython-input-743-2403e1fd8cfe>\u001b[0m in \u001b[0;36m<module>\u001b[0;34m\u001b[0m\n\u001b[1;32m     18\u001b[0m \u001b[0;34m\u001b[0m\u001b[0m\n\u001b[1;32m     19\u001b[0m         \u001b[0;31m# Get reads in bin\u001b[0m\u001b[0;34m\u001b[0m\u001b[0;34m\u001b[0m\u001b[0;34m\u001b[0m\u001b[0m\n\u001b[0;32m---> 20\u001b[0;31m         \u001b[0mbin_reads_boolean\u001b[0m \u001b[0;34m=\u001b[0m \u001b[0mperson_reads\u001b[0m\u001b[0;34m.\u001b[0m\u001b[0mapply\u001b[0m\u001b[0;34m(\u001b[0m\u001b[0;32mlambda\u001b[0m \u001b[0mx\u001b[0m\u001b[0;34m:\u001b[0m \u001b[0mn\u001b[0m \u001b[0;32min\u001b[0m \u001b[0mx\u001b[0m\u001b[0;34m[\u001b[0m\u001b[0;34m'bin'\u001b[0m\u001b[0;34m]\u001b[0m\u001b[0;34m,\u001b[0m \u001b[0maxis\u001b[0m\u001b[0;34m=\u001b[0m\u001b[0;36m1\u001b[0m\u001b[0;34m)\u001b[0m\u001b[0;34m\u001b[0m\u001b[0;34m\u001b[0m\u001b[0m\n\u001b[0m\u001b[1;32m     21\u001b[0m \u001b[0;34m\u001b[0m\u001b[0m\n\u001b[1;32m     22\u001b[0m         \u001b[0;31m# Get reads in bin that are not assigned\u001b[0m\u001b[0;34m\u001b[0m\u001b[0;34m\u001b[0m\u001b[0;34m\u001b[0m\u001b[0m\n",
      "\u001b[0;32m/opt/conda/lib/python3.9/site-packages/pandas/core/frame.py\u001b[0m in \u001b[0;36mapply\u001b[0;34m(self, func, axis, raw, result_type, args, **kwds)\u001b[0m\n\u001b[1;32m   7766\u001b[0m             \u001b[0mkwds\u001b[0m\u001b[0;34m=\u001b[0m\u001b[0mkwds\u001b[0m\u001b[0;34m,\u001b[0m\u001b[0;34m\u001b[0m\u001b[0;34m\u001b[0m\u001b[0m\n\u001b[1;32m   7767\u001b[0m         )\n\u001b[0;32m-> 7768\u001b[0;31m         \u001b[0;32mreturn\u001b[0m \u001b[0mop\u001b[0m\u001b[0;34m.\u001b[0m\u001b[0mget_result\u001b[0m\u001b[0;34m(\u001b[0m\u001b[0;34m)\u001b[0m\u001b[0;34m\u001b[0m\u001b[0;34m\u001b[0m\u001b[0m\n\u001b[0m\u001b[1;32m   7769\u001b[0m \u001b[0;34m\u001b[0m\u001b[0m\n\u001b[1;32m   7770\u001b[0m     \u001b[0;32mdef\u001b[0m \u001b[0mapplymap\u001b[0m\u001b[0;34m(\u001b[0m\u001b[0mself\u001b[0m\u001b[0;34m,\u001b[0m \u001b[0mfunc\u001b[0m\u001b[0;34m,\u001b[0m \u001b[0mna_action\u001b[0m\u001b[0;34m:\u001b[0m \u001b[0mOptional\u001b[0m\u001b[0;34m[\u001b[0m\u001b[0mstr\u001b[0m\u001b[0;34m]\u001b[0m \u001b[0;34m=\u001b[0m \u001b[0;32mNone\u001b[0m\u001b[0;34m)\u001b[0m \u001b[0;34m->\u001b[0m \u001b[0mDataFrame\u001b[0m\u001b[0;34m:\u001b[0m\u001b[0;34m\u001b[0m\u001b[0;34m\u001b[0m\u001b[0m\n",
      "\u001b[0;32m/opt/conda/lib/python3.9/site-packages/pandas/core/apply.py\u001b[0m in \u001b[0;36mget_result\u001b[0;34m(self)\u001b[0m\n\u001b[1;32m    183\u001b[0m             \u001b[0;32mreturn\u001b[0m \u001b[0mself\u001b[0m\u001b[0;34m.\u001b[0m\u001b[0mapply_raw\u001b[0m\u001b[0;34m(\u001b[0m\u001b[0;34m)\u001b[0m\u001b[0;34m\u001b[0m\u001b[0;34m\u001b[0m\u001b[0m\n\u001b[1;32m    184\u001b[0m \u001b[0;34m\u001b[0m\u001b[0m\n\u001b[0;32m--> 185\u001b[0;31m         \u001b[0;32mreturn\u001b[0m \u001b[0mself\u001b[0m\u001b[0;34m.\u001b[0m\u001b[0mapply_standard\u001b[0m\u001b[0;34m(\u001b[0m\u001b[0;34m)\u001b[0m\u001b[0;34m\u001b[0m\u001b[0;34m\u001b[0m\u001b[0m\n\u001b[0m\u001b[1;32m    186\u001b[0m \u001b[0;34m\u001b[0m\u001b[0m\n\u001b[1;32m    187\u001b[0m     \u001b[0;32mdef\u001b[0m \u001b[0mapply_empty_result\u001b[0m\u001b[0;34m(\u001b[0m\u001b[0mself\u001b[0m\u001b[0;34m)\u001b[0m\u001b[0;34m:\u001b[0m\u001b[0;34m\u001b[0m\u001b[0;34m\u001b[0m\u001b[0m\n",
      "\u001b[0;32m/opt/conda/lib/python3.9/site-packages/pandas/core/apply.py\u001b[0m in \u001b[0;36mapply_standard\u001b[0;34m(self)\u001b[0m\n\u001b[1;32m    274\u001b[0m \u001b[0;34m\u001b[0m\u001b[0m\n\u001b[1;32m    275\u001b[0m     \u001b[0;32mdef\u001b[0m \u001b[0mapply_standard\u001b[0m\u001b[0;34m(\u001b[0m\u001b[0mself\u001b[0m\u001b[0;34m)\u001b[0m\u001b[0;34m:\u001b[0m\u001b[0;34m\u001b[0m\u001b[0;34m\u001b[0m\u001b[0m\n\u001b[0;32m--> 276\u001b[0;31m         \u001b[0mresults\u001b[0m\u001b[0;34m,\u001b[0m \u001b[0mres_index\u001b[0m \u001b[0;34m=\u001b[0m \u001b[0mself\u001b[0m\u001b[0;34m.\u001b[0m\u001b[0mapply_series_generator\u001b[0m\u001b[0;34m(\u001b[0m\u001b[0;34m)\u001b[0m\u001b[0;34m\u001b[0m\u001b[0;34m\u001b[0m\u001b[0m\n\u001b[0m\u001b[1;32m    277\u001b[0m \u001b[0;34m\u001b[0m\u001b[0m\n\u001b[1;32m    278\u001b[0m         \u001b[0;31m# wrap results\u001b[0m\u001b[0;34m\u001b[0m\u001b[0;34m\u001b[0m\u001b[0;34m\u001b[0m\u001b[0m\n",
      "\u001b[0;32m/opt/conda/lib/python3.9/site-packages/pandas/core/apply.py\u001b[0m in \u001b[0;36mapply_series_generator\u001b[0;34m(self)\u001b[0m\n\u001b[1;32m    288\u001b[0m             \u001b[0;32mfor\u001b[0m \u001b[0mi\u001b[0m\u001b[0;34m,\u001b[0m \u001b[0mv\u001b[0m \u001b[0;32min\u001b[0m \u001b[0menumerate\u001b[0m\u001b[0;34m(\u001b[0m\u001b[0mseries_gen\u001b[0m\u001b[0;34m)\u001b[0m\u001b[0;34m:\u001b[0m\u001b[0;34m\u001b[0m\u001b[0;34m\u001b[0m\u001b[0m\n\u001b[1;32m    289\u001b[0m                 \u001b[0;31m# ignore SettingWithCopy here in case the user mutates\u001b[0m\u001b[0;34m\u001b[0m\u001b[0;34m\u001b[0m\u001b[0;34m\u001b[0m\u001b[0m\n\u001b[0;32m--> 290\u001b[0;31m                 \u001b[0mresults\u001b[0m\u001b[0;34m[\u001b[0m\u001b[0mi\u001b[0m\u001b[0;34m]\u001b[0m \u001b[0;34m=\u001b[0m \u001b[0mself\u001b[0m\u001b[0;34m.\u001b[0m\u001b[0mf\u001b[0m\u001b[0;34m(\u001b[0m\u001b[0mv\u001b[0m\u001b[0;34m)\u001b[0m\u001b[0;34m\u001b[0m\u001b[0;34m\u001b[0m\u001b[0m\n\u001b[0m\u001b[1;32m    291\u001b[0m                 \u001b[0;32mif\u001b[0m \u001b[0misinstance\u001b[0m\u001b[0;34m(\u001b[0m\u001b[0mresults\u001b[0m\u001b[0;34m[\u001b[0m\u001b[0mi\u001b[0m\u001b[0;34m]\u001b[0m\u001b[0;34m,\u001b[0m \u001b[0mABCSeries\u001b[0m\u001b[0;34m)\u001b[0m\u001b[0;34m:\u001b[0m\u001b[0;34m\u001b[0m\u001b[0;34m\u001b[0m\u001b[0m\n\u001b[1;32m    292\u001b[0m                     \u001b[0;31m# If we have a view on v, we need to make a copy because\u001b[0m\u001b[0;34m\u001b[0m\u001b[0;34m\u001b[0m\u001b[0;34m\u001b[0m\u001b[0m\n",
      "\u001b[0;32m<ipython-input-743-2403e1fd8cfe>\u001b[0m in \u001b[0;36m<lambda>\u001b[0;34m(x)\u001b[0m\n\u001b[1;32m     18\u001b[0m \u001b[0;34m\u001b[0m\u001b[0m\n\u001b[1;32m     19\u001b[0m         \u001b[0;31m# Get reads in bin\u001b[0m\u001b[0;34m\u001b[0m\u001b[0;34m\u001b[0m\u001b[0;34m\u001b[0m\u001b[0m\n\u001b[0;32m---> 20\u001b[0;31m         \u001b[0mbin_reads_boolean\u001b[0m \u001b[0;34m=\u001b[0m \u001b[0mperson_reads\u001b[0m\u001b[0;34m.\u001b[0m\u001b[0mapply\u001b[0m\u001b[0;34m(\u001b[0m\u001b[0;32mlambda\u001b[0m \u001b[0mx\u001b[0m\u001b[0;34m:\u001b[0m \u001b[0mn\u001b[0m \u001b[0;32min\u001b[0m \u001b[0mx\u001b[0m\u001b[0;34m[\u001b[0m\u001b[0;34m'bin'\u001b[0m\u001b[0;34m]\u001b[0m\u001b[0;34m,\u001b[0m \u001b[0maxis\u001b[0m\u001b[0;34m=\u001b[0m\u001b[0;36m1\u001b[0m\u001b[0;34m)\u001b[0m\u001b[0;34m\u001b[0m\u001b[0;34m\u001b[0m\u001b[0m\n\u001b[0m\u001b[1;32m     21\u001b[0m \u001b[0;34m\u001b[0m\u001b[0m\n\u001b[1;32m     22\u001b[0m         \u001b[0;31m# Get reads in bin that are not assigned\u001b[0m\u001b[0;34m\u001b[0m\u001b[0;34m\u001b[0m\u001b[0;34m\u001b[0m\u001b[0m\n",
      "\u001b[0;32m/opt/conda/lib/python3.9/site-packages/pandas/core/series.py\u001b[0m in \u001b[0;36m__getitem__\u001b[0;34m(self, key)\u001b[0m\n\u001b[1;32m    844\u001b[0m \u001b[0;34m\u001b[0m\u001b[0m\n\u001b[1;32m    845\u001b[0m         \u001b[0mkey_is_scalar\u001b[0m \u001b[0;34m=\u001b[0m \u001b[0mis_scalar\u001b[0m\u001b[0;34m(\u001b[0m\u001b[0mkey\u001b[0m\u001b[0;34m)\u001b[0m\u001b[0;34m\u001b[0m\u001b[0;34m\u001b[0m\u001b[0m\n\u001b[0;32m--> 846\u001b[0;31m         \u001b[0;32mif\u001b[0m \u001b[0misinstance\u001b[0m\u001b[0;34m(\u001b[0m\u001b[0mkey\u001b[0m\u001b[0;34m,\u001b[0m \u001b[0;34m(\u001b[0m\u001b[0mlist\u001b[0m\u001b[0;34m,\u001b[0m \u001b[0mtuple\u001b[0m\u001b[0;34m)\u001b[0m\u001b[0;34m)\u001b[0m\u001b[0;34m:\u001b[0m\u001b[0;34m\u001b[0m\u001b[0;34m\u001b[0m\u001b[0m\n\u001b[0m\u001b[1;32m    847\u001b[0m             \u001b[0mkey\u001b[0m \u001b[0;34m=\u001b[0m \u001b[0munpack_1tuple\u001b[0m\u001b[0;34m(\u001b[0m\u001b[0mkey\u001b[0m\u001b[0;34m)\u001b[0m\u001b[0;34m\u001b[0m\u001b[0;34m\u001b[0m\u001b[0m\n\u001b[1;32m    848\u001b[0m \u001b[0;34m\u001b[0m\u001b[0m\n",
      "\u001b[0;31mKeyboardInterrupt\u001b[0m: "
     ]
    }
   ],
   "source": [
    "# Initialize long read membership\n",
    "person_reads['long_read'] = np.nan\n",
    "# Track reads that are already assigned\n",
    "person_reads['assigned'] = False\n",
    "\n",
    "long_read_number = 0\n",
    "\n",
    "while person_reads['assigned'].sum() < len(person_reads):\n",
    "    # While there are unassigned reads\n",
    "\n",
    "    n_unassigned = len(person_reads) - person_reads['assigned'].sum()\n",
    "    progress = (1-n_unassigned/len(person_reads))*100\n",
    "    \n",
    "    for n, bin in enumerate(bins):\n",
    "    # Run bin loop assigning reads\n",
    "        print(f\"\\rLong read: {long_read_number:3.0f}. Bin: {n:3.0f}. Unassigned: {n_unassigned:5.0f}. Progress: {progress:3.0f}%\", end=\"\", flush=True)\n",
    "#         print(f\"Bin number: {n}\")\n",
    "    \n",
    "        # Get reads in bin\n",
    "        bin_reads_boolean = person_reads.apply(lambda x: n in x['bin'], axis=1)\n",
    "        \n",
    "        # Get reads in bin that are not assigned\n",
    "        bin_reads = person_reads.loc[bin_reads_boolean & ~person_reads['assigned']]\n",
    "        \n",
    "        # Get first read, assign it to long read\n",
    "        try:\n",
    "            selected_index = bin_reads.index[0]\n",
    "        except: # The bin is empty\n",
    "#             print(f'Empty bin: {n}')\n",
    "            continue\n",
    "        \n",
    "        person_reads.loc[selected_index, 'long_read'] = long_read_number\n",
    "#         bin_reads.loc[0, 'long_read'] = long_read_number\n",
    "        \n",
    "        # Record assignment\n",
    "        person_reads.loc[selected_index, 'assigned'] = True\n",
    "        \n",
    "        # Add check of already assigned\n",
    "        \n",
    "        # Check previous selected read\n",
    "        \n",
    "        #Store end position of last read for next loop\n",
    "    \n",
    "    # Go to the next long read\n",
    "    long_read_number += 1\n",
    "    \n",
    "print(\"\")\n",
    "print(\"Done.\")\n",
    "    "
   ]
  },
  {
   "cell_type": "markdown",
   "id": "12dc25f5-e9f7-4091-8233-cd2422d409b2",
   "metadata": {},
   "source": [
    "## Make Backup"
   ]
  },
  {
   "cell_type": "code",
   "execution_count": 745,
   "id": "945960f2-e2f5-4c75-a168-b7a1050dfa48",
   "metadata": {},
   "outputs": [],
   "source": [
    "# person_reads_copy = person_reads.copy()\n",
    "# person_reads = person_reads_copy.copy()"
   ]
  },
  {
   "cell_type": "markdown",
   "id": "845b8c52-f7ea-4a4d-8d0d-9b6b8a5a5829",
   "metadata": {},
   "source": [
    "# Plot Long reads"
   ]
  },
  {
   "cell_type": "code",
   "execution_count": 885,
   "id": "53a17c75-4c5a-404f-b297-b916d4472e6b",
   "metadata": {},
   "outputs": [
    {
     "name": "stdout",
     "output_type": "stream",
     "text": [
      "Identifying points to plot long reads.\n",
      "Total number of long reads: 117\n",
      "Processing long read: 116\n",
      "Done.\n"
     ]
    }
   ],
   "source": [
    "# Get effective number of long reads\n",
    "n_long_reads = int(person_reads['long_read'].max() + 1)\n",
    "\n",
    "# long_read_binary = list(np.zeros(total_length))\n",
    "long_read_collection = []\n",
    "print(\"Identifying points to plot long reads.\")\n",
    "print(f\"Total number of long reads: {n_long_reads}\")\n",
    "\n",
    "for long_read_n in range(n_long_reads):\n",
    "    long_read_binary = []\n",
    "    \n",
    "    print(f\"\\rProcessing long read: {long_read_n}\", end=\"\", flush=True)\n",
    "    \n",
    "    selected_long = person_reads.loc[person_reads['long_read']==long_read_n].copy()\n",
    "\n",
    "    for point in range(0,total_length+1,10000):\n",
    "        after_start =  selected_long['pos']< point\n",
    "        before_end  =  point < selected_long['end_pos']\n",
    "        is_in_read  = (after_start & before_end).any()\n",
    "\n",
    "        value_to_append = 1 if is_in_read else np.nan\n",
    "        long_read_binary.append(value_to_append)\n",
    "    \n",
    "    long_read_collection.append(long_read_binary)\n",
    "\n",
    "#     if is_in_read:\n",
    "#         long_read_binary[point]=1\n",
    "        \n",
    "print(\"\")\n",
    "print(\"Done.\")\n",
    "# print(f\"Length of read to plot: {len(long_read_binary)}\")"
   ]
  },
  {
   "cell_type": "code",
   "execution_count": 886,
   "id": "191d7bb3-d7db-4515-a7e1-0355e7835ae7",
   "metadata": {},
   "outputs": [
    {
     "data": {
      "image/png": "[encoded data removed]",
      "text/plain": [
       "<Figure size 1440x720 with 1 Axes>"
      ]
     },
     "metadata": {
      "needs_background": "light"
     },
     "output_type": "display_data"
    }
   ],
   "source": [
    "plt.subplots(figsize=(20,10))\n",
    "x = range(len(long_read_collection[0]))\n",
    "\n",
    "# for i in range(len(long_read_collection)):\n",
    "for i in range(100):\n",
    "    long_read_binary = [x * (i+1) for x in long_read_collection[i]]\n",
    "    plt.scatter(x, long_read_binary)"
   ]
  },
  {
   "cell_type": "code",
   "execution_count": 888,
   "id": "ae028d6f-1b93-48c7-b3c1-ec6c9a415fd8",
   "metadata": {},
   "outputs": [
    {
     "data": {
      "text/plain": [
       "0"
      ]
     },
     "execution_count": 888,
     "metadata": {},
     "output_type": "execute_result"
    }
   ],
   "source": [
    "person_reads.long_read.isna().sum()"
   ]
  },
  {
   "cell_type": "code",
   "execution_count": null,
   "id": "37de8a85-ef0c-4592-ba75-088e42a0b08f",
   "metadata": {},
   "outputs": [],
   "source": [
    "# Split reads evenly over space\n",
    "\n",
    "# Create long read #1:\n",
    "# Choose read1 in bin 1\n",
    "# Choose read2 in bin 2 that does not overlap with read1\n",
    "# Choose read3 in bin 3 that does not overlap with read2\n",
    "# ...\n",
    "# Choose read10 in bin 10 that does not overlap with read9\n",
    "\n",
    "# Repeat until no more reads"
   ]
  }
 ],
 "metadata": {
  "kernelspec": {
   "display_name": "Python 3",
   "language": "python",
   "name": "python3"
  },
  "language_info": {
   "codemirror_mode": {
    "name": "ipython",
    "version": 3
   },
   "file_extension": ".py",
   "mimetype": "text/x-python",
   "name": "python",
   "nbconvert_exporter": "python",
   "pygments_lexer": "ipython3",
   "version": "3.9.2"
  }
 },
 "nbformat": 4,
 "nbformat_minor": 5
}
