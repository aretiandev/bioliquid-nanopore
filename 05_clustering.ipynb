{
 "cells": [
  {
   "cell_type": "markdown",
   "metadata": {},
   "source": [
    "# Clustering\n",
    "\n",
    "This script performs the clustering algorithm. It contains the following steps:\n",
    "\n",
    "- Padding reads with the reference genome to fill empty spaces\n",
    "- Sliding a window over the region of interest to identify reads"
   ]
  },
  {
   "cell_type": "markdown",
   "metadata": {},
   "source": [
    "# Load modules"
   ]
  },
  {
   "cell_type": "code",
   "execution_count": 119,
   "metadata": {},
   "outputs": [],
   "source": [
    "import numpy as np\n",
    "import pandas as pd\n",
    "import json\n",
    "import os\n",
    "\n",
    "from sklearn.decomposition import PCA\n",
    "from sklearn.preprocessing import StandardScaler\n",
    "from sklearn.cluster import KMeans\n",
    "from sklearn.preprocessing import OneHotEncoder\n",
    "encoder = OneHotEncoder()"
   ]
  },
  {
   "cell_type": "markdown",
   "metadata": {},
   "source": [
    "# Set Variables"
   ]
  },
  {
   "cell_type": "code",
   "execution_count": 120,
   "metadata": {},
   "outputs": [],
   "source": [
    "# Input variables\n",
    "run_number=\"run2\"\n",
    "chrom=\"chr11\"\n",
    "dis=\"thal3\"\n",
    "# Setup\n",
    "chrom_dis=f\"{chrom}_{dis}\"\n",
    "datadir=f\"/mnt/aretian/genomics/nanopore/{run_number}\"\n",
    "results_file_path = f\"{datadir}/{run_number}_{chrom_dis}_read_clusters_debug.txt\"\n",
    "\n",
    "os.environ[\"run_number\"]=run_number\n",
    "os.environ[\"chrom_dis\"]=chrom_dis\n",
    "os.environ[\"datadir\"]=datadir"
   ]
  },
  {
   "cell_type": "markdown",
   "metadata": {},
   "source": [
    "# Import data"
   ]
  },
  {
   "cell_type": "code",
   "execution_count": 121,
   "metadata": {},
   "outputs": [],
   "source": [
    "# Import Nanopore reads\n",
    "nanopore_reads_path = f'{datadir}/{run_number}_{chrom_dis}_clean.csv'\n",
    "nanopore_reads = pd.read_csv(nanopore_reads_path)\n",
    "\n",
    "# Import reference genome for the location of interest without gaps\n",
    "with open(f'{datadir}/{run_number}_{chrom_dis}_reference_genome.json', 'r') as f:\n",
    "    ref_genome_json = json.load(f)\n",
    "    \n",
    "ref_genome = ref_genome_json['reference_genome']"
   ]
  },
  {
   "cell_type": "markdown",
   "metadata": {},
   "source": [
    "# Helper functions"
   ]
  },
  {
   "cell_type": "code",
   "execution_count": 122,
   "metadata": {},
   "outputs": [
    {
     "data": {
      "text/plain": [
       "1651586"
      ]
     },
     "execution_count": 122,
     "metadata": {},
     "output_type": "execute_result"
    }
   ],
   "source": [
    "len(ref_genome)"
   ]
  },
  {
   "cell_type": "code",
   "execution_count": 123,
   "metadata": {},
   "outputs": [
    {
     "data": {
      "text/plain": [
       "1651586"
      ]
     },
     "execution_count": 123,
     "metadata": {},
     "output_type": "execute_result"
    }
   ],
   "source": [
    "nanopore_reads['END_POS'].max()"
   ]
  },
  {
   "cell_type": "code",
   "execution_count": 124,
   "metadata": {},
   "outputs": [
    {
     "data": {
      "text/plain": [
       "5"
      ]
     },
     "execution_count": 124,
     "metadata": {},
     "output_type": "execute_result"
    }
   ],
   "source": [
    "mystring = 'ABCDE'\n",
    "mystring[-1:]\n",
    "len(mystring)"
   ]
  },
  {
   "cell_type": "code",
   "execution_count": null,
   "metadata": {},
   "outputs": [],
   "source": []
  },
  {
   "cell_type": "code",
   "execution_count": 125,
   "metadata": {},
   "outputs": [
    {
     "data": {
      "text/plain": [
       "['C']"
      ]
     },
     "execution_count": 125,
     "metadata": {},
     "output_type": "execute_result"
    }
   ],
   "source": [
    "mylist = ['A','B','C']\n",
    "mylist[2:]"
   ]
  },
  {
   "cell_type": "code",
   "execution_count": 126,
   "metadata": {},
   "outputs": [],
   "source": [
    "# Define hyper-parameters\n",
    "window_width = 5000 # 10K BP\n",
    "jump_width = 1000 # 1k BP sliding window (ideally jump_width=1)\n",
    "\n",
    "# check if the start of a sequence is in range\n",
    "def check_sliding_window(read):\n",
    "    read_filter = False\n",
    "    \n",
    "# #     Slow algorithm\n",
    "#     window = set(list(range(left_bound,right_bound+1)))\n",
    "#     read = set(list(range(read['POS'],read['END_POS']+1)))\n",
    "#     if len(window & read)>0:\n",
    "#         read_filter = True\n",
    "\n",
    "    starts_inside = read['POS']>=left_bound and read['POS']<=right_bound\n",
    "    ends_inside = read['END_POS']>=left_bound and read['END_POS']<=right_bound\n",
    "    covers_window = read['POS']<left_bound and read['END_POS']>right_bound\n",
    "    if starts_inside or ends_inside or covers_window:\n",
    "        read_filter=True\n",
    "    \n",
    "    return read_filter\n",
    "\n",
    "# Input: read --> Series\n",
    "# Output: nucleotide_sequence_trimmed: String\n",
    "\n",
    "def left_pad_read(read):\n",
    "    nucleotide_sequence = list(read['SEQ']) # turn sequence string into a list\n",
    "    genome_sequence = list(window_ref_genome)\n",
    "    \n",
    "    start = read['POS']-left_bound\n",
    "\n",
    "    if start == 0:\n",
    "        return read['SEQ'] # read starts on the start of the window\n",
    "    \n",
    "    elif start > 0: # sequence starts to the right of the bound\n",
    "#         print('HERE1')\n",
    "#         genome_fill = window_ref_genome[:start] # select portion of reference genome to pad the left with\n",
    "        genome_fill = genome_sequence[:start] # select portion of reference genome to pad the left with\n",
    "#         print('genome_fill type:', type(genome_fill))\n",
    "#         print('nucleotide_sequence type:', type(nucleotide_sequence))\n",
    "        nucleotide_sequence = genome_fill+nucleotide_sequence\n",
    "        nucleotide_sequence_trimmed = ''.join(nucleotide_sequence) # keep entire sequence\n",
    "        return nucleotide_sequence_trimmed\n",
    "    \n",
    "    elif start < 0: # sequence starts to the left of the bound\n",
    "#         print('HERE2')\n",
    "        nucleotide_sequence_trimmed = ''.join(nucleotide_sequence[np.abs(start):])\n",
    "        return nucleotide_sequence_trimmed\n",
    "\n",
    "# Input: read --> Series\n",
    "# Output: nucleotide_sequence_trimmed: String\n",
    "\n",
    "def right_pad_read(read):\n",
    "    nucleotide_sequence = list(read['left_padded']) # turn sequence string into a list\n",
    "    genome_sequence = list(window_ref_genome)\n",
    "\n",
    "    end = right_bound-read['END_POS']\n",
    "\n",
    "    if end == 0:\n",
    "        return read['left_padded'] # read end on the end of the window\n",
    "    \n",
    "    elif end > 0: # sequence ends to the left of the bound\n",
    "#         genome_fill = window_ref_genome[-end:] # select portion of reference genome to pad the right with\n",
    "        genome_fill = genome_sequence[-end:] # select portion of reference genome to pad the right with\n",
    "        nucleotide_sequence = nucleotide_sequence+genome_fill\n",
    "        nucleotide_sequence_trimmed = ''.join(nucleotide_sequence) # keep entire sequence\n",
    "        return nucleotide_sequence_trimmed\n",
    "    \n",
    "    elif end < 0: # sequence ends to the right of the bound\n",
    "        nucleotide_sequence_trimmed = ''.join(nucleotide_sequence[:end])\n",
    "        return nucleotide_sequence_trimmed\n",
    "\n",
    "# Should be updated\n",
    "NUCLEOTIDE_VOCABULARY = [\n",
    "    'A','C','G','T','X'\n",
    "]\n",
    "        \n",
    "# Not being used, instead, we use the sklearn one hot encoding\n",
    "def nucleotide_to_one_hot(nucleotide_sequence):\n",
    "    to_return = []\n",
    "    for char in nucleotide_sequence:\n",
    "        if char in NUCLEOTIDE_VOCABULARY:\n",
    "            to_append = np.zeros(len(NUCLEOTIDE_VOCABULARY))\n",
    "            to_append[NUCLEOTIDE_VOCABULARY.index(char)] = 1.\n",
    "            to_return.append(to_append)\n",
    "        else:\n",
    "            raise ValueError('Could not one-hot code character {}'.format(char))\n",
    "    return np.array(to_return)\n",
    "\n",
    "#nucleotide_to_one_hot('GTCATACX') # uncomment example to see what the encoding does\n",
    "\n",
    "# Input: read (Series)\n",
    "\n",
    "# Text file for results\n",
    "def write_results_to_file(read, is_first_window, results_file):\n",
    "    results_file.write(f\"{read['ID']},{read['kmeans_cls2']},{read['window_num']},{is_first_window}\\n\")\n",
    "#     TODO: Add window number\n",
    "#     results_file.close()"
   ]
  },
  {
   "cell_type": "markdown",
   "metadata": {},
   "source": [
    "# Main Loop: padding and clustering"
   ]
  },
  {
   "cell_type": "code",
   "execution_count": 140,
   "metadata": {
    "collapsed": true,
    "jupyter": {
     "outputs_hidden": true
    },
    "tags": []
   },
   "outputs": [
    {
     "name": "stdout",
     "output_type": "stream",
     "text": [
      "CLUSTERING ALGORITHM\n",
      "\n",
      "Total range: 1,651,586\n",
      "Window width: 5000\n",
      "Jump width: 1000\n",
      "Number of iterations required: 1652\n",
      "\n",
      "Reading Nanopore reads from: /mnt/aretian/genomics/nanopore/run2/run2_chr11_thal3_clean.csv\n",
      "Writing results to file:     /mnt/aretian/genomics/nanopore/run2/run2_chr11_thal3_read_clusters_debug.txt\n",
      "\n",
      "  0: Found 0 reads in window.           -->   Save empty window.\n",
      "  1: Found 1 read in window.            -->   Apply arbitrary cluster 0.\n",
      "  *: Found more than 1 read in window.  -->   Run clustering. Save clusters.\n",
      "   : Island end.\n",
      "|%|: Progress.\n",
      "\n",
      "Iterations: 1* 11 1* 11 11 27.0***********111111111111111 11 11 5.01*** 11 11 11 11 11 11 11 1* 1* 11 11 11 11 1* 11 11 11 11 1* 11 11 11 1* 11 11 1* 11 1* 1* 11 20.0*****1************* 11 11 11 11 11 |5%|11 11 11 11 11 11 11 11 11 11 25.0***************1******11 11 3.0** 11 11 11 11 11 1* 1* 11 11 1* 11 11 11 11 1* 11 11 11 11 1* 11 11 11 11 11 11 11 11 11 1* 11 11 11 |10%|11 11 11 11 1* 11 11 11 11 11 1* 11 1* 11 11 1* 1* 1* 11 11 11 12.0*********** 1* 11 11 1* 11 11 11 11 1* 1* 11 11 11 1* 1* 11 1* 2.0* 11 11 9.0******** 11 11 |15%|1* 8.0******* 1* 11 11 11 11 11 11 11 3.0** 11 11 11 11 1* 11 1* 11 11 11 11 11 11 11 11 11 11 4.0111 11 78.0***************11******************1***************************************** 11 11 11 11 11 11 1* 11 11 11 1* 11 11 11 31.0*********************111****** |20%|11 11 1* 11 11 1* 11 11 1* 11 11 11 11 1* 11 1* 1* 11 11 11 11 11 11 11 11 11 11 1* 11 11 11 1* 11 11 11 11 1* 11 11 11 11 1* 11 11 11 |25%|11 11 11 1* 11 11 11 11 11 11 11 11 11 6.0***** 1* 11 11 11 11 11 11 11 11 1* 11 5.0**** 1* 1* 11 11 11 11 1* 11 11 11 11 6.0***** 11 11 11 11 1* 11 11 1* |30%|1* 11 11 11 11 1* 11 11 11 1* 1* 11 11 11 11 1* 5.0**** 1* 11 1* 1* 11 11 11 11 11 11 11 1* 11 11 1* 11 1* 1* 11 11 11 11 11 11 11 11 11 1* |35%|11 11 1* 11 1* 11 11 11 11 11 11 11 11 11 14.0************* 11 11 11 11 1* 12.0*********** 11 11 11 11 11 1* 19.011111******1****** 1* 11 11 11 11 1* 1* 11 11 1* 1* 1* 11 11 11 3.0** 11 11 |40%|50.0***************************111111**************** 11 11 1* 1* 1* 11 11 1* 11 1* 11 11 1* 11 11 1* 1* 11 1* 11 1* 11 11 11 11 11 1* 11 1* 11 11 1* 11 11 11 11 11 11 11 11 11 11 11 1* |45%|11 11 1* 11 11 11 11 11 11 11 11 11 11 1* 11 11 11 11 1* 11 11 11 1* 1* 11 11 11 1* 11 1* 11 11 1* 11 11 11 11 11 11 11 11 11 11 11 1* 11 |50%|11 11 11 11 11 11 11 11 11 1* 11 1* 11 11 11 11 1* 11 11 11 11 11 11 1* 11 11 11 28.0*************1************* 11 11 11 11 1* 1* 1* 1* 7.0****** 11 11 11 11 1* 11 11 1* 11 |55%|11 1* 1* 11 1* 11.0***1****** 11 11 11 11 11 11 11 11 1* 1* 11 11 11 11 1* 11 1* 11 11 11 11 11 1* 1* 11 1* 11 11 1* 11 11 11 11 11 11 11 11 11 11 |60%|1* 4.0*** 11 1* 11 11 11 11 1* 11 12.0*********** 11 1* 11 1* 11 11 11 11 11 1* 11 5.0**** 1* 11 1* 11 11 1* 1* 1* 11 11 11 1* 1* 11 11 1* 7.01***** 11 11 11 1* 11 11 |65%|11 1* 11 1* 11 11 11 11 11 1* 11 11 11 11 11 11 11 11 11 11 58.0****111111111111****************"
     ]
    },
    {
     "ename": "KeyboardInterrupt",
     "evalue": "",
     "output_type": "error",
     "traceback": [
      "\u001b[0;31m---------------------------------------------------------------------------\u001b[0m",
      "\u001b[0;31mKeyboardInterrupt\u001b[0m                         Traceback (most recent call last)",
      "\u001b[0;32m<ipython-input-140-4eb5ae9c9ead>\u001b[0m in \u001b[0;36m<module>\u001b[0;34m\u001b[0m\n\u001b[1;32m    131\u001b[0m         \u001b[0munique_reads\u001b[0m \u001b[0;34m=\u001b[0m \u001b[0;34m[\u001b[0m\u001b[0mlist\u001b[0m\u001b[0;34m(\u001b[0m\u001b[0mrow\u001b[0m\u001b[0;34m)\u001b[0m \u001b[0;32mfor\u001b[0m \u001b[0mrow\u001b[0m \u001b[0;32min\u001b[0m \u001b[0mwindow_reads\u001b[0m\u001b[0;34m[\u001b[0m\u001b[0;34m'final_padded_read'\u001b[0m\u001b[0;34m]\u001b[0m\u001b[0;34m]\u001b[0m\u001b[0;34m\u001b[0m\u001b[0;34m\u001b[0m\u001b[0m\n\u001b[1;32m    132\u001b[0m \u001b[0;34m\u001b[0m\u001b[0m\n\u001b[0;32m--> 133\u001b[0;31m         \u001b[0mX_onehot\u001b[0m \u001b[0;34m=\u001b[0m \u001b[0mencoder\u001b[0m\u001b[0;34m.\u001b[0m\u001b[0mfit_transform\u001b[0m\u001b[0;34m(\u001b[0m\u001b[0munique_reads\u001b[0m\u001b[0;34m)\u001b[0m\u001b[0;34m.\u001b[0m\u001b[0mtoarray\u001b[0m\u001b[0;34m(\u001b[0m\u001b[0;34m)\u001b[0m\u001b[0;34m\u001b[0m\u001b[0;34m\u001b[0m\u001b[0m\n\u001b[0m\u001b[1;32m    134\u001b[0m \u001b[0;34m\u001b[0m\u001b[0m\n\u001b[1;32m    135\u001b[0m         \u001b[0;31m# PCA\u001b[0m\u001b[0;34m\u001b[0m\u001b[0;34m\u001b[0m\u001b[0;34m\u001b[0m\u001b[0m\n",
      "\u001b[0;32m/opt/conda/lib/python3.9/site-packages/sklearn/preprocessing/_encoders.py\u001b[0m in \u001b[0;36mfit_transform\u001b[0;34m(self, X, y)\u001b[0m\n\u001b[1;32m    449\u001b[0m         \"\"\"\n\u001b[1;32m    450\u001b[0m         \u001b[0mself\u001b[0m\u001b[0;34m.\u001b[0m\u001b[0m_validate_keywords\u001b[0m\u001b[0;34m(\u001b[0m\u001b[0;34m)\u001b[0m\u001b[0;34m\u001b[0m\u001b[0;34m\u001b[0m\u001b[0m\n\u001b[0;32m--> 451\u001b[0;31m         \u001b[0;32mreturn\u001b[0m \u001b[0msuper\u001b[0m\u001b[0;34m(\u001b[0m\u001b[0;34m)\u001b[0m\u001b[0;34m.\u001b[0m\u001b[0mfit_transform\u001b[0m\u001b[0;34m(\u001b[0m\u001b[0mX\u001b[0m\u001b[0;34m,\u001b[0m \u001b[0my\u001b[0m\u001b[0;34m)\u001b[0m\u001b[0;34m\u001b[0m\u001b[0;34m\u001b[0m\u001b[0m\n\u001b[0m\u001b[1;32m    452\u001b[0m \u001b[0;34m\u001b[0m\u001b[0m\n\u001b[1;32m    453\u001b[0m     \u001b[0;32mdef\u001b[0m \u001b[0mtransform\u001b[0m\u001b[0;34m(\u001b[0m\u001b[0mself\u001b[0m\u001b[0;34m,\u001b[0m \u001b[0mX\u001b[0m\u001b[0;34m)\u001b[0m\u001b[0;34m:\u001b[0m\u001b[0;34m\u001b[0m\u001b[0;34m\u001b[0m\u001b[0m\n",
      "\u001b[0;32m/opt/conda/lib/python3.9/site-packages/sklearn/base.py\u001b[0m in \u001b[0;36mfit_transform\u001b[0;34m(self, X, y, **fit_params)\u001b[0m\n\u001b[1;32m    697\u001b[0m         \u001b[0;32mif\u001b[0m \u001b[0my\u001b[0m \u001b[0;32mis\u001b[0m \u001b[0;32mNone\u001b[0m\u001b[0;34m:\u001b[0m\u001b[0;34m\u001b[0m\u001b[0;34m\u001b[0m\u001b[0m\n\u001b[1;32m    698\u001b[0m             \u001b[0;31m# fit method of arity 1 (unsupervised transformation)\u001b[0m\u001b[0;34m\u001b[0m\u001b[0;34m\u001b[0m\u001b[0;34m\u001b[0m\u001b[0m\n\u001b[0;32m--> 699\u001b[0;31m             \u001b[0;32mreturn\u001b[0m \u001b[0mself\u001b[0m\u001b[0;34m.\u001b[0m\u001b[0mfit\u001b[0m\u001b[0;34m(\u001b[0m\u001b[0mX\u001b[0m\u001b[0;34m,\u001b[0m \u001b[0;34m**\u001b[0m\u001b[0mfit_params\u001b[0m\u001b[0;34m)\u001b[0m\u001b[0;34m.\u001b[0m\u001b[0mtransform\u001b[0m\u001b[0;34m(\u001b[0m\u001b[0mX\u001b[0m\u001b[0;34m)\u001b[0m\u001b[0;34m\u001b[0m\u001b[0;34m\u001b[0m\u001b[0m\n\u001b[0m\u001b[1;32m    700\u001b[0m         \u001b[0;32melse\u001b[0m\u001b[0;34m:\u001b[0m\u001b[0;34m\u001b[0m\u001b[0;34m\u001b[0m\u001b[0m\n\u001b[1;32m    701\u001b[0m             \u001b[0;31m# fit method of arity 2 (supervised transformation)\u001b[0m\u001b[0;34m\u001b[0m\u001b[0;34m\u001b[0m\u001b[0;34m\u001b[0m\u001b[0m\n",
      "\u001b[0;32m/opt/conda/lib/python3.9/site-packages/sklearn/preprocessing/_encoders.py\u001b[0m in \u001b[0;36mtransform\u001b[0;34m(self, X)\u001b[0m\n\u001b[1;32m    469\u001b[0m         \u001b[0mcheck_is_fitted\u001b[0m\u001b[0;34m(\u001b[0m\u001b[0mself\u001b[0m\u001b[0;34m)\u001b[0m\u001b[0;34m\u001b[0m\u001b[0;34m\u001b[0m\u001b[0m\n\u001b[1;32m    470\u001b[0m         \u001b[0;31m# validation of X happens in _check_X called by _transform\u001b[0m\u001b[0;34m\u001b[0m\u001b[0;34m\u001b[0m\u001b[0;34m\u001b[0m\u001b[0m\n\u001b[0;32m--> 471\u001b[0;31m         X_int, X_mask = self._transform(X, handle_unknown=self.handle_unknown,\n\u001b[0m\u001b[1;32m    472\u001b[0m                                         force_all_finite='allow-nan')\n\u001b[1;32m    473\u001b[0m \u001b[0;34m\u001b[0m\u001b[0m\n",
      "\u001b[0;32m/opt/conda/lib/python3.9/site-packages/sklearn/preprocessing/_encoders.py\u001b[0m in \u001b[0;36m_transform\u001b[0;34m(self, X, handle_unknown, force_all_finite)\u001b[0m\n\u001b[1;32m    127\u001b[0m         \u001b[0;32mfor\u001b[0m \u001b[0mi\u001b[0m \u001b[0;32min\u001b[0m \u001b[0mrange\u001b[0m\u001b[0;34m(\u001b[0m\u001b[0mn_features\u001b[0m\u001b[0;34m)\u001b[0m\u001b[0;34m:\u001b[0m\u001b[0;34m\u001b[0m\u001b[0;34m\u001b[0m\u001b[0m\n\u001b[1;32m    128\u001b[0m             \u001b[0mXi\u001b[0m \u001b[0;34m=\u001b[0m \u001b[0mX_list\u001b[0m\u001b[0;34m[\u001b[0m\u001b[0mi\u001b[0m\u001b[0;34m]\u001b[0m\u001b[0;34m\u001b[0m\u001b[0;34m\u001b[0m\u001b[0m\n\u001b[0;32m--> 129\u001b[0;31m             diff, valid_mask = _check_unknown(Xi, self.categories_[i],\n\u001b[0m\u001b[1;32m    130\u001b[0m                                               return_mask=True)\n\u001b[1;32m    131\u001b[0m \u001b[0;34m\u001b[0m\u001b[0m\n",
      "\u001b[0;32m/opt/conda/lib/python3.9/site-packages/sklearn/utils/_encode.py\u001b[0m in \u001b[0;36m_check_unknown\u001b[0;34m(values, known_values, return_mask)\u001b[0m\n\u001b[1;32m    220\u001b[0m \u001b[0;34m\u001b[0m\u001b[0m\n\u001b[1;32m    221\u001b[0m         \u001b[0muniques_set\u001b[0m \u001b[0;34m=\u001b[0m \u001b[0mset\u001b[0m\u001b[0;34m(\u001b[0m\u001b[0mknown_values\u001b[0m\u001b[0;34m)\u001b[0m\u001b[0;34m\u001b[0m\u001b[0;34m\u001b[0m\u001b[0m\n\u001b[0;32m--> 222\u001b[0;31m         \u001b[0muniques_set\u001b[0m\u001b[0;34m,\u001b[0m \u001b[0mmissing_in_uniques\u001b[0m \u001b[0;34m=\u001b[0m \u001b[0m_extract_missing\u001b[0m\u001b[0;34m(\u001b[0m\u001b[0muniques_set\u001b[0m\u001b[0;34m)\u001b[0m\u001b[0;34m\u001b[0m\u001b[0;34m\u001b[0m\u001b[0m\n\u001b[0m\u001b[1;32m    223\u001b[0m         \u001b[0mdiff\u001b[0m \u001b[0;34m=\u001b[0m \u001b[0mvalues_set\u001b[0m \u001b[0;34m-\u001b[0m \u001b[0muniques_set\u001b[0m\u001b[0;34m\u001b[0m\u001b[0;34m\u001b[0m\u001b[0m\n\u001b[1;32m    224\u001b[0m \u001b[0;34m\u001b[0m\u001b[0m\n",
      "\u001b[0;32m/opt/conda/lib/python3.9/site-packages/sklearn/utils/_encode.py\u001b[0m in \u001b[0;36m_extract_missing\u001b[0;34m(values)\u001b[0m\n\u001b[1;32m     66\u001b[0m \u001b[0;34m\u001b[0m\u001b[0m\n\u001b[1;32m     67\u001b[0m \u001b[0;34m\u001b[0m\u001b[0m\n\u001b[0;32m---> 68\u001b[0;31m \u001b[0;32mdef\u001b[0m \u001b[0m_extract_missing\u001b[0m\u001b[0;34m(\u001b[0m\u001b[0mvalues\u001b[0m\u001b[0;34m)\u001b[0m\u001b[0;34m:\u001b[0m\u001b[0;34m\u001b[0m\u001b[0;34m\u001b[0m\u001b[0m\n\u001b[0m\u001b[1;32m     69\u001b[0m     \"\"\"Extract missing values from `values`.\n\u001b[1;32m     70\u001b[0m \u001b[0;34m\u001b[0m\u001b[0m\n",
      "\u001b[0;31mKeyboardInterrupt\u001b[0m: "
     ]
    }
   ],
   "source": [
    "results_file = open(results_file_path,\"w\")\n",
    "\n",
    "iter = 0\n",
    "empty_count = 0\n",
    "\n",
    "# User feedback\n",
    "print(\"CLUSTERING ALGORITHM\")\n",
    "print(\"\")\n",
    "print(f\"Total range: {max(nanopore_reads['END_POS']):,}\")\n",
    "print(f\"Window width: {window_width}\")\n",
    "print(f\"Jump width: {jump_width}\")\n",
    "total_jumps = round(max(nanopore_reads['END_POS'])/jump_width)\n",
    "print(f\"Number of iterations required: {total_jumps}\")\n",
    "print(\"\")\n",
    "print(f\"Reading Nanopore reads from: {nanopore_reads_path}\")\n",
    "print(f\"Writing results to file:     {results_file_path}\")\n",
    "print(\"\")\n",
    "print(\" 0: Found 0 reads in window.           -->   Save empty window.\")\n",
    "print(\" 1: Found 1 read in window.            -->   Apply arbitrary cluster 0.\")\n",
    "print(\" *: Found more than 1 read in window.  -->   Run clustering. Save clusters.\")\n",
    "print(\"  : Island end.\")\n",
    "print(\" %: Progress.\")\n",
    "print(\"\")\n",
    "print(f\"Iterations:\", end=\"\")\n",
    "\n",
    "islands_list = nanopore_reads['islandID'].unique()\n",
    "\n",
    "n_islands = len(islands_list)\n",
    "islands_counter = 0\n",
    "progress_threshold = 5\n",
    "\n",
    "for current_islandID in islands_list:\n",
    "    \n",
    "    print(\" \", end=\"\")\n",
    "    # Show progress\n",
    "    islands_counter += 1\n",
    "    progress = (islands_counter/n_islands)*100\n",
    "    if progress > progress_threshold:\n",
    "        progress_threshold += 5\n",
    "        print(f\"{round(progress):.0f}%\", end=\"\")\n",
    "\n",
    "    # Get island reads\n",
    "    island_reads = nanopore_reads.loc[nanopore_reads['islandID']==current_islandID].copy()\n",
    "\n",
    "    # Set last window position for each loop\n",
    "    island_width = max(island_reads['END_POS'])- min(island_reads['POS'])+1\n",
    "    island_start = min(island_reads['POS'])\n",
    "    island_end   = max(island_reads['END_POS'])\n",
    "    \n",
    "    # If island is narrow, set last window position so loop runs only once\n",
    "    if window_width > island_width:\n",
    "        number_of_windows = 1\n",
    "        left_bound_max = island_start + 1\n",
    "    # For normal islands, limit last window position to not to overshoot to the right\n",
    "    else:\n",
    "        number_of_windows = np.ceil( (island_width - window_width) / jump_width ) + 1\n",
    "        left_bound_max = island_end - window_width + 1\n",
    "        \n",
    "    # Initialize counters before loop\n",
    "    window_number=1\n",
    "    is_first_window=1\n",
    "        \n",
    "    for left_bound in range(island_start,left_bound_max,jump_width):\n",
    "\n",
    "        is_last_window = ( window_number == number_of_windows )\n",
    "        \n",
    "        if is_last_window:\n",
    "            # Adjust left_bound\n",
    "            left_bound = max(island_reads['END_POS']) - window_width + 1\n",
    "            \n",
    "            if left_bound < 0:\n",
    "                left_bound = 0\n",
    "            \n",
    "        iter+=1\n",
    "        \n",
    "        right_bound = left_bound+window_width-1\n",
    "        window_ref_genome = ref_genome[left_bound:right_bound+1]\n",
    "\n",
    "        # Identify if each read is in the window: True/False\n",
    "    #     print(\"Identifying if each read is in the window...\")\n",
    "        island_reads['read_filter'] = island_reads.apply(lambda x: check_sliding_window(x), axis=1)\n",
    "\n",
    "        # Get them\n",
    "        window_reads = island_reads.loc[island_reads['read_filter']==True] \n",
    "        window_reads = window_reads.reset_index()\n",
    "\n",
    "        if len(window_reads) == 0:\n",
    "            # There are no nanopore reads in this window (next window)\n",
    "            empty_count += 1\n",
    "            print(f\"0\", end=\"\")\n",
    "\n",
    "            # Record window with empty read\n",
    "            data = {'ID':[np.nan],'kmeans_cls2':[np.nan], 'window_num':[iter]}\n",
    "            empty_window_reads = pd.DataFrame(data)\n",
    "\n",
    "            empty_window_reads.apply(lambda x: write_results_to_file(x, is_first_window, results_file), axis=1) # write results to file\n",
    "            \n",
    "            is_first_window=0\n",
    "            window_number += 1\n",
    "            continue \n",
    "\n",
    "        elif len(window_reads) == 1:\n",
    "            # There is only one read in this window\n",
    "            empty_count += 1\n",
    "            print(f\"1\", end=\"\")\n",
    "\n",
    "            # Record window and assign arbitrary individual\n",
    "            window_reads['window_num']=iter\n",
    "            window_reads['kmeans_cls2']=0\n",
    "            window_reads.apply(lambda x: write_results_to_file(x, is_first_window, results_file), axis=1) # write results to file\n",
    "            \n",
    "            is_first_window=0\n",
    "            window_number += 1\n",
    "            continue\n",
    "\n",
    "        # More than one read in window. Proceeding to padding and clustering\n",
    "\n",
    "    #     Padding\n",
    "        window_reads['left_padded']  = window_reads.apply(lambda x: left_pad_read(x) , axis=1) # fill reference genome on the left of the read\n",
    "        window_reads['right_padded'] = window_reads.apply(lambda x: right_pad_read(x), axis=1) # fill reference genome on the right of the read\n",
    "        window_reads['final_padded_read'] = window_reads['right_padded']\n",
    "        window_reads['FINAL_SEQ_LEN'] = window_reads['final_padded_read'].apply(lambda x: len(x)) # should always be 5k\n",
    "\n",
    "        # not currently used. Should be used if we use the custom one-hot-encoding\n",
    "    #     window_reads['one_hot_read_V1'] = window_reads['final_padded_read'].apply(lambda x: nucleotide_to_one_hot(x).flatten())  # apply one-hot encoding V1\n",
    "\n",
    "    #     One hot encoding\n",
    "        unique_reads = [list(row) for row in window_reads['final_padded_read']]\n",
    "        \n",
    "        X_onehot = encoder.fit_transform(unique_reads).toarray()\n",
    "\n",
    "        # PCA\n",
    "        pca = PCA(n_components=2, random_state=42)\n",
    "        X_pca = pca.fit_transform(X_onehot)\n",
    "\n",
    "        window_reads['PCA1'] = np.nan\n",
    "        window_reads['PCA2'] = np.nan\n",
    "        for ID in window_reads.index:\n",
    "            window_reads.loc[ID,'PCA1'] = X_pca[ID][0] # TODO: change rounding if desired\n",
    "            window_reads.loc[ID,'PCA2'] = X_pca[ID][1] # TODO: change rounding if desired\n",
    "\n",
    "        # Standardizing the features\n",
    "        X = window_reads[['PCA1','PCA2']]\n",
    "        X = StandardScaler().fit_transform(X)\n",
    "\n",
    "        # Run Kmeans\n",
    "        model = KMeans(n_clusters=2, random_state=42)\n",
    "        cls2 = model.fit(X)\n",
    "        window_reads['kmeans_cls2'] = cls2.labels_\n",
    "        window_reads['window_num'] = iter\n",
    "\n",
    "        # Write results to file\n",
    "        window_reads.apply(lambda x: write_results_to_file(x, is_first_window, results_file), axis=1) # write results to file\n",
    "        \n",
    "        is_first_window=0\n",
    "        window_number += 1\n",
    "        \n",
    "        print(f\"*\", end=\"\")\n",
    "\n",
    "    #     Break after N iterations\n",
    "#         if iter>50:\n",
    "#             break\n",
    "        \n",
    "results_file.close()\n",
    "print(\"\")\n",
    "print(\"\")\n",
    "print(\"Finished running.\")\n",
    "\n",
    "read_clusters_df = pd.read_csv(results_file_path, header=None)\n",
    "read_clusters_df.columns = ['ID', 'kmeans_cls2', 'window_num', 'is_first_window']\n",
    "cluster0_size = (read_clusters_df['kmeans_cls2']==0).sum()\n",
    "cluster1_size = (read_clusters_df['kmeans_cls2']==1).sum()\n",
    "print(f\"Cluster 0: {cluster0_size} reads ({cluster0_size/len(read_clusters_df)*100:.1f}%)\")\n",
    "print(f\"Cluster 1: {cluster1_size} reads ({cluster1_size/len(read_clusters_df)*100:.1f}%)\")"
   ]
  },
  {
   "cell_type": "markdown",
   "metadata": {},
   "source": [
    "# EXTRA CODE\n",
    "Optimize number of clusters. Not needed in this case."
   ]
  },
  {
   "cell_type": "code",
   "execution_count": 11,
   "metadata": {},
   "outputs": [],
   "source": [
    "# from sklearn.metrics import silhouette_score\n",
    "# from sklearn.preprocessing import StandardScaler\n",
    "# from sklearn.cluster import KMeans\n",
    "\n",
    "# # Standardizing the features\n",
    "# X = test[['PCA1','PCA2']]\n",
    "# X = StandardScaler().fit_transform(X)\n",
    "\n",
    "# distortions = []\n",
    "\n",
    "# for k in range(1, 5):\n",
    "#     KMeans_model = KMeans(n_clusters=k, random_state=42)\n",
    "#     KMeans_model.fit(X)\n",
    "#     distortions.append(KMeans_model.inertia_)\n",
    "\n",
    "# plt.plot(range(1, 5), distortions,  marker='o')\n",
    "# plt.xlabel('Number of clusters (K)')\n",
    "# plt.ylabel('Distortion')\n",
    "\n",
    "# silhouette_scores = []\n",
    "# for k in range(2, 5):\n",
    "#     model = KMeans(n_clusters=k, random_state=42)\n",
    "#     model.fit(X)\n",
    "#     score = silhouette_score(X, model.labels_)\n",
    "#     print(\"Silhouette Score for k = \", k, \"is\", score)\n",
    "#     silhouette_scores.append(score)\n",
    "\n",
    "# plt.plot(range(2, 5), silhouette_scores, marker='o')\n",
    "# plt.xlabel('Number of clusters (K)')\n",
    "# plt.ylabel('Silhouette score')\n",
    "\n",
    "# from yellowbrick.cluster import KElbowVisualizer\n",
    "\n",
    "# visualizer3 = KElbowVisualizer(KMeans(), k=(2,5))\n",
    "\n",
    "# visualizer3.fit(X) # Fit the data to the visualizer\n",
    "\n",
    "# model = KMeans(n_clusters=2, random_state=42)\n",
    "# cls2 = model.fit(X)\n",
    "# test['kmeans_cls2'] = cls2.labels_\n",
    "\n",
    "# import seaborn as sns\n",
    "# sns.scatterplot(data=window_reads,x='PCA1',y='PCA2',hue='kmeans_cls2')"
   ]
  },
  {
   "cell_type": "code",
   "execution_count": null,
   "metadata": {},
   "outputs": [],
   "source": []
  }
 ],
 "metadata": {
  "kernelspec": {
   "display_name": "Python 3",
   "language": "python",
   "name": "python3"
  },
  "language_info": {
   "codemirror_mode": {
    "name": "ipython",
    "version": 3
   },
   "file_extension": ".py",
   "mimetype": "text/x-python",
   "name": "python",
   "nbconvert_exporter": "python",
   "pygments_lexer": "ipython3",
   "version": "3.9.2"
  }
 },
 "nbformat": 4,
 "nbformat_minor": 4
}
