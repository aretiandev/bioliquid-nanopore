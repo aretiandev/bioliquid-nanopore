{
 "cells": [
  {
   "cell_type": "markdown",
   "metadata": {},
   "source": [
    "# Clustering\n",
    "\n",
    "This script performs the clustering algorithm. It contains the following steps:\n",
    "\n",
    "- Padding reads with the reference genome to fill empty spaces\n",
    "- Sliding a window over the region of interest to identify reads"
   ]
  },
  {
   "cell_type": "markdown",
   "metadata": {},
   "source": [
    "# Load modules"
   ]
  },
  {
   "cell_type": "code",
   "execution_count": 1,
   "metadata": {},
   "outputs": [],
   "source": [
    "import numpy as np\n",
    "import pandas as pd\n",
    "import json\n",
    "import os\n",
    "\n",
    "from sklearn.decomposition import PCA\n",
    "from sklearn.metrics import silhouette_score\n",
    "from sklearn.preprocessing import StandardScaler\n",
    "from sklearn.cluster import KMeans\n",
    "from sklearn.preprocessing import OneHotEncoder\n",
    "encoder = OneHotEncoder()"
   ]
  },
  {
   "cell_type": "markdown",
   "metadata": {},
   "source": [
    "# Set Variables"
   ]
  },
  {
   "cell_type": "code",
   "execution_count": 2,
   "metadata": {},
   "outputs": [],
   "source": [
    "# Input variables\n",
    "run_number=\"run1\"\n",
    "chrom=\"chr11\"\n",
    "dis=\"sca\"\n",
    "# Setup\n",
    "chrom_dis=f\"{chrom}_{dis}\"\n",
    "rootdir=f\"/mnt/aretian/genomics/nanopore/{run_number}\"\n",
    "datadir=f\"/mnt/aretian/genomics/nanopore/{run_number}/data\"\n",
    "results_file_path = f\"{datadir}/{run_number}_{chrom}_read_clusters_winstart900.txt\"\n",
    "\n",
    "os.environ[\"run_number\"]=run_number\n",
    "os.environ[\"chrom_dis\"]=chrom_dis\n",
    "os.environ[\"datadir\"]=datadir"
   ]
  },
  {
   "cell_type": "markdown",
   "metadata": {},
   "source": [
    "# Import data"
   ]
  },
  {
   "cell_type": "code",
   "execution_count": 3,
   "metadata": {},
   "outputs": [],
   "source": [
    "# Import Nanopore reads\n",
    "nanopore_reads = pd.read_csv(f'{datadir}/{run_number}_{chrom_dis}_clean.csv')\n",
    "\n",
    "# Import reference genome for the location of interest without gaps\n",
    "with open(f'{datadir}/{run_number}_{chrom}_reference_genome.json', 'r') as f:\n",
    "    ref_genome_json = json.load(f)\n",
    "    \n",
    "ref_genome = ref_genome_json['reference_genome']"
   ]
  },
  {
   "cell_type": "markdown",
   "metadata": {},
   "source": [
    "# Helper functions"
   ]
  },
  {
   "cell_type": "code",
   "execution_count": 4,
   "metadata": {},
   "outputs": [],
   "source": [
    "# Define hyper-parameters\n",
    "window_width = 5000 # 10K BP\n",
    "jump_width = 1000 # 1k BP sliding window (ideally jump_width=1)\n",
    "\n",
    "# check if the start of a sequence is in range\n",
    "def check_sliding_window(read):\n",
    "    read_filter = False\n",
    "    window = set(list(range(left_bound,right_bound)))\n",
    "    read = set(list(range(read['POS'],read['END_POS'])))\n",
    "    if len(window & read)>0:\n",
    "        read_filter = True\n",
    "    return read_filter\n",
    "\n",
    "# Input: read --> Series\n",
    "# Output: nucleotide_sequence_trimmed: String\n",
    "\n",
    "def left_pad_read(read):\n",
    "    nucleotide_sequence = list(read['SEQ']) # turn sequence string into a list\n",
    "    genome_sequence = list(window_ref_genome)\n",
    "    \n",
    "    start = read['POS']-left_bound\n",
    "\n",
    "    if start == 0:\n",
    "        return read['SEQ'] # read starts on the start of the window\n",
    "    \n",
    "    elif start > 0: # sequence starts to the right of the bound\n",
    "#         print('HERE1')\n",
    "#         genome_fill = window_ref_genome[:start] # select portion of reference genome to pad the left with\n",
    "        genome_fill = genome_sequence[:start] # select portion of reference genome to pad the left with\n",
    "#         print('genome_fill type:', type(genome_fill))\n",
    "#         print('nucleotide_sequence type:', type(nucleotide_sequence))\n",
    "        nucleotide_sequence = genome_fill+nucleotide_sequence\n",
    "        nucleotide_sequence_trimmed = ''.join(nucleotide_sequence) # keep entire sequence\n",
    "        return nucleotide_sequence_trimmed\n",
    "    \n",
    "    elif start < 0: # sequence starts to the left of the bound\n",
    "#         print('HERE2')\n",
    "        nucleotide_sequence_trimmed = ''.join(nucleotide_sequence[np.abs(start):])\n",
    "        return nucleotide_sequence_trimmed\n",
    "\n",
    "# Input: read --> Series\n",
    "# Output: nucleotide_sequence_trimmed: String\n",
    "\n",
    "def right_pad_read(read):\n",
    "    nucleotide_sequence = list(read['left_padded']) # turn sequence string into a list\n",
    "    genome_sequence = list(window_ref_genome)\n",
    "\n",
    "    end = right_bound-read['END_POS']\n",
    "\n",
    "    if end == 0:\n",
    "        return read['left_padded'] # read end on the end of the window\n",
    "    \n",
    "    elif end > 0: # sequence ends to the left of the bound\n",
    "#         genome_fill = window_ref_genome[-end:] # select portion of reference genome to pad the right with\n",
    "        genome_fill = genome_sequence[-end:] # select portion of reference genome to pad the right with\n",
    "        nucleotide_sequence = nucleotide_sequence+genome_fill\n",
    "        nucleotide_sequence_trimmed = ''.join(nucleotide_sequence) # keep entire sequence\n",
    "        return nucleotide_sequence_trimmed\n",
    "    \n",
    "    elif end < 0: # sequence ends to the right of the bound\n",
    "        nucleotide_sequence_trimmed = ''.join(nucleotide_sequence[:end])\n",
    "        return nucleotide_sequence_trimmed\n",
    "\n",
    "# Should be updated\n",
    "NUCLEOTIDE_VOCABULARY = [\n",
    "    'A','C','G','T','X'\n",
    "]\n",
    "        \n",
    "# Not being used, instead, we use the sklearn one hot encoding\n",
    "def nucleotide_to_one_hot(nucleotide_sequence):\n",
    "    to_return = []\n",
    "    for char in nucleotide_sequence:\n",
    "        if char in NUCLEOTIDE_VOCABULARY:\n",
    "            to_append = np.zeros(len(NUCLEOTIDE_VOCABULARY))\n",
    "            to_append[NUCLEOTIDE_VOCABULARY.index(char)] = 1.\n",
    "            to_return.append(to_append)\n",
    "        else:\n",
    "            raise ValueError('Could not one-hot code character {}'.format(char))\n",
    "    return np.array(to_return)\n",
    "\n",
    "#nucleotide_to_one_hot('GTCATACX') # uncomment example to see what the encoding does\n",
    "\n",
    "# Input: read (Series)\n",
    "\n",
    "# Text file for results\n",
    "def write_results_to_file(read, results_file):\n",
    "    results_file.write(f\"{read['ID']},{read['kmeans_cls2']},{read['window_num']}\\n\")\n",
    "#     TODO: Add window number\n",
    "#     results_file.close()"
   ]
  },
  {
   "cell_type": "markdown",
   "metadata": {},
   "source": [
    "# Main Loop: padding and clustering"
   ]
  },
  {
   "cell_type": "markdown",
   "metadata": {},
   "source": [
    "### Create results file"
   ]
  },
  {
   "cell_type": "code",
   "execution_count": 5,
   "metadata": {},
   "outputs": [],
   "source": [
    "# 900*1000"
   ]
  },
  {
   "cell_type": "code",
   "execution_count": 6,
   "metadata": {},
   "outputs": [
    {
     "name": "stdout",
     "output_type": "stream",
     "text": [
      "Total range: 4,021,761\n",
      "Window width: 5000\n",
      "Jump width: 1000\n",
      "Number of iterations required: 4022\n",
      "Writing results to file: /mnt/aretian/genomics/nanopore/run1/data/run1_chr11_read_clusters_winstart900.txt\n",
      "\n",
      "-: Found 0 reads in window.\n",
      "1: Found 1 read in window.\n",
      "*: Found more than 1 read in window and ran clustering.\n",
      "\n",
      "Iterations:  0% 1 0% 111111111111111"
     ]
    },
    {
     "name": "stderr",
     "output_type": "stream",
     "text": [
      "/home/fer/miniconda3/envs/genomics/lib/python3.7/site-packages/numpy/core/_asarray.py:83: VisibleDeprecationWarning: Creating an ndarray from ragged nested sequences (which is a list-or-tuple of lists-or-tuples-or ndarrays with different lengths or shapes) is deprecated. If you meant to do this, you must specify 'dtype=object' when creating the ndarray\n",
      "  return array(a, dtype, copy=False, order=order)\n"
     ]
    },
    {
     "ename": "ValueError",
     "evalue": "Expected 2D array, got 1D array instead:\narray=[list(['C', 'A', 'T', 'C', 'C', 'G', 'G', 'G', 'C', 'A', 'A', 'G', 'G', 'A', 'G', 'T', 'C', 'C', 'T', 'T', 'G', 'C', 'C', 'C', 'T', 'G', 'A', 'T', 'G', 'T', 'C', 'T', 'C', 'T', 'C', 'A', 'C', 'A', 'G', 'A', 'C', 'C', 'T', 'G', 'G', 'G', 'C', 'T', 'C', 'A', 'G', 'A', 'G', 'C', 'A', 'G', 'T', 'C', 'A', 'G', 'G', 'T', 'G', 'A', 'C', 'A', 'C', 'G', 'C', 'T', 'G', 'G', 'A', 'G', 'G', 'T', 'C', 'A', 'C', 'T', 'C', 'A', 'G', 'C', 'C', 'C', 'G', 'G', 'A', 'G', 'A', 'G', 'G', 'C', 'G', 'G', 'C', 'A', 'G', 'G', 'A', 'G', 'C', 'G', 'G', 'A', 'G', 'C', 'G', 'A', 'A', 'G', 'C', 'T', 'C', 'C', 'A', 'T', 'C', 'T', 'G', 'G', 'G', 'C', 'T', 'G', 'T', 'A', 'G', 'T', 'C', 'C', 'A', 'G', 'C', 'T', 'T', 'T', 'T', 'G', 'C', 'G', 'G', 'C', 'T', 'G', 'C', 'C', 'T', 'G', 'G', 'A', 'C', 'C', 'C', 'A', 'G', 'A', 'C', 'C', 'A', 'G', 'C', 'C', 'C', 'A', 'G', 'G', 'G', 'C', 'A', 'A', 'C', 'C', 'T', 'T', 'G', 'T', 'T', 'C', 'C', 'T', 'T', 'C', 'C', 'A', 'T', 'G', 'T', 'G', 'G', 'C', 'T', 'G', 'T', 'A', 'G', 'C', 'T', 'T', 'T', 'C', 'T', 'T', 'T', 'T', 'C', 'C', 'A', 'G', 'G', 'G', 'T', 'A', 'C', 'A', 'G', 'G', 'A', 'T', 'C', 'G', 'A', 'C', 'C', 'T', 'G', 'G', 'T', 'T', 'G', 'T', 'C', 'T', 'T', 'T', 'G', 'G', 'G', 'C', 'C', 'T', 'A', 'G', 'C', 'G', 'A', 'G', 'G', 'T', 'G', 'G', 'T', 'G', 'C', 'C', 'G', 'G', 'G', 'G', 'G', 'C', 'A', 'G', 'A', 'A', 'G', 'C', 'C', 'C', 'C', 'T', 'C', 'G', 'C', 'T', 'C', 'T', 'C', 'G', 'T', 'C', 'T', 'G', 'T', 'A', 'C', 'T', 'A', 'A', 'G', 'T', 'T', 'G', 'G', 'G', 'C', 'T', 'G', 'T', 'T', 'T', 'G', 'T', 'C', 'A', 'T', 'G', 'C', 'G', 'C', 'C', 'C', 'C', 'A', 'G', 'A', 'C', 'A', 'C', 'C', 'A', 'T', 'C', 'A', 'G', 'C', 'A', 'G', 'C', 'C', 'A', 'G', 'C', 'C', 'G', 'C', 'C', 'T', 'T', 'C', 'C', 'T', 'G', 'T', 'C', 'C', 'T', 'G', 'C', 'T', 'G', 'C', 'A', 'C', 'A', 'C', 'A', 'G', 'A', 'T', 'G', 'G', 'A', 'T', 'G', 'G', 'C', 'C', 'C', 'C', 'A', 'T', 'G', 'G', 'G', 'G', 'G', 'C', 'C', 'T', 'G', 'C', 'A', 'G', 'T', 'T', 'A', 'T', 'T', 'T', 'C', 'C', 'T', 'G', 'G', 'G', 'C', 'T', 'G', 'G', 'G', 'A', 'G', 'A', 'T', 'G', 'G', 'G', 'A', 'C', 'A', 'G', 'A', 'T', 'G', 'T', 'G', 'T', 'A', 'G', 'G', 'T', 'T', 'T', 'C', 'A', 'C', 'C', 'T', 'C', 'T', 'G', 'A', 'A', 'A', 'C', 'T', 'G', 'C', 'C', 'A', 'C', 'C', 'C', 'T', 'T', 'A', 'T', 'C', 'C', 'C', 'A', 'T', 'T', 'T', 'C', 'C', 'A', 'G', 'G', 'T', 'C', 'T', 'T', 'T', 'C', 'A', 'G', 'G', 'A', 'A', 'G', 'G', 'A', 'G', 'G', 'C', 'C', 'A', 'C', 'A', 'C', 'A', 'G', 'C', 'T', 'C', 'C', 'T', 'G', 'G', 'G', 'G', 'T', 'C', 'T', 'T', 'G', 'T', 'G', 'T', 'A', 'A', 'A', 'G', 'T', 'G', 'T', 'C', 'A', 'C', 'A', 'G', 'G', 'A', 'G', 'G', 'A', 'T', 'G', 'A', 'A', 'C', 'A', 'A', 'G', 'C', 'C', 'C', 'T', 'C', 'C', 'C', 'A', 'C', 'C', 'C', 'C', 'T', 'G', 'C', 'C', 'C', 'T', 'C', 'A', 'A', 'A', 'G', 'C', 'C', 'T', 'A', 'A', 'G', 'C', 'C', 'T', 'C', 'C', 'C', 'C', 'C', 'T', 'G', 'C', 'C', 'A', 'C', 'C', 'A', 'G', 'G', 'G', 'C', 'T', 'C', 'A', 'G', 'G', 'C', 'T', 'T', 'C', 'C', 'C', 'C', 'G', 'T', 'C', 'C', 'C', 'C', 'C', 'T', 'G', 'A', 'G', 'G', 'C', 'C', 'C', 'C', 'C', 'A', 'G', 'A', 'T', 'G', 'G', 'C', 'C', 'T', 'T', 'T', 'G', 'A', 'C', 'C', 'C', 'A', 'A', 'C', 'A', 'G', 'T', 'G', 'C', 'T', 'C', 'A', 'C', 'A', 'C', 'T', 'C', 'C', 'C', 'A', 'A', 'C', 'C', 'T', 'C', 'T', 'G', 'A', 'C', 'C', 'C', 'C', 'C', 'C', 'A', 'G', 'A', 'T', 'G', 'G', 'C', 'C', 'T', 'T', 'T', 'A', 'G', 'A', 'C', 'C', 'A', 'A', 'C', 'A', 'G', 'T', 'G', 'C', 'C', 'C', 'A', 'C', 'A', 'C', 'T', 'C', 'C', 'C', 'A', 'T', 'C', 'C', 'T', 'C', 'C', 'C', 'T', 'G', 'G', 'T', 'A', 'A', 'C', 'C', 'C', 'A', 'G', 'A', 'T', 'G', 'G', 'C', 'T', 'C', 'A', 'A', 'C', 'C', 'A', 'A', 'C', 'A', 'G', 'T', 'G', 'C', 'C', 'C', 'A', 'C', 'A', 'C', 'T', 'C', 'C', 'C', 'A', 'C', 'T', 'C', 'C', 'T', 'C', 'C', 'T', 'T', 'G', 'A', 'G', 'C', 'C', 'C', 'C', 'C', 'A', 'G', 'A', 'T', 'G', 'G', 'C', 'C', 'T', 'T', 'C', 'A', 'G', 'A', 'C', 'C', 'A', 'A', 'C', 'A', 'G', 'T', 'G', 'C', 'C', 'C', 'A', 'C', 'C', 'T', 'C', 'C', 'A', 'T', 'C', 'C', 'T', 'C', 'C', 'T', 'G', 'A', 'G', 'C', 'C', 'C', 'C', 'C', 'A', 'G', 'A', 'T', 'G', 'G', 'C', 'C', 'T', 'T', 'C', 'A', 'G', 'A', 'C', 'C', 'A', 'A', 'C', 'A', 'G', 'T', 'G', 'C', 'C', 'C', 'A', 'C', 'A', 'C', 'T', 'T', 'C', 'C', 'C', 'C', 'A', 'T', 'C', 'C', 'T', 'C', 'C', 'T', 'G', 'A', 'C', 'C', 'C', 'A', 'G', 'A', 'T', 'G', 'G', 'C', 'C', 'T', 'T', 'C', 'A', 'A', 'G', 'A', 'C', 'C', 'A', 'A', 'C', 'A', 'G', 'T', 'G', 'C', 'C', 'C', 'A', 'C', 'A', 'C', 'T', 'C', 'C', 'C', 'C', 'C', 'A', 'T', 'C', 'C', 'T', 'C', 'T', 'G', 'A', 'G', 'T', 'C', 'C', 'A', 'G', 'A', 'T', 'G', 'G', 'C', 'C', 'T', 'T', 'C', 'A', 'G', 'A', 'C', 'C', 'A', 'A', 'C', 'A', 'G', 'T', 'G', 'C', 'C', 'C', 'A', 'C', 'A', 'C', 'T', 'C', 'C', 'T', 'G', 'C', 'T', 'G', 'A', 'G', 'C', 'T', 'T', 'C', 'C', 'A', 'G', 'T', 'C', 'C', 'T', 'G', 'A', 'G', 'A', 'G', 'C', 'A', 'C', 'G', 'G', 'T', 'C', 'T', 'G', 'G', 'G', 'A', 'G', 'A', 'A', 'C', 'T', 'G', 'G', 'C', 'A', 'G', 'C', 'G', 'G', 'G', 'C', 'A', 'G', 'C', 'A', 'A', 'G', 'G', 'C', 'G', 'C', 'G', 'G', 'G', 'A', 'C', 'T', 'T', 'G', 'G', 'C', 'G', 'G', 'T', 'G', 'G', 'C', 'C', 'A', 'G', 'A', 'A', 'C', 'A', 'C', 'A', 'T', 'T', 'C', 'A', 'T', 'C', 'C', 'C', 'G', 'G', 'A', 'A', 'G', 'G', 'A', 'A', 'G', 'A', 'A', 'A', 'A', 'A', 'C', 'C', 'A', 'G', 'C', 'A', 'A', 'A', 'G', 'G', 'T', 'G', 'C', 'G', 'T', 'G', 'C', 'C', 'T', 'C', 'T', 'G', 'G', 'G', 'T', 'T', 'G', 'G', 'G', 'G', 'G', 'A', 'C', 'T', 'A', 'C', 'A', 'T', 'G', 'T', 'A', 'A', 'G', 'C', 'T', 'T', 'T', 'T', 'C', 'T', 'T', 'C', 'T', 'C', 'T', 'T', 'T', 'T', 'C', 'C', 'A', 'G', 'T', 'T', 'G', 'T', 'T', 'A', 'A', 'C', 'C', 'T', 'T', 'C', 'T', 'T', 'C', 'A', 'A', 'A', 'G', 'T', 'T', 'T', 'C', 'C', 'A', 'T', 'A', 'A', 'A', 'C', 'A', 'G', 'G', 'C', 'A', 'A', 'C', 'G', 'T', 'T', 'T', 'T', 'A', 'C', 'T', 'T', 'T', 'T', 'T', 'T', 'C', 'T', 'A', 'G', 'T', 'G', 'A', 'A', 'A', 'A', 'A', 'G', 'A', 'A', 'C', 'A', 'A', 'C', 'T', 'T', 'T', 'A', 'T', 'G', 'C', 'A', 'A', 'A', 'G', 'G', 'C', 'A', 'G', 'C', 'T', 'G', 'C', 'A', 'G', 'A', 'A', 'T', 'G', 'T', 'C', 'C', 'C', 'A', 'C', 'C', 'C', 'G', 'G', 'C', 'A', 'C', 'C', 'A', 'A', 'G', 'A', 'G', 'C', 'A', 'C', 'C', 'C', 'A', 'T', 'T', 'G', 'A', 'A', 'T', 'G', 'T', 'C', 'T', 'T', 'C', 'A', 'T', 'T', 'T', 'G', 'G', 'G', 'C', 'A', 'A', 'A', 'A', 'A', 'A', 'G', 'A', 'A', 'A', 'A', 'T', 'T', 'T', 'C', 'T', 'G', 'C', 'A', 'G', 'G', 'T', 'C', 'T', 'T', 'T', 'A', 'T', 'T', 'T', 'A', 'A', 'A', 'A', 'A', 'A', 'A', 'T', 'A', 'C', 'A', 'T', 'A', 'A', 'C', 'T', 'G', 'G', 'A', 'G', 'T', 'G', 'C', 'T', 'T', 'T', 'T', 'C', 'A', 'T', 'C', 'A', 'A', 'A', 'A', 'A', 'T', 'G', 'T', 'C', 'C', 'C', 'C', 'A', 'T', 'T', 'T', 'G', 'G', 'G', 'T', 'G', 'G', 'A', 'A', 'A', 'A', 'A', 'A', 'A', 'T', 'T', 'T', 'T', 'T', 'G', 'A', 'C', 'A', 'A', 'T', 'T', 'C', 'T', 'T', 'A', 'G', 'T', 'A', 'T', 'T', 'T', 'T', 'G', 'A', 'G', 'T', 'A', 'A', 'G', 'G', 'C', 'T', 'T', 'G', 'A', 'A', 'T', 'G', 'T', 'T', 'T', 'T', 'G', 'A', 'A', 'A', 'A', 'T', 'G', 'A', 'C', 'C', 'A', 'A', 'A', 'A', 'G', 'T', 'A', 'T', 'T', 'T', 'T', 'A', 'T', 'T', 'T', 'T', 'A', 'G', 'T', 'G', 'G', 'T', 'C', 'A', 'G', 'A', 'A', 'A', 'A', 'C', 'A', 'C', 'A', 'T', 'C', 'A', 'A', 'A', 'T', 'G', 'G', 'T', 'T', 'T', 'G', 'C', 'A', 'C', 'T', 'T', 'G', 'T', 'G', 'G', 'A', 'A', 'A', 'C', 'T', 'T', 'G', 'G', 'A', 'T', 'C', 'C', 'C', 'T', 'T', 'C', 'C', 'T', 'T', 'C', 'C', 'T', 'T', 'C', 'C', 'T', 'T', 'C', 'C', 'C', 'T', 'T', 'C', 'C', 'T', 'C', 'G', 'C', 'T', 'T', 'C', 'C', 'T', 'T', 'C', 'C', 'T', 'C', 'C', 'C', 'T', 'C', 'C', 'C', 'T', 'C', 'C', 'T', 'C', 'C', 'C', 'C', 'T', 'C', 'C', 'C', 'T', 'C', 'C', 'C', 'C', 'T', 'T', 'C', 'T', 'C', 'T', 'C', 'T', 'T', 'C', 'T', 'C', 'T', 'T', 'C', 'T', 'C', 'T', 'T', 'C', 'T', 'C', 'T', 'T', 'T', 'T', 'C', 'T', 'T', 'T', 'C', 'T', 'T', 'T', 'C', 'T', 'T', 'T', 'T', 'T', 'C', 'T', 'T', 'T', 'C', 'T', 'T', 'T', 'T', 'T', 'C', 'T', 'T', 'T', 'T', 'T', 'C', 'T', 'T', 'G', 'C', 'T', 'T', 'T', 'C', 'T', 'T', 'G', 'C', 'T', 'T', 'T', 'C', 'T', 'T', 'G', 'C', 'T', 'T', 'C', 'T', 'T', 'T', 'C', 'T', 'T', 'T', 'C', 'T', 'T', 'T', 'C', 'C', 'T', 'T', 'C', 'C', 'T', 'T', 'T', 'C', 'T', 'T', 'T', 'C', 'C', 'T', 'T', 'C', 'C', 'T', 'T', 'T', 'C', 'T', 'T', 'T', 'C', 'T', 'T', 'T', 'C', 'T', 'T', 'T', 'C', 'T', 'T', 'T', 'C', 'T', 'T', 'T', 'C', 'T', 'T', 'T', 'C', 'T', 'T', 'T', 'C', 'T', 'T', 'T', 'C', 'T', 'T', 'T', 'C', 'T', 'T', 'T', 'C', 'T', 'T', 'T', 'C', 'T', 'T', 'T', 'T', 'T', 'C', 'T', 'T', 'C', 'C', 'T', 'T', 'C', 'C', 'T', 'T', 'C', 'T', 'T', 'C', 'C', 'T', 'T', 'C', 'T', 'T', 'T', 'T', 'C', 'T', 'T', 'T', 'T', 'C', 'T', 'C', 'T', 'C', 'T', 'C', 'T', 'C', 'T', 'C', 'T', 'T', 'T', 'C', 'T', 'C', 'T', 'C', 'T', 'C', 'T', 'C', 'T', 'C', 'T', 'G', 'T', 'T', 'T', 'A', 'T', 'C', 'T', 'C', 'T', 'T', 'T', 'T', 'T', 'C', 'T', 'C', 'T', 'C', 'T', 'C', 'T', 'C', 'T', 'G', 'T', 'C', 'C', 'A', 'A', 'C', 'T', 'C', 'T', 'C', 'T', 'C', 'T', 'C', 'T', 'C', 'T', 'C', 'C', 'A', 'A', 'A', 'G', 'C', 'A', 'A', 'A', 'C', 'A', 'C', 'T', 'T', 'G', 'G', 'G', 'G', 'C', 'A', 'A', 'A', 'A', 'G', 'C', 'C', 'C', 'A', 'G', 'G', 'T', 'G', 'A', 'T', 'C', 'C', 'A', 'G', 'G', 'C', 'T', 'C', 'G', 'A', 'G', 'G', 'G', 'A', 'G', 'G', 'T', 'G', 'A', 'G', 'G', 'C', 'G', 'G', 'G', 'A', 'G', 'G', 'T', 'G', 'G', 'A', 'G', 'A', 'C', 'G', 'A', 'G', 'C', 'A', 'A', 'C', 'C', 'G', 'C', 'A', 'A', 'G', 'A', 'G', 'C', 'A', 'G', 'G', 'A', 'T', 'G', 'G', 'C', 'C', 'C', 'T', 'G', 'G', 'G', 'G', 'A', 'C', 'G', 'C', 'A', 'G', 'G', 'A', 'G', 'A', 'G', 'A', 'G', 'C', 'C', 'G', 'G', 'G', 'T', 'G', 'G', 'G', 'G', 'A', 'C', 'C', 'A', 'G', 'T', 'G', 'T', 'G', 'G', 'A', 'G', 'G', 'G', 'G', 'A', 'T', 'G', 'G', 'G', 'A', 'G', 'G', 'G', 'G', 'A', 'C', 'C', 'G', 'A', 'G', 'G', 'G', 'A', 'A', 'T', 'G', 'A', 'G', 'A', 'G', 'G', 'C', 'T', 'C', 'C', 'T', 'G', 'C', 'A', 'T', 'C', 'C', 'G', 'C', 'A', 'G', 'C', 'A', 'C', 'C', 'A', 'C', 'G', 'G', 'G', 'G', 'C', 'T', 'G', 'G', 'G', 'T', 'C', 'T', 'G', 'T', 'T', 'C', 'T', 'G', 'T', 'G', 'C', 'A', 'G', 'A', 'A', 'G', 'C', 'A', 'G', 'C', 'A', 'C', 'C', 'A', 'C', 'C', 'T', 'G', 'G', 'T', 'G', 'G', 'C', 'C', 'T', 'C', 'T', 'G', 'C', 'T', 'G', 'G', 'T', 'G', 'A', 'C', 'A', 'T', 'C', 'A', 'G', 'G', 'C', 'A', 'C', 'C', 'T', 'G', 'C', 'C', 'A', 'G', 'T', 'C', 'C', 'T', 'G', 'G', 'G', 'C', 'C', 'T', 'C', 'A', 'G', 'A', 'G', 'A', 'G', 'G', 'G', 'G', 'A', 'C', 'A', 'G', 'A', 'G', 'C', 'C', 'C', 'T', 'G', 'G', 'G', 'T', 'G', 'T', 'G', 'G', 'T', 'C', 'C', 'C', 'C', 'A', 'G', 'C', 'A', 'G', 'G', 'G', 'G', 'T', 'G', 'G', 'G', 'C', 'A', 'G', 'G', 'A', 'C', 'A', 'A', 'T', 'G', 'A', 'T', 'G', 'G', 'C', 'T', 'G', 'A', 'G', 'C', 'A', 'G', 'G', 'G', 'C', 'G', 'G', 'G', 'G', 'A', 'G', 'T', 'A', 'G', 'G', 'G', 'G', 'T', 'G', 'A', 'G', 'T', 'T', 'C', 'C', 'A', 'C', 'C', 'T', 'C', 'A', 'A', 'C', 'T', 'C', 'T', 'G', 'T', 'A', 'G', 'G', 'G', 'G', 'G', 'C', 'A', 'A', 'A', 'T', 'C', 'A', 'G', 'A', 'G', 'C', 'C', 'T', 'C', 'A', 'G', 'C', 'C', 'A', 'G', 'C', 'A', 'G', 'G', 'T', 'G', 'G', 'C', 'A', 'T', 'G', 'G', 'A', 'C', 'G', 'G', 'C', 'G', 'C', 'C', 'C', 'A', 'C', 'C', 'T', 'A', 'G', 'C', 'C', 'C', 'A', 'G', 'G', 'A', 'G', 'T', 'C', 'C', 'C', 'G', 'G', 'A', 'A', 'G', 'C', 'C', 'T', 'G', 'G', 'G', 'T', 'T', 'C', 'C', 'A', 'A', 'T', 'C', 'C', 'G', 'G', 'C', 'C', 'A', 'C', 'T', 'G', 'T', 'G', 'G', 'G', 'C', 'T', 'G', 'G', 'T', 'G', 'G', 'C', 'T', 'G', 'G', 'C', 'T', 'C', 'T', 'G', 'T', 'T', 'T', 'T', 'A', 'T', 'T', 'G', 'T', 'G', 'C', 'A', 'G', 'T', 'T', 'T', 'T', 'C', 'T', 'C', 'C', 'C', 'C', 'T', 'G', 'T', 'G', 'A', 'C', 'T', 'C', 'A', 'G', 'G', 'T', 'G', 'C', 'A', 'G', 'C', 'A', 'G', 'G', 'G', 'T', 'G', 'G', 'G', 'A', 'G', 'G', 'G', 'G', 'G', 'C', 'C', 'G', 'G', 'G', 'T', 'C', 'A', 'A', 'G', 'G', 'G', 'A', 'T', 'C', 'T', 'G', 'G', 'G', 'C', 'T', 'G', 'G', 'G', 'C', 'C', 'T', 'C', 'A', 'G', 'A', 'G', 'C', 'G', 'T', 'G', 'G', 'T', 'G', 'C', 'C', 'T', 'G', 'T', 'C', 'C', 'T', 'C', 'A', 'C', 'C', 'C', 'C', 'T', 'A', 'T', 'T', 'C', 'A', 'G', 'G', 'A', 'G', 'G', 'C', 'T', 'T', 'G', 'C', 'T', 'C', 'T', 'C', 'T', 'C', 'T', 'C', 'C', 'C', 'T', 'G', 'C', 'C', 'T', 'G', 'A', 'C', 'C', 'T', 'C', 'T', 'C', 'T', 'C', 'A', 'C', 'T', 'C', 'C', 'A', 'T', 'T', 'T', 'C', 'T', 'G', 'C', 'C', 'T', 'C', 'C', 'C', 'T', 'C', 'A', 'T', 'C', 'C', 'T', 'C', 'A', 'G', 'C', 'A', 'G', 'G', 'C', 'C', 'T', 'G', 'G', 'C', 'T', 'G', 'G', 'G', 'G', 'G', 'G', 'T', 'G', 'G', 'T', 'C', 'A', 'G', 'G', 'G', 'C', 'C', 'A', 'A', 'G', 'T', 'C', 'T', 'C', 'T', 'C', 'C', 'A', 'G', 'C', 'T', 'G', 'T', 'G', 'T', 'C', 'C', 'A', 'G', 'C', 'C', 'C', 'T', 'T', 'G', 'G', 'G', 'T', 'G', 'C', 'T', 'C', 'A', 'G', 'G', 'G', 'T', 'T', 'A', 'G', 'A', 'G', 'C', 'T', 'T', 'C', 'C', 'T', 'C', 'C', 'T', 'G', 'G', 'T', 'C', 'C', 'T', 'G', 'A', 'A', 'A', 'G', 'C', 'A', 'T', 'C', 'T', 'G', 'G', 'G', 'T', 'G', 'T', 'G', 'G', 'G', 'G', 'T', 'G', 'A', 'G', 'G', 'G', 'T', 'C', 'G', 'G', 'T', 'G', 'G', 'G', 'G', 'G', 'T', 'G', 'G', 'G', 'C', 'A', 'C', 'C', 'T', 'C', 'C', 'T', 'G', 'G', 'C', 'A', 'G', 'G', 'C', 'C', 'C', 'T', 'G', 'T', 'G', 'G', 'G', 'C', 'G', 'G', 'G', 'C', 'A', 'A', 'G', 'C', 'C', 'C', 'G', 'C', 'T', 'T', 'G', 'C', 'T', 'G', 'G', 'G', 'A', 'C', 'C', 'C', 'G', 'T', 'G', 'T', 'G', 'G', 'G', 'C', 'A', 'G', 'G', 'G', 'A', 'C', 'T', 'G', 'T', 'C', 'C', 'C', 'C', 'T', 'G', 'G', 'C', 'A', 'C', 'C', 'C', 'A', 'G', 'C', 'T', 'G', 'G', 'G', 'C', 'A', 'A', 'G', 'C', 'G', 'C', 'C', 'C', 'T', 'C', 'C', 'C', 'C', 'C', 'A', 'G', 'G', 'G', 'C', 'C', 'C', 'T', 'C', 'C', 'G', 'C', 'A', 'G', 'T', 'A', 'C', 'C', 'G', 'A', 'C', 'C', 'T', 'C', 'A', 'G', 'C', 'G', 'G', 'C', 'T', 'C', 'C', 'C', 'G', 'C', 'T', 'C', 'C', 'C', 'G', 'G', 'G', 'C', 'T', 'G', 'T', 'C', 'G', 'G', 'C', 'C', 'A', 'G', 'A', 'C', 'C', 'C', 'A', 'T', 'A', 'G', 'A', 'T', 'G', 'A', 'G', 'G', 'G', 'G', 'C', 'T', 'T', 'G', 'G', 'A', 'G', 'C', 'T', 'G', 'C', 'T', 'G', 'T', 'C', 'G', 'C', 'G', 'G', 'C', 'A', 'G', 'G', 'C', 'C', 'A', 'G', 'C', 'A', 'G', 'C', 'G', 'T', 'G', 'G', 'C', 'C', 'A', 'G', 'C', 'G', 'G', 'G', 'G', 'G', 'A', 'A', 'A', 'A', 'C', 'A', 'C', 'A', 'G', 'G', 'G', 'C', 'A', 'G', 'C', 'A', 'G', 'G', 'A', 'A', 'G', 'T', 'T', 'C', 'A', 'G', 'C', 'A', 'G', 'G', 'G', 'G', 'C', 'T', 'G', 'C', 'A', 'G', 'G', 'C', 'T', 'C', 'C', 'A', 'G', 'T', 'A', 'G', 'A', 'A', 'G', 'A', 'C', 'C', 'G', 'A', 'G', 'G', 'G', 'C', 'A', 'G', 'G', 'C', 'C', 'A', 'C', 'A', 'G', 'A', 'A', 'G', 'A', 'A', 'G', 'A', 'G', 'C', 'A', 'G', 'G', 'A', 'G', 'C', 'A', 'G', 'C', 'G', 'C', 'G', 'C', 'C', 'C', 'A', 'G', 'G', 'A', 'C', 'G', 'A', 'T', 'G', 'C', 'T', 'C', 'C', 'G', 'T', 'A', 'G', 'A', 'G', 'C', 'C', 'T', 'G', 'G', 'C', 'C', 'A', 'C', 'G', 'G', 'G', 'C', 'A', 'A', 'G', 'T', 'G', 'G', 'A', 'G', 'C', 'A', 'G', 'C', 'A', 'G', 'G', 'T', 'C', 'A', 'C', 'C', 'C', 'A', 'G', 'A', 'C', 'A', 'G', 'A', 'G', 'G', 'A', 'C', 'C', 'A', 'C', 'G', 'C', 'C', 'A', 'G', 'C', 'A', 'T', 'C', 'C', 'A', 'G', 'G', 'G', 'C', 'G', 'A', 'C', 'A', 'G', 'C', 'G', 'G', 'G', 'C', 'C', 'A', 'G', 'C', 'A', 'C', 'C', 'A', 'G', 'G', 'A', 'A', 'C', 'C', 'A', 'G', 'G', 'T', 'G', 'G', 'C', 'G', 'C', 'T', 'G', 'G', 'C', 'C', 'A', 'C', 'G', 'T', 'G', 'G', 'T', 'C', 'A', 'C', 'G', 'C', 'G', 'G', 'G', 'C', 'A', 'G', 'A', 'C', 'C', 'A', 'G', 'G', 'G', 'G', 'G', 'C', 'A', 'C', 'G', 'C', 'C', 'G', 'C', 'T', 'G', 'T', 'T', 'G', 'C', 'G', 'C', 'A', 'G', 'C', 'A', 'G', 'G', 'C', 'C', 'G', 'A', 'A', 'G', 'G', 'C', 'G', 'A', 'T', 'C', 'G', 'G', 'C', 'G', 'G', 'C', 'A', 'G', 'C', 'G', 'G', 'C', 'C', 'C', 'G', 'G', 'C', 'C', 'G', 'G', 'G', 'C', 'A', 'G', 'G', 'T', 'C', 'G', 'G', 'G', 'G', 'T', 'C', 'C', 'A', 'C', 'A', 'C', 'C', 'A', 'G', 'G', 'G', 'C', 'G', 'C', 'A', 'G', 'A', 'G', 'G', 'A', 'C', 'G', 'G', 'C', 'C', 'G', 'A', 'G', 'G', 'C', 'G', 'G', 'T', 'G', 'T', 'G', 'C', 'T', 'G', 'G', 'C', 'C', 'G', 'G', 'C', 'A', 'G', 'C', 'C', 'C', 'T', 'G', 'G', 'T', 'A', 'G', 'C', 'A', 'G', 'G', 'C', 'G', 'G', 'G', 'G', 'G', 'A', 'A', 'G', 'A', 'G', 'G', 'T', 'T', 'G', 'G', 'A', 'G', 'A', 'G', 'G', 'C', 'A', 'G', 'C', 'G', 'C', 'T', 'C', 'C', 'C', 'G', 'C', 'T', 'G', 'A', 'A', 'G', 'G', 'C', 'C', 'G', 'C', 'C', 'A', 'G', 'C', 'A', 'G', 'C', 'C', 'A', 'G', 'A', 'G', 'C', 'C', 'C', 'C', 'A', 'C', 'C', 'G', 'C', 'A', 'A', 'A', 'C', 'C', 'A', 'C', 'A', 'G', 'G', 'G', 'A', 'A', 'G', 'T', 'A', 'A', 'A', 'G', 'C', 'A', 'C', 'G', 'A', 'A', 'G', 'A', 'T', 'G', 'A', 'G', 'T', 'G', 'T', 'G', 'T', 'C', 'C', 'T', 'G', 'G', 'G', 'C', 'G', 'C', 'C', 'C', 'A', 'G', 'G', 'G', 'C', 'A', 'G', 'C', 'C', 'T', 'G', 'A', 'G', 'C', 'C', 'A', 'C', 'G', 'G', 'A', 'G', 'A', 'A', 'G', 'C', 'C', 'C', 'A', 'C', 'A', 'C', 'G', 'G', 'C', 'A', 'G', 'G', 'A', 'G', 'A', 'G', 'G', 'A', 'A', 'C', 'A', 'G', 'G', 'A', 'A', 'G', 'T', 'C', 'G', 'G', 'C', 'G', 'G', 'C', 'G', 'G', 'C', 'C', 'A', 'G', 'G', 'T', 'G', 'C', 'A', 'G', 'C', 'A', 'G', 'G', 'T', 'A', 'G', 'A', 'T', 'G', 'G', 'A', 'G', 'A', 'A', 'G', 'G', 'G', 'G', 'C', 'C', 'C', 'T', 'T', 'C', 'T', 'T', 'G', 'A', 'T', 'G', 'C', 'G', 'G', 'A', 'A', 'G', 'C', 'C', 'G', 'A', 'G', 'G', 'T', 'T', 'C', 'C', 'C', 'A', 'G', 'G', 'C', 'A', 'C', 'C', 'A', 'G', 'C', 'C', 'C', 'G', 'T', 'T', 'T', 'C', 'C', 'T', 'C', 'C', 'C', 'C', 'G', 'G', 'T', 'C', 'C', 'C', 'C', 'A', 'G', 'G', 'A', 'G', 'C', 'G', 'C', 'G', 'A', 'T', 'C', 'A', 'G', 'C', 'G', 'T', 'C', 'A', 'G', 'G', 'T', 'A', 'G', 'A', 'A', 'G', 'A', 'C', 'C', 'A', 'C', 'A', 'C', 'T', 'G', 'T', 'C', 'G', 'A', 'C', 'G', 'T', 'T', 'C', 'T', 'T', 'C', 'C', 'G', 'G', 'A', 'G', 'G', 'C', 'C', 'G', 'A', 'A', 'C', 'T', 'G', 'A', 'G', 'C', 'C', 'C', 'A', 'A', 'A', 'C', 'A', 'T', 'C', 'C', 'T', 'G', 'G', 'C', 'C', 'G', 'G', 'C', 'T', 'C', 'T', 'G', 'A', 'A', 'G', 'G', 'G', 'T', 'G', 'C', 'T', 'G', 'G', 'C', 'G', 'A', 'G', 'G', 'G', 'G', 'A', 'C', 'C', 'T', 'G', 'C', 'A', 'A', 'G', 'A', 'T', 'G', 'G', 'G', 'G', 'A', 'C', 'A', 'G', 'A', 'C', 'T', 'C', 'C', 'T', 'G', 'G', 'T', 'C', 'C', 'T', 'A', 'G', 'G', 'G', 'A', 'G', 'T', 'C', 'T', 'T', 'T', 'T', 'G', 'T', 'G', 'C', 'C', 'C', 'C', 'C', 'G', 'C', 'T', 'G', 'G', 'G', 'G', 'G', 'C', 'A', 'C', 'A', 'G', 'G', 'A', 'G', 'T', 'G', 'G', 'C', 'A', 'T', 'C', 'C', 'A', 'T', 'G', 'G', 'C', 'C', 'C', 'T', 'G', 'C', 'A', 'G', 'G', 'T', 'G', 'C', 'C', 'C', 'T', 'G', 'T', 'G', 'G', 'T', 'C', 'C', 'A', 'G', 'C', 'C', 'C', 'C', 'T', 'G', 'G', 'A', 'C', 'C', 'A', 'C', 'C', 'C', 'T', 'T', 'C', 'C', 'C', 'A', 'G', 'C', 'G', 'G', 'C', 'G', 'G', 'G', 'A', 'C', 'C', 'T', 'C', 'A', 'G', 'C', 'C', 'G', 'G', 'G', 'T', 'C', 'T', 'C', 'A', 'G', 'C', 'C', 'C', 'T', 'C', 'T', 'G', 'C', 'A', 'C', 'C', 'T', 'C', 'A', 'G', 'G', 'T', 'C', 'A', 'G', 'G', 'C', 'G', 'T', 'G', 'C', 'C', 'T', 'A', 'A', 'T', 'G', 'C', 'C', 'T', 'C', 'C', 'C', 'C', 'A', 'T', 'A', 'C', 'C', 'T', 'G', 'A', 'G', 'G', 'G', 'C', 'A', 'G', 'G', 'C', 'C', 'C', 'T', 'G', 'G', 'G', 'C', 'T', 'C', 'C', 'T', 'G', 'G', 'C', 'A', 'G', 'G', 'G', 'T', 'G', 'G', 'A', 'C', 'T', 'A', 'A', 'C', 'T', 'T', 'G', 'C', 'T', 'G', 'A', 'A', 'A', 'A', 'G', 'A', 'T', 'G', 'T', 'C', 'C', 'A', 'T', 'G', 'T', 'C', 'C', 'C', 'T', 'C', 'A', 'T', 'G', 'G', 'A', 'T', 'G', 'T', 'G', 'G', 'T', 'G', 'A', 'G', 'G', 'G', 'T', 'G', 'A', 'T', 'G', 'C', 'T', 'G', 'C', 'A', 'C', 'C', 'C', 'T', 'C', 'C', 'A', 'C', 'C', 'G', 'T', 'G', 'T', 'G', 'C', 'C', 'A', 'G', 'A', 'C', 'A', 'A', 'G', 'G', 'G', 'T', 'C', 'T', 'G', 'C', 'A', 'G', 'A', 'C', 'A', 'G', 'A', 'G', 'G', 'G', 'A', 'A', 'C', 'A', 'T', 'G', 'C', 'A', 'T', 'G', 'G', 'G', 'G', 'A', 'A', 'C', 'C', 'C', 'A', 'T', 'G', 'C', 'T', 'G', 'G', 'C', 'G', 'C', 'C', 'T', 'T', 'C', 'C', 'T', 'C', 'T', 'T', 'C', 'C', 'C', 'A', 'G', 'A', 'G', 'G', 'T', 'G', 'G', 'G', 'A', 'G', 'C', 'T', 'T', 'C', 'T', 'C', 'C', 'A', 'C', 'G', 'G', 'T', 'G', 'G', 'A', 'C', 'C', 'C', 'T', 'C', 'A', 'T', 'G', 'G', 'G', 'G', 'C', 'T', 'C', 'C', 'C', 'A', 'C', 'C', 'T', 'G', 'G', 'T', 'G', 'A', 'G', 'C', 'C', 'T', 'G', 'A', 'G', 'C', 'C', 'C', 'A', 'G', 'G', 'C', 'C', 'T', 'G', 'C', 'T', 'G', 'G', 'A', 'A', 'T', 'C', 'C', 'C', 'T', 'G', 'C', 'C', 'C', 'G', 'A', 'G', 'G', 'G', 'C', 'T', 'A', 'C', 'T', 'G', 'A', 'G', 'A', 'G', 'G', 'T', 'G', 'T', 'C', 'C', 'A', 'G', 'G', 'G', 'A', 'G', 'G', 'T', 'G', 'C', 'C', 'C', 'A', 'A', 'A', 'G', 'G', 'C', 'A', 'G', 'A', 'G', 'G', 'C', 'T', 'G', 'C', 'A', 'G', 'G', 'T', 'G', 'G', 'T', 'C', 'T', 'G', 'A', 'G', 'G', 'A', 'G', 'G', 'A', 'G', 'G', 'G', 'A', 'G', 'G', 'A', 'G', 'G', 'G', 'A', 'A', 'G', 'A', 'T', 'G', 'C', 'G', 'T', 'G', 'A', 'G', 'G', 'A', 'G', 'C', 'T', 'G', 'G', 'A', 'G', 'G', 'G', 'A', 'G', 'C', 'C', 'C', 'C', 'A', 'G', 'C', 'C', 'T', 'T', 'C', 'C', 'C', 'T', 'G', 'T', 'G', 'C', 'A', 'C', 'T', 'C', 'C', 'T', 'G', 'G', 'C', 'C', 'T', 'A', 'A', 'G', 'C', 'A', 'G', 'A', 'A', 'G', 'C', 'T', 'G', 'A', 'A', 'T', 'C', 'C', 'C', 'C', 'G', 'G', 'G', 'G', 'C', 'T', 'C', 'A', 'T', 'G', 'C', 'T', 'G', 'C', 'C', 'G', 'G', 'C', 'G', 'G', 'T', 'G', 'C', 'A', 'C', 'T', 'C', 'A', 'G', 'G', 'A', 'G', 'G', 'C', 'T', 'G', 'C', 'T', 'C', 'T', 'G', 'A', 'A', 'G', 'C', 'C', 'T', 'C', 'A', 'G', 'A', 'G', 'C', 'C', 'G', 'A', 'G', 'G', 'A', 'G', 'G', 'G', 'G', 'C', 'T', 'T', 'T', 'G', 'G', 'T', 'G', 'A', 'T', 'G', 'G', 'T', 'G', 'G', 'C', 'A', 'G', 'G', 'G', 'C', 'C', 'C', 'G', 'G', 'G', 'G', 'G', 'C', 'T', 'C', 'T', 'C', 'C', 'A', 'G', 'G', 'A', 'G', 'C', 'C', 'A', 'C', 'T', 'A', 'A', 'C', 'A', 'C', 'A', 'A', 'G', 'G', 'G', 'G', 'A', 'G', 'G', 'G', 'G', 'C', 'A', 'G', 'A', 'T', 'A', 'C', 'A', 'G', 'T', 'G', 'G', 'C', 'C', 'A', 'C', 'T', 'T', 'G', 'C', 'A', 'A', 'G', 'G', 'A', 'G', 'G', 'C', 'A', 'G', 'A', 'G', 'G', 'T', 'G', 'A', 'A', 'G', 'A', 'A', 'G', 'T', 'C', 'C', 'C', 'G', 'A', 'G', 'G', 'A', 'T', 'G', 'T', 'T', 'C', 'T', 'C', 'A', 'G', 'A', 'G', 'T', 'G', 'C', 'G', 'G', 'G', 'G', 'A', 'G', 'T', 'G', 'G', 'C', 'C', 'A', 'C', 'C', 'G', 'A', 'A', 'G', 'C', 'T', 'G', 'C', 'A', 'G', 'C', 'T', 'G', 'A', 'A', 'A', 'G', 'G', 'C', 'A', 'G', 'A', 'G', 'G', 'G', 'T', 'C', 'T', 'C', 'A', 'G', 'A', 'G', 'C', 'A', 'G', 'C', 'C', 'C', 'T', 'T', 'C', 'C', 'T', 'T', 'T', 'C', 'C', 'A', 'G', 'C', 'C', 'A', 'T', 'C', 'C', 'C', 'T', 'C', 'C', 'T', 'C', 'C', 'C', 'C', 'C', 'A', 'G', 'G', 'A', 'T', 'C', 'C', 'A', 'C', 'A', 'T', 'G', 'G', 'G', 'T', 'C', 'A', 'T', 'G', 'T', 'T', 'C', 'T', 'T', 'T', 'A', 'G', 'T', 'C', 'C', 'T', 'G', 'G', 'G', 'A', 'G', 'A', 'T', 'G', 'C', 'A', 'T', 'C', 'A', 'G', 'G', 'A', 'C', 'C', 'A', 'G', 'G', 'C', 'T', 'C', 'A', 'G', 'C', 'A', 'G', 'T', 'G', 'G', 'C', 'G', 'G', 'C', 'G', 'T', 'G', 'A', 'G', 'C', 'G', 'G', 'T', 'G', 'A', 'G', 'A', 'G', 'A', 'C', 'A', 'C', 'G', 'G', 'G', 'A', 'G', 'A', 'G', 'A', 'G', 'A', 'A', 'G', 'A', 'G', 'A', 'G', 'A', 'T', 'A', 'G', 'A', 'G', 'A', 'G', 'A', 'G', 'A', 'C', 'A', 'G', 'A', 'G', 'A', 'G', 'A', 'C', 'A', 'G', 'G', 'G', 'A', 'A', 'C', 'A', 'G', 'A', 'G', 'A', 'T', 'G', 'T', 'A', 'G', 'A', 'C', 'A', 'G', 'A', 'C', 'A', 'T', 'T', 'G', 'A', 'G', 'A', 'G', 'A', 'C', 'A', 'G', 'A', 'G', 'A', 'C', 'A', 'G', 'A', 'G', 'A', 'G', 'A', 'C', 'A', 'G', 'A', 'G', 'A', 'C', 'A', 'G', 'A', 'G', 'A', 'G', 'C', 'T', 'A', 'C', 'A', 'G', 'A', 'G', 'A', 'G', 'A', 'A', 'T', 'A', 'G', 'A', 'G', 'A', 'C', 'A', 'G', 'A', 'G', 'G', 'A', 'T', 'G', 'A', 'G', 'C', 'A', 'C', 'A', 'G', 'A', 'A', 'C', 'A', 'G', 'A', 'G', 'A', 'T', 'G', 'G', 'A', 'C', 'C', 'A', 'A', 'C', 'T', 'G', 'T', 'G', 'T', 'G', 'T', 'G', 'T', 'G', 'T', 'G', 'A', 'G', 'A', 'G', 'A', 'G', 'A', 'G', 'A', 'C', 'A', 'G', 'A', 'C', 'A', 'G', 'A', 'G', 'A', 'G', 'A', 'G', 'C', 'C', 'A', 'T', 'C', 'A', 'A', 'G', 'C', 'C', 'G', 'C', 'C', 'A', 'A', 'C', 'A', 'C', 'A', 'C', 'A', 'C', 'C', 'T', 'G', 'G', 'A', 'G', 'C', 'C', 'T', 'C', 'C', 'T', 'G', 'T', 'C', 'A', 'C', 'A', 'C', 'T', 'C', 'T', 'T', 'T', 'G', 'C', 'C', 'C', 'T', 'G', 'G', 'G', 'C', 'T', 'G', 'T', 'G', 'T', 'C', 'C', 'C', 'T', 'T', 'G', 'C', 'A', 'A', 'A', 'C', 'A', 'G', 'C', 'C', 'T', 'G', 'A', 'A', 'T', 'A', 'C', 'C', 'T', 'C', 'T', 'C', 'C', 'C', 'C', 'T', 'G', 'A', 'C', 'C', 'C', 'A', 'G', 'G', 'T', 'C', 'C', 'C', 'A', 'C', 'C', 'C', 'T', 'C', 'T', 'C', 'T', 'T', 'G', 'A', 'T', 'T', 'T', 'T', 'T', 'C', 'T', 'C', 'C', 'T', 'T', 'C', 'T', 'C', 'A', 'G', 'G', 'G', 'G', 'C', 'C', 'T', 'G', 'C', 'A', 'A', 'C', 'C', 'C', 'C', 'T', 'G', 'C', 'A', 'G', 'C', 'T', 'T', 'C', 'A', 'T', 'C', 'C', 'G', 'A', 'C', 'C', 'C', 'C', 'C', 'G', 'T', 'G', 'A', 'G', 'C', 'C', 'C', 'C', 'C', 'T', 'G', 'C', 'C', 'T', 'C', 'A', 'T', 'G', 'G', 'C', 'C', 'A', 'A', 'G', 'C', 'A', 'T', 'C', 'C', 'C', 'C', 'G', 'A', 'C', 'A', 'C', 'C', 'T', 'T', 'C', 'T', 'T', 'T', 'G', 'T', 'G', 'C', 'T', 'T', 'G', 'T', 'C', 'A', 'T', 'T', 'G', 'C', 'C', 'C', 'C', 'T', 'A', 'G', 'T', 'C', 'A', 'G', 'G', 'G', 'G', 'G', 'T', 'G', 'A', 'G', 'T', 'A', 'C', 'G', 'C', 'T', 'C', 'G', 'G', 'G', 'C', 'C', 'T', 'T', 'G', 'G', 'C', 'T', 'C', 'C', 'T', 'G', 'T', 'G', 'C', 'C', 'T', 'T', 'G', 'C', 'C', 'G', 'T', 'G', 'G', 'C', 'T', 'G', 'G', 'G', 'C', 'A', 'C', 'A', 'C', 'G', 'T', 'G', 'A', 'T', 'G', 'G', 'T', 'G', 'G', 'C', 'A', 'T', 'G', 'C', 'C', 'T', 'C', 'C', 'G', 'A', 'G', 'C', 'C', 'C', 'A', 'A', 'C', 'C', 'A', 'G', 'G', 'G', 'G', 'G', 'C', 'A', 'T', 'G', 'G', 'G', 'A', 'G', 'A', 'C', 'C', 'T', 'C', 'G', 'G', 'C', 'C', 'G', 'G', 'G', 'C', 'C', 'C', 'T', 'G', 'G', 'C', 'T', 'T', 'G', 'T', 'G', 'A', 'G', 'T', 'G', 'G', 'T', 'C', 'A', 'G', 'T', 'G', 'T', 'G', 'G', 'T', 'G', 'A', 'C', 'T'])\n list(['G', 'G', 'T', 'T', 'C', 'T', 'T', 'C', 'G', 'T', 'T', 'C', 'A', 'G', 'T', 'T', 'A', 'C', 'A', 'T', 'A', 'T', 'T', 'G', 'C', 'T', 'G', 'T', 'T', 'A', 'C', 'A', 'G', 'A', 'G', 'A', 'G', 'G', 'A', 'G', 'T', 'G', 'G', 'C', 'C', 'C', 'G', 'A', 'C', 'G', 'G', 'A', 'G', 'G', 'C', 'A', 'G', 'G', 'A', 'G', 'G', 'G', 'G', 'G', 'C', 'A', 'T', 'C', 'T', 'T', 'C', 'A', 'T', 'T', 'G', 'T', 'T', 'A', 'T', 'C', 'A', 'G', 'A', 'A', 'C', 'A', 'G', 'G', 'T', 'T', 'C', 'A', 'C', 'C', 'T', 'G', 'C', 'T', 'C', 'A', 'G', 'C', 'C', 'G', 'G', 'C', 'T', 'C', 'C', 'A', 'C', 'G', 'A', 'C', 'G', 'C', 'C', 'C', 'T', 'T', 'G', 'A', 'G', 'C', 'T', 'C', 'T', 'G', 'G', 'T', 'G', 'T', 'C', 'C', 'A', 'C', 'A', 'C', 'A', 'T', 'T', 'T', 'T', 'G', 'G', 'T', 'T', 'C', 'A', 'C', 'C', 'A', 'A', 'A', 'A', 'A', 'T', 'T', 'C', 'C', 'A', 'C', 'C', 'G', 'C', 'A', 'T', 'C', 'C', 'C', 'G', 'C', 'C', 'C', 'C', 'T', 'G', 'C', 'C', 'T', 'T', 'C', 'C', 'C', 'C', 'T', 'T', 'C', 'C', 'C', 'A', 'A'])].\nReshape your data either using array.reshape(-1, 1) if your data has a single feature or array.reshape(1, -1) if it contains a single sample.",
     "output_type": "error",
     "traceback": [
      "\u001b[0;31m---------------------------------------------------------------------------\u001b[0m",
      "\u001b[0;31mValueError\u001b[0m                                Traceback (most recent call last)",
      "\u001b[0;32m<ipython-input-6-a587baf7f2a7>\u001b[0m in \u001b[0;36m<module>\u001b[0;34m\u001b[0m\n\u001b[1;32m     78\u001b[0m     \u001b[0;31m# One hot encoder\u001b[0m\u001b[0;34m\u001b[0m\u001b[0;34m\u001b[0m\u001b[0;34m\u001b[0m\u001b[0m\n\u001b[1;32m     79\u001b[0m \u001b[0;31m#     print(\"Running one hot encoder...\")\u001b[0m\u001b[0;34m\u001b[0m\u001b[0;34m\u001b[0m\u001b[0;34m\u001b[0m\u001b[0m\n\u001b[0;32m---> 80\u001b[0;31m     \u001b[0mX_onehot\u001b[0m \u001b[0;34m=\u001b[0m \u001b[0mencoder\u001b[0m\u001b[0;34m.\u001b[0m\u001b[0mfit_transform\u001b[0m\u001b[0;34m(\u001b[0m\u001b[0munique_reads\u001b[0m\u001b[0;34m)\u001b[0m\u001b[0;34m.\u001b[0m\u001b[0mtoarray\u001b[0m\u001b[0;34m(\u001b[0m\u001b[0;34m)\u001b[0m\u001b[0;34m\u001b[0m\u001b[0;34m\u001b[0m\u001b[0m\n\u001b[0m\u001b[1;32m     81\u001b[0m \u001b[0;34m\u001b[0m\u001b[0m\n\u001b[1;32m     82\u001b[0m     \u001b[0;31m# PCA\u001b[0m\u001b[0;34m\u001b[0m\u001b[0;34m\u001b[0m\u001b[0;34m\u001b[0m\u001b[0m\n",
      "\u001b[0;32m~/miniconda3/envs/genomics/lib/python3.7/site-packages/sklearn/preprocessing/_encoders.py\u001b[0m in \u001b[0;36mfit_transform\u001b[0;34m(self, X, y)\u001b[0m\n\u001b[1;32m    408\u001b[0m         \"\"\"\n\u001b[1;32m    409\u001b[0m         \u001b[0mself\u001b[0m\u001b[0;34m.\u001b[0m\u001b[0m_validate_keywords\u001b[0m\u001b[0;34m(\u001b[0m\u001b[0;34m)\u001b[0m\u001b[0;34m\u001b[0m\u001b[0;34m\u001b[0m\u001b[0m\n\u001b[0;32m--> 410\u001b[0;31m         \u001b[0;32mreturn\u001b[0m \u001b[0msuper\u001b[0m\u001b[0;34m(\u001b[0m\u001b[0;34m)\u001b[0m\u001b[0;34m.\u001b[0m\u001b[0mfit_transform\u001b[0m\u001b[0;34m(\u001b[0m\u001b[0mX\u001b[0m\u001b[0;34m,\u001b[0m \u001b[0my\u001b[0m\u001b[0;34m)\u001b[0m\u001b[0;34m\u001b[0m\u001b[0;34m\u001b[0m\u001b[0m\n\u001b[0m\u001b[1;32m    411\u001b[0m \u001b[0;34m\u001b[0m\u001b[0m\n\u001b[1;32m    412\u001b[0m     \u001b[0;32mdef\u001b[0m \u001b[0mtransform\u001b[0m\u001b[0;34m(\u001b[0m\u001b[0mself\u001b[0m\u001b[0;34m,\u001b[0m \u001b[0mX\u001b[0m\u001b[0;34m)\u001b[0m\u001b[0;34m:\u001b[0m\u001b[0;34m\u001b[0m\u001b[0;34m\u001b[0m\u001b[0m\n",
      "\u001b[0;32m~/miniconda3/envs/genomics/lib/python3.7/site-packages/sklearn/base.py\u001b[0m in \u001b[0;36mfit_transform\u001b[0;34m(self, X, y, **fit_params)\u001b[0m\n\u001b[1;32m    688\u001b[0m         \u001b[0;32mif\u001b[0m \u001b[0my\u001b[0m \u001b[0;32mis\u001b[0m \u001b[0;32mNone\u001b[0m\u001b[0;34m:\u001b[0m\u001b[0;34m\u001b[0m\u001b[0;34m\u001b[0m\u001b[0m\n\u001b[1;32m    689\u001b[0m             \u001b[0;31m# fit method of arity 1 (unsupervised transformation)\u001b[0m\u001b[0;34m\u001b[0m\u001b[0;34m\u001b[0m\u001b[0;34m\u001b[0m\u001b[0m\n\u001b[0;32m--> 690\u001b[0;31m             \u001b[0;32mreturn\u001b[0m \u001b[0mself\u001b[0m\u001b[0;34m.\u001b[0m\u001b[0mfit\u001b[0m\u001b[0;34m(\u001b[0m\u001b[0mX\u001b[0m\u001b[0;34m,\u001b[0m \u001b[0;34m**\u001b[0m\u001b[0mfit_params\u001b[0m\u001b[0;34m)\u001b[0m\u001b[0;34m.\u001b[0m\u001b[0mtransform\u001b[0m\u001b[0;34m(\u001b[0m\u001b[0mX\u001b[0m\u001b[0;34m)\u001b[0m\u001b[0;34m\u001b[0m\u001b[0;34m\u001b[0m\u001b[0m\n\u001b[0m\u001b[1;32m    691\u001b[0m         \u001b[0;32melse\u001b[0m\u001b[0;34m:\u001b[0m\u001b[0;34m\u001b[0m\u001b[0;34m\u001b[0m\u001b[0m\n\u001b[1;32m    692\u001b[0m             \u001b[0;31m# fit method of arity 2 (supervised transformation)\u001b[0m\u001b[0;34m\u001b[0m\u001b[0;34m\u001b[0m\u001b[0;34m\u001b[0m\u001b[0m\n",
      "\u001b[0;32m~/miniconda3/envs/genomics/lib/python3.7/site-packages/sklearn/preprocessing/_encoders.py\u001b[0m in \u001b[0;36mfit\u001b[0;34m(self, X, y)\u001b[0m\n\u001b[1;32m    383\u001b[0m         \"\"\"\n\u001b[1;32m    384\u001b[0m         \u001b[0mself\u001b[0m\u001b[0;34m.\u001b[0m\u001b[0m_validate_keywords\u001b[0m\u001b[0;34m(\u001b[0m\u001b[0;34m)\u001b[0m\u001b[0;34m\u001b[0m\u001b[0;34m\u001b[0m\u001b[0m\n\u001b[0;32m--> 385\u001b[0;31m         \u001b[0mself\u001b[0m\u001b[0;34m.\u001b[0m\u001b[0m_fit\u001b[0m\u001b[0;34m(\u001b[0m\u001b[0mX\u001b[0m\u001b[0;34m,\u001b[0m \u001b[0mhandle_unknown\u001b[0m\u001b[0;34m=\u001b[0m\u001b[0mself\u001b[0m\u001b[0;34m.\u001b[0m\u001b[0mhandle_unknown\u001b[0m\u001b[0;34m)\u001b[0m\u001b[0;34m\u001b[0m\u001b[0;34m\u001b[0m\u001b[0m\n\u001b[0m\u001b[1;32m    386\u001b[0m         \u001b[0mself\u001b[0m\u001b[0;34m.\u001b[0m\u001b[0mdrop_idx_\u001b[0m \u001b[0;34m=\u001b[0m \u001b[0mself\u001b[0m\u001b[0;34m.\u001b[0m\u001b[0m_compute_drop_idx\u001b[0m\u001b[0;34m(\u001b[0m\u001b[0;34m)\u001b[0m\u001b[0;34m\u001b[0m\u001b[0;34m\u001b[0m\u001b[0m\n\u001b[1;32m    387\u001b[0m         \u001b[0;32mreturn\u001b[0m \u001b[0mself\u001b[0m\u001b[0;34m\u001b[0m\u001b[0;34m\u001b[0m\u001b[0m\n",
      "\u001b[0;32m~/miniconda3/envs/genomics/lib/python3.7/site-packages/sklearn/preprocessing/_encoders.py\u001b[0m in \u001b[0;36m_fit\u001b[0;34m(self, X, handle_unknown)\u001b[0m\n\u001b[1;32m     72\u001b[0m \u001b[0;34m\u001b[0m\u001b[0m\n\u001b[1;32m     73\u001b[0m     \u001b[0;32mdef\u001b[0m \u001b[0m_fit\u001b[0m\u001b[0;34m(\u001b[0m\u001b[0mself\u001b[0m\u001b[0;34m,\u001b[0m \u001b[0mX\u001b[0m\u001b[0;34m,\u001b[0m \u001b[0mhandle_unknown\u001b[0m\u001b[0;34m=\u001b[0m\u001b[0;34m'error'\u001b[0m\u001b[0;34m)\u001b[0m\u001b[0;34m:\u001b[0m\u001b[0;34m\u001b[0m\u001b[0;34m\u001b[0m\u001b[0m\n\u001b[0;32m---> 74\u001b[0;31m         \u001b[0mX_list\u001b[0m\u001b[0;34m,\u001b[0m \u001b[0mn_samples\u001b[0m\u001b[0;34m,\u001b[0m \u001b[0mn_features\u001b[0m \u001b[0;34m=\u001b[0m \u001b[0mself\u001b[0m\u001b[0;34m.\u001b[0m\u001b[0m_check_X\u001b[0m\u001b[0;34m(\u001b[0m\u001b[0mX\u001b[0m\u001b[0;34m)\u001b[0m\u001b[0;34m\u001b[0m\u001b[0;34m\u001b[0m\u001b[0m\n\u001b[0m\u001b[1;32m     75\u001b[0m \u001b[0;34m\u001b[0m\u001b[0m\n\u001b[1;32m     76\u001b[0m         \u001b[0;32mif\u001b[0m \u001b[0mself\u001b[0m\u001b[0;34m.\u001b[0m\u001b[0mcategories\u001b[0m \u001b[0;34m!=\u001b[0m \u001b[0;34m'auto'\u001b[0m\u001b[0;34m:\u001b[0m\u001b[0;34m\u001b[0m\u001b[0;34m\u001b[0m\u001b[0m\n",
      "\u001b[0;32m~/miniconda3/envs/genomics/lib/python3.7/site-packages/sklearn/preprocessing/_encoders.py\u001b[0m in \u001b[0;36m_check_X\u001b[0;34m(self, X)\u001b[0m\n\u001b[1;32m     41\u001b[0m         \u001b[0;32mif\u001b[0m \u001b[0;32mnot\u001b[0m \u001b[0;34m(\u001b[0m\u001b[0mhasattr\u001b[0m\u001b[0;34m(\u001b[0m\u001b[0mX\u001b[0m\u001b[0;34m,\u001b[0m \u001b[0;34m'iloc'\u001b[0m\u001b[0;34m)\u001b[0m \u001b[0;32mand\u001b[0m \u001b[0mgetattr\u001b[0m\u001b[0;34m(\u001b[0m\u001b[0mX\u001b[0m\u001b[0;34m,\u001b[0m \u001b[0;34m'ndim'\u001b[0m\u001b[0;34m,\u001b[0m \u001b[0;36m0\u001b[0m\u001b[0;34m)\u001b[0m \u001b[0;34m==\u001b[0m \u001b[0;36m2\u001b[0m\u001b[0;34m)\u001b[0m\u001b[0;34m:\u001b[0m\u001b[0;34m\u001b[0m\u001b[0;34m\u001b[0m\u001b[0m\n\u001b[1;32m     42\u001b[0m             \u001b[0;31m# if not a dataframe, do normal check_array validation\u001b[0m\u001b[0;34m\u001b[0m\u001b[0;34m\u001b[0m\u001b[0;34m\u001b[0m\u001b[0m\n\u001b[0;32m---> 43\u001b[0;31m             \u001b[0mX_temp\u001b[0m \u001b[0;34m=\u001b[0m \u001b[0mcheck_array\u001b[0m\u001b[0;34m(\u001b[0m\u001b[0mX\u001b[0m\u001b[0;34m,\u001b[0m \u001b[0mdtype\u001b[0m\u001b[0;34m=\u001b[0m\u001b[0;32mNone\u001b[0m\u001b[0;34m)\u001b[0m\u001b[0;34m\u001b[0m\u001b[0;34m\u001b[0m\u001b[0m\n\u001b[0m\u001b[1;32m     44\u001b[0m             if (not hasattr(X, 'dtype')\n\u001b[1;32m     45\u001b[0m                     and np.issubdtype(X_temp.dtype, np.str_)):\n",
      "\u001b[0;32m~/miniconda3/envs/genomics/lib/python3.7/site-packages/sklearn/utils/validation.py\u001b[0m in \u001b[0;36minner_f\u001b[0;34m(*args, **kwargs)\u001b[0m\n\u001b[1;32m     70\u001b[0m                           FutureWarning)\n\u001b[1;32m     71\u001b[0m         \u001b[0mkwargs\u001b[0m\u001b[0;34m.\u001b[0m\u001b[0mupdate\u001b[0m\u001b[0;34m(\u001b[0m\u001b[0;34m{\u001b[0m\u001b[0mk\u001b[0m\u001b[0;34m:\u001b[0m \u001b[0marg\u001b[0m \u001b[0;32mfor\u001b[0m \u001b[0mk\u001b[0m\u001b[0;34m,\u001b[0m \u001b[0marg\u001b[0m \u001b[0;32min\u001b[0m \u001b[0mzip\u001b[0m\u001b[0;34m(\u001b[0m\u001b[0msig\u001b[0m\u001b[0;34m.\u001b[0m\u001b[0mparameters\u001b[0m\u001b[0;34m,\u001b[0m \u001b[0margs\u001b[0m\u001b[0;34m)\u001b[0m\u001b[0;34m}\u001b[0m\u001b[0;34m)\u001b[0m\u001b[0;34m\u001b[0m\u001b[0;34m\u001b[0m\u001b[0m\n\u001b[0;32m---> 72\u001b[0;31m         \u001b[0;32mreturn\u001b[0m \u001b[0mf\u001b[0m\u001b[0;34m(\u001b[0m\u001b[0;34m**\u001b[0m\u001b[0mkwargs\u001b[0m\u001b[0;34m)\u001b[0m\u001b[0;34m\u001b[0m\u001b[0;34m\u001b[0m\u001b[0m\n\u001b[0m\u001b[1;32m     73\u001b[0m     \u001b[0;32mreturn\u001b[0m \u001b[0minner_f\u001b[0m\u001b[0;34m\u001b[0m\u001b[0;34m\u001b[0m\u001b[0m\n\u001b[1;32m     74\u001b[0m \u001b[0;34m\u001b[0m\u001b[0m\n",
      "\u001b[0;32m~/miniconda3/envs/genomics/lib/python3.7/site-packages/sklearn/utils/validation.py\u001b[0m in \u001b[0;36mcheck_array\u001b[0;34m(array, accept_sparse, accept_large_sparse, dtype, order, copy, force_all_finite, ensure_2d, allow_nd, ensure_min_samples, ensure_min_features, estimator)\u001b[0m\n\u001b[1;32m    621\u001b[0m                     \u001b[0;34m\"Reshape your data either using array.reshape(-1, 1) if \"\u001b[0m\u001b[0;34m\u001b[0m\u001b[0;34m\u001b[0m\u001b[0m\n\u001b[1;32m    622\u001b[0m                     \u001b[0;34m\"your data has a single feature or array.reshape(1, -1) \"\u001b[0m\u001b[0;34m\u001b[0m\u001b[0;34m\u001b[0m\u001b[0m\n\u001b[0;32m--> 623\u001b[0;31m                     \"if it contains a single sample.\".format(array))\n\u001b[0m\u001b[1;32m    624\u001b[0m \u001b[0;34m\u001b[0m\u001b[0m\n\u001b[1;32m    625\u001b[0m         \u001b[0;31m# in the future np.flexible dtypes will be handled like object dtypes\u001b[0m\u001b[0;34m\u001b[0m\u001b[0;34m\u001b[0m\u001b[0;34m\u001b[0m\u001b[0m\n",
      "\u001b[0;31mValueError\u001b[0m: Expected 2D array, got 1D array instead:\narray=[list(['C', 'A', 'T', 'C', 'C', 'G', 'G', 'G', 'C', 'A', 'A', 'G', 'G', 'A', 'G', 'T', 'C', 'C', 'T', 'T', 'G', 'C', 'C', 'C', 'T', 'G', 'A', 'T', 'G', 'T', 'C', 'T', 'C', 'T', 'C', 'A', 'C', 'A', 'G', 'A', 'C', 'C', 'T', 'G', 'G', 'G', 'C', 'T', 'C', 'A', 'G', 'A', 'G', 'C', 'A', 'G', 'T', 'C', 'A', 'G', 'G', 'T', 'G', 'A', 'C', 'A', 'C', 'G', 'C', 'T', 'G', 'G', 'A', 'G', 'G', 'T', 'C', 'A', 'C', 'T', 'C', 'A', 'G', 'C', 'C', 'C', 'G', 'G', 'A', 'G', 'A', 'G', 'G', 'C', 'G', 'G', 'C', 'A', 'G', 'G', 'A', 'G', 'C', 'G', 'G', 'A', 'G', 'C', 'G', 'A', 'A', 'G', 'C', 'T', 'C', 'C', 'A', 'T', 'C', 'T', 'G', 'G', 'G', 'C', 'T', 'G', 'T', 'A', 'G', 'T', 'C', 'C', 'A', 'G', 'C', 'T', 'T', 'T', 'T', 'G', 'C', 'G', 'G', 'C', 'T', 'G', 'C', 'C', 'T', 'G', 'G', 'A', 'C', 'C', 'C', 'A', 'G', 'A', 'C', 'C', 'A', 'G', 'C', 'C', 'C', 'A', 'G', 'G', 'G', 'C', 'A', 'A', 'C', 'C', 'T', 'T', 'G', 'T', 'T', 'C', 'C', 'T', 'T', 'C', 'C', 'A', 'T', 'G', 'T', 'G', 'G', 'C', 'T', 'G', 'T', 'A', 'G', 'C', 'T', 'T', 'T', 'C', 'T', 'T', 'T', 'T', 'C', 'C', 'A', 'G', 'G', 'G', 'T', 'A', 'C', 'A', 'G', 'G', 'A', 'T', 'C', 'G', 'A', 'C', 'C', 'T', 'G', 'G', 'T', 'T', 'G', 'T', 'C', 'T', 'T', 'T', 'G', 'G', 'G', 'C', 'C', 'T', 'A', 'G', 'C', 'G', 'A', 'G', 'G', 'T', 'G', 'G', 'T', 'G', 'C', 'C', 'G', 'G', 'G', 'G', 'G', 'C', 'A', 'G', 'A', 'A', 'G', 'C', 'C', 'C', 'C', 'T', 'C', 'G', 'C', 'T', 'C', 'T', 'C', 'G', 'T', 'C', 'T', 'G', 'T', 'A', 'C', 'T', 'A', 'A', 'G', 'T', 'T', 'G', 'G', 'G', 'C', 'T', 'G', 'T', 'T', 'T', 'G', 'T', 'C', 'A', 'T', 'G', 'C', 'G', 'C', 'C', 'C', 'C', 'A', 'G', 'A', 'C', 'A', 'C', 'C', 'A', 'T', 'C', 'A', 'G', 'C', 'A', 'G', 'C', 'C', 'A', 'G', 'C', 'C', 'G', 'C', 'C', 'T', 'T', 'C', 'C', 'T', 'G', 'T', 'C', 'C', 'T', 'G', 'C', 'T', 'G', 'C', 'A', 'C', 'A', 'C', 'A', 'G', 'A', 'T', 'G', 'G', 'A', 'T', 'G', 'G', 'C', 'C', 'C', 'C', 'A', 'T', 'G', 'G', 'G', 'G', 'G', 'C', 'C', 'T', 'G', 'C', 'A', 'G', 'T', 'T', 'A', 'T', 'T', 'T', 'C', 'C', 'T', 'G', 'G', 'G', 'C', 'T', 'G', 'G', 'G', 'A', 'G', 'A', 'T', 'G', 'G', 'G', 'A', 'C', 'A', 'G', 'A', 'T', 'G', 'T', 'G', 'T', 'A', 'G', 'G', 'T', 'T', 'T', 'C', 'A', 'C', 'C', 'T', 'C', 'T', 'G', 'A', 'A', 'A', 'C', 'T', 'G', 'C', 'C', 'A', 'C', 'C', 'C', 'T', 'T', 'A', 'T', 'C', 'C', 'C', 'A', 'T', 'T', 'T', 'C', 'C', 'A', 'G', 'G', 'T', 'C', 'T', 'T', 'T', 'C', 'A', 'G', 'G', 'A', 'A', 'G', 'G', 'A', 'G', 'G', 'C', 'C', 'A', 'C', 'A', 'C', 'A', 'G', 'C', 'T', 'C', 'C', 'T', 'G', 'G', 'G', 'G', 'T', 'C', 'T', 'T', 'G', 'T', 'G', 'T', 'A', 'A', 'A', 'G', 'T', 'G', 'T', 'C', 'A', 'C', 'A', 'G', 'G', 'A', 'G', 'G', 'A', 'T', 'G', 'A', 'A', 'C', 'A', 'A', 'G', 'C', 'C', 'C', 'T', 'C', 'C', 'C', 'A', 'C', 'C', 'C', 'C', 'T', 'G', 'C', 'C', 'C', 'T', 'C', 'A', 'A', 'A', 'G', 'C', 'C', 'T', 'A', 'A', 'G', 'C', 'C', 'T', 'C', 'C', 'C', 'C', 'C', 'T', 'G', 'C', 'C', 'A', 'C', 'C', 'A', 'G', 'G', 'G', 'C', 'T', 'C', 'A', 'G', 'G', 'C', 'T', 'T', 'C', 'C', 'C', 'C', 'G', 'T', 'C', 'C', 'C', 'C', 'C', 'T', 'G', 'A', 'G', 'G', 'C', 'C', 'C', 'C', 'C', 'A', 'G', 'A', 'T', 'G', 'G', 'C', 'C', 'T', 'T', 'T', 'G', 'A', 'C', 'C', 'C', 'A', 'A', 'C', 'A', 'G', 'T', 'G', 'C', 'T', 'C', 'A', 'C', 'A', 'C', 'T', 'C', 'C', 'C', 'A', 'A', 'C', 'C', 'T', 'C', 'T', 'G', 'A', 'C', 'C', 'C', 'C', 'C', 'C', 'A', 'G', 'A', 'T', 'G', 'G', 'C', 'C', 'T', 'T', 'T', 'A', 'G', 'A', 'C', 'C', 'A', 'A', 'C', 'A', 'G', 'T', 'G', 'C', 'C', 'C', 'A', 'C', 'A', 'C', 'T', 'C', 'C', 'C', 'A', 'T', 'C', 'C', 'T', 'C', 'C', 'C', 'T', 'G', 'G', 'T', 'A', 'A', 'C', 'C', 'C', 'A', 'G', 'A', 'T', 'G', 'G', 'C', 'T', 'C', 'A', 'A', 'C', 'C', 'A', 'A', 'C', 'A', 'G', 'T', 'G', 'C', 'C', 'C', 'A', 'C', 'A', 'C', 'T', 'C', 'C', 'C', 'A', 'C', 'T', 'C', 'C', 'T', 'C', 'C', 'T', 'T', 'G', 'A', 'G', 'C', 'C', 'C', 'C', 'C', 'A', 'G', 'A', 'T', 'G', 'G', 'C', 'C', 'T', 'T', 'C', 'A', 'G', 'A', 'C', 'C', 'A', 'A', 'C', 'A', 'G', 'T', 'G', 'C', 'C', 'C', 'A', 'C', 'C', 'T', 'C', 'C', 'A', 'T', 'C', 'C', 'T', 'C', 'C', 'T', 'G', 'A', 'G', 'C', 'C', 'C', 'C', 'C', 'A', 'G', 'A', 'T', 'G', 'G', 'C', 'C', 'T', 'T', 'C', 'A', 'G', 'A', 'C', 'C', 'A', 'A', 'C', 'A', 'G', 'T', 'G', 'C', 'C', 'C', 'A', 'C', 'A', 'C', 'T', 'T', 'C', 'C', 'C', 'C', 'A', 'T', 'C', 'C', 'T', 'C', 'C', 'T', 'G', 'A', 'C', 'C', 'C', 'A', 'G', 'A', 'T', 'G', 'G', 'C', 'C', 'T', 'T', 'C', 'A', 'A', 'G', 'A', 'C', 'C', 'A', 'A', 'C', 'A', 'G', 'T', 'G', 'C', 'C', 'C', 'A', 'C', 'A', 'C', 'T', 'C', 'C', 'C', 'C', 'C', 'A', 'T', 'C', 'C', 'T', 'C', 'T', 'G', 'A', 'G', 'T', 'C', 'C', 'A', 'G', 'A', 'T', 'G', 'G', 'C', 'C', 'T', 'T', 'C', 'A', 'G', 'A', 'C', 'C', 'A', 'A', 'C', 'A', 'G', 'T', 'G', 'C', 'C', 'C', 'A', 'C', 'A', 'C', 'T', 'C', 'C', 'T', 'G', 'C', 'T', 'G', 'A', 'G', 'C', 'T', 'T', 'C', 'C', 'A', 'G', 'T', 'C', 'C', 'T', 'G', 'A', 'G', 'A', 'G', 'C', 'A', 'C', 'G', 'G', 'T', 'C', 'T', 'G', 'G', 'G', 'A', 'G', 'A', 'A', 'C', 'T', 'G', 'G', 'C', 'A', 'G', 'C', 'G', 'G', 'G', 'C', 'A', 'G', 'C', 'A', 'A', 'G', 'G', 'C', 'G', 'C', 'G', 'G', 'G', 'A', 'C', 'T', 'T', 'G', 'G', 'C', 'G', 'G', 'T', 'G', 'G', 'C', 'C', 'A', 'G', 'A', 'A', 'C', 'A', 'C', 'A', 'T', 'T', 'C', 'A', 'T', 'C', 'C', 'C', 'G', 'G', 'A', 'A', 'G', 'G', 'A', 'A', 'G', 'A', 'A', 'A', 'A', 'A', 'C', 'C', 'A', 'G', 'C', 'A', 'A', 'A', 'G', 'G', 'T', 'G', 'C', 'G', 'T', 'G', 'C', 'C', 'T', 'C', 'T', 'G', 'G', 'G', 'T', 'T', 'G', 'G', 'G', 'G', 'G', 'A', 'C', 'T', 'A', 'C', 'A', 'T', 'G', 'T', 'A', 'A', 'G', 'C', 'T', 'T', 'T', 'T', 'C', 'T', 'T', 'C', 'T', 'C', 'T', 'T', 'T', 'T', 'C', 'C', 'A', 'G', 'T', 'T', 'G', 'T', 'T', 'A', 'A', 'C', 'C', 'T', 'T', 'C', 'T', 'T', 'C', 'A', 'A', 'A', 'G', 'T', 'T', 'T', 'C', 'C', 'A', 'T', 'A', 'A', 'A', 'C', 'A', 'G', 'G', 'C', 'A', 'A', 'C', 'G', 'T', 'T', 'T', 'T', 'A', 'C', 'T', 'T', 'T', 'T', 'T', 'T', 'C', 'T', 'A', 'G', 'T', 'G', 'A', 'A', 'A', 'A', 'A', 'G', 'A', 'A', 'C', 'A', 'A', 'C', 'T', 'T', 'T', 'A', 'T', 'G', 'C', 'A', 'A', 'A', 'G', 'G', 'C', 'A', 'G', 'C', 'T', 'G', 'C', 'A', 'G', 'A', 'A', 'T', 'G', 'T', 'C', 'C', 'C', 'A', 'C', 'C', 'C', 'G', 'G', 'C', 'A', 'C', 'C', 'A', 'A', 'G', 'A', 'G', 'C', 'A', 'C', 'C', 'C', 'A', 'T', 'T', 'G', 'A', 'A', 'T', 'G', 'T', 'C', 'T', 'T', 'C', 'A', 'T', 'T', 'T', 'G', 'G', 'G', 'C', 'A', 'A', 'A', 'A', 'A', 'A', 'G', 'A', 'A', 'A', 'A', 'T', 'T', 'T', 'C', 'T', 'G', 'C', 'A', 'G', 'G', 'T', 'C', 'T', 'T', 'T', 'A', 'T', 'T', 'T', 'A', 'A', 'A', 'A', 'A', 'A', 'A', 'T', 'A', 'C', 'A', 'T', 'A', 'A', 'C', 'T', 'G', 'G', 'A', 'G', 'T', 'G', 'C', 'T', 'T', 'T', 'T', 'C', 'A', 'T', 'C', 'A', 'A', 'A', 'A', 'A', 'T', 'G', 'T', 'C', 'C', 'C', 'C', 'A', 'T', 'T', 'T', 'G', 'G', 'G', 'T', 'G', 'G', 'A', 'A', 'A', 'A', 'A', 'A', 'A', 'T', 'T', 'T', 'T', 'T', 'G', 'A', 'C', 'A', 'A', 'T', 'T', 'C', 'T', 'T', 'A', 'G', 'T', 'A', 'T', 'T', 'T', 'T', 'G', 'A', 'G', 'T', 'A', 'A', 'G', 'G', 'C', 'T', 'T', 'G', 'A', 'A', 'T', 'G', 'T', 'T', 'T', 'T', 'G', 'A', 'A', 'A', 'A', 'T', 'G', 'A', 'C', 'C', 'A', 'A', 'A', 'A', 'G', 'T', 'A', 'T', 'T', 'T', 'T', 'A', 'T', 'T', 'T', 'T', 'A', 'G', 'T', 'G', 'G', 'T', 'C', 'A', 'G', 'A', 'A', 'A', 'A', 'C', 'A', 'C', 'A', 'T', 'C', 'A', 'A', 'A', 'T', 'G', 'G', 'T', 'T', 'T', 'G', 'C', 'A', 'C', 'T', 'T', 'G', 'T', 'G', 'G', 'A', 'A', 'A', 'C', 'T', 'T', 'G', 'G', 'A', 'T', 'C', 'C', 'C', 'T', 'T', 'C', 'C', 'T', 'T', 'C', 'C', 'T', 'T', 'C', 'C', 'T', 'T', 'C', 'C', 'C', 'T', 'T', 'C', 'C', 'T', 'C', 'G', 'C', 'T', 'T', 'C', 'C', 'T', 'T', 'C', 'C', 'T', 'C', 'C', 'C', 'T', 'C', 'C', 'C', 'T', 'C', 'C', 'T', 'C', 'C', 'C', 'C', 'T', 'C', 'C', 'C', 'T', 'C', 'C', 'C', 'C', 'T', 'T', 'C', 'T', 'C', 'T', 'C', 'T', 'T', 'C', 'T', 'C', 'T', 'T', 'C', 'T', 'C', 'T', 'T', 'C', 'T', 'C', 'T', 'T', 'T', 'T', 'C', 'T', 'T', 'T', 'C', 'T', 'T', 'T', 'C', 'T', 'T', 'T', 'T', 'T', 'C', 'T', 'T', 'T', 'C', 'T', 'T', 'T', 'T', 'T', 'C', 'T', 'T', 'T', 'T', 'T', 'C', 'T', 'T', 'G', 'C', 'T', 'T', 'T', 'C', 'T', 'T', 'G', 'C', 'T', 'T', 'T', 'C', 'T', 'T', 'G', 'C', 'T', 'T', 'C', 'T', 'T', 'T', 'C', 'T', 'T', 'T', 'C', 'T', 'T', 'T', 'C', 'C', 'T', 'T', 'C', 'C', 'T', 'T', 'T', 'C', 'T', 'T', 'T', 'C', 'C', 'T', 'T', 'C', 'C', 'T', 'T', 'T', 'C', 'T', 'T', 'T', 'C', 'T', 'T', 'T', 'C', 'T', 'T', 'T', 'C', 'T', 'T', 'T', 'C', 'T', 'T', 'T', 'C', 'T', 'T', 'T', 'C', 'T', 'T', 'T', 'C', 'T', 'T', 'T', 'C', 'T', 'T', 'T', 'C', 'T', 'T', 'T', 'C', 'T', 'T', 'T', 'C', 'T', 'T', 'T', 'T', 'T', 'C', 'T', 'T', 'C', 'C', 'T', 'T', 'C', 'C', 'T', 'T', 'C', 'T', 'T', 'C', 'C', 'T', 'T', 'C', 'T', 'T', 'T', 'T', 'C', 'T', 'T', 'T', 'T', 'C', 'T', 'C', 'T', 'C', 'T', 'C', 'T', 'C', 'T', 'C', 'T', 'T', 'T', 'C', 'T', 'C', 'T', 'C', 'T', 'C', 'T', 'C', 'T', 'C', 'T', 'G', 'T', 'T', 'T', 'A', 'T', 'C', 'T', 'C', 'T', 'T', 'T', 'T', 'T', 'C', 'T', 'C', 'T', 'C', 'T', 'C', 'T', 'C', 'T', 'G', 'T', 'C', 'C', 'A', 'A', 'C', 'T', 'C', 'T', 'C', 'T', 'C', 'T', 'C', 'T', 'C', 'T', 'C', 'C', 'A', 'A', 'A', 'G', 'C', 'A', 'A', 'A', 'C', 'A', 'C', 'T', 'T', 'G', 'G', 'G', 'G', 'C', 'A', 'A', 'A', 'A', 'G', 'C', 'C', 'C', 'A', 'G', 'G', 'T', 'G', 'A', 'T', 'C', 'C', 'A', 'G', 'G', 'C', 'T', 'C', 'G', 'A', 'G', 'G', 'G', 'A', 'G', 'G', 'T', 'G', 'A', 'G', 'G', 'C', 'G', 'G', 'G', 'A', 'G', 'G', 'T', 'G', 'G', 'A', 'G', 'A', 'C', 'G', 'A', 'G', 'C', 'A', 'A', 'C', 'C', 'G', 'C', 'A', 'A', 'G', 'A', 'G', 'C', 'A', 'G', 'G', 'A', 'T', 'G', 'G', 'C', 'C', 'C', 'T', 'G', 'G', 'G', 'G', 'A', 'C', 'G', 'C', 'A', 'G', 'G', 'A', 'G', 'A', 'G', 'A', 'G', 'C', 'C', 'G', 'G', 'G', 'T', 'G', 'G', 'G', 'G', 'A', 'C', 'C', 'A', 'G', 'T', 'G', 'T', 'G', 'G', 'A', 'G', 'G', 'G', 'G', 'A', 'T', 'G', 'G', 'G', 'A', 'G', 'G', 'G', 'G', 'A', 'C', 'C', 'G', 'A', 'G', 'G', 'G', 'A', 'A', 'T', 'G', 'A', 'G', 'A', 'G', 'G', 'C', 'T', 'C', 'C', 'T', 'G', 'C', 'A', 'T', 'C', 'C', 'G', 'C', 'A', 'G', 'C', 'A', 'C', 'C', 'A', 'C', 'G', 'G', 'G', 'G', 'C', 'T', 'G', 'G', 'G', 'T', 'C', 'T', 'G', 'T', 'T', 'C', 'T', 'G', 'T', 'G', 'C', 'A', 'G', 'A', 'A', 'G', 'C', 'A', 'G', 'C', 'A', 'C', 'C', 'A', 'C', 'C', 'T', 'G', 'G', 'T', 'G', 'G', 'C', 'C', 'T', 'C', 'T', 'G', 'C', 'T', 'G', 'G', 'T', 'G', 'A', 'C', 'A', 'T', 'C', 'A', 'G', 'G', 'C', 'A', 'C', 'C', 'T', 'G', 'C', 'C', 'A', 'G', 'T', 'C', 'C', 'T', 'G', 'G', 'G', 'C', 'C', 'T', 'C', 'A', 'G', 'A', 'G', 'A', 'G', 'G', 'G', 'G', 'A', 'C', 'A', 'G', 'A', 'G', 'C', 'C', 'C', 'T', 'G', 'G', 'G', 'T', 'G', 'T', 'G', 'G', 'T', 'C', 'C', 'C', 'C', 'A', 'G', 'C', 'A', 'G', 'G', 'G', 'G', 'T', 'G', 'G', 'G', 'C', 'A', 'G', 'G', 'A', 'C', 'A', 'A', 'T', 'G', 'A', 'T', 'G', 'G', 'C', 'T', 'G', 'A', 'G', 'C', 'A', 'G', 'G', 'G', 'C', 'G', 'G', 'G', 'G', 'A', 'G', 'T', 'A', 'G', 'G', 'G', 'G', 'T', 'G', 'A', 'G', 'T', 'T', 'C', 'C', 'A', 'C', 'C', 'T', 'C', 'A', 'A', 'C', 'T', 'C', 'T', 'G', 'T', 'A', 'G', 'G', 'G', 'G', 'G', 'C', 'A', 'A', 'A', 'T', 'C', 'A', 'G', 'A', 'G', 'C', 'C', 'T', 'C', 'A', 'G', 'C', 'C', 'A', 'G', 'C', 'A', 'G', 'G', 'T', 'G', 'G', 'C', 'A', 'T', 'G', 'G', 'A', 'C', 'G', 'G', 'C', 'G', 'C', 'C', 'C', 'A', 'C', 'C', 'T', 'A', 'G', 'C', 'C', 'C', 'A', 'G', 'G', 'A', 'G', 'T', 'C', 'C', 'C', 'G', 'G', 'A', 'A', 'G', 'C', 'C', 'T', 'G', 'G', 'G', 'T', 'T', 'C', 'C', 'A', 'A', 'T', 'C', 'C', 'G', 'G', 'C', 'C', 'A', 'C', 'T', 'G', 'T', 'G', 'G', 'G', 'C', 'T', 'G', 'G', 'T', 'G', 'G', 'C', 'T', 'G', 'G', 'C', 'T', 'C', 'T', 'G', 'T', 'T', 'T', 'T', 'A', 'T', 'T', 'G', 'T', 'G', 'C', 'A', 'G', 'T', 'T', 'T', 'T', 'C', 'T', 'C', 'C', 'C', 'C', 'T', 'G', 'T', 'G', 'A', 'C', 'T', 'C', 'A', 'G', 'G', 'T', 'G', 'C', 'A', 'G', 'C', 'A', 'G', 'G', 'G', 'T', 'G', 'G', 'G', 'A', 'G', 'G', 'G', 'G', 'G', 'C', 'C', 'G', 'G', 'G', 'T', 'C', 'A', 'A', 'G', 'G', 'G', 'A', 'T', 'C', 'T', 'G', 'G', 'G', 'C', 'T', 'G', 'G', 'G', 'C', 'C', 'T', 'C', 'A', 'G', 'A', 'G', 'C', 'G', 'T', 'G', 'G', 'T', 'G', 'C', 'C', 'T', 'G', 'T', 'C', 'C', 'T', 'C', 'A', 'C', 'C', 'C', 'C', 'T', 'A', 'T', 'T', 'C', 'A', 'G', 'G', 'A', 'G', 'G', 'C', 'T', 'T', 'G', 'C', 'T', 'C', 'T', 'C', 'T', 'C', 'T', 'C', 'C', 'C', 'T', 'G', 'C', 'C', 'T', 'G', 'A', 'C', 'C', 'T', 'C', 'T', 'C', 'T', 'C', 'A', 'C', 'T', 'C', 'C', 'A', 'T', 'T', 'T', 'C', 'T', 'G', 'C', 'C', 'T', 'C', 'C', 'C', 'T', 'C', 'A', 'T', 'C', 'C', 'T', 'C', 'A', 'G', 'C', 'A', 'G', 'G', 'C', 'C', 'T', 'G', 'G', 'C', 'T', 'G', 'G', 'G', 'G', 'G', 'G', 'T', 'G', 'G', 'T', 'C', 'A', 'G', 'G', 'G', 'C', 'C', 'A', 'A', 'G', 'T', 'C', 'T', 'C', 'T', 'C', 'C', 'A', 'G', 'C', 'T', 'G', 'T', 'G', 'T', 'C', 'C', 'A', 'G', 'C', 'C', 'C', 'T', 'T', 'G', 'G', 'G', 'T', 'G', 'C', 'T', 'C', 'A', 'G', 'G', 'G', 'T', 'T', 'A', 'G', 'A', 'G', 'C', 'T', 'T', 'C', 'C', 'T', 'C', 'C', 'T', 'G', 'G', 'T', 'C', 'C', 'T', 'G', 'A', 'A', 'A', 'G', 'C', 'A', 'T', 'C', 'T', 'G', 'G', 'G', 'T', 'G', 'T', 'G', 'G', 'G', 'G', 'T', 'G', 'A', 'G', 'G', 'G', 'T', 'C', 'G', 'G', 'T', 'G', 'G', 'G', 'G', 'G', 'T', 'G', 'G', 'G', 'C', 'A', 'C', 'C', 'T', 'C', 'C', 'T', 'G', 'G', 'C', 'A', 'G', 'G', 'C', 'C', 'C', 'T', 'G', 'T', 'G', 'G', 'G', 'C', 'G', 'G', 'G', 'C', 'A', 'A', 'G', 'C', 'C', 'C', 'G', 'C', 'T', 'T', 'G', 'C', 'T', 'G', 'G', 'G', 'A', 'C', 'C', 'C', 'G', 'T', 'G', 'T', 'G', 'G', 'G', 'C', 'A', 'G', 'G', 'G', 'A', 'C', 'T', 'G', 'T', 'C', 'C', 'C', 'C', 'T', 'G', 'G', 'C', 'A', 'C', 'C', 'C', 'A', 'G', 'C', 'T', 'G', 'G', 'G', 'C', 'A', 'A', 'G', 'C', 'G', 'C', 'C', 'C', 'T', 'C', 'C', 'C', 'C', 'C', 'A', 'G', 'G', 'G', 'C', 'C', 'C', 'T', 'C', 'C', 'G', 'C', 'A', 'G', 'T', 'A', 'C', 'C', 'G', 'A', 'C', 'C', 'T', 'C', 'A', 'G', 'C', 'G', 'G', 'C', 'T', 'C', 'C', 'C', 'G', 'C', 'T', 'C', 'C', 'C', 'G', 'G', 'G', 'C', 'T', 'G', 'T', 'C', 'G', 'G', 'C', 'C', 'A', 'G', 'A', 'C', 'C', 'C', 'A', 'T', 'A', 'G', 'A', 'T', 'G', 'A', 'G', 'G', 'G', 'G', 'C', 'T', 'T', 'G', 'G', 'A', 'G', 'C', 'T', 'G', 'C', 'T', 'G', 'T', 'C', 'G', 'C', 'G', 'G', 'C', 'A', 'G', 'G', 'C', 'C', 'A', 'G', 'C', 'A', 'G', 'C', 'G', 'T', 'G', 'G', 'C', 'C', 'A', 'G', 'C', 'G', 'G', 'G', 'G', 'G', 'A', 'A', 'A', 'A', 'C', 'A', 'C', 'A', 'G', 'G', 'G', 'C', 'A', 'G', 'C', 'A', 'G', 'G', 'A', 'A', 'G', 'T', 'T', 'C', 'A', 'G', 'C', 'A', 'G', 'G', 'G', 'G', 'C', 'T', 'G', 'C', 'A', 'G', 'G', 'C', 'T', 'C', 'C', 'A', 'G', 'T', 'A', 'G', 'A', 'A', 'G', 'A', 'C', 'C', 'G', 'A', 'G', 'G', 'G', 'C', 'A', 'G', 'G', 'C', 'C', 'A', 'C', 'A', 'G', 'A', 'A', 'G', 'A', 'A', 'G', 'A', 'G', 'C', 'A', 'G', 'G', 'A', 'G', 'C', 'A', 'G', 'C', 'G', 'C', 'G', 'C', 'C', 'C', 'A', 'G', 'G', 'A', 'C', 'G', 'A', 'T', 'G', 'C', 'T', 'C', 'C', 'G', 'T', 'A', 'G', 'A', 'G', 'C', 'C', 'T', 'G', 'G', 'C', 'C', 'A', 'C', 'G', 'G', 'G', 'C', 'A', 'A', 'G', 'T', 'G', 'G', 'A', 'G', 'C', 'A', 'G', 'C', 'A', 'G', 'G', 'T', 'C', 'A', 'C', 'C', 'C', 'A', 'G', 'A', 'C', 'A', 'G', 'A', 'G', 'G', 'A', 'C', 'C', 'A', 'C', 'G', 'C', 'C', 'A', 'G', 'C', 'A', 'T', 'C', 'C', 'A', 'G', 'G', 'G', 'C', 'G', 'A', 'C', 'A', 'G', 'C', 'G', 'G', 'G', 'C', 'C', 'A', 'G', 'C', 'A', 'C', 'C', 'A', 'G', 'G', 'A', 'A', 'C', 'C', 'A', 'G', 'G', 'T', 'G', 'G', 'C', 'G', 'C', 'T', 'G', 'G', 'C', 'C', 'A', 'C', 'G', 'T', 'G', 'G', 'T', 'C', 'A', 'C', 'G', 'C', 'G', 'G', 'G', 'C', 'A', 'G', 'A', 'C', 'C', 'A', 'G', 'G', 'G', 'G', 'G', 'C', 'A', 'C', 'G', 'C', 'C', 'G', 'C', 'T', 'G', 'T', 'T', 'G', 'C', 'G', 'C', 'A', 'G', 'C', 'A', 'G', 'G', 'C', 'C', 'G', 'A', 'A', 'G', 'G', 'C', 'G', 'A', 'T', 'C', 'G', 'G', 'C', 'G', 'G', 'C', 'A', 'G', 'C', 'G', 'G', 'C', 'C', 'C', 'G', 'G', 'C', 'C', 'G', 'G', 'G', 'C', 'A', 'G', 'G', 'T', 'C', 'G', 'G', 'G', 'G', 'T', 'C', 'C', 'A', 'C', 'A', 'C', 'C', 'A', 'G', 'G', 'G', 'C', 'G', 'C', 'A', 'G', 'A', 'G', 'G', 'A', 'C', 'G', 'G', 'C', 'C', 'G', 'A', 'G', 'G', 'C', 'G', 'G', 'T', 'G', 'T', 'G', 'C', 'T', 'G', 'G', 'C', 'C', 'G', 'G', 'C', 'A', 'G', 'C', 'C', 'C', 'T', 'G', 'G', 'T', 'A', 'G', 'C', 'A', 'G', 'G', 'C', 'G', 'G', 'G', 'G', 'G', 'A', 'A', 'G', 'A', 'G', 'G', 'T', 'T', 'G', 'G', 'A', 'G', 'A', 'G', 'G', 'C', 'A', 'G', 'C', 'G', 'C', 'T', 'C', 'C', 'C', 'G', 'C', 'T', 'G', 'A', 'A', 'G', 'G', 'C', 'C', 'G', 'C', 'C', 'A', 'G', 'C', 'A', 'G', 'C', 'C', 'A', 'G', 'A', 'G', 'C', 'C', 'C', 'C', 'A', 'C', 'C', 'G', 'C', 'A', 'A', 'A', 'C', 'C', 'A', 'C', 'A', 'G', 'G', 'G', 'A', 'A', 'G', 'T', 'A', 'A', 'A', 'G', 'C', 'A', 'C', 'G', 'A', 'A', 'G', 'A', 'T', 'G', 'A', 'G', 'T', 'G', 'T', 'G', 'T', 'C', 'C', 'T', 'G', 'G', 'G', 'C', 'G', 'C', 'C', 'C', 'A', 'G', 'G', 'G', 'C', 'A', 'G', 'C', 'C', 'T', 'G', 'A', 'G', 'C', 'C', 'A', 'C', 'G', 'G', 'A', 'G', 'A', 'A', 'G', 'C', 'C', 'C', 'A', 'C', 'A', 'C', 'G', 'G', 'C', 'A', 'G', 'G', 'A', 'G', 'A', 'G', 'G', 'A', 'A', 'C', 'A', 'G', 'G', 'A', 'A', 'G', 'T', 'C', 'G', 'G', 'C', 'G', 'G', 'C', 'G', 'G', 'C', 'C', 'A', 'G', 'G', 'T', 'G', 'C', 'A', 'G', 'C', 'A', 'G', 'G', 'T', 'A', 'G', 'A', 'T', 'G', 'G', 'A', 'G', 'A', 'A', 'G', 'G', 'G', 'G', 'C', 'C', 'C', 'T', 'T', 'C', 'T', 'T', 'G', 'A', 'T', 'G', 'C', 'G', 'G', 'A', 'A', 'G', 'C', 'C', 'G', 'A', 'G', 'G', 'T', 'T', 'C', 'C', 'C', 'A', 'G', 'G', 'C', 'A', 'C', 'C', 'A', 'G', 'C', 'C', 'C', 'G', 'T', 'T', 'T', 'C', 'C', 'T', 'C', 'C', 'C', 'C', 'G', 'G', 'T', 'C', 'C', 'C', 'C', 'A', 'G', 'G', 'A', 'G', 'C', 'G', 'C', 'G', 'A', 'T', 'C', 'A', 'G', 'C', 'G', 'T', 'C', 'A', 'G', 'G', 'T', 'A', 'G', 'A', 'A', 'G', 'A', 'C', 'C', 'A', 'C', 'A', 'C', 'T', 'G', 'T', 'C', 'G', 'A', 'C', 'G', 'T', 'T', 'C', 'T', 'T', 'C', 'C', 'G', 'G', 'A', 'G', 'G', 'C', 'C', 'G', 'A', 'A', 'C', 'T', 'G', 'A', 'G', 'C', 'C', 'C', 'A', 'A', 'A', 'C', 'A', 'T', 'C', 'C', 'T', 'G', 'G', 'C', 'C', 'G', 'G', 'C', 'T', 'C', 'T', 'G', 'A', 'A', 'G', 'G', 'G', 'T', 'G', 'C', 'T', 'G', 'G', 'C', 'G', 'A', 'G', 'G', 'G', 'G', 'A', 'C', 'C', 'T', 'G', 'C', 'A', 'A', 'G', 'A', 'T', 'G', 'G', 'G', 'G', 'A', 'C', 'A', 'G', 'A', 'C', 'T', 'C', 'C', 'T', 'G', 'G', 'T', 'C', 'C', 'T', 'A', 'G', 'G', 'G', 'A', 'G', 'T', 'C', 'T', 'T', 'T', 'T', 'G', 'T', 'G', 'C', 'C', 'C', 'C', 'C', 'G', 'C', 'T', 'G', 'G', 'G', 'G', 'G', 'C', 'A', 'C', 'A', 'G', 'G', 'A', 'G', 'T', 'G', 'G', 'C', 'A', 'T', 'C', 'C', 'A', 'T', 'G', 'G', 'C', 'C', 'C', 'T', 'G', 'C', 'A', 'G', 'G', 'T', 'G', 'C', 'C', 'C', 'T', 'G', 'T', 'G', 'G', 'T', 'C', 'C', 'A', 'G', 'C', 'C', 'C', 'C', 'T', 'G', 'G', 'A', 'C', 'C', 'A', 'C', 'C', 'C', 'T', 'T', 'C', 'C', 'C', 'A', 'G', 'C', 'G', 'G', 'C', 'G', 'G', 'G', 'A', 'C', 'C', 'T', 'C', 'A', 'G', 'C', 'C', 'G', 'G', 'G', 'T', 'C', 'T', 'C', 'A', 'G', 'C', 'C', 'C', 'T', 'C', 'T', 'G', 'C', 'A', 'C', 'C', 'T', 'C', 'A', 'G', 'G', 'T', 'C', 'A', 'G', 'G', 'C', 'G', 'T', 'G', 'C', 'C', 'T', 'A', 'A', 'T', 'G', 'C', 'C', 'T', 'C', 'C', 'C', 'C', 'A', 'T', 'A', 'C', 'C', 'T', 'G', 'A', 'G', 'G', 'G', 'C', 'A', 'G', 'G', 'C', 'C', 'C', 'T', 'G', 'G', 'G', 'C', 'T', 'C', 'C', 'T', 'G', 'G', 'C', 'A', 'G', 'G', 'G', 'T', 'G', 'G', 'A', 'C', 'T', 'A', 'A', 'C', 'T', 'T', 'G', 'C', 'T', 'G', 'A', 'A', 'A', 'A', 'G', 'A', 'T', 'G', 'T', 'C', 'C', 'A', 'T', 'G', 'T', 'C', 'C', 'C', 'T', 'C', 'A', 'T', 'G', 'G', 'A', 'T', 'G', 'T', 'G', 'G', 'T', 'G', 'A', 'G', 'G', 'G', 'T', 'G', 'A', 'T', 'G', 'C', 'T', 'G', 'C', 'A', 'C', 'C', 'C', 'T', 'C', 'C', 'A', 'C', 'C', 'G', 'T', 'G', 'T', 'G', 'C', 'C', 'A', 'G', 'A', 'C', 'A', 'A', 'G', 'G', 'G', 'T', 'C', 'T', 'G', 'C', 'A', 'G', 'A', 'C', 'A', 'G', 'A', 'G', 'G', 'G', 'A', 'A', 'C', 'A', 'T', 'G', 'C', 'A', 'T', 'G', 'G', 'G', 'G', 'A', 'A', 'C', 'C', 'C', 'A', 'T', 'G', 'C', 'T', 'G', 'G', 'C', 'G', 'C', 'C', 'T', 'T', 'C', 'C', 'T', 'C', 'T', 'T', 'C', 'C', 'C', 'A', 'G', 'A', 'G', 'G', 'T', 'G', 'G', 'G', 'A', 'G', 'C', 'T', 'T', 'C', 'T', 'C', 'C', 'A', 'C', 'G', 'G', 'T', 'G', 'G', 'A', 'C', 'C', 'C', 'T', 'C', 'A', 'T', 'G', 'G', 'G', 'G', 'C', 'T', 'C', 'C', 'C', 'A', 'C', 'C', 'T', 'G', 'G', 'T', 'G', 'A', 'G', 'C', 'C', 'T', 'G', 'A', 'G', 'C', 'C', 'C', 'A', 'G', 'G', 'C', 'C', 'T', 'G', 'C', 'T', 'G', 'G', 'A', 'A', 'T', 'C', 'C', 'C', 'T', 'G', 'C', 'C', 'C', 'G', 'A', 'G', 'G', 'G', 'C', 'T', 'A', 'C', 'T', 'G', 'A', 'G', 'A', 'G', 'G', 'T', 'G', 'T', 'C', 'C', 'A', 'G', 'G', 'G', 'A', 'G', 'G', 'T', 'G', 'C', 'C', 'C', 'A', 'A', 'A', 'G', 'G', 'C', 'A', 'G', 'A', 'G', 'G', 'C', 'T', 'G', 'C', 'A', 'G', 'G', 'T', 'G', 'G', 'T', 'C', 'T', 'G', 'A', 'G', 'G', 'A', 'G', 'G', 'A', 'G', 'G', 'G', 'A', 'G', 'G', 'A', 'G', 'G', 'G', 'A', 'A', 'G', 'A', 'T', 'G', 'C', 'G', 'T', 'G', 'A', 'G', 'G', 'A', 'G', 'C', 'T', 'G', 'G', 'A', 'G', 'G', 'G', 'A', 'G', 'C', 'C', 'C', 'C', 'A', 'G', 'C', 'C', 'T', 'T', 'C', 'C', 'C', 'T', 'G', 'T', 'G', 'C', 'A', 'C', 'T', 'C', 'C', 'T', 'G', 'G', 'C', 'C', 'T', 'A', 'A', 'G', 'C', 'A', 'G', 'A', 'A', 'G', 'C', 'T', 'G', 'A', 'A', 'T', 'C', 'C', 'C', 'C', 'G', 'G', 'G', 'G', 'C', 'T', 'C', 'A', 'T', 'G', 'C', 'T', 'G', 'C', 'C', 'G', 'G', 'C', 'G', 'G', 'T', 'G', 'C', 'A', 'C', 'T', 'C', 'A', 'G', 'G', 'A', 'G', 'G', 'C', 'T', 'G', 'C', 'T', 'C', 'T', 'G', 'A', 'A', 'G', 'C', 'C', 'T', 'C', 'A', 'G', 'A', 'G', 'C', 'C', 'G', 'A', 'G', 'G', 'A', 'G', 'G', 'G', 'G', 'C', 'T', 'T', 'T', 'G', 'G', 'T', 'G', 'A', 'T', 'G', 'G', 'T', 'G', 'G', 'C', 'A', 'G', 'G', 'G', 'C', 'C', 'C', 'G', 'G', 'G', 'G', 'G', 'C', 'T', 'C', 'T', 'C', 'C', 'A', 'G', 'G', 'A', 'G', 'C', 'C', 'A', 'C', 'T', 'A', 'A', 'C', 'A', 'C', 'A', 'A', 'G', 'G', 'G', 'G', 'A', 'G', 'G', 'G', 'G', 'C', 'A', 'G', 'A', 'T', 'A', 'C', 'A', 'G', 'T', 'G', 'G', 'C', 'C', 'A', 'C', 'T', 'T', 'G', 'C', 'A', 'A', 'G', 'G', 'A', 'G', 'G', 'C', 'A', 'G', 'A', 'G', 'G', 'T', 'G', 'A', 'A', 'G', 'A', 'A', 'G', 'T', 'C', 'C', 'C', 'G', 'A', 'G', 'G', 'A', 'T', 'G', 'T', 'T', 'C', 'T', 'C', 'A', 'G', 'A', 'G', 'T', 'G', 'C', 'G', 'G', 'G', 'G', 'A', 'G', 'T', 'G', 'G', 'C', 'C', 'A', 'C', 'C', 'G', 'A', 'A', 'G', 'C', 'T', 'G', 'C', 'A', 'G', 'C', 'T', 'G', 'A', 'A', 'A', 'G', 'G', 'C', 'A', 'G', 'A', 'G', 'G', 'G', 'T', 'C', 'T', 'C', 'A', 'G', 'A', 'G', 'C', 'A', 'G', 'C', 'C', 'C', 'T', 'T', 'C', 'C', 'T', 'T', 'T', 'C', 'C', 'A', 'G', 'C', 'C', 'A', 'T', 'C', 'C', 'C', 'T', 'C', 'C', 'T', 'C', 'C', 'C', 'C', 'C', 'A', 'G', 'G', 'A', 'T', 'C', 'C', 'A', 'C', 'A', 'T', 'G', 'G', 'G', 'T', 'C', 'A', 'T', 'G', 'T', 'T', 'C', 'T', 'T', 'T', 'A', 'G', 'T', 'C', 'C', 'T', 'G', 'G', 'G', 'A', 'G', 'A', 'T', 'G', 'C', 'A', 'T', 'C', 'A', 'G', 'G', 'A', 'C', 'C', 'A', 'G', 'G', 'C', 'T', 'C', 'A', 'G', 'C', 'A', 'G', 'T', 'G', 'G', 'C', 'G', 'G', 'C', 'G', 'T', 'G', 'A', 'G', 'C', 'G', 'G', 'T', 'G', 'A', 'G', 'A', 'G', 'A', 'C', 'A', 'C', 'G', 'G', 'G', 'A', 'G', 'A', 'G', 'A', 'G', 'A', 'A', 'G', 'A', 'G', 'A', 'G', 'A', 'T', 'A', 'G', 'A', 'G', 'A', 'G', 'A', 'G', 'A', 'C', 'A', 'G', 'A', 'G', 'A', 'G', 'A', 'C', 'A', 'G', 'G', 'G', 'A', 'A', 'C', 'A', 'G', 'A', 'G', 'A', 'T', 'G', 'T', 'A', 'G', 'A', 'C', 'A', 'G', 'A', 'C', 'A', 'T', 'T', 'G', 'A', 'G', 'A', 'G', 'A', 'C', 'A', 'G', 'A', 'G', 'A', 'C', 'A', 'G', 'A', 'G', 'A', 'G', 'A', 'C', 'A', 'G', 'A', 'G', 'A', 'C', 'A', 'G', 'A', 'G', 'A', 'G', 'C', 'T', 'A', 'C', 'A', 'G', 'A', 'G', 'A', 'G', 'A', 'A', 'T', 'A', 'G', 'A', 'G', 'A', 'C', 'A', 'G', 'A', 'G', 'G', 'A', 'T', 'G', 'A', 'G', 'C', 'A', 'C', 'A', 'G', 'A', 'A', 'C', 'A', 'G', 'A', 'G', 'A', 'T', 'G', 'G', 'A', 'C', 'C', 'A', 'A', 'C', 'T', 'G', 'T', 'G', 'T', 'G', 'T', 'G', 'T', 'G', 'T', 'G', 'A', 'G', 'A', 'G', 'A', 'G', 'A', 'G', 'A', 'C', 'A', 'G', 'A', 'C', 'A', 'G', 'A', 'G', 'A', 'G', 'A', 'G', 'C', 'C', 'A', 'T', 'C', 'A', 'A', 'G', 'C', 'C', 'G', 'C', 'C', 'A', 'A', 'C', 'A', 'C', 'A', 'C', 'A', 'C', 'C', 'T', 'G', 'G', 'A', 'G', 'C', 'C', 'T', 'C', 'C', 'T', 'G', 'T', 'C', 'A', 'C', 'A', 'C', 'T', 'C', 'T', 'T', 'T', 'G', 'C', 'C', 'C', 'T', 'G', 'G', 'G', 'C', 'T', 'G', 'T', 'G', 'T', 'C', 'C', 'C', 'T', 'T', 'G', 'C', 'A', 'A', 'A', 'C', 'A', 'G', 'C', 'C', 'T', 'G', 'A', 'A', 'T', 'A', 'C', 'C', 'T', 'C', 'T', 'C', 'C', 'C', 'C', 'T', 'G', 'A', 'C', 'C', 'C', 'A', 'G', 'G', 'T', 'C', 'C', 'C', 'A', 'C', 'C', 'C', 'T', 'C', 'T', 'C', 'T', 'T', 'G', 'A', 'T', 'T', 'T', 'T', 'T', 'C', 'T', 'C', 'C', 'T', 'T', 'C', 'T', 'C', 'A', 'G', 'G', 'G', 'G', 'C', 'C', 'T', 'G', 'C', 'A', 'A', 'C', 'C', 'C', 'C', 'T', 'G', 'C', 'A', 'G', 'C', 'T', 'T', 'C', 'A', 'T', 'C', 'C', 'G', 'A', 'C', 'C', 'C', 'C', 'C', 'G', 'T', 'G', 'A', 'G', 'C', 'C', 'C', 'C', 'C', 'T', 'G', 'C', 'C', 'T', 'C', 'A', 'T', 'G', 'G', 'C', 'C', 'A', 'A', 'G', 'C', 'A', 'T', 'C', 'C', 'C', 'C', 'G', 'A', 'C', 'A', 'C', 'C', 'T', 'T', 'C', 'T', 'T', 'T', 'G', 'T', 'G', 'C', 'T', 'T', 'G', 'T', 'C', 'A', 'T', 'T', 'G', 'C', 'C', 'C', 'C', 'T', 'A', 'G', 'T', 'C', 'A', 'G', 'G', 'G', 'G', 'G', 'T', 'G', 'A', 'G', 'T', 'A', 'C', 'G', 'C', 'T', 'C', 'G', 'G', 'G', 'C', 'C', 'T', 'T', 'G', 'G', 'C', 'T', 'C', 'C', 'T', 'G', 'T', 'G', 'C', 'C', 'T', 'T', 'G', 'C', 'C', 'G', 'T', 'G', 'G', 'C', 'T', 'G', 'G', 'G', 'C', 'A', 'C', 'A', 'C', 'G', 'T', 'G', 'A', 'T', 'G', 'G', 'T', 'G', 'G', 'C', 'A', 'T', 'G', 'C', 'C', 'T', 'C', 'C', 'G', 'A', 'G', 'C', 'C', 'C', 'A', 'A', 'C', 'C', 'A', 'G', 'G', 'G', 'G', 'G', 'C', 'A', 'T', 'G', 'G', 'G', 'A', 'G', 'A', 'C', 'C', 'T', 'C', 'G', 'G', 'C', 'C', 'G', 'G', 'G', 'C', 'C', 'C', 'T', 'G', 'G', 'C', 'T', 'T', 'G', 'T', 'G', 'A', 'G', 'T', 'G', 'G', 'T', 'C', 'A', 'G', 'T', 'G', 'T', 'G', 'G', 'T', 'G', 'A', 'C', 'T'])\n list(['G', 'G', 'T', 'T', 'C', 'T', 'T', 'C', 'G', 'T', 'T', 'C', 'A', 'G', 'T', 'T', 'A', 'C', 'A', 'T', 'A', 'T', 'T', 'G', 'C', 'T', 'G', 'T', 'T', 'A', 'C', 'A', 'G', 'A', 'G', 'A', 'G', 'G', 'A', 'G', 'T', 'G', 'G', 'C', 'C', 'C', 'G', 'A', 'C', 'G', 'G', 'A', 'G', 'G', 'C', 'A', 'G', 'G', 'A', 'G', 'G', 'G', 'G', 'G', 'C', 'A', 'T', 'C', 'T', 'T', 'C', 'A', 'T', 'T', 'G', 'T', 'T', 'A', 'T', 'C', 'A', 'G', 'A', 'A', 'C', 'A', 'G', 'G', 'T', 'T', 'C', 'A', 'C', 'C', 'T', 'G', 'C', 'T', 'C', 'A', 'G', 'C', 'C', 'G', 'G', 'C', 'T', 'C', 'C', 'A', 'C', 'G', 'A', 'C', 'G', 'C', 'C', 'C', 'T', 'T', 'G', 'A', 'G', 'C', 'T', 'C', 'T', 'G', 'G', 'T', 'G', 'T', 'C', 'C', 'A', 'C', 'A', 'C', 'A', 'T', 'T', 'T', 'T', 'G', 'G', 'T', 'T', 'C', 'A', 'C', 'C', 'A', 'A', 'A', 'A', 'A', 'T', 'T', 'C', 'C', 'A', 'C', 'C', 'G', 'C', 'A', 'T', 'C', 'C', 'C', 'G', 'C', 'C', 'C', 'C', 'T', 'G', 'C', 'C', 'T', 'T', 'C', 'C', 'C', 'C', 'T', 'T', 'C', 'C', 'C', 'A', 'A'])].\nReshape your data either using array.reshape(-1, 1) if your data has a single feature or array.reshape(1, -1) if it contains a single sample."
     ]
    }
   ],
   "source": [
    "results_file = open(results_file_path,\"w\")\n",
    "# results_file = open(results_file_path,\"a\")\n",
    "\n",
    "# window_ref_genome_start = 0\n",
    "iter = 1\n",
    "empty_count = 0\n",
    "print(f\"Total range: {max(nanopore_reads['END_POS']):,}\")\n",
    "print(f\"Window width: {window_width}\")\n",
    "print(f\"Jump width: {jump_width}\")\n",
    "total_jumps = round(max(nanopore_reads['END_POS'])/jump_width)\n",
    "print(f\"Number of iterations required: {total_jumps}\")\n",
    "print(f\"Writing results to file: {results_file_path}\")\n",
    "print(\"\")\n",
    "print(\"-: Found 0 reads in window.\")\n",
    "print(\"1: Found 1 read in window.\")\n",
    "print(\"*: Found more than 1 read in window and ran clustering.\")\n",
    "print(\"\")\n",
    "print(f\"Iterations: \", end=\"\")\n",
    "\n",
    "for left_bound in range(min(nanopore_reads['POS']),max(nanopore_reads['END_POS']),jump_width):\n",
    "# for left_bound in range(1000000,max(nanopore_reads['END_POS']),jump_width):\n",
    "\n",
    "    progress = iter/total_jumps\n",
    "#     print(f\" {progress:.0f}% \", end=\"\")\n",
    "    if round(progress*1000)%50==0:\n",
    "        print(f\" {round(progress*100):.0f}% \", end=\"\")\n",
    "    iter+=1\n",
    "        \n",
    "    right_bound = left_bound+window_width\n",
    "    window_ref_genome = ref_genome[left_bound:left_bound+window_width]\n",
    "    \n",
    "    # Identify if each read is in the window: True/False\n",
    "#     print(\"Identifying if each read is in the window...\")\n",
    "    nanopore_reads['read_filter'] = nanopore_reads.apply(lambda x: check_sliding_window(x), axis=1)\n",
    "    \n",
    "    # Get them\n",
    "    window_reads = nanopore_reads.loc[nanopore_reads['read_filter']==True]\n",
    "    window_reads = window_reads.reset_index()\n",
    "    \n",
    "    # Display feedback to user every 100 empty windows\n",
    "#     if empty_count%100 == 0:\n",
    "#         print(empty_count)\n",
    "\n",
    "    if len(window_reads) == 0:\n",
    "        # There are no nanopore reads in this window (next window)\n",
    "        empty_count += 1\n",
    "        print(f\"-\", end=\"\")\n",
    "        continue \n",
    "        \n",
    "    elif len(window_reads) == 1:\n",
    "        # There is only one read in this window\n",
    "        empty_count += 1\n",
    "        print(f\"1\", end=\"\")\n",
    "        \n",
    "#         # Record window and assign arbitrary individual\n",
    "#         window_reads['window_num']=iter\n",
    "#         window_reads['kmeans_cls2']=0\n",
    "#         window_reads.apply(lambda x: write_results_to_file(x, results_file), axis=1) # write results to file\n",
    "        \n",
    "        continue\n",
    "        \n",
    "    ## If it gets here, there is more than one sequence overlapping in the window (continue algorithm to encoding and clustering steps) ##\n",
    "    \n",
    "#     print(\"Applying padding...\")\n",
    "    window_reads['left_padded'] = window_reads.apply(lambda x: left_pad_read(x), axis=1) # fill reference genome on the left of the read\n",
    "    window_reads['right_padded'] = window_reads.apply(lambda x: right_pad_read(x), axis=1) # fill reference genome on the right of the read\n",
    "    window_reads['final_padded_read'] = window_reads['right_padded']\n",
    "    \n",
    "    window_reads['FINAL_SEQ_LEN'] = window_reads['final_padded_read'].apply(lambda x: len(x)) # should always be 5k\n",
    "    \n",
    "    # not currently used. Should be used if we use the custom one-hot-encoding\n",
    "#     window_reads['one_hot_read_V1'] = window_reads['final_padded_read'].apply(lambda x: nucleotide_to_one_hot(x).flatten())  # apply one-hot encoding V1\n",
    "    \n",
    "    unique_reads = []\n",
    "    for index, read in window_reads.iterrows(): # TODO: TRY TO USE LAMBDA FUNCTION IF POSSIBLE\n",
    "        unique_reads.append(list(read['final_padded_read']))\n",
    "\n",
    "    # One hot encoder\n",
    "#     print(\"Running one hot encoder...\")\n",
    "    X_onehot = encoder.fit_transform(unique_reads).toarray()\n",
    "\n",
    "    # PCA\n",
    "#     print(\"Running PCA...\")\n",
    "    pca = PCA(n_components=2)\n",
    "    X_pca = pca.fit_transform(X_onehot)\n",
    "    \n",
    "    window_reads['PCA1'] = np.nan\n",
    "    window_reads['PCA2'] = np.nan\n",
    "    for ID in window_reads.index:\n",
    "        window_reads.loc[ID,'PCA1'] = X_pca[ID][0] # TODO: change rounding if desired\n",
    "        window_reads.loc[ID,'PCA2'] = X_pca[ID][1] # TODO: change rounding if desired\n",
    "        \n",
    "    # Standardizing the features\n",
    "    X = window_reads[['PCA1','PCA2']]\n",
    "    X = StandardScaler().fit_transform(X)\n",
    "\n",
    "    # Run Kmeans\n",
    "#     print(\"Running Kmeans...\")\n",
    "    model = KMeans(n_clusters=2, random_state=42)\n",
    "    cls2 = model.fit(X)\n",
    "    window_reads['kmeans_cls2'] = cls2.labels_\n",
    "    window_reads['window_num'] = iter\n",
    "    \n",
    "    # Write results to file\n",
    "    window_reads.apply(lambda x: write_results_to_file(x, results_file), axis=1) # write results to file\n",
    "    \n",
    "    print(f\"*\", end=\"\")\n",
    "    \n",
    "#     Break after N iterations\n",
    "#     if iter>100:\n",
    "#         break\n",
    "        \n",
    "results_file.close()"
   ]
  },
  {
   "cell_type": "code",
   "execution_count": 13,
   "metadata": {},
   "outputs": [
    {
     "data": {
      "text/plain": [
       "192"
      ]
     },
     "execution_count": 13,
     "metadata": {},
     "output_type": "execute_result"
    }
   ],
   "source": [
    "len(unique_reads[1])"
   ]
  },
  {
   "cell_type": "markdown",
   "metadata": {},
   "source": [
    "# EXTRA CODE\n",
    "Optimize number of clusters. Not needed in this case."
   ]
  },
  {
   "cell_type": "code",
   "execution_count": null,
   "metadata": {},
   "outputs": [],
   "source": [
    "# from sklearn.metrics import silhouette_score\n",
    "# from sklearn.preprocessing import StandardScaler\n",
    "# from sklearn.cluster import KMeans\n",
    "\n",
    "# # Standardizing the features\n",
    "# X = test[['PCA1','PCA2']]\n",
    "# X = StandardScaler().fit_transform(X)\n",
    "\n",
    "# distortions = []\n",
    "\n",
    "# for k in range(1, 5):\n",
    "#     KMeans_model = KMeans(n_clusters=k, random_state=42)\n",
    "#     KMeans_model.fit(X)\n",
    "#     distortions.append(KMeans_model.inertia_)\n",
    "\n",
    "# plt.plot(range(1, 5), distortions,  marker='o')\n",
    "# plt.xlabel('Number of clusters (K)')\n",
    "# plt.ylabel('Distortion')\n",
    "\n",
    "# silhouette_scores = []\n",
    "# for k in range(2, 5):\n",
    "#     model = KMeans(n_clusters=k, random_state=42)\n",
    "#     model.fit(X)\n",
    "#     score = silhouette_score(X, model.labels_)\n",
    "#     print(\"Silhouette Score for k = \", k, \"is\", score)\n",
    "#     silhouette_scores.append(score)\n",
    "\n",
    "# plt.plot(range(2, 5), silhouette_scores, marker='o')\n",
    "# plt.xlabel('Number of clusters (K)')\n",
    "# plt.ylabel('Silhouette score')\n",
    "\n",
    "# from yellowbrick.cluster import KElbowVisualizer\n",
    "\n",
    "# visualizer3 = KElbowVisualizer(KMeans(), k=(2,5))\n",
    "\n",
    "# visualizer3.fit(X) # Fit the data to the visualizer\n",
    "\n",
    "# model = KMeans(n_clusters=2, random_state=42)\n",
    "# cls2 = model.fit(X)\n",
    "# test['kmeans_cls2'] = cls2.labels_\n",
    "\n",
    "# import seaborn as sns\n",
    "# sns.scatterplot(data=window_reads,x='PCA1',y='PCA2',hue='kmeans_cls2')"
   ]
  },
  {
   "cell_type": "code",
   "execution_count": null,
   "metadata": {},
   "outputs": [],
   "source": []
  }
 ],
 "metadata": {
  "kernelspec": {
   "display_name": "Genomics",
   "language": "python",
   "name": "genomics"
  },
  "language_info": {
   "codemirror_mode": {
    "name": "ipython",
    "version": 3
   },
   "file_extension": ".py",
   "mimetype": "text/x-python",
   "name": "python",
   "nbconvert_exporter": "python",
   "pygments_lexer": "ipython3",
   "version": "3.7.6"
  }
 },
 "nbformat": 4,
 "nbformat_minor": 4
}
