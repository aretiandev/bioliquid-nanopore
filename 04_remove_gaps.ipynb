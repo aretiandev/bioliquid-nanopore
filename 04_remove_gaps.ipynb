{
 "cells": [
  {
   "cell_type": "markdown",
   "metadata": {},
   "source": [
    "# Remove Gaps\n",
    "\n",
    "This script removes gaps in the reads and the genome. It contains the following steps:\n",
    "\n",
    "- Loading and cleaning read data and reference genome data\n",
    "- Visualizing overlap between reads\n",
    "- Collapsing the regions where there is empty data"
   ]
  },
  {
   "cell_type": "markdown",
   "metadata": {},
   "source": [
    "# Load Modules"
   ]
  },
  {
   "cell_type": "code",
   "execution_count": 367,
   "metadata": {},
   "outputs": [],
   "source": [
    "import numpy as np\n",
    "import pandas as pd\n",
    "import matplotlib.pyplot as plt\n",
    "import json\n",
    "import os"
   ]
  },
  {
   "cell_type": "markdown",
   "metadata": {},
   "source": [
    "# Set Variables"
   ]
  },
  {
   "cell_type": "code",
   "execution_count": 368,
   "metadata": {},
   "outputs": [],
   "source": [
    "# Input variables\n",
    "run_number=\"run1\"\n",
    "chrom=\"chr11\"\n",
    "dis=\"sca\"\n",
    "# Setup\n",
    "chrom_dis=f\"{chrom}_{dis}\"\n",
    "rootdir=f\"/mnt/aretian/genomics/nanopore/{run_number}\"\n",
    "datadir=f\"/mnt/aretian/genomics/nanopore/{run_number}/data\"\n",
    "\n",
    "os.environ[\"run_number\"]=run_number\n",
    "os.environ[\"chrom_dis\"]=chrom_dis\n",
    "os.environ[\"datadir\"]=datadir"
   ]
  },
  {
   "cell_type": "markdown",
   "metadata": {},
   "source": [
    "# Load and Clean Reference Genome\n",
    "\n",
    "Info: https://lh3.github.io/2017/11/13/which-human-reference-genome-to-use\n",
    "\n",
    "S3 nanopore directory:\n",
    "\n",
    "s3cmd get --recursive s3://aretian-genomics/nanopore/"
   ]
  },
  {
   "cell_type": "code",
   "execution_count": 369,
   "metadata": {},
   "outputs": [],
   "source": [
    "# Pull reference genome from S3\n",
    "# !s3cmd get s3://aretian-genomics/nanopore/GCA_000001405.15_GRCh38_no_alt_analysis_set.fna.gz\n",
    "\n",
    "# !gunzip GCA_000001405.15_GRCh38_no_alt_analysis_set.fna.gz\n",
    "\n",
    "# Index reference genome\n",
    "# !samtools faidx GCA_000001405.15_GRCh38_no_alt_analysis_set.fna"
   ]
  },
  {
   "cell_type": "markdown",
   "metadata": {},
   "source": [
    "### Extract chromosome from reference genome"
   ]
  },
  {
   "cell_type": "code",
   "execution_count": 370,
   "metadata": {},
   "outputs": [],
   "source": [
    "%%bash\n",
    "# /home/fer/miniconda3/envs/genomics/bin/samtools faidx \"${datadir}/GCA_000001405.15_GRCh38_no_alt_analysis_set.fna.gz\" $chrom > \"${datadir}/${chrom}_selected.fa\""
   ]
  },
  {
   "cell_type": "code",
   "execution_count": 371,
   "metadata": {},
   "outputs": [
    {
     "name": "stdout",
     "output_type": "stream",
     "text": [
      "Unique characters: ['G', 'C', 'N', 'A', 'T']\n",
      "Selected chromosome from reference genome is 135086622 BP long\n"
     ]
    }
   ],
   "source": [
    "# Read in fasta file: remove line breaks and header\n",
    "def read_fasta_genome(fasta_file,chromosome_header):\n",
    "    clean_data = fasta_file.read().replace(\"\\n\", \"\")\n",
    "    clean_data = clean_data.replace(chromosome_header,\"\") # get rid of header\n",
    "\n",
    "    return clean_data\n",
    "\n",
    "with open(f'{datadir}/{chrom}_selected.fa') as f: # update path if needed\n",
    "    ref_genome = read_fasta_genome(f,f'>{chrom}')\n",
    "\n",
    "# See https://www.bioinformatics.org/sms/iupac.html for IUPAC nucleotide codes\n",
    "\n",
    "print(f\"Unique characters: {list(set(ref_genome))}\") \n",
    "\n",
    "print(f\"Selected chromosome from reference genome is {len(ref_genome)} BP long\")"
   ]
  },
  {
   "cell_type": "markdown",
   "metadata": {},
   "source": [
    "# Load and Clean Reads"
   ]
  },
  {
   "cell_type": "markdown",
   "metadata": {},
   "source": [
    "Samtools view --> format of output: http://samtools.github.io/hts-specs/SAMv1.pdf"
   ]
  },
  {
   "cell_type": "markdown",
   "metadata": {},
   "source": [
    "### Convert to SAM"
   ]
  },
  {
   "cell_type": "code",
   "execution_count": 372,
   "metadata": {},
   "outputs": [],
   "source": [
    "%%bash\n",
    "input=\"${datadir}/${run_number}_${chrom_dis}.bam\"\n",
    "output=\"${datadir}/${run_number}_${chrom_dis}.sam\"\n",
    "# /home/fer/miniconda3/envs/genomics/bin/samtools view $input > $output"
   ]
  },
  {
   "cell_type": "markdown",
   "metadata": {},
   "source": [
    "### Read SAM file"
   ]
  },
  {
   "cell_type": "code",
   "execution_count": 373,
   "metadata": {},
   "outputs": [],
   "source": [
    "nanopore_reads = pd.read_csv(f'{datadir}/{run_number}_{chrom_dis}.sam', sep='\\t',header=None,error_bad_lines=False, warn_bad_lines=False)"
   ]
  },
  {
   "cell_type": "markdown",
   "metadata": {},
   "source": [
    "### Clean Reads"
   ]
  },
  {
   "cell_type": "code",
   "execution_count": 374,
   "metadata": {},
   "outputs": [],
   "source": [
    "nanopore_reads = nanopore_reads.iloc[:,:11]\n",
    "nanopore_reads.columns = ['QNAME', 'FLAG', 'RNAME', 'POS', 'MAPQ', 'CIGAR', 'RNEXT', 'PNEXT','TLEN', 'SEQ', 'QUAL']\n",
    "\n",
    "# Sort and get ID\n",
    "nanopore_reads = nanopore_reads.sort_values(by='POS',ascending=True) # sort based on starting index of reads\n",
    "\n",
    "nanopore_reads['ID'] = np.nan\n",
    "\n",
    "# Get columns of interest\n",
    "nanopore_reads = nanopore_reads[['ID', 'QNAME', 'FLAG', 'RNAME', 'POS', 'MAPQ', 'CIGAR', 'RNEXT', 'PNEXT','TLEN', 'SEQ', 'QUAL']]\n",
    "# Drop missing values\n",
    "nanopore_reads = nanopore_reads.loc[nanopore_reads['SEQ'] != '*'] # drop any rows without a proper nucleotide sequence\n",
    "\n",
    "# Reset index and save ID\n",
    "nanopore_reads = nanopore_reads.reset_index()\n",
    "\n",
    "nanopore_reads['ID'] = nanopore_reads.index"
   ]
  },
  {
   "cell_type": "markdown",
   "metadata": {},
   "source": [
    "# Descriptive Statistics"
   ]
  },
  {
   "cell_type": "markdown",
   "metadata": {},
   "source": [
    "### Count and plot overlap"
   ]
  },
  {
   "cell_type": "code",
   "execution_count": 355,
   "metadata": {},
   "outputs": [],
   "source": [
    "def show_reads_length():\n",
    "    for ID in nanopore_reads.index:\n",
    "        print(f\"Leftmost index --> {nanopore_reads.loc[ID,'POS']}, Read length --> {len(nanopore_reads.loc[ID,'SEQ'])}\")\n",
    "\n",
    "def create_overlap_df():\n",
    "    end_index = max(nanopore_reads['POS']) + len(nanopore_reads.loc[nanopore_reads['POS'].idxmax(),'SEQ'])\n",
    "    start_index = min(nanopore_reads['POS'])\n",
    "    index_range = end_index-start_index\n",
    "\n",
    "    read_overlap = np.zeros((len(nanopore_reads),index_range)) # empty matrix for reads\n",
    "\n",
    "    for ID in nanopore_reads.index:\n",
    "    #     print(f\"Adding raad cover for read {ID+1}: Index-->{nanopore_reads.loc[ID,'POS']}, length-->{len(nanopore_reads.loc[ID,'SEQ'])}\")\n",
    "        start = nanopore_reads.loc[ID,'POS']-start_index\n",
    "        end = start+len(nanopore_reads.loc[ID,'SEQ'])\n",
    "        read_overlap[ID,start:end] = 1\n",
    "\n",
    "    summary = read_overlap.sum(axis=0)\n",
    "    \n",
    "    overlap_df = pd.DataFrame(data=summary,index=range(start_index,end_index), columns=['overlap_count'])\n",
    "    overlap_df['position'] = overlap_df.index\n",
    "    overlap_df['isempty']=overlap_df['overlap_count']==0\n",
    "    \n",
    "    return overlap_df\n",
    "\n",
    "def count_empty_regions():\n",
    "    win_length=10000\n",
    "    emptycount = 0\n",
    "    emptyregioncounter = 0\n",
    "\n",
    "    for i in overlap_df.index:\n",
    "\n",
    "        if overlap_df.loc[i,'isempty']==False:\n",
    "            emptycount = 0\n",
    "            continue\n",
    "\n",
    "        emptycount += 1\n",
    "\n",
    "        if emptycount >= win_length:\n",
    "            emptyregioncounter +=1\n",
    "\n",
    "        if i%100000==0:\n",
    "            print(f\"Loop: {i}\")\n",
    "\n",
    "    print(f\"There are at most {emptyregioncounter} regions with lengths larger than {win_length}\")\n",
    "\n",
    "def plot_overlap(overlap_df):\n",
    "    fig, ax = plt.subplots(dpi=150)\n",
    "    # plt.plot(overlap_df[:40000]['position'],overlap_df[:40000]['overlap_count'])\n",
    "    # plt.plot(overlap_df[:40000]['position'],overlap_df[:40000]['overlap_count'])\n",
    "    # plt.plot(overlap_df.loc[1000000:,'position'],overlap_df.loc[1000000:,'overlap_count'])\n",
    "    # plt.plot(overlap_df['position'],overlap_df['overlap_count'])\n",
    "    plt.plot(overlap_df['position'],overlap_df['isempty'])\n",
    "    plt.xlabel('Nucleotide Position')\n",
    "    plt.ylabel('# Reads Overlapping')\n",
    "\n",
    "# count_empty_regions()\n",
    "# overlap_df = create_overlap_df()\n",
    "# plot_overlap(overlap_df)"
   ]
  },
  {
   "cell_type": "markdown",
   "metadata": {},
   "source": [
    "### Read Length and Position"
   ]
  },
  {
   "cell_type": "code",
   "execution_count": 356,
   "metadata": {},
   "outputs": [
    {
     "name": "stdout",
     "output_type": "stream",
     "text": [
      "Read length statistics:\n"
     ]
    },
    {
     "data": {
      "text/plain": [
       "count      1161.000000\n",
       "mean      14356.910422\n",
       "std       18321.121713\n",
       "min         222.000000\n",
       "25%        2156.000000\n",
       "50%        7406.000000\n",
       "75%       18708.000000\n",
       "max      130186.000000\n",
       "Name: SEQ_LEN, dtype: float64"
      ]
     },
     "execution_count": 356,
     "metadata": {},
     "output_type": "execute_result"
    }
   ],
   "source": [
    "# Check read length statistics\n",
    "nanopore_reads['SEQ_LEN'] = nanopore_reads['SEQ'].apply(lambda x: len(x))\n",
    "nanopore_reads['END_POS'] = nanopore_reads['POS']+nanopore_reads['SEQ_LEN']\n",
    "print(f\"Read length statistics:\")\n",
    "nanopore_reads['SEQ_LEN'].describe()"
   ]
  },
  {
   "cell_type": "code",
   "execution_count": 357,
   "metadata": {},
   "outputs": [
    {
     "name": "stdout",
     "output_type": "stream",
     "text": [
      "Read position statistics:\n"
     ]
    },
    {
     "data": {
      "text/plain": [
       "count    1.161000e+03\n",
       "mean     5.256842e+06\n",
       "std      1.138441e+06\n",
       "min      3.199746e+06\n",
       "25%      4.278872e+06\n",
       "50%      5.255851e+06\n",
       "75%      6.216842e+06\n",
       "max      7.218912e+06\n",
       "Name: POS, dtype: float64"
      ]
     },
     "execution_count": 357,
     "metadata": {},
     "output_type": "execute_result"
    }
   ],
   "source": [
    "# Check read pos statistics\n",
    "print(f\"Read position statistics:\")\n",
    "nanopore_reads['POS'].describe()"
   ]
  },
  {
   "cell_type": "markdown",
   "metadata": {},
   "source": [
    "Trim reference genome chromosome to locus of interest "
   ]
  },
  {
   "cell_type": "markdown",
   "metadata": {},
   "source": [
    "# Collapse Gaps "
   ]
  },
  {
   "cell_type": "markdown",
   "metadata": {},
   "source": [
    "### Extract location of interest from Reference Genome"
   ]
  },
  {
   "cell_type": "code",
   "execution_count": 358,
   "metadata": {},
   "outputs": [
    {
     "name": "stdout",
     "output_type": "stream",
     "text": [
      "Selected locus for chromosome from reference genome is 0 BP long\n"
     ]
    }
   ],
   "source": [
    "ref_genome = ref_genome[min(nanopore_reads['POS']):max(nanopore_reads['END_POS'])]\n",
    "print(f\"Selected locus for chromosome from reference genome is {len(ref_genome)} BP long\")"
   ]
  },
  {
   "cell_type": "markdown",
   "metadata": {},
   "source": [
    "### Reset start and end positions based on location of interest"
   ]
  },
  {
   "cell_type": "code",
   "execution_count": 359,
   "metadata": {},
   "outputs": [],
   "source": [
    "shift = min(nanopore_reads['POS'])\n",
    "\n",
    "# archive old positions\n",
    "nanopore_reads['ORIG_POS'] = nanopore_reads['POS']\n",
    "nanopore_reads['ORIG_END_POS'] = nanopore_reads['END_POS']\n",
    "\n",
    "# shift positions\n",
    "nanopore_reads['POS'] = nanopore_reads['POS']-shift\n",
    "nanopore_reads['END_POS'] = nanopore_reads['END_POS']-shift\n",
    "\n",
    "nanopore_reads = nanopore_reads.reset_index() # to make the next step easier\n",
    "nanopore_reads = nanopore_reads[['ID', 'QNAME', 'FLAG', 'RNAME', 'POS', 'MAPQ', 'CIGAR','RNEXT', 'PNEXT', 'TLEN', 'SEQ', 'QUAL', 'SEQ_LEN', 'END_POS','ORIG_POS', 'ORIG_END_POS']]"
   ]
  },
  {
   "cell_type": "markdown",
   "metadata": {},
   "source": [
    "### Remove gaps"
   ]
  },
  {
   "cell_type": "code",
   "execution_count": 360,
   "metadata": {
    "tags": []
   },
   "outputs": [
    {
     "name": "stdout",
     "output_type": "stream",
     "text": [
      "There are 17 gaps.\n"
     ]
    }
   ],
   "source": [
    "confirmed_gaps = [] # Collect gaps in list\n",
    "max_end_pos = 0 # Store end position of longest read\n",
    "\n",
    "for index in nanopore_reads.index:\n",
    " \n",
    "    try:\n",
    "        current_read_end = nanopore_reads.loc[index,'END_POS']\n",
    "        \n",
    "        if current_read_end <= max_end_pos: # Current read is redundant\n",
    "            continue\n",
    "            \n",
    "        # Current read is not redundant, then update max_end_pos\n",
    "        max_end_pos = current_read_end\n",
    "        \n",
    "        next_read_start = nanopore_reads.loc[index+1,'POS']\n",
    "\n",
    "        delta = next_read_start-current_read_end\n",
    "\n",
    "        if delta <= 0: # There is overlap, so no problem\n",
    "            continue \n",
    "        elif delta > 0: # There is a gap\n",
    "            # Calculate gap based on original position\n",
    "            gap_start = nanopore_reads.loc[index  ,'ORIG_END_POS']\n",
    "            gap_end   = nanopore_reads.loc[index+1,'ORIG_POS']\n",
    "            orig_gap = (gap_start+1,gap_end-1)\n",
    "            confirmed_gaps.append(orig_gap) # Add gap to list\n",
    "            \n",
    "            # Calculate gap based on adjusted positions\n",
    "            gap = (current_read_end+1,next_read_start-1)\n",
    "          \n",
    "            # Shift remaining reads to the left\n",
    "            shift = gap[1]-gap[0]+1 \n",
    "            # Check shift is the same with original position data\n",
    "            shift_check = orig_gap[1]-orig_gap[0]+1\n",
    "            if shift!=shift_check:\n",
    "                print(f\"Found difference: orig_gap: {orig_gap}, gap: {gap}.\")\n",
    "                print(f\"Difference: orig_gap {shift_check}, gap {shift}\")\n",
    "            try:\n",
    "                nanopore_reads.loc[(index+1):,'POS'] = nanopore_reads.loc[index+1:,'POS']-shift\n",
    "                nanopore_reads.loc[(index+1):,'END_POS'] = nanopore_reads.loc[index+1:,'END_POS']-shift\n",
    "            except:\n",
    "                pass\n",
    "\n",
    "    except:\n",
    "        pass\n",
    "            \n",
    "print(f\"There are {len(confirmed_gaps)} gaps.\")"
   ]
  },
  {
   "cell_type": "code",
   "execution_count": 361,
   "metadata": {},
   "outputs": [],
   "source": [
    "# nanopore_reads.iloc[23:26]"
   ]
  },
  {
   "cell_type": "markdown",
   "metadata": {},
   "source": [
    "### Check if gaps overlap"
   ]
  },
  {
   "cell_type": "code",
   "execution_count": 362,
   "metadata": {},
   "outputs": [],
   "source": [
    "previous_gap_end = 0\n",
    "for gap in confirmed_gaps:\n",
    "    gap_start = gap[0]\n",
    "    \n",
    "    if gap_start <= previous_gap_end: # we have a problem\n",
    "        print(f\"Found an intersection in gap {gap}.\")\n",
    "    \n",
    "    # Update gap_end for next iteration\n",
    "    previous_gap_end = gap[1]"
   ]
  },
  {
   "cell_type": "markdown",
   "metadata": {},
   "source": [
    "# Plot shift in gaps"
   ]
  },
  {
   "cell_type": "code",
   "execution_count": 363,
   "metadata": {},
   "outputs": [],
   "source": [
    "### shift positions\n",
    "def plot_overlap_check():\n",
    "    shift = min(nanopore_reads['ORIG_POS'])\n",
    "    nanopore_reads['ORIG_POS_plot'] = nanopore_reads['ORIG_POS']-shift\n",
    "    nanopore_reads['ORIG_END_POS_plot'] = nanopore_reads['ORIG_END_POS']-shift\n",
    "\n",
    "    # Create template\n",
    "    pre_overlap = np.zeros(len(range(min(nanopore_reads['ORIG_POS_plot']),max(nanopore_reads['ORIG_END_POS_plot']))))\n",
    "    post_overlap = np.zeros(len(range(min(nanopore_reads['POS']),max(nanopore_reads['END_POS']))))\n",
    "\n",
    "    # Populate template\n",
    "    count = 0\n",
    "    for index,read in nanopore_reads.iterrows():\n",
    "    #     print(read['ORIG_POS_plot'])\n",
    "    #     print(read['POS'])\n",
    "        pre_overlap[read['ORIG_POS_plot']:read['ORIG_END_POS_plot']] += 1\n",
    "        post_overlap[read['POS']:read['END_POS']] += 1\n",
    "        count +=1\n",
    "\n",
    "    # print(count)\n",
    "\n",
    "    # Plot\n",
    "    selected=confirmed_gaps[0]\n",
    "\n",
    "    plot_window=1000\n",
    "    pre_overlap_plot = pre_overlap[selected[0]-plot_window-shift:selected[1]+plot_window-shift]\n",
    "    post_overlap_plot = post_overlap[selected[0]-plot_window:selected[1]+plot_window]\n",
    "\n",
    "    fig,ax = plt.subplots(figsize=(14,10))\n",
    "    ax=plt.plot(pre_overlap_plot, label=\"pre\")\n",
    "    ax2=plt.plot(post_overlap_plot, label=\"post\")\n",
    "    plt.legend()"
   ]
  },
  {
   "cell_type": "code",
   "execution_count": 364,
   "metadata": {},
   "outputs": [],
   "source": [
    "# plt.plot(post_overlap) # shows depth at each nucleotide position"
   ]
  },
  {
   "cell_type": "markdown",
   "metadata": {},
   "source": [
    "### Adjust reference_genome based on removed indices"
   ]
  },
  {
   "cell_type": "code",
   "execution_count": 365,
   "metadata": {},
   "outputs": [
    {
     "name": "stdout",
     "output_type": "stream",
     "text": [
      "Removing 17 gaps = 58,508 basepairs.\n",
      "Reference genome length before collapsing gaps: 0 basepairs.\n",
      "Final genome length should be: -58,508\n",
      "Final genome length after collapsing gaps: 0 basepairs.\n"
     ]
    }
   ],
   "source": [
    "# Reset confirmed_gaps to start at 0\n",
    "shift = min(nanopore_reads['ORIG_POS'])\n",
    "orig_confirmed_gaps = [(gap[0]-shift, gap[1]-shift) for gap in confirmed_gaps]\n",
    "\n",
    "indices_to_remove = []\n",
    "for gap in orig_confirmed_gaps:\n",
    "    for i in range(gap[0],gap[1]+1):\n",
    "        indices_to_remove.append(i)\n",
    "\n",
    "print(f\"Removing {len(confirmed_gaps)} gaps = {len(indices_to_remove):,} basepairs.\")\n",
    "print(f\"Reference genome length before collapsing gaps: {len(ref_genome):,} basepairs.\")\n",
    "print(f\"Final genome length should be: {len(ref_genome)-len(indices_to_remove):,}\")\n",
    "\n",
    "final_genome = ''\n",
    "segment_start = 0\n",
    "\n",
    "for gap in orig_confirmed_gaps:\n",
    "\n",
    "    gap_start = gap[0]\n",
    "    gap_end = gap[1]\n",
    "    \n",
    "    # Cut segment until next gap\n",
    "    new_segment = ref_genome[segment_start:gap_start]\n",
    "    \n",
    "    # Append to final genome\n",
    "    final_genome = final_genome + new_segment\n",
    "    \n",
    "    # Start of next segment\n",
    "    segment_start = gap_end + 1\n",
    "    \n",
    "# Add last segment\n",
    "new_segment = ref_genome[segment_start:]\n",
    "final_genome = final_genome + new_segment\n",
    "\n",
    "print(f\"Final genome length after collapsing gaps: {len(final_genome):,} basepairs.\")"
   ]
  },
  {
   "cell_type": "markdown",
   "metadata": {},
   "source": [
    "# Save output"
   ]
  },
  {
   "cell_type": "code",
   "execution_count": 366,
   "metadata": {},
   "outputs": [],
   "source": [
    "# Save Reference Genome\n",
    "initial_position = min(nanopore_reads['ORIG_POS'])\n",
    "final_genome_dict = {'initial_position':initial_position, 'reference_genome': final_genome}\n",
    "with open(f'{datadir}/{run_number}_{chrom}_reference_genome.json', 'w') as f:\n",
    "    json.dump(final_genome_dict,f)\n",
    "\n",
    "# Save Nanopore Reads\n",
    "nanopore_reads.to_csv(f'{datadir}/{run_number}_{chrom_dis}_clean.csv', index=False)"
   ]
  },
  {
   "cell_type": "markdown",
   "metadata": {},
   "source": [
    "# EXTRA CODE"
   ]
  },
  {
   "cell_type": "markdown",
   "metadata": {},
   "source": [
    "### Get Gaps V2\n",
    "\n",
    "This version identifies gaps in reads by running two loops. It was discarded because the current version does the same job with just one loop."
   ]
  },
  {
   "cell_type": "code",
   "execution_count": 14,
   "metadata": {},
   "outputs": [],
   "source": [
    "# confirmed_gaps2 = []\n",
    "# for index in nanopore_reads.index:\n",
    "#     try:\n",
    "#         current_read_end = nanopore_reads.loc[index,'END_POS']\n",
    "        \n",
    "#         gaps = []\n",
    "#         for index2 in nanopore_reads.index:\n",
    "#             try:\n",
    "#                 if index == index2: # it's the same read\n",
    "#                     continue\n",
    "\n",
    "# #                 next_read_start = nanopore_reads.loc[index+1,'POS']\n",
    "#                 next_read_start = nanopore_reads.loc[index2,'POS']\n",
    "\n",
    "#                 delta = next_read_start-current_read_end\n",
    "\n",
    "\n",
    "#                 if delta < 0: # There is overlap or it's a previous read\n",
    "#                     continue \n",
    "#                 elif delta==0: # There is a single nucleotide overlap\n",
    "#                     continue\n",
    "#                 elif delta > 0: # There is a gap\n",
    "#                     gaps.append((current_read_end+1,next_read_start-1)) # range between the values\n",
    "#             except:\n",
    "#                 pass\n",
    "            \n",
    "                \n",
    "                \n",
    "#         minimum_gap = min(gaps, key = lambda x: x[1]-x[0])\n",
    "#         confirmed_gaps2.append(minimum_gap)\n",
    "        \n",
    "#     except:\n",
    "#         pass\n",
    "\n",
    "# print(f\"There are {len(confirmed_gaps2)} gaps\")\n",
    "    "
   ]
  },
  {
   "cell_type": "markdown",
   "metadata": {},
   "source": [
    "### Collapse gaps\n",
    "\n",
    "This older version takes longer to delete gaps since it iterates over a list instead of using the indexes of strings."
   ]
  },
  {
   "cell_type": "code",
   "execution_count": 207,
   "metadata": {
    "tags": []
   },
   "outputs": [],
   "source": [
    "# ref_genome_list = list(ref_genome)\n",
    "# for index in sorted(indices_to_remove, reverse=True):\n",
    "#     del ref_genome_list[index]\n",
    "# ref_genome = ''.join(ref_genome_list)\n",
    "\n",
    "# print(f\"Reference genome length after collapsing gaps: {len(ref_genome):,}\")"
   ]
  }
 ],
 "metadata": {
  "kernelspec": {
   "display_name": "Genomics",
   "language": "python",
   "name": "genomics"
  },
  "language_info": {
   "codemirror_mode": {
    "name": "ipython",
    "version": 3
   },
   "file_extension": ".py",
   "mimetype": "text/x-python",
   "name": "python",
   "nbconvert_exporter": "python",
   "pygments_lexer": "ipython3",
   "version": "3.7.6"
  }
 },
 "nbformat": 4,
 "nbformat_minor": 4
}
